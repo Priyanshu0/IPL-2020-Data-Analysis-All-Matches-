{
  "nbformat": 4,
  "nbformat_minor": 0,
  "metadata": {
    "colab": {
      "name": "WPL_RRVSCSK.ipynb",
      "provenance": [],
      "collapsed_sections": []
    },
    "kernelspec": {
      "name": "python3",
      "display_name": "Python 3"
    }
  },
  "cells": [
    {
      "cell_type": "code",
      "metadata": {
        "id": "64ZL7Q6JV4qW",
        "outputId": "38717d36-34d6-450a-d19e-2c4c45d18c82",
        "colab": {
          "base_uri": "https://localhost:8080/",
          "height": 324
        }
      },
      "source": [
        "import pandas as pd\n",
        "df_matches = pd.read_csv(\"matches.csv\")\n",
        "df_matches.head(3)"
      ],
      "execution_count": 1,
      "outputs": [
        {
          "output_type": "execute_result",
          "data": {
            "text/html": [
              "<div>\n",
              "<style scoped>\n",
              "    .dataframe tbody tr th:only-of-type {\n",
              "        vertical-align: middle;\n",
              "    }\n",
              "\n",
              "    .dataframe tbody tr th {\n",
              "        vertical-align: top;\n",
              "    }\n",
              "\n",
              "    .dataframe thead th {\n",
              "        text-align: right;\n",
              "    }\n",
              "</style>\n",
              "<table border=\"1\" class=\"dataframe\">\n",
              "  <thead>\n",
              "    <tr style=\"text-align: right;\">\n",
              "      <th></th>\n",
              "      <th>id</th>\n",
              "      <th>season</th>\n",
              "      <th>city</th>\n",
              "      <th>date</th>\n",
              "      <th>team1</th>\n",
              "      <th>team2</th>\n",
              "      <th>toss_winner</th>\n",
              "      <th>toss_decision</th>\n",
              "      <th>result</th>\n",
              "      <th>dl_applied</th>\n",
              "      <th>winner</th>\n",
              "      <th>win_by_runs</th>\n",
              "      <th>win_by_wickets</th>\n",
              "      <th>player_of_match</th>\n",
              "      <th>venue</th>\n",
              "      <th>umpire1</th>\n",
              "      <th>umpire2</th>\n",
              "      <th>umpire3</th>\n",
              "    </tr>\n",
              "  </thead>\n",
              "  <tbody>\n",
              "    <tr>\n",
              "      <th>0</th>\n",
              "      <td>1</td>\n",
              "      <td>2017</td>\n",
              "      <td>Hyderabad</td>\n",
              "      <td>2017-04-05</td>\n",
              "      <td>Sunrisers Hyderabad</td>\n",
              "      <td>Royal Challengers Bangalore</td>\n",
              "      <td>Royal Challengers Bangalore</td>\n",
              "      <td>field</td>\n",
              "      <td>normal</td>\n",
              "      <td>0</td>\n",
              "      <td>Sunrisers Hyderabad</td>\n",
              "      <td>35</td>\n",
              "      <td>0</td>\n",
              "      <td>Yuvraj Singh</td>\n",
              "      <td>Rajiv Gandhi International Stadium, Uppal</td>\n",
              "      <td>AY Dandekar</td>\n",
              "      <td>NJ Llong</td>\n",
              "      <td>NaN</td>\n",
              "    </tr>\n",
              "    <tr>\n",
              "      <th>1</th>\n",
              "      <td>2</td>\n",
              "      <td>2017</td>\n",
              "      <td>Pune</td>\n",
              "      <td>2017-04-06</td>\n",
              "      <td>Mumbai Indians</td>\n",
              "      <td>Rising Pune Supergiant</td>\n",
              "      <td>Rising Pune Supergiant</td>\n",
              "      <td>field</td>\n",
              "      <td>normal</td>\n",
              "      <td>0</td>\n",
              "      <td>Rising Pune Supergiant</td>\n",
              "      <td>0</td>\n",
              "      <td>7</td>\n",
              "      <td>SPD Smith</td>\n",
              "      <td>Maharashtra Cricket Association Stadium</td>\n",
              "      <td>A Nand Kishore</td>\n",
              "      <td>S Ravi</td>\n",
              "      <td>NaN</td>\n",
              "    </tr>\n",
              "    <tr>\n",
              "      <th>2</th>\n",
              "      <td>3</td>\n",
              "      <td>2017</td>\n",
              "      <td>Rajkot</td>\n",
              "      <td>2017-04-07</td>\n",
              "      <td>Gujarat Lions</td>\n",
              "      <td>Kolkata Knight Riders</td>\n",
              "      <td>Kolkata Knight Riders</td>\n",
              "      <td>field</td>\n",
              "      <td>normal</td>\n",
              "      <td>0</td>\n",
              "      <td>Kolkata Knight Riders</td>\n",
              "      <td>0</td>\n",
              "      <td>10</td>\n",
              "      <td>CA Lynn</td>\n",
              "      <td>Saurashtra Cricket Association Stadium</td>\n",
              "      <td>Nitin Menon</td>\n",
              "      <td>CK Nandan</td>\n",
              "      <td>NaN</td>\n",
              "    </tr>\n",
              "  </tbody>\n",
              "</table>\n",
              "</div>"
            ],
            "text/plain": [
              "   id  season       city  ...         umpire1    umpire2 umpire3\n",
              "0   1    2017  Hyderabad  ...     AY Dandekar   NJ Llong     NaN\n",
              "1   2    2017       Pune  ...  A Nand Kishore     S Ravi     NaN\n",
              "2   3    2017     Rajkot  ...     Nitin Menon  CK Nandan     NaN\n",
              "\n",
              "[3 rows x 18 columns]"
            ]
          },
          "metadata": {
            "tags": []
          },
          "execution_count": 1
        }
      ]
    },
    {
      "cell_type": "code",
      "metadata": {
        "id": "WsBuD8yOXVgj",
        "outputId": "19433895-a9d0-4e71-accd-08c7a8a1bf59",
        "colab": {
          "base_uri": "https://localhost:8080/",
          "height": 257
        }
      },
      "source": [
        "df_deliveries = pd.read_csv(\"deliveries.csv\")\n",
        "df_deliveries.head(3)"
      ],
      "execution_count": 2,
      "outputs": [
        {
          "output_type": "execute_result",
          "data": {
            "text/html": [
              "<div>\n",
              "<style scoped>\n",
              "    .dataframe tbody tr th:only-of-type {\n",
              "        vertical-align: middle;\n",
              "    }\n",
              "\n",
              "    .dataframe tbody tr th {\n",
              "        vertical-align: top;\n",
              "    }\n",
              "\n",
              "    .dataframe thead th {\n",
              "        text-align: right;\n",
              "    }\n",
              "</style>\n",
              "<table border=\"1\" class=\"dataframe\">\n",
              "  <thead>\n",
              "    <tr style=\"text-align: right;\">\n",
              "      <th></th>\n",
              "      <th>match_id</th>\n",
              "      <th>inning</th>\n",
              "      <th>batting_team</th>\n",
              "      <th>bowling_team</th>\n",
              "      <th>over</th>\n",
              "      <th>ball</th>\n",
              "      <th>batsman</th>\n",
              "      <th>non_striker</th>\n",
              "      <th>bowler</th>\n",
              "      <th>is_super_over</th>\n",
              "      <th>wide_runs</th>\n",
              "      <th>bye_runs</th>\n",
              "      <th>legbye_runs</th>\n",
              "      <th>noball_runs</th>\n",
              "      <th>penalty_runs</th>\n",
              "      <th>batsman_runs</th>\n",
              "      <th>extra_runs</th>\n",
              "      <th>total_runs</th>\n",
              "      <th>player_dismissed</th>\n",
              "      <th>dismissal_kind</th>\n",
              "      <th>fielder</th>\n",
              "    </tr>\n",
              "  </thead>\n",
              "  <tbody>\n",
              "    <tr>\n",
              "      <th>0</th>\n",
              "      <td>1</td>\n",
              "      <td>1</td>\n",
              "      <td>Sunrisers Hyderabad</td>\n",
              "      <td>Royal Challengers Bangalore</td>\n",
              "      <td>1</td>\n",
              "      <td>1</td>\n",
              "      <td>DA Warner</td>\n",
              "      <td>S Dhawan</td>\n",
              "      <td>TS Mills</td>\n",
              "      <td>0</td>\n",
              "      <td>0</td>\n",
              "      <td>0</td>\n",
              "      <td>0</td>\n",
              "      <td>0</td>\n",
              "      <td>0</td>\n",
              "      <td>0</td>\n",
              "      <td>0</td>\n",
              "      <td>0</td>\n",
              "      <td>NaN</td>\n",
              "      <td>NaN</td>\n",
              "      <td>NaN</td>\n",
              "    </tr>\n",
              "    <tr>\n",
              "      <th>1</th>\n",
              "      <td>1</td>\n",
              "      <td>1</td>\n",
              "      <td>Sunrisers Hyderabad</td>\n",
              "      <td>Royal Challengers Bangalore</td>\n",
              "      <td>1</td>\n",
              "      <td>2</td>\n",
              "      <td>DA Warner</td>\n",
              "      <td>S Dhawan</td>\n",
              "      <td>TS Mills</td>\n",
              "      <td>0</td>\n",
              "      <td>0</td>\n",
              "      <td>0</td>\n",
              "      <td>0</td>\n",
              "      <td>0</td>\n",
              "      <td>0</td>\n",
              "      <td>0</td>\n",
              "      <td>0</td>\n",
              "      <td>0</td>\n",
              "      <td>NaN</td>\n",
              "      <td>NaN</td>\n",
              "      <td>NaN</td>\n",
              "    </tr>\n",
              "    <tr>\n",
              "      <th>2</th>\n",
              "      <td>1</td>\n",
              "      <td>1</td>\n",
              "      <td>Sunrisers Hyderabad</td>\n",
              "      <td>Royal Challengers Bangalore</td>\n",
              "      <td>1</td>\n",
              "      <td>3</td>\n",
              "      <td>DA Warner</td>\n",
              "      <td>S Dhawan</td>\n",
              "      <td>TS Mills</td>\n",
              "      <td>0</td>\n",
              "      <td>0</td>\n",
              "      <td>0</td>\n",
              "      <td>0</td>\n",
              "      <td>0</td>\n",
              "      <td>0</td>\n",
              "      <td>4</td>\n",
              "      <td>0</td>\n",
              "      <td>4</td>\n",
              "      <td>NaN</td>\n",
              "      <td>NaN</td>\n",
              "      <td>NaN</td>\n",
              "    </tr>\n",
              "  </tbody>\n",
              "</table>\n",
              "</div>"
            ],
            "text/plain": [
              "   match_id  inning  ... dismissal_kind fielder\n",
              "0         1       1  ...            NaN     NaN\n",
              "1         1       1  ...            NaN     NaN\n",
              "2         1       1  ...            NaN     NaN\n",
              "\n",
              "[3 rows x 21 columns]"
            ]
          },
          "metadata": {
            "tags": []
          },
          "execution_count": 2
        }
      ]
    },
    {
      "cell_type": "code",
      "metadata": {
        "id": "h_P7JoYMXYxu",
        "outputId": "c7835706-df55-4d91-d454-3c910c5c6fb1",
        "colab": {
          "base_uri": "https://localhost:8080/",
          "height": 50
        }
      },
      "source": [
        "print(df_matches.shape)\n",
        "print(df_deliveries.shape)"
      ],
      "execution_count": 3,
      "outputs": [
        {
          "output_type": "stream",
          "text": [
            "(756, 18)\n",
            "(179078, 21)\n"
          ],
          "name": "stdout"
        }
      ]
    },
    {
      "cell_type": "code",
      "metadata": {
        "id": "96DsUzxxXfgi",
        "outputId": "dc51602c-5bd1-4a3f-c39e-8d121f4236b4",
        "colab": {
          "base_uri": "https://localhost:8080/",
          "height": 542
        }
      },
      "source": [
        "#plotting every team wins. \n",
        "import matplotlib.pyplot as plt\n",
        "import plotly.graph_objs as go\n",
        "df_winner_matches = df_matches[['id','winner']].groupby('winner').size().reset_index()\n",
        "df_winner_matches.columns = ['winner','total_wins']\n",
        "df_winner_matches = df_winner_matches.sort_values('total_wins',ascending=False)\n",
        "\n",
        "data = go.Bar(x = df_winner_matches['winner'],y = df_winner_matches['total_wins'])\n",
        "layout = go.Layout(title = 'Total wins by each team in IPL',xaxis = dict(title = 'Team'),yaxis = dict(title = 'No of wins'))\n",
        "fig = go.Figure(data = data,layout = layout)\n",
        "fig.show()"
      ],
      "execution_count": 4,
      "outputs": [
        {
          "output_type": "display_data",
          "data": {
            "text/html": [
              "<html>\n",
              "<head><meta charset=\"utf-8\" /></head>\n",
              "<body>\n",
              "    <div>\n",
              "            <script src=\"https://cdnjs.cloudflare.com/ajax/libs/mathjax/2.7.5/MathJax.js?config=TeX-AMS-MML_SVG\"></script><script type=\"text/javascript\">if (window.MathJax) {MathJax.Hub.Config({SVG: {font: \"STIX-Web\"}});}</script>\n",
              "                <script type=\"text/javascript\">window.PlotlyConfig = {MathJaxConfig: 'local'};</script>\n",
              "        <script src=\"https://cdn.plot.ly/plotly-latest.min.js\"></script>    \n",
              "            <div id=\"43f25fee-9c84-4093-b39e-adfcb7dd844b\" class=\"plotly-graph-div\" style=\"height:525px; width:100%;\"></div>\n",
              "            <script type=\"text/javascript\">\n",
              "                \n",
              "                    window.PLOTLYENV=window.PLOTLYENV || {};\n",
              "                    \n",
              "                if (document.getElementById(\"43f25fee-9c84-4093-b39e-adfcb7dd844b\")) {\n",
              "                    Plotly.newPlot(\n",
              "                        '43f25fee-9c84-4093-b39e-adfcb7dd844b',\n",
              "                        [{\"type\": \"bar\", \"x\": [\"Mumbai Indians\", \"Chennai Super Kings\", \"Kolkata Knight Riders\", \"Royal Challengers Bangalore\", \"Kings XI Punjab\", \"Rajasthan Royals\", \"Delhi Daredevils\", \"Sunrisers Hyderabad\", \"Deccan Chargers\", \"Gujarat Lions\", \"Pune Warriors\", \"Delhi Capitals\", \"Rising Pune Supergiant\", \"Kochi Tuskers Kerala\", \"Rising Pune Supergiants\"], \"y\": [109, 100, 92, 84, 82, 75, 67, 58, 29, 13, 12, 10, 10, 6, 5]}],\n",
              "                        {\"template\": {\"data\": {\"bar\": [{\"error_x\": {\"color\": \"#2a3f5f\"}, \"error_y\": {\"color\": \"#2a3f5f\"}, \"marker\": {\"line\": {\"color\": \"#E5ECF6\", \"width\": 0.5}}, \"type\": \"bar\"}], \"barpolar\": [{\"marker\": {\"line\": {\"color\": \"#E5ECF6\", \"width\": 0.5}}, \"type\": \"barpolar\"}], \"carpet\": [{\"aaxis\": {\"endlinecolor\": \"#2a3f5f\", \"gridcolor\": \"white\", \"linecolor\": \"white\", \"minorgridcolor\": \"white\", \"startlinecolor\": \"#2a3f5f\"}, \"baxis\": {\"endlinecolor\": \"#2a3f5f\", \"gridcolor\": \"white\", \"linecolor\": \"white\", \"minorgridcolor\": \"white\", \"startlinecolor\": \"#2a3f5f\"}, \"type\": \"carpet\"}], \"choropleth\": [{\"colorbar\": {\"outlinewidth\": 0, \"ticks\": \"\"}, \"type\": \"choropleth\"}], \"contour\": [{\"colorbar\": {\"outlinewidth\": 0, \"ticks\": \"\"}, \"colorscale\": [[0.0, \"#0d0887\"], [0.1111111111111111, \"#46039f\"], [0.2222222222222222, \"#7201a8\"], [0.3333333333333333, \"#9c179e\"], [0.4444444444444444, \"#bd3786\"], [0.5555555555555556, \"#d8576b\"], [0.6666666666666666, \"#ed7953\"], [0.7777777777777778, \"#fb9f3a\"], [0.8888888888888888, \"#fdca26\"], [1.0, \"#f0f921\"]], \"type\": \"contour\"}], \"contourcarpet\": [{\"colorbar\": {\"outlinewidth\": 0, \"ticks\": \"\"}, \"type\": \"contourcarpet\"}], \"heatmap\": [{\"colorbar\": {\"outlinewidth\": 0, \"ticks\": \"\"}, \"colorscale\": [[0.0, \"#0d0887\"], [0.1111111111111111, \"#46039f\"], [0.2222222222222222, \"#7201a8\"], [0.3333333333333333, \"#9c179e\"], [0.4444444444444444, \"#bd3786\"], [0.5555555555555556, \"#d8576b\"], [0.6666666666666666, \"#ed7953\"], [0.7777777777777778, \"#fb9f3a\"], [0.8888888888888888, \"#fdca26\"], [1.0, \"#f0f921\"]], \"type\": \"heatmap\"}], \"heatmapgl\": [{\"colorbar\": {\"outlinewidth\": 0, \"ticks\": \"\"}, \"colorscale\": [[0.0, \"#0d0887\"], [0.1111111111111111, \"#46039f\"], [0.2222222222222222, \"#7201a8\"], [0.3333333333333333, \"#9c179e\"], [0.4444444444444444, \"#bd3786\"], [0.5555555555555556, \"#d8576b\"], [0.6666666666666666, \"#ed7953\"], [0.7777777777777778, \"#fb9f3a\"], [0.8888888888888888, \"#fdca26\"], [1.0, \"#f0f921\"]], \"type\": \"heatmapgl\"}], \"histogram\": [{\"marker\": {\"colorbar\": {\"outlinewidth\": 0, \"ticks\": \"\"}}, \"type\": \"histogram\"}], \"histogram2d\": [{\"colorbar\": {\"outlinewidth\": 0, \"ticks\": \"\"}, \"colorscale\": [[0.0, \"#0d0887\"], [0.1111111111111111, \"#46039f\"], [0.2222222222222222, \"#7201a8\"], [0.3333333333333333, \"#9c179e\"], [0.4444444444444444, \"#bd3786\"], [0.5555555555555556, \"#d8576b\"], [0.6666666666666666, \"#ed7953\"], [0.7777777777777778, \"#fb9f3a\"], [0.8888888888888888, \"#fdca26\"], [1.0, \"#f0f921\"]], \"type\": \"histogram2d\"}], \"histogram2dcontour\": [{\"colorbar\": {\"outlinewidth\": 0, \"ticks\": \"\"}, \"colorscale\": [[0.0, \"#0d0887\"], [0.1111111111111111, \"#46039f\"], [0.2222222222222222, \"#7201a8\"], [0.3333333333333333, \"#9c179e\"], [0.4444444444444444, \"#bd3786\"], [0.5555555555555556, \"#d8576b\"], [0.6666666666666666, \"#ed7953\"], [0.7777777777777778, \"#fb9f3a\"], [0.8888888888888888, \"#fdca26\"], [1.0, \"#f0f921\"]], \"type\": \"histogram2dcontour\"}], \"mesh3d\": [{\"colorbar\": {\"outlinewidth\": 0, \"ticks\": \"\"}, \"type\": \"mesh3d\"}], \"parcoords\": [{\"line\": {\"colorbar\": {\"outlinewidth\": 0, \"ticks\": \"\"}}, \"type\": \"parcoords\"}], \"pie\": [{\"automargin\": true, \"type\": \"pie\"}], \"scatter\": [{\"marker\": {\"colorbar\": {\"outlinewidth\": 0, \"ticks\": \"\"}}, \"type\": \"scatter\"}], \"scatter3d\": [{\"line\": {\"colorbar\": {\"outlinewidth\": 0, \"ticks\": \"\"}}, \"marker\": {\"colorbar\": {\"outlinewidth\": 0, \"ticks\": \"\"}}, \"type\": \"scatter3d\"}], \"scattercarpet\": [{\"marker\": {\"colorbar\": {\"outlinewidth\": 0, \"ticks\": \"\"}}, \"type\": \"scattercarpet\"}], \"scattergeo\": [{\"marker\": {\"colorbar\": {\"outlinewidth\": 0, \"ticks\": \"\"}}, \"type\": \"scattergeo\"}], \"scattergl\": [{\"marker\": {\"colorbar\": {\"outlinewidth\": 0, \"ticks\": \"\"}}, \"type\": \"scattergl\"}], \"scattermapbox\": [{\"marker\": {\"colorbar\": {\"outlinewidth\": 0, \"ticks\": \"\"}}, \"type\": \"scattermapbox\"}], \"scatterpolar\": [{\"marker\": {\"colorbar\": {\"outlinewidth\": 0, \"ticks\": \"\"}}, \"type\": \"scatterpolar\"}], \"scatterpolargl\": [{\"marker\": {\"colorbar\": {\"outlinewidth\": 0, \"ticks\": \"\"}}, \"type\": \"scatterpolargl\"}], \"scatterternary\": [{\"marker\": {\"colorbar\": {\"outlinewidth\": 0, \"ticks\": \"\"}}, \"type\": \"scatterternary\"}], \"surface\": [{\"colorbar\": {\"outlinewidth\": 0, \"ticks\": \"\"}, \"colorscale\": [[0.0, \"#0d0887\"], [0.1111111111111111, \"#46039f\"], [0.2222222222222222, \"#7201a8\"], [0.3333333333333333, \"#9c179e\"], [0.4444444444444444, \"#bd3786\"], [0.5555555555555556, \"#d8576b\"], [0.6666666666666666, \"#ed7953\"], [0.7777777777777778, \"#fb9f3a\"], [0.8888888888888888, \"#fdca26\"], [1.0, \"#f0f921\"]], \"type\": \"surface\"}], \"table\": [{\"cells\": {\"fill\": {\"color\": \"#EBF0F8\"}, \"line\": {\"color\": \"white\"}}, \"header\": {\"fill\": {\"color\": \"#C8D4E3\"}, \"line\": {\"color\": \"white\"}}, \"type\": \"table\"}]}, \"layout\": {\"annotationdefaults\": {\"arrowcolor\": \"#2a3f5f\", \"arrowhead\": 0, \"arrowwidth\": 1}, \"coloraxis\": {\"colorbar\": {\"outlinewidth\": 0, \"ticks\": \"\"}}, \"colorscale\": {\"diverging\": [[0, \"#8e0152\"], [0.1, \"#c51b7d\"], [0.2, \"#de77ae\"], [0.3, \"#f1b6da\"], [0.4, \"#fde0ef\"], [0.5, \"#f7f7f7\"], [0.6, \"#e6f5d0\"], [0.7, \"#b8e186\"], [0.8, \"#7fbc41\"], [0.9, \"#4d9221\"], [1, \"#276419\"]], \"sequential\": [[0.0, \"#0d0887\"], [0.1111111111111111, \"#46039f\"], [0.2222222222222222, \"#7201a8\"], [0.3333333333333333, \"#9c179e\"], [0.4444444444444444, \"#bd3786\"], [0.5555555555555556, \"#d8576b\"], [0.6666666666666666, \"#ed7953\"], [0.7777777777777778, \"#fb9f3a\"], [0.8888888888888888, \"#fdca26\"], [1.0, \"#f0f921\"]], \"sequentialminus\": [[0.0, \"#0d0887\"], [0.1111111111111111, \"#46039f\"], [0.2222222222222222, \"#7201a8\"], [0.3333333333333333, \"#9c179e\"], [0.4444444444444444, \"#bd3786\"], [0.5555555555555556, \"#d8576b\"], [0.6666666666666666, \"#ed7953\"], [0.7777777777777778, \"#fb9f3a\"], [0.8888888888888888, \"#fdca26\"], [1.0, \"#f0f921\"]]}, \"colorway\": [\"#636efa\", \"#EF553B\", \"#00cc96\", \"#ab63fa\", \"#FFA15A\", \"#19d3f3\", \"#FF6692\", \"#B6E880\", \"#FF97FF\", \"#FECB52\"], \"font\": {\"color\": \"#2a3f5f\"}, \"geo\": {\"bgcolor\": \"white\", \"lakecolor\": \"white\", \"landcolor\": \"#E5ECF6\", \"showlakes\": true, \"showland\": true, \"subunitcolor\": \"white\"}, \"hoverlabel\": {\"align\": \"left\"}, \"hovermode\": \"closest\", \"mapbox\": {\"style\": \"light\"}, \"paper_bgcolor\": \"white\", \"plot_bgcolor\": \"#E5ECF6\", \"polar\": {\"angularaxis\": {\"gridcolor\": \"white\", \"linecolor\": \"white\", \"ticks\": \"\"}, \"bgcolor\": \"#E5ECF6\", \"radialaxis\": {\"gridcolor\": \"white\", \"linecolor\": \"white\", \"ticks\": \"\"}}, \"scene\": {\"xaxis\": {\"backgroundcolor\": \"#E5ECF6\", \"gridcolor\": \"white\", \"gridwidth\": 2, \"linecolor\": \"white\", \"showbackground\": true, \"ticks\": \"\", \"zerolinecolor\": \"white\"}, \"yaxis\": {\"backgroundcolor\": \"#E5ECF6\", \"gridcolor\": \"white\", \"gridwidth\": 2, \"linecolor\": \"white\", \"showbackground\": true, \"ticks\": \"\", \"zerolinecolor\": \"white\"}, \"zaxis\": {\"backgroundcolor\": \"#E5ECF6\", \"gridcolor\": \"white\", \"gridwidth\": 2, \"linecolor\": \"white\", \"showbackground\": true, \"ticks\": \"\", \"zerolinecolor\": \"white\"}}, \"shapedefaults\": {\"line\": {\"color\": \"#2a3f5f\"}}, \"ternary\": {\"aaxis\": {\"gridcolor\": \"white\", \"linecolor\": \"white\", \"ticks\": \"\"}, \"baxis\": {\"gridcolor\": \"white\", \"linecolor\": \"white\", \"ticks\": \"\"}, \"bgcolor\": \"#E5ECF6\", \"caxis\": {\"gridcolor\": \"white\", \"linecolor\": \"white\", \"ticks\": \"\"}}, \"title\": {\"x\": 0.05}, \"xaxis\": {\"automargin\": true, \"gridcolor\": \"white\", \"linecolor\": \"white\", \"ticks\": \"\", \"title\": {\"standoff\": 15}, \"zerolinecolor\": \"white\", \"zerolinewidth\": 2}, \"yaxis\": {\"automargin\": true, \"gridcolor\": \"white\", \"linecolor\": \"white\", \"ticks\": \"\", \"title\": {\"standoff\": 15}, \"zerolinecolor\": \"white\", \"zerolinewidth\": 2}}}, \"title\": {\"text\": \"Total wins by each team in IPL\"}, \"xaxis\": {\"title\": {\"text\": \"Team\"}}, \"yaxis\": {\"title\": {\"text\": \"No of wins\"}}},\n",
              "                        {\"responsive\": true}\n",
              "                    ).then(function(){\n",
              "                            \n",
              "var gd = document.getElementById('43f25fee-9c84-4093-b39e-adfcb7dd844b');\n",
              "var x = new MutationObserver(function (mutations, observer) {{\n",
              "        var display = window.getComputedStyle(gd).display;\n",
              "        if (!display || display === 'none') {{\n",
              "            console.log([gd, 'removed!']);\n",
              "            Plotly.purge(gd);\n",
              "            observer.disconnect();\n",
              "        }}\n",
              "}});\n",
              "\n",
              "// Listen for the removal of the full notebook cells\n",
              "var notebookContainer = gd.closest('#notebook-container');\n",
              "if (notebookContainer) {{\n",
              "    x.observe(notebookContainer, {childList: true});\n",
              "}}\n",
              "\n",
              "// Listen for the clearing of the current output cell\n",
              "var outputEl = gd.closest('.output');\n",
              "if (outputEl) {{\n",
              "    x.observe(outputEl, {childList: true});\n",
              "}}\n",
              "\n",
              "                        })\n",
              "                };\n",
              "                \n",
              "            </script>\n",
              "        </div>\n",
              "</body>\n",
              "</html>"
            ]
          },
          "metadata": {
            "tags": []
          }
        }
      ]
    },
    {
      "cell_type": "code",
      "metadata": {
        "id": "RCeIbHYAXp86",
        "outputId": "1ef22918-7c03-4215-bf62-c95645d773dd",
        "colab": {
          "base_uri": "https://localhost:8080/",
          "height": 202
        }
      },
      "source": [
        "print(df_matches.columns)\n",
        "print(df_deliveries.columns)"
      ],
      "execution_count": 5,
      "outputs": [
        {
          "output_type": "stream",
          "text": [
            "Index(['id', 'season', 'city', 'date', 'team1', 'team2', 'toss_winner',\n",
            "       'toss_decision', 'result', 'dl_applied', 'winner', 'win_by_runs',\n",
            "       'win_by_wickets', 'player_of_match', 'venue', 'umpire1', 'umpire2',\n",
            "       'umpire3'],\n",
            "      dtype='object')\n",
            "Index(['match_id', 'inning', 'batting_team', 'bowling_team', 'over', 'ball',\n",
            "       'batsman', 'non_striker', 'bowler', 'is_super_over', 'wide_runs',\n",
            "       'bye_runs', 'legbye_runs', 'noball_runs', 'penalty_runs',\n",
            "       'batsman_runs', 'extra_runs', 'total_runs', 'player_dismissed',\n",
            "       'dismissal_kind', 'fielder'],\n",
            "      dtype='object')\n"
          ],
          "name": "stdout"
        }
      ]
    },
    {
      "cell_type": "markdown",
      "metadata": {
        "id": "EUEhiJj0XwSF"
      },
      "source": [
        "In matches data frame columns like umpire1,umpire2,umpire3 are not useful because these days they are using technology. So we cant decide which umpire is more useful for predicting anything related to match.\n",
        "\n",
        "Date is also not useful because we already have season column which is also almost equal to date.\n",
        "\n",
        "City and venue also not important features for this year IPL. Because IPL2020 is happening in UAE, only 2014 ipl was happened in UAE that to half season. I am removing Venue column and keeping City column."
      ]
    },
    {
      "cell_type": "code",
      "metadata": {
        "id": "Zji_y6xuXtjG",
        "outputId": "d7ff1b62-0c00-49ba-bed6-b3cfff3cee75",
        "colab": {
          "base_uri": "https://localhost:8080/",
          "height": 194
        }
      },
      "source": [
        "df_matches = df_matches.drop(['venue','date','umpire1','umpire2','umpire3'], axis = 1) \n",
        "df_matches.head(2)"
      ],
      "execution_count": 6,
      "outputs": [
        {
          "output_type": "execute_result",
          "data": {
            "text/html": [
              "<div>\n",
              "<style scoped>\n",
              "    .dataframe tbody tr th:only-of-type {\n",
              "        vertical-align: middle;\n",
              "    }\n",
              "\n",
              "    .dataframe tbody tr th {\n",
              "        vertical-align: top;\n",
              "    }\n",
              "\n",
              "    .dataframe thead th {\n",
              "        text-align: right;\n",
              "    }\n",
              "</style>\n",
              "<table border=\"1\" class=\"dataframe\">\n",
              "  <thead>\n",
              "    <tr style=\"text-align: right;\">\n",
              "      <th></th>\n",
              "      <th>id</th>\n",
              "      <th>season</th>\n",
              "      <th>city</th>\n",
              "      <th>team1</th>\n",
              "      <th>team2</th>\n",
              "      <th>toss_winner</th>\n",
              "      <th>toss_decision</th>\n",
              "      <th>result</th>\n",
              "      <th>dl_applied</th>\n",
              "      <th>winner</th>\n",
              "      <th>win_by_runs</th>\n",
              "      <th>win_by_wickets</th>\n",
              "      <th>player_of_match</th>\n",
              "    </tr>\n",
              "  </thead>\n",
              "  <tbody>\n",
              "    <tr>\n",
              "      <th>0</th>\n",
              "      <td>1</td>\n",
              "      <td>2017</td>\n",
              "      <td>Hyderabad</td>\n",
              "      <td>Sunrisers Hyderabad</td>\n",
              "      <td>Royal Challengers Bangalore</td>\n",
              "      <td>Royal Challengers Bangalore</td>\n",
              "      <td>field</td>\n",
              "      <td>normal</td>\n",
              "      <td>0</td>\n",
              "      <td>Sunrisers Hyderabad</td>\n",
              "      <td>35</td>\n",
              "      <td>0</td>\n",
              "      <td>Yuvraj Singh</td>\n",
              "    </tr>\n",
              "    <tr>\n",
              "      <th>1</th>\n",
              "      <td>2</td>\n",
              "      <td>2017</td>\n",
              "      <td>Pune</td>\n",
              "      <td>Mumbai Indians</td>\n",
              "      <td>Rising Pune Supergiant</td>\n",
              "      <td>Rising Pune Supergiant</td>\n",
              "      <td>field</td>\n",
              "      <td>normal</td>\n",
              "      <td>0</td>\n",
              "      <td>Rising Pune Supergiant</td>\n",
              "      <td>0</td>\n",
              "      <td>7</td>\n",
              "      <td>SPD Smith</td>\n",
              "    </tr>\n",
              "  </tbody>\n",
              "</table>\n",
              "</div>"
            ],
            "text/plain": [
              "   id  season       city  ... win_by_runs win_by_wickets player_of_match\n",
              "0   1    2017  Hyderabad  ...          35              0    Yuvraj Singh\n",
              "1   2    2017       Pune  ...           0              7       SPD Smith\n",
              "\n",
              "[2 rows x 13 columns]"
            ]
          },
          "metadata": {
            "tags": []
          },
          "execution_count": 6
        }
      ]
    },
    {
      "cell_type": "code",
      "metadata": {
        "id": "gmGPVT_hYbZe",
        "outputId": "987c982e-22ea-40af-a840-212cc66b739f",
        "colab": {
          "base_uri": "https://localhost:8080/",
          "height": 286
        }
      },
      "source": [
        "print(df_matches[\"team2\"].value_counts())"
      ],
      "execution_count": 7,
      "outputs": [
        {
          "output_type": "stream",
          "text": [
            "Kolkata Knight Riders          95\n",
            "Royal Challengers Bangalore    95\n",
            "Delhi Daredevils               89\n",
            "Mumbai Indians                 86\n",
            "Kings XI Punjab                85\n",
            "Rajasthan Royals               80\n",
            "Chennai Super Kings            75\n",
            "Sunrisers Hyderabad            45\n",
            "Deccan Chargers                32\n",
            "Pune Warriors                  26\n",
            "Gujarat Lions                  16\n",
            "Delhi Capitals                 10\n",
            "Rising Pune Supergiant          8\n",
            "Rising Pune Supergiants         7\n",
            "Kochi Tuskers Kerala            7\n",
            "Name: team2, dtype: int64\n"
          ],
          "name": "stdout"
        }
      ]
    },
    {
      "cell_type": "code",
      "metadata": {
        "id": "aiUwKdjQYc2N"
      },
      "source": [
        "#In 2019 delhi daredevils name changed to delhi capitals. So i am replacing old name with new name for all the rows.\n",
        "df_matches = df_matches.replace(to_replace =\"Delhi Daredevils\", value = \"Delhi Capitals\") \n",
        "\n",
        "df_deliveries = df_deliveries.replace(to_replace = \"Delhi Daredevils\", value = \"Delhi Capitals\")\n",
        "\n",
        "#RPS name also printed wrongly, So i am changing that as well\n",
        "df_matches = df_matches.replace(to_replace =\"Rising Pune Supergiant\", value = \"Rising Pune Supergiants\") \n",
        "\n",
        "df_deliveries = df_deliveries.replace(to_replace = \"Rising Pune Supergiant\", value = \"Rising Pune Supergiants \")"
      ],
      "execution_count": 8,
      "outputs": []
    },
    {
      "cell_type": "code",
      "metadata": {
        "id": "GZVVnTfyYyYr",
        "outputId": "dca69086-f077-49bf-8040-e5a919186836",
        "colab": {
          "base_uri": "https://localhost:8080/",
          "height": 252
        }
      },
      "source": [
        "#checking null values in matches dataset\n",
        "print(df_matches.isnull().sum())"
      ],
      "execution_count": 9,
      "outputs": [
        {
          "output_type": "stream",
          "text": [
            "id                 0\n",
            "season             0\n",
            "city               7\n",
            "team1              0\n",
            "team2              0\n",
            "toss_winner        0\n",
            "toss_decision      0\n",
            "result             0\n",
            "dl_applied         0\n",
            "winner             4\n",
            "win_by_runs        0\n",
            "win_by_wickets     0\n",
            "player_of_match    4\n",
            "dtype: int64\n"
          ],
          "name": "stdout"
        }
      ]
    },
    {
      "cell_type": "code",
      "metadata": {
        "id": "EeSh28_JZAoi",
        "outputId": "6f051ba7-92c2-469c-e02e-757bf48f2e7a",
        "colab": {
          "base_uri": "https://localhost:8080/",
          "height": 350
        }
      },
      "source": [
        "#printing null rows in matches dataset\n",
        "df1_null = df_matches[df_matches.isna().any(axis=1)]\n",
        "df1_null.head()"
      ],
      "execution_count": 10,
      "outputs": [
        {
          "output_type": "execute_result",
          "data": {
            "text/html": [
              "<div>\n",
              "<style scoped>\n",
              "    .dataframe tbody tr th:only-of-type {\n",
              "        vertical-align: middle;\n",
              "    }\n",
              "\n",
              "    .dataframe tbody tr th {\n",
              "        vertical-align: top;\n",
              "    }\n",
              "\n",
              "    .dataframe thead th {\n",
              "        text-align: right;\n",
              "    }\n",
              "</style>\n",
              "<table border=\"1\" class=\"dataframe\">\n",
              "  <thead>\n",
              "    <tr style=\"text-align: right;\">\n",
              "      <th></th>\n",
              "      <th>id</th>\n",
              "      <th>season</th>\n",
              "      <th>city</th>\n",
              "      <th>team1</th>\n",
              "      <th>team2</th>\n",
              "      <th>toss_winner</th>\n",
              "      <th>toss_decision</th>\n",
              "      <th>result</th>\n",
              "      <th>dl_applied</th>\n",
              "      <th>winner</th>\n",
              "      <th>win_by_runs</th>\n",
              "      <th>win_by_wickets</th>\n",
              "      <th>player_of_match</th>\n",
              "    </tr>\n",
              "  </thead>\n",
              "  <tbody>\n",
              "    <tr>\n",
              "      <th>300</th>\n",
              "      <td>301</td>\n",
              "      <td>2011</td>\n",
              "      <td>Delhi</td>\n",
              "      <td>Delhi Capitals</td>\n",
              "      <td>Pune Warriors</td>\n",
              "      <td>Delhi Capitals</td>\n",
              "      <td>bat</td>\n",
              "      <td>no result</td>\n",
              "      <td>0</td>\n",
              "      <td>NaN</td>\n",
              "      <td>0</td>\n",
              "      <td>0</td>\n",
              "      <td>NaN</td>\n",
              "    </tr>\n",
              "    <tr>\n",
              "      <th>461</th>\n",
              "      <td>462</td>\n",
              "      <td>2014</td>\n",
              "      <td>NaN</td>\n",
              "      <td>Mumbai Indians</td>\n",
              "      <td>Royal Challengers Bangalore</td>\n",
              "      <td>Royal Challengers Bangalore</td>\n",
              "      <td>field</td>\n",
              "      <td>normal</td>\n",
              "      <td>0</td>\n",
              "      <td>Royal Challengers Bangalore</td>\n",
              "      <td>0</td>\n",
              "      <td>7</td>\n",
              "      <td>PA Patel</td>\n",
              "    </tr>\n",
              "    <tr>\n",
              "      <th>462</th>\n",
              "      <td>463</td>\n",
              "      <td>2014</td>\n",
              "      <td>NaN</td>\n",
              "      <td>Kolkata Knight Riders</td>\n",
              "      <td>Delhi Capitals</td>\n",
              "      <td>Kolkata Knight Riders</td>\n",
              "      <td>bat</td>\n",
              "      <td>normal</td>\n",
              "      <td>0</td>\n",
              "      <td>Delhi Capitals</td>\n",
              "      <td>0</td>\n",
              "      <td>4</td>\n",
              "      <td>JP Duminy</td>\n",
              "    </tr>\n",
              "    <tr>\n",
              "      <th>466</th>\n",
              "      <td>467</td>\n",
              "      <td>2014</td>\n",
              "      <td>NaN</td>\n",
              "      <td>Chennai Super Kings</td>\n",
              "      <td>Rajasthan Royals</td>\n",
              "      <td>Rajasthan Royals</td>\n",
              "      <td>field</td>\n",
              "      <td>normal</td>\n",
              "      <td>0</td>\n",
              "      <td>Chennai Super Kings</td>\n",
              "      <td>7</td>\n",
              "      <td>0</td>\n",
              "      <td>RA Jadeja</td>\n",
              "    </tr>\n",
              "    <tr>\n",
              "      <th>468</th>\n",
              "      <td>469</td>\n",
              "      <td>2014</td>\n",
              "      <td>NaN</td>\n",
              "      <td>Sunrisers Hyderabad</td>\n",
              "      <td>Delhi Capitals</td>\n",
              "      <td>Sunrisers Hyderabad</td>\n",
              "      <td>bat</td>\n",
              "      <td>normal</td>\n",
              "      <td>0</td>\n",
              "      <td>Sunrisers Hyderabad</td>\n",
              "      <td>4</td>\n",
              "      <td>0</td>\n",
              "      <td>AJ Finch</td>\n",
              "    </tr>\n",
              "  </tbody>\n",
              "</table>\n",
              "</div>"
            ],
            "text/plain": [
              "      id  season   city  ... win_by_runs win_by_wickets player_of_match\n",
              "300  301    2011  Delhi  ...           0              0             NaN\n",
              "461  462    2014    NaN  ...           0              7        PA Patel\n",
              "462  463    2014    NaN  ...           0              4       JP Duminy\n",
              "466  467    2014    NaN  ...           7              0       RA Jadeja\n",
              "468  469    2014    NaN  ...           4              0        AJ Finch\n",
              "\n",
              "[5 rows x 13 columns]"
            ]
          },
          "metadata": {
            "tags": []
          },
          "execution_count": 10
        }
      ]
    },
    {
      "cell_type": "code",
      "metadata": {
        "id": "-Zl2Uu1aZkb6",
        "outputId": "74d2d4be-4412-4bab-8503-5f1230f10513",
        "colab": {
          "base_uri": "https://localhost:8080/",
          "height": 34
        }
      },
      "source": [
        "#After seeing above table we can clearly understood that 4 matches are not played beacuse of rain, badlight or pitch condition. \n",
        "#So i am replacing those null values in winner column with no result and palyer of the match column null values with not declared.\n",
        "df_matches[\"winner\"].fillna(\"No result\", inplace = True)\n",
        "df_matches['player_of_match'].fillna(\"Not declared\", inplace = True)\n",
        "#city column also has 7 null values. I checked those matches data in Espn website and they played in Dubai.\n",
        "df_matches[\"city\"].fillna(\"Dubai\", inplace = True)\n",
        "print(df_matches.shape)"
      ],
      "execution_count": 11,
      "outputs": [
        {
          "output_type": "stream",
          "text": [
            "(756, 13)\n"
          ],
          "name": "stdout"
        }
      ]
    },
    {
      "cell_type": "code",
      "metadata": {
        "id": "7MUVmfghaLBh",
        "outputId": "c0751c5b-e16a-4c20-fc70-96e806722937",
        "colab": {
          "base_uri": "https://localhost:8080/",
          "height": 386
        }
      },
      "source": [
        "#checking null values in deliveries dataset\n",
        "print(df_deliveries.isnull().sum())"
      ],
      "execution_count": 12,
      "outputs": [
        {
          "output_type": "stream",
          "text": [
            "match_id                 0\n",
            "inning                   0\n",
            "batting_team             0\n",
            "bowling_team             0\n",
            "over                     0\n",
            "ball                     0\n",
            "batsman                  0\n",
            "non_striker              0\n",
            "bowler                   0\n",
            "is_super_over            0\n",
            "wide_runs                0\n",
            "bye_runs                 0\n",
            "legbye_runs              0\n",
            "noball_runs              0\n",
            "penalty_runs             0\n",
            "batsman_runs             0\n",
            "extra_runs               0\n",
            "total_runs               0\n",
            "player_dismissed    170244\n",
            "dismissal_kind      170244\n",
            "fielder             172630\n",
            "dtype: int64\n"
          ],
          "name": "stdout"
        }
      ]
    },
    {
      "cell_type": "markdown",
      "metadata": {
        "id": "CxP7pyIpaY7k"
      },
      "source": [
        "Player_dismissed, dismissal_kind and fielder features are having null values. But if you consider today questions only 'player_dismissed' and 'dismissal_kind' features are useful for today analysis. So i am removing remaining two features.\n",
        "\n",
        "Filling player_dismissed null values with 'No wicket', didmissal_Kind null values with also No Wicket"
      ]
    },
    {
      "cell_type": "code",
      "metadata": {
        "id": "d08X8pAiaOf-",
        "outputId": "2cdaf307-0d72-42a0-99f4-eeb84f876cf1",
        "colab": {
          "base_uri": "https://localhost:8080/",
          "height": 194
        }
      },
      "source": [
        "#dropping fielder column\n",
        "df_deliveries = df_deliveries.drop(['fielder'], axis = 1) \n",
        "#filling null values\n",
        "df_deliveries[\"player_dismissed\"].fillna(\"No Wicket\", inplace = True)\n",
        "df_deliveries[\"dismissal_kind\"].fillna(\"No Wicket\", inplace = True)\n",
        "df_deliveries.head(2)"
      ],
      "execution_count": 13,
      "outputs": [
        {
          "output_type": "execute_result",
          "data": {
            "text/html": [
              "<div>\n",
              "<style scoped>\n",
              "    .dataframe tbody tr th:only-of-type {\n",
              "        vertical-align: middle;\n",
              "    }\n",
              "\n",
              "    .dataframe tbody tr th {\n",
              "        vertical-align: top;\n",
              "    }\n",
              "\n",
              "    .dataframe thead th {\n",
              "        text-align: right;\n",
              "    }\n",
              "</style>\n",
              "<table border=\"1\" class=\"dataframe\">\n",
              "  <thead>\n",
              "    <tr style=\"text-align: right;\">\n",
              "      <th></th>\n",
              "      <th>match_id</th>\n",
              "      <th>inning</th>\n",
              "      <th>batting_team</th>\n",
              "      <th>bowling_team</th>\n",
              "      <th>over</th>\n",
              "      <th>ball</th>\n",
              "      <th>batsman</th>\n",
              "      <th>non_striker</th>\n",
              "      <th>bowler</th>\n",
              "      <th>is_super_over</th>\n",
              "      <th>wide_runs</th>\n",
              "      <th>bye_runs</th>\n",
              "      <th>legbye_runs</th>\n",
              "      <th>noball_runs</th>\n",
              "      <th>penalty_runs</th>\n",
              "      <th>batsman_runs</th>\n",
              "      <th>extra_runs</th>\n",
              "      <th>total_runs</th>\n",
              "      <th>player_dismissed</th>\n",
              "      <th>dismissal_kind</th>\n",
              "    </tr>\n",
              "  </thead>\n",
              "  <tbody>\n",
              "    <tr>\n",
              "      <th>0</th>\n",
              "      <td>1</td>\n",
              "      <td>1</td>\n",
              "      <td>Sunrisers Hyderabad</td>\n",
              "      <td>Royal Challengers Bangalore</td>\n",
              "      <td>1</td>\n",
              "      <td>1</td>\n",
              "      <td>DA Warner</td>\n",
              "      <td>S Dhawan</td>\n",
              "      <td>TS Mills</td>\n",
              "      <td>0</td>\n",
              "      <td>0</td>\n",
              "      <td>0</td>\n",
              "      <td>0</td>\n",
              "      <td>0</td>\n",
              "      <td>0</td>\n",
              "      <td>0</td>\n",
              "      <td>0</td>\n",
              "      <td>0</td>\n",
              "      <td>No Wicket</td>\n",
              "      <td>No Wicket</td>\n",
              "    </tr>\n",
              "    <tr>\n",
              "      <th>1</th>\n",
              "      <td>1</td>\n",
              "      <td>1</td>\n",
              "      <td>Sunrisers Hyderabad</td>\n",
              "      <td>Royal Challengers Bangalore</td>\n",
              "      <td>1</td>\n",
              "      <td>2</td>\n",
              "      <td>DA Warner</td>\n",
              "      <td>S Dhawan</td>\n",
              "      <td>TS Mills</td>\n",
              "      <td>0</td>\n",
              "      <td>0</td>\n",
              "      <td>0</td>\n",
              "      <td>0</td>\n",
              "      <td>0</td>\n",
              "      <td>0</td>\n",
              "      <td>0</td>\n",
              "      <td>0</td>\n",
              "      <td>0</td>\n",
              "      <td>No Wicket</td>\n",
              "      <td>No Wicket</td>\n",
              "    </tr>\n",
              "  </tbody>\n",
              "</table>\n",
              "</div>"
            ],
            "text/plain": [
              "   match_id  inning  ... player_dismissed dismissal_kind\n",
              "0         1       1  ...        No Wicket      No Wicket\n",
              "1         1       1  ...        No Wicket      No Wicket\n",
              "\n",
              "[2 rows x 20 columns]"
            ]
          },
          "metadata": {
            "tags": []
          },
          "execution_count": 13
        }
      ]
    },
    {
      "cell_type": "markdown",
      "metadata": {
        "id": "VYTCirJ7ag4n"
      },
      "source": [
        "### Exploratory Data Analysis"
      ]
    },
    {
      "cell_type": "markdown",
      "metadata": {
        "id": "OFQDF9s3alaW"
      },
      "source": [
        "### Q1) Who will win the match RR VS CSK?"
      ]
    },
    {
      "cell_type": "code",
      "metadata": {
        "id": "dezHjV6jar7o",
        "outputId": "c4a44be4-e7e0-442f-fdc8-7d4528fac616",
        "colab": {
          "base_uri": "https://localhost:8080/",
          "height": 542
        }
      },
      "source": [
        "# Lets check winning ratio between CSK VS RR\n",
        "df_MI_KXIP = df_matches[((df_matches['team1'] == 'Chennai Super Kings') | (df_matches['team1'] == 'Rajasthan Royals')) & \n",
        "                         ((df_matches['team2'] == 'Chennai Super Kings') | (df_matches['team2'] == 'Rajasthan Royals'))] \n",
        "\n",
        "#plotting MI and KXIP wins against each other\n",
        "import plotly.graph_objs as go\n",
        "df_winner = df_MI_KXIP[['id','winner']].groupby('winner').size().reset_index()\n",
        "df_winner.columns = ['winner','total_wins']\n",
        "df_winner = df_winner.sort_values('total_wins',ascending=False)[:2]\n",
        "\n",
        "data = go.Bar(x = df_winner['winner'],y = df_winner['total_wins'])\n",
        "layout = go.Layout(title = 'Number of wins by CSK and RR against each other',xaxis = dict(title = 'Team'),yaxis = dict(title = 'No of wins'))\n",
        "fig = go.Figure(data = data,layout = layout)\n",
        "fig.show() "
      ],
      "execution_count": 14,
      "outputs": [
        {
          "output_type": "display_data",
          "data": {
            "text/html": [
              "<html>\n",
              "<head><meta charset=\"utf-8\" /></head>\n",
              "<body>\n",
              "    <div>\n",
              "            <script src=\"https://cdnjs.cloudflare.com/ajax/libs/mathjax/2.7.5/MathJax.js?config=TeX-AMS-MML_SVG\"></script><script type=\"text/javascript\">if (window.MathJax) {MathJax.Hub.Config({SVG: {font: \"STIX-Web\"}});}</script>\n",
              "                <script type=\"text/javascript\">window.PlotlyConfig = {MathJaxConfig: 'local'};</script>\n",
              "        <script src=\"https://cdn.plot.ly/plotly-latest.min.js\"></script>    \n",
              "            <div id=\"a8c0c785-d6e1-455c-9173-2af015a3acf4\" class=\"plotly-graph-div\" style=\"height:525px; width:100%;\"></div>\n",
              "            <script type=\"text/javascript\">\n",
              "                \n",
              "                    window.PLOTLYENV=window.PLOTLYENV || {};\n",
              "                    \n",
              "                if (document.getElementById(\"a8c0c785-d6e1-455c-9173-2af015a3acf4\")) {\n",
              "                    Plotly.newPlot(\n",
              "                        'a8c0c785-d6e1-455c-9173-2af015a3acf4',\n",
              "                        [{\"type\": \"bar\", \"x\": [\"Chennai Super Kings\", \"Rajasthan Royals\"], \"y\": [14, 7]}],\n",
              "                        {\"template\": {\"data\": {\"bar\": [{\"error_x\": {\"color\": \"#2a3f5f\"}, \"error_y\": {\"color\": \"#2a3f5f\"}, \"marker\": {\"line\": {\"color\": \"#E5ECF6\", \"width\": 0.5}}, \"type\": \"bar\"}], \"barpolar\": [{\"marker\": {\"line\": {\"color\": \"#E5ECF6\", \"width\": 0.5}}, \"type\": \"barpolar\"}], \"carpet\": [{\"aaxis\": {\"endlinecolor\": \"#2a3f5f\", \"gridcolor\": \"white\", \"linecolor\": \"white\", \"minorgridcolor\": \"white\", \"startlinecolor\": \"#2a3f5f\"}, \"baxis\": {\"endlinecolor\": \"#2a3f5f\", \"gridcolor\": \"white\", \"linecolor\": \"white\", \"minorgridcolor\": \"white\", \"startlinecolor\": \"#2a3f5f\"}, \"type\": \"carpet\"}], \"choropleth\": [{\"colorbar\": {\"outlinewidth\": 0, \"ticks\": \"\"}, \"type\": \"choropleth\"}], \"contour\": [{\"colorbar\": {\"outlinewidth\": 0, \"ticks\": \"\"}, \"colorscale\": [[0.0, \"#0d0887\"], [0.1111111111111111, \"#46039f\"], [0.2222222222222222, \"#7201a8\"], [0.3333333333333333, \"#9c179e\"], [0.4444444444444444, \"#bd3786\"], [0.5555555555555556, \"#d8576b\"], [0.6666666666666666, \"#ed7953\"], [0.7777777777777778, \"#fb9f3a\"], [0.8888888888888888, \"#fdca26\"], [1.0, \"#f0f921\"]], \"type\": \"contour\"}], \"contourcarpet\": [{\"colorbar\": {\"outlinewidth\": 0, \"ticks\": \"\"}, \"type\": \"contourcarpet\"}], \"heatmap\": [{\"colorbar\": {\"outlinewidth\": 0, \"ticks\": \"\"}, \"colorscale\": [[0.0, \"#0d0887\"], [0.1111111111111111, \"#46039f\"], [0.2222222222222222, \"#7201a8\"], [0.3333333333333333, \"#9c179e\"], [0.4444444444444444, \"#bd3786\"], [0.5555555555555556, \"#d8576b\"], [0.6666666666666666, \"#ed7953\"], [0.7777777777777778, \"#fb9f3a\"], [0.8888888888888888, \"#fdca26\"], [1.0, \"#f0f921\"]], \"type\": \"heatmap\"}], \"heatmapgl\": [{\"colorbar\": {\"outlinewidth\": 0, \"ticks\": \"\"}, \"colorscale\": [[0.0, \"#0d0887\"], [0.1111111111111111, \"#46039f\"], [0.2222222222222222, \"#7201a8\"], [0.3333333333333333, \"#9c179e\"], [0.4444444444444444, \"#bd3786\"], [0.5555555555555556, \"#d8576b\"], [0.6666666666666666, \"#ed7953\"], [0.7777777777777778, \"#fb9f3a\"], [0.8888888888888888, \"#fdca26\"], [1.0, \"#f0f921\"]], \"type\": \"heatmapgl\"}], \"histogram\": [{\"marker\": {\"colorbar\": {\"outlinewidth\": 0, \"ticks\": \"\"}}, \"type\": \"histogram\"}], \"histogram2d\": [{\"colorbar\": {\"outlinewidth\": 0, \"ticks\": \"\"}, \"colorscale\": [[0.0, \"#0d0887\"], [0.1111111111111111, \"#46039f\"], [0.2222222222222222, \"#7201a8\"], [0.3333333333333333, \"#9c179e\"], [0.4444444444444444, \"#bd3786\"], [0.5555555555555556, \"#d8576b\"], [0.6666666666666666, \"#ed7953\"], [0.7777777777777778, \"#fb9f3a\"], [0.8888888888888888, \"#fdca26\"], [1.0, \"#f0f921\"]], \"type\": \"histogram2d\"}], \"histogram2dcontour\": [{\"colorbar\": {\"outlinewidth\": 0, \"ticks\": \"\"}, \"colorscale\": [[0.0, \"#0d0887\"], [0.1111111111111111, \"#46039f\"], [0.2222222222222222, \"#7201a8\"], [0.3333333333333333, \"#9c179e\"], [0.4444444444444444, \"#bd3786\"], [0.5555555555555556, \"#d8576b\"], [0.6666666666666666, \"#ed7953\"], [0.7777777777777778, \"#fb9f3a\"], [0.8888888888888888, \"#fdca26\"], [1.0, \"#f0f921\"]], \"type\": \"histogram2dcontour\"}], \"mesh3d\": [{\"colorbar\": {\"outlinewidth\": 0, \"ticks\": \"\"}, \"type\": \"mesh3d\"}], \"parcoords\": [{\"line\": {\"colorbar\": {\"outlinewidth\": 0, \"ticks\": \"\"}}, \"type\": \"parcoords\"}], \"pie\": [{\"automargin\": true, \"type\": \"pie\"}], \"scatter\": [{\"marker\": {\"colorbar\": {\"outlinewidth\": 0, \"ticks\": \"\"}}, \"type\": \"scatter\"}], \"scatter3d\": [{\"line\": {\"colorbar\": {\"outlinewidth\": 0, \"ticks\": \"\"}}, \"marker\": {\"colorbar\": {\"outlinewidth\": 0, \"ticks\": \"\"}}, \"type\": \"scatter3d\"}], \"scattercarpet\": [{\"marker\": {\"colorbar\": {\"outlinewidth\": 0, \"ticks\": \"\"}}, \"type\": \"scattercarpet\"}], \"scattergeo\": [{\"marker\": {\"colorbar\": {\"outlinewidth\": 0, \"ticks\": \"\"}}, \"type\": \"scattergeo\"}], \"scattergl\": [{\"marker\": {\"colorbar\": {\"outlinewidth\": 0, \"ticks\": \"\"}}, \"type\": \"scattergl\"}], \"scattermapbox\": [{\"marker\": {\"colorbar\": {\"outlinewidth\": 0, \"ticks\": \"\"}}, \"type\": \"scattermapbox\"}], \"scatterpolar\": [{\"marker\": {\"colorbar\": {\"outlinewidth\": 0, \"ticks\": \"\"}}, \"type\": \"scatterpolar\"}], \"scatterpolargl\": [{\"marker\": {\"colorbar\": {\"outlinewidth\": 0, \"ticks\": \"\"}}, \"type\": \"scatterpolargl\"}], \"scatterternary\": [{\"marker\": {\"colorbar\": {\"outlinewidth\": 0, \"ticks\": \"\"}}, \"type\": \"scatterternary\"}], \"surface\": [{\"colorbar\": {\"outlinewidth\": 0, \"ticks\": \"\"}, \"colorscale\": [[0.0, \"#0d0887\"], [0.1111111111111111, \"#46039f\"], [0.2222222222222222, \"#7201a8\"], [0.3333333333333333, \"#9c179e\"], [0.4444444444444444, \"#bd3786\"], [0.5555555555555556, \"#d8576b\"], [0.6666666666666666, \"#ed7953\"], [0.7777777777777778, \"#fb9f3a\"], [0.8888888888888888, \"#fdca26\"], [1.0, \"#f0f921\"]], \"type\": \"surface\"}], \"table\": [{\"cells\": {\"fill\": {\"color\": \"#EBF0F8\"}, \"line\": {\"color\": \"white\"}}, \"header\": {\"fill\": {\"color\": \"#C8D4E3\"}, \"line\": {\"color\": \"white\"}}, \"type\": \"table\"}]}, \"layout\": {\"annotationdefaults\": {\"arrowcolor\": \"#2a3f5f\", \"arrowhead\": 0, \"arrowwidth\": 1}, \"coloraxis\": {\"colorbar\": {\"outlinewidth\": 0, \"ticks\": \"\"}}, \"colorscale\": {\"diverging\": [[0, \"#8e0152\"], [0.1, \"#c51b7d\"], [0.2, \"#de77ae\"], [0.3, \"#f1b6da\"], [0.4, \"#fde0ef\"], [0.5, \"#f7f7f7\"], [0.6, \"#e6f5d0\"], [0.7, \"#b8e186\"], [0.8, \"#7fbc41\"], [0.9, \"#4d9221\"], [1, \"#276419\"]], \"sequential\": [[0.0, \"#0d0887\"], [0.1111111111111111, \"#46039f\"], [0.2222222222222222, \"#7201a8\"], [0.3333333333333333, \"#9c179e\"], [0.4444444444444444, \"#bd3786\"], [0.5555555555555556, \"#d8576b\"], [0.6666666666666666, \"#ed7953\"], [0.7777777777777778, \"#fb9f3a\"], [0.8888888888888888, \"#fdca26\"], [1.0, \"#f0f921\"]], \"sequentialminus\": [[0.0, \"#0d0887\"], [0.1111111111111111, \"#46039f\"], [0.2222222222222222, \"#7201a8\"], [0.3333333333333333, \"#9c179e\"], [0.4444444444444444, \"#bd3786\"], [0.5555555555555556, \"#d8576b\"], [0.6666666666666666, \"#ed7953\"], [0.7777777777777778, \"#fb9f3a\"], [0.8888888888888888, \"#fdca26\"], [1.0, \"#f0f921\"]]}, \"colorway\": [\"#636efa\", \"#EF553B\", \"#00cc96\", \"#ab63fa\", \"#FFA15A\", \"#19d3f3\", \"#FF6692\", \"#B6E880\", \"#FF97FF\", \"#FECB52\"], \"font\": {\"color\": \"#2a3f5f\"}, \"geo\": {\"bgcolor\": \"white\", \"lakecolor\": \"white\", \"landcolor\": \"#E5ECF6\", \"showlakes\": true, \"showland\": true, \"subunitcolor\": \"white\"}, \"hoverlabel\": {\"align\": \"left\"}, \"hovermode\": \"closest\", \"mapbox\": {\"style\": \"light\"}, \"paper_bgcolor\": \"white\", \"plot_bgcolor\": \"#E5ECF6\", \"polar\": {\"angularaxis\": {\"gridcolor\": \"white\", \"linecolor\": \"white\", \"ticks\": \"\"}, \"bgcolor\": \"#E5ECF6\", \"radialaxis\": {\"gridcolor\": \"white\", \"linecolor\": \"white\", \"ticks\": \"\"}}, \"scene\": {\"xaxis\": {\"backgroundcolor\": \"#E5ECF6\", \"gridcolor\": \"white\", \"gridwidth\": 2, \"linecolor\": \"white\", \"showbackground\": true, \"ticks\": \"\", \"zerolinecolor\": \"white\"}, \"yaxis\": {\"backgroundcolor\": \"#E5ECF6\", \"gridcolor\": \"white\", \"gridwidth\": 2, \"linecolor\": \"white\", \"showbackground\": true, \"ticks\": \"\", \"zerolinecolor\": \"white\"}, \"zaxis\": {\"backgroundcolor\": \"#E5ECF6\", \"gridcolor\": \"white\", \"gridwidth\": 2, \"linecolor\": \"white\", \"showbackground\": true, \"ticks\": \"\", \"zerolinecolor\": \"white\"}}, \"shapedefaults\": {\"line\": {\"color\": \"#2a3f5f\"}}, \"ternary\": {\"aaxis\": {\"gridcolor\": \"white\", \"linecolor\": \"white\", \"ticks\": \"\"}, \"baxis\": {\"gridcolor\": \"white\", \"linecolor\": \"white\", \"ticks\": \"\"}, \"bgcolor\": \"#E5ECF6\", \"caxis\": {\"gridcolor\": \"white\", \"linecolor\": \"white\", \"ticks\": \"\"}}, \"title\": {\"x\": 0.05}, \"xaxis\": {\"automargin\": true, \"gridcolor\": \"white\", \"linecolor\": \"white\", \"ticks\": \"\", \"title\": {\"standoff\": 15}, \"zerolinecolor\": \"white\", \"zerolinewidth\": 2}, \"yaxis\": {\"automargin\": true, \"gridcolor\": \"white\", \"linecolor\": \"white\", \"ticks\": \"\", \"title\": {\"standoff\": 15}, \"zerolinecolor\": \"white\", \"zerolinewidth\": 2}}}, \"title\": {\"text\": \"Number of wins by CSK and RR against each other\"}, \"xaxis\": {\"title\": {\"text\": \"Team\"}}, \"yaxis\": {\"title\": {\"text\": \"No of wins\"}}},\n",
              "                        {\"responsive\": true}\n",
              "                    ).then(function(){\n",
              "                            \n",
              "var gd = document.getElementById('a8c0c785-d6e1-455c-9173-2af015a3acf4');\n",
              "var x = new MutationObserver(function (mutations, observer) {{\n",
              "        var display = window.getComputedStyle(gd).display;\n",
              "        if (!display || display === 'none') {{\n",
              "            console.log([gd, 'removed!']);\n",
              "            Plotly.purge(gd);\n",
              "            observer.disconnect();\n",
              "        }}\n",
              "}});\n",
              "\n",
              "// Listen for the removal of the full notebook cells\n",
              "var notebookContainer = gd.closest('#notebook-container');\n",
              "if (notebookContainer) {{\n",
              "    x.observe(notebookContainer, {childList: true});\n",
              "}}\n",
              "\n",
              "// Listen for the clearing of the current output cell\n",
              "var outputEl = gd.closest('.output');\n",
              "if (outputEl) {{\n",
              "    x.observe(outputEl, {childList: true});\n",
              "}}\n",
              "\n",
              "                        })\n",
              "                };\n",
              "                \n",
              "            </script>\n",
              "        </div>\n",
              "</body>\n",
              "</html>"
            ]
          },
          "metadata": {
            "tags": []
          }
        }
      ]
    },
    {
      "cell_type": "markdown",
      "metadata": {
        "id": "ffXOqnlwbaYO"
      },
      "source": [
        "CSK won more matches than RR in head-head matches but this is not enough to predict todays match results. Because players will change every 2 years. So its better look individual player runs or wickets against each other."
      ]
    },
    {
      "cell_type": "code",
      "metadata": {
        "id": "BiMmGDRTbt7n",
        "outputId": "965ef5f4-d209-415f-c7b6-b2c9a2c2fcc5",
        "colab": {
          "base_uri": "https://localhost:8080/",
          "height": 84
        }
      },
      "source": [
        "df_RRbatsman_CSKbowlers = df_deliveries[((df_deliveries['batsman'] == 'JC Buttler') | (df_deliveries['batsman'] == 'SPD Smith') |\n",
        "                             (df_deliveries['batsman'] == 'SV Samson') | (df_deliveries['bowler'] == 'DL Chahar') | \n",
        "                             (df_deliveries['bowler'] == 'SN Thakur') | (df_deliveries['bowler'] == 'RA Jadeja'))] \n",
        "\n",
        "print(\"RR top 3 batsman runs against CSK bowlers : \" , df_RRbatsman_CSKbowlers['batsman_runs'].sum())\n",
        "RR_bat_average = df_RRbatsman_CSKbowlers['batsman_runs'].sum()/len(df_RRbatsman_CSKbowlers[(df_RRbatsman_CSKbowlers['player_dismissed'] == 'JC Buttler') |\n",
        "                                                                                              (df_RRbatsman_CSKbowlers['player_dismissed'] == 'SPD Smith')|\n",
        "                                                                                              (df_RRbatsman_CSKbowlers['player_dismissed'] == 'SV Samson')])\n",
        "print(\"RR batsman batting average against CSK bowlers : \",RR_bat_average)\n",
        "\n",
        "df_CSKbatsman_RRbowlers= df_deliveries[((df_deliveries['batsman'] == 'SR Watson') | (df_deliveries['batsman'] == 'F du Plessis') |\n",
        "                             (df_deliveries['batsman'] == 'MS Dhoni') | (df_deliveries['bowler'] == 'J Archer') |\n",
        "                             (df_deliveries['bowler'] == 'S Gopal') | (df_deliveries['bowler'] == 'BA Stokes'))]\n",
        "\n",
        "print(\"CSK top 3 batsman runs against RR bowlers : \" , df_CSKbatsman_RRbowlers['batsman_runs'].sum())\n",
        "CSK_bat_average = df_CSKbatsman_RRbowlers['batsman_runs'].sum()/len(df_CSKbatsman_RRbowlers[(df_CSKbatsman_RRbowlers['player_dismissed'] == 'SR Watson') |\n",
        "                                                                                              (df_CSKbatsman_RRbowlers['player_dismissed'] == 'F du Plessis')|\n",
        "                                                                                              (df_CSKbatsman_RRbowlers['player_dismissed'] == 'MS Dhoni')])\n",
        "print(\"CSK batsman batting average against RR bowlers : \",CSK_bat_average)"
      ],
      "execution_count": 17,
      "outputs": [
        {
          "output_type": "stream",
          "text": [
            "RR top 3 batsman runs against CSK bowlers :  10509\n",
            "RR batsman batting average against CSK bowlers :  62.55357142857143\n",
            "CSK top 3 batsman runs against RR bowlers :  12031\n",
            "CSK batsman batting average against RR bowlers :  44.39483394833948\n"
          ],
          "name": "stdout"
        }
      ]
    },
    {
      "cell_type": "markdown",
      "metadata": {
        "id": "16x8w_m2fcyV"
      },
      "source": [
        "**Conclusion :-**\n",
        "\n",
        "By looking at above analysis RR batsman has uper hand against current CSK bowlers. So i am predicting RR will win today match."
      ]
    },
    {
      "cell_type": "markdown",
      "metadata": {
        "id": "x5KTa70sf1Ll"
      },
      "source": [
        "### Q2) How many runs will RR Score in the first 6 overs?"
      ]
    },
    {
      "cell_type": "code",
      "metadata": {
        "id": "jq-1VBmagD3F"
      },
      "source": [
        "#Actually top 3 batsman(i.e openers and onedown batsman) will face more deliveries in powerplay.\n",
        "#So i am picking top3 batsman from Rajasthan royals team(i.e Buttler, Stokes, Samson).\n",
        "df_top3_batsman_RR = df_deliveries[(df_deliveries['batsman'] == 'JC Buttler') | (df_deliveries['batsman'] == 'RV Uthappa') |\n",
        "                                   (df_deliveries['batsman'] == 'SPD Smith')]\n",
        "df_top3_batsman_RR.head()\n",
        "\n",
        "#Now we are calculating runs scored in powerplay i.e first 6 overs by above 3 batsman. \n",
        "#So for that we can filter out 1 to 6 overs from 'over' feature/column.\n",
        "df_top3_powerplay_RR = df_top3_batsman_RR[(df_top3_batsman_RR['over'] <= 6)]\n",
        "                                          \n"
      ],
      "execution_count": 18,
      "outputs": []
    },
    {
      "cell_type": "code",
      "metadata": {
        "id": "qaMYShJBiKXj",
        "outputId": "c0f9aac0-14b5-4002-8846-3316d3358e40",
        "colab": {
          "base_uri": "https://localhost:8080/",
          "height": 34
        }
      },
      "source": [
        "#Now we can calcualte the batting average of RR top 3 batsman in powerplay\n",
        "\n",
        "df_powerpaly_avg_RR = df_top3_powerplay_RR[\"batsman_runs\"].sum() /len(df_top3_powerplay_RR[(df_top3_powerplay_RR['player_dismissed'] == 'JC Buttler') |\n",
        "                                                                      (df_top3_powerplay_RR['player_dismissed'] == 'RV Uthappa')|\n",
        "                                                                      (df_top3_powerplay_RR['player_dismissed'] == 'SPD Smith')])\n",
        "\n",
        "print(\"Average runs scored by current Rajasthan Royals top 3 batsman in powerplay\",int(df_powerpaly_avg_RR))"
      ],
      "execution_count": 22,
      "outputs": [
        {
          "output_type": "stream",
          "text": [
            "Average runs scored by current Rajasthan Royals top 3 batsman in powerplay 41\n"
          ],
          "name": "stdout"
        }
      ]
    },
    {
      "cell_type": "code",
      "metadata": {
        "id": "ehxFZLMQjDrH",
        "outputId": "e5df003a-7ed8-4176-ac1a-cc2a6b258d0c",
        "colab": {
          "base_uri": "https://localhost:8080/",
          "height": 34
        }
      },
      "source": [
        "#Lets calculate avg runs per match in powerplay by RR team as well\n",
        "df_powerplay_RR = df_deliveries[(df_deliveries['over'] <=6) & (df_deliveries['batting_team'] == \"Rajasthan Royals\")]\n",
        "total_runs = df_powerplay_RR[\"batsman_runs\"].sum()\n",
        "no_of_matches = df_powerplay_RR['match_id'].nunique()\n",
        "avg_runs_per_match = total_runs/no_of_matches\n",
        "print(\"Average runs scored by RR team in powerplay is\",int(avg_runs_per_match))"
      ],
      "execution_count": 23,
      "outputs": [
        {
          "output_type": "stream",
          "text": [
            "Average runs scored by RR team in powerplay is 42\n"
          ],
          "name": "stdout"
        }
      ]
    },
    {
      "cell_type": "markdown",
      "metadata": {
        "id": "1ihv01EKkerd"
      },
      "source": [
        "**Conclusion :-**\n",
        "\n",
        "By looking at above two analysis i am predicting RR will score (40-49) runs in powerplay."
      ]
    },
    {
      "cell_type": "markdown",
      "metadata": {
        "id": "z0NxznZukv5D"
      },
      "source": [
        "### Q3) What will Deepak Chahar Economay rate?"
      ]
    },
    {
      "cell_type": "code",
      "metadata": {
        "id": "0ovjhlmvRzbF",
        "outputId": "d4d9eaff-4f62-4feb-872f-f3c4c7f3d7ed",
        "colab": {
          "base_uri": "https://localhost:8080/",
          "height": 50
        }
      },
      "source": [
        "df_Chahar = df_deliveries[(df_deliveries['bowler'] == 'DL Chahar')]\n",
        "#For calculating economy rate we need number of overs bowled by Chahar\n",
        "#So what i am doing was  first i am calculating number of balls bowled by deepak chahar then converting to Overs\n",
        "#Note: In balls column we have numbers like 7 and 8 but we dont require that bacuase we want overs. \n",
        "#Each over contain 6 balls. So i.e why i am taking condition balls<=6.\n",
        "chahar_balls = len(df_Chahar[df_Chahar['ball'] <= 6])\n",
        "chahar_overs = chahar_balls/6\n",
        "print(\"Number of overs bowled by Deepak Chahar in IPL is\",chahar_overs)\n",
        "\n",
        "#Now calcualte number of runs given by chahar\n",
        "#Wide,No-ball,penalty and batsman runs comes under runs given by bowler.\n",
        "wide_runs = df_Chahar['wide_runs'].sum()\n",
        "noball_runs = df_Chahar['noball_runs'].sum()\n",
        "penalty_runs = df_Chahar['penalty_runs'].sum()\n",
        "batsman_runs = df_Chahar['batsman_runs'].sum()\n",
        "chahar_runs = wide_runs + noball_runs + penalty_runs + batsman_runs\n",
        "print(\"Number of runs given by Deepak Chahar in IPL is\",chahar_runs)"
      ],
      "execution_count": 42,
      "outputs": [
        {
          "output_type": "stream",
          "text": [
            "Number of overs bowled by Deepak Chahar in IPL is 115.0\n",
            "Number of runs given by Deepak Chahar in IPL is 914\n"
          ],
          "name": "stdout"
        }
      ]
    },
    {
      "cell_type": "code",
      "metadata": {
        "id": "zdCN0Vz0ZiZN",
        "outputId": "22f0e09c-e735-47ef-e437-984b2c430464",
        "colab": {
          "base_uri": "https://localhost:8080/",
          "height": 34
        }
      },
      "source": [
        "#Now calculate the economy rate of chahar in ipl\n",
        "economy_rate_chahar = chahar_runs/chahar_overs\n",
        "print(\"Deepak Chahar ecoenomy rate in ipl is\",economy_rate_chahar)"
      ],
      "execution_count": 44,
      "outputs": [
        {
          "output_type": "stream",
          "text": [
            "Deepak Chahar ecoenomy rate in ipl is 7.947826086956522\n"
          ],
          "name": "stdout"
        }
      ]
    },
    {
      "cell_type": "code",
      "metadata": {
        "id": "TfIF77jObUKQ",
        "outputId": "da0a7338-cc44-455e-9bd1-7d0d290cf315",
        "colab": {
          "base_uri": "https://localhost:8080/",
          "height": 84
        }
      },
      "source": [
        "#Lets calculate his economy rate against Rajasthan royals.\n",
        "df_Chahar_against_RR = df_deliveries[(df_deliveries['bowler'] == 'DL Chahar') & (df_deliveries['batting_team'] == 'Rajasthan Royals') ]\n",
        "df_Chahar_against_RR.head()\n",
        "\n",
        "chahar_balls = len(df_Chahar_against_RR[df_Chahar_against_RR['ball'] <= 6])\n",
        "chahar_overs = chahar_balls/6\n",
        "print(\"Number of overs bowled by Deepak Chahar against RR in IPL is\",chahar_overs)\n",
        "\n",
        "#Now calcualte number of runs given by chahar\n",
        "#Wide,No-ball,penalty and batsman runs comes under runs given by bowler.\n",
        "wide_runs = df_Chahar_against_RR['wide_runs'].sum()\n",
        "noball_runs = df_Chahar_against_RR['noball_runs'].sum()\n",
        "penalty_runs = df_Chahar_against_RR['penalty_runs'].sum()\n",
        "batsman_runs = df_Chahar_against_RR['batsman_runs'].sum()\n",
        "chahar_runs = wide_runs + noball_runs + penalty_runs + batsman_runs\n",
        "print(\"Number of runs given by Deepak Chahar against RR in IPL is\",chahar_runs,\"\\n\")\n",
        "\n",
        "#Now calculate the economy rate of chahar in ipl\n",
        "economy_rate_chahar = chahar_runs/chahar_overs\n",
        "print(\"Deepak Chahar ecoenomy rate against RR in ipl is\",economy_rate_chahar)"
      ],
      "execution_count": 50,
      "outputs": [
        {
          "output_type": "stream",
          "text": [
            "Number of overs bowled by Deepak Chahar against RR in IPL is 12.0\n",
            "Number of runs given by Deepak Chahar against RR in IPL is 88 \n",
            "\n",
            "Deepak Chahar ecoenomy rate against RR in ipl is 7.333333333333333\n"
          ],
          "name": "stdout"
        }
      ]
    },
    {
      "cell_type": "markdown",
      "metadata": {
        "id": "XdNMvwJjcgtD"
      },
      "source": [
        "**Conclusion :-**\n",
        "\n",
        "Deepak chahar economy rate in IPL is 7.9 and against RR is 7.33. So i am predicting in today match his economy rate will be in the range of (7.31 - 8.2) according to above analysis."
      ]
    },
    {
      "cell_type": "markdown",
      "metadata": {
        "id": "pSyzmb6DdCN2"
      },
      "source": [
        "### Q4) How many wickets will jofra archer will take in the death?"
      ]
    },
    {
      "cell_type": "markdown",
      "metadata": {
        "id": "DnwZLL6sdVPG"
      },
      "source": [
        "As per my cricket knowledge Jofra archer is playing ipl from 2018 only. So we have very less data related to archer against CSK. i.e why i am taking all the matches of jofra in ipl."
      ]
    },
    {
      "cell_type": "code",
      "metadata": {
        "id": "YwiPXAyqdTb2",
        "outputId": "879d94da-704e-49ac-b6aa-4efd34a9bf08",
        "colab": {
          "base_uri": "https://localhost:8080/",
          "height": 50
        }
      },
      "source": [
        "#First filter out death overs (16-20) and bowler jofra archer.\n",
        "df_deathover_archer = df_deliveries[(df_deliveries['bowler'] == 'J Archer') & (df_deliveries['over'] >= 16)]\n",
        "                                    \n",
        "\n",
        "df_deathover_archer.head()\n",
        "archer_total_wickets = len(df_deathover_archer[df_deathover_archer['player_dismissed'] != \"No Wicket\"])\n",
        "no_of_matches = df_deathover_archer['match_id'].nunique()\n",
        "print(\"In\",no_of_matches,\"matches Jofra Archer bowled in death overs\")\n",
        "print(\"Jofra archer taken\",archer_total_wickets, \"wickets in death overs\")\n"
      ],
      "execution_count": 66,
      "outputs": [
        {
          "output_type": "stream",
          "text": [
            "In 20 matches Jofra Archer bowled in death overs\n",
            "Jofra archer taken 14 wickets in death overs\n"
          ],
          "name": "stdout"
        }
      ]
    },
    {
      "cell_type": "markdown",
      "metadata": {
        "id": "70MkFyBnjD2J"
      },
      "source": [
        "**Conclusion :-**\n",
        "\n",
        "By looking at above analysis he taken almost 1 wicket per match in death overs.\n",
        "\n",
        "So i am predicting Jofra Archer will take 1 wicket in death overs. "
      ]
    },
    {
      "cell_type": "markdown",
      "metadata": {
        "id": "Bp_nEuQhjpES"
      },
      "source": [
        "### Q5) What will Steve Smith Strike rate be during the match?"
      ]
    },
    {
      "cell_type": "code",
      "metadata": {
        "id": "cIOkAOgOlxXw",
        "outputId": "ff33a96b-5349-4b43-92d1-8660384df984",
        "colab": {
          "base_uri": "https://localhost:8080/",
          "height": 34
        }
      },
      "source": [
        "#Lets calculate Smith strike rate against current CSK bowlers.\n",
        "df_smith_against_CSK = df_deliveries[(df_deliveries['batsman'] == 'SPD Smith') & \n",
        "                         ((df_deliveries['bowler'] == 'DL Chahar') | (df_deliveries['bowler'] == 'DJ Bravo') |\n",
        "                         (df_deliveries['bowler'] == 'SN Thakur')  | (df_deliveries['bowler'] == 'RA Jadeja'))]                                           \n",
        "\n",
        "#Number of runs scored by smith against current CSk bowlers\n",
        "total_runs = df_smith_against_CSK['batsman_runs'].sum()\n",
        "#Number of balls faced by smith against current CSK bowlers\n",
        "#Here wide balls are not counted under batsman faced balls. We can count No-balls under batsman faced deliveries\n",
        "no_of_balls = len(df_smith_against_CSK['ball']) - len(df_smith_against_CSK[df_smith_against_CSK['wide_runs'] >= 1])\n",
        "\n",
        "print(\"Steve Smith Scored\",total_runs, \"runs aginst current CSK bowlers in\",no_of_balls,\"balls\")\n"
      ],
      "execution_count": 83,
      "outputs": [
        {
          "output_type": "stream",
          "text": [
            "Steve Smith Scored 135 runs aginst current CSK bowlers in 113 balls\n"
          ],
          "name": "stdout"
        }
      ]
    },
    {
      "cell_type": "code",
      "metadata": {
        "id": "ri1qYR7KqnhE",
        "outputId": "8a016623-7d7c-40b1-edba-409950656523",
        "colab": {
          "base_uri": "https://localhost:8080/",
          "height": 34
        }
      },
      "source": [
        "Strike_rate = (total_runs/no_of_balls)*100\n",
        "print(\"Steve Smith Strike rate against current CSK bowlers is\",int(Strike_rate))"
      ],
      "execution_count": 87,
      "outputs": [
        {
          "output_type": "stream",
          "text": [
            "Steve Smith Strike rate against current CSK bowlers is 119\n"
          ],
          "name": "stdout"
        }
      ]
    },
    {
      "cell_type": "markdown",
      "metadata": {
        "id": "JyJqHID_rLnH"
      },
      "source": [
        "**Conclusion :-**\n",
        "\n",
        "According to above analysis, I am predicting Steve smith strike in today match is less than 120."
      ]
    }
  ]
}