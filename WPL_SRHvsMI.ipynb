{
  "nbformat": 4,
  "nbformat_minor": 0,
  "metadata": {
    "colab": {
      "name": "WPL_SRHvsMI.ipynb",
      "provenance": []
    },
    "kernelspec": {
      "name": "python3",
      "display_name": "Python 3"
    }
  },
  "cells": [
    {
      "cell_type": "code",
      "metadata": {
        "id": "eolp_m3v5mCS",
        "outputId": "aac16c45-5f12-4597-a3d7-3a53bcb36060",
        "colab": {
          "base_uri": "https://localhost:8080/",
          "height": 244
        }
      },
      "source": [
        "import warnings\n",
        "warnings.filterwarnings(\"ignore\")\n",
        "import pandas as pd\n",
        "\n",
        "df_matches = pd.read_csv(\"matches.csv\")\n",
        "df_matches.head(2)"
      ],
      "execution_count": 1,
      "outputs": [
        {
          "output_type": "execute_result",
          "data": {
            "text/html": [
              "<div>\n",
              "<style scoped>\n",
              "    .dataframe tbody tr th:only-of-type {\n",
              "        vertical-align: middle;\n",
              "    }\n",
              "\n",
              "    .dataframe tbody tr th {\n",
              "        vertical-align: top;\n",
              "    }\n",
              "\n",
              "    .dataframe thead th {\n",
              "        text-align: right;\n",
              "    }\n",
              "</style>\n",
              "<table border=\"1\" class=\"dataframe\">\n",
              "  <thead>\n",
              "    <tr style=\"text-align: right;\">\n",
              "      <th></th>\n",
              "      <th>id</th>\n",
              "      <th>season</th>\n",
              "      <th>city</th>\n",
              "      <th>date</th>\n",
              "      <th>team1</th>\n",
              "      <th>team2</th>\n",
              "      <th>toss_winner</th>\n",
              "      <th>toss_decision</th>\n",
              "      <th>result</th>\n",
              "      <th>dl_applied</th>\n",
              "      <th>winner</th>\n",
              "      <th>win_by_runs</th>\n",
              "      <th>win_by_wickets</th>\n",
              "      <th>player_of_match</th>\n",
              "      <th>venue</th>\n",
              "      <th>umpire1</th>\n",
              "      <th>umpire2</th>\n",
              "      <th>umpire3</th>\n",
              "    </tr>\n",
              "  </thead>\n",
              "  <tbody>\n",
              "    <tr>\n",
              "      <th>0</th>\n",
              "      <td>1</td>\n",
              "      <td>2017</td>\n",
              "      <td>Hyderabad</td>\n",
              "      <td>2017-04-05</td>\n",
              "      <td>Sunrisers Hyderabad</td>\n",
              "      <td>Royal Challengers Bangalore</td>\n",
              "      <td>Royal Challengers Bangalore</td>\n",
              "      <td>field</td>\n",
              "      <td>normal</td>\n",
              "      <td>0</td>\n",
              "      <td>Sunrisers Hyderabad</td>\n",
              "      <td>35</td>\n",
              "      <td>0</td>\n",
              "      <td>Yuvraj Singh</td>\n",
              "      <td>Rajiv Gandhi International Stadium, Uppal</td>\n",
              "      <td>AY Dandekar</td>\n",
              "      <td>NJ Llong</td>\n",
              "      <td>NaN</td>\n",
              "    </tr>\n",
              "    <tr>\n",
              "      <th>1</th>\n",
              "      <td>2</td>\n",
              "      <td>2017</td>\n",
              "      <td>Pune</td>\n",
              "      <td>2017-04-06</td>\n",
              "      <td>Mumbai Indians</td>\n",
              "      <td>Rising Pune Supergiant</td>\n",
              "      <td>Rising Pune Supergiant</td>\n",
              "      <td>field</td>\n",
              "      <td>normal</td>\n",
              "      <td>0</td>\n",
              "      <td>Rising Pune Supergiant</td>\n",
              "      <td>0</td>\n",
              "      <td>7</td>\n",
              "      <td>SPD Smith</td>\n",
              "      <td>Maharashtra Cricket Association Stadium</td>\n",
              "      <td>A Nand Kishore</td>\n",
              "      <td>S Ravi</td>\n",
              "      <td>NaN</td>\n",
              "    </tr>\n",
              "  </tbody>\n",
              "</table>\n",
              "</div>"
            ],
            "text/plain": [
              "   id  season       city  ...         umpire1   umpire2 umpire3\n",
              "0   1    2017  Hyderabad  ...     AY Dandekar  NJ Llong     NaN\n",
              "1   2    2017       Pune  ...  A Nand Kishore    S Ravi     NaN\n",
              "\n",
              "[2 rows x 18 columns]"
            ]
          },
          "metadata": {
            "tags": []
          },
          "execution_count": 1
        }
      ]
    },
    {
      "cell_type": "code",
      "metadata": {
        "id": "J92oGQEO6khp",
        "outputId": "5819e5b1-ee73-4a02-b7d9-4849952b4e9e",
        "colab": {
          "base_uri": "https://localhost:8080/",
          "height": 194
        }
      },
      "source": [
        "df_deliveries = pd.read_csv(\"deliveries.csv\")\n",
        "df_deliveries.head(2)"
      ],
      "execution_count": 2,
      "outputs": [
        {
          "output_type": "execute_result",
          "data": {
            "text/html": [
              "<div>\n",
              "<style scoped>\n",
              "    .dataframe tbody tr th:only-of-type {\n",
              "        vertical-align: middle;\n",
              "    }\n",
              "\n",
              "    .dataframe tbody tr th {\n",
              "        vertical-align: top;\n",
              "    }\n",
              "\n",
              "    .dataframe thead th {\n",
              "        text-align: right;\n",
              "    }\n",
              "</style>\n",
              "<table border=\"1\" class=\"dataframe\">\n",
              "  <thead>\n",
              "    <tr style=\"text-align: right;\">\n",
              "      <th></th>\n",
              "      <th>match_id</th>\n",
              "      <th>inning</th>\n",
              "      <th>batting_team</th>\n",
              "      <th>bowling_team</th>\n",
              "      <th>over</th>\n",
              "      <th>ball</th>\n",
              "      <th>batsman</th>\n",
              "      <th>non_striker</th>\n",
              "      <th>bowler</th>\n",
              "      <th>is_super_over</th>\n",
              "      <th>wide_runs</th>\n",
              "      <th>bye_runs</th>\n",
              "      <th>legbye_runs</th>\n",
              "      <th>noball_runs</th>\n",
              "      <th>penalty_runs</th>\n",
              "      <th>batsman_runs</th>\n",
              "      <th>extra_runs</th>\n",
              "      <th>total_runs</th>\n",
              "      <th>player_dismissed</th>\n",
              "      <th>dismissal_kind</th>\n",
              "      <th>fielder</th>\n",
              "    </tr>\n",
              "  </thead>\n",
              "  <tbody>\n",
              "    <tr>\n",
              "      <th>0</th>\n",
              "      <td>1</td>\n",
              "      <td>1</td>\n",
              "      <td>Sunrisers Hyderabad</td>\n",
              "      <td>Royal Challengers Bangalore</td>\n",
              "      <td>1</td>\n",
              "      <td>1</td>\n",
              "      <td>DA Warner</td>\n",
              "      <td>S Dhawan</td>\n",
              "      <td>TS Mills</td>\n",
              "      <td>0</td>\n",
              "      <td>0</td>\n",
              "      <td>0</td>\n",
              "      <td>0</td>\n",
              "      <td>0</td>\n",
              "      <td>0</td>\n",
              "      <td>0</td>\n",
              "      <td>0</td>\n",
              "      <td>0</td>\n",
              "      <td>NaN</td>\n",
              "      <td>NaN</td>\n",
              "      <td>NaN</td>\n",
              "    </tr>\n",
              "    <tr>\n",
              "      <th>1</th>\n",
              "      <td>1</td>\n",
              "      <td>1</td>\n",
              "      <td>Sunrisers Hyderabad</td>\n",
              "      <td>Royal Challengers Bangalore</td>\n",
              "      <td>1</td>\n",
              "      <td>2</td>\n",
              "      <td>DA Warner</td>\n",
              "      <td>S Dhawan</td>\n",
              "      <td>TS Mills</td>\n",
              "      <td>0</td>\n",
              "      <td>0</td>\n",
              "      <td>0</td>\n",
              "      <td>0</td>\n",
              "      <td>0</td>\n",
              "      <td>0</td>\n",
              "      <td>0</td>\n",
              "      <td>0</td>\n",
              "      <td>0</td>\n",
              "      <td>NaN</td>\n",
              "      <td>NaN</td>\n",
              "      <td>NaN</td>\n",
              "    </tr>\n",
              "  </tbody>\n",
              "</table>\n",
              "</div>"
            ],
            "text/plain": [
              "   match_id  inning  ... dismissal_kind fielder\n",
              "0         1       1  ...            NaN     NaN\n",
              "1         1       1  ...            NaN     NaN\n",
              "\n",
              "[2 rows x 21 columns]"
            ]
          },
          "metadata": {
            "tags": []
          },
          "execution_count": 2
        }
      ]
    },
    {
      "cell_type": "code",
      "metadata": {
        "id": "P2-LbAwP6ohN",
        "outputId": "adc4897b-f00f-48d1-ac30-1bd2819895b7",
        "colab": {
          "base_uri": "https://localhost:8080/"
        }
      },
      "source": [
        "print(df_matches.shape)\n",
        "print(df_deliveries.shape)"
      ],
      "execution_count": 3,
      "outputs": [
        {
          "output_type": "stream",
          "text": [
            "(756, 18)\n",
            "(179078, 21)\n"
          ],
          "name": "stdout"
        }
      ]
    },
    {
      "cell_type": "markdown",
      "metadata": {
        "id": "Y-fAiqSj6vTk"
      },
      "source": [
        "\n",
        "\n",
        "*   In matches data frame columns like umpire1,umpire2,umpire3 are not useful because these days they are using technology. So we cant decide which umpire is more useful for predicting anything related to match.\n",
        "*   Date is also not useful because we already have season column which is also almost equal to date.\n",
        "\n",
        "\n",
        "*   City and venue also not important features for this year IPL. Because IPL2020 is happening in UAE, only 2014 ipl was happened in UAE that to half season. But i am removing only venue it almost equal to city feature.\n",
        "*   'Result' feature is almost equal to 'winner' feature. So i am dropping result column also.\n",
        "\n",
        "\n",
        "\n"
      ]
    },
    {
      "cell_type": "code",
      "metadata": {
        "id": "NUbOqBU-6sce",
        "outputId": "493da7b8-9e67-4182-ea98-454739348c18",
        "colab": {
          "base_uri": "https://localhost:8080/",
          "height": 194
        }
      },
      "source": [
        "df_matches = df_matches.drop(['venue','date','result','umpire1','umpire2','umpire3'], axis = 1) \n",
        "df_matches.head(2)"
      ],
      "execution_count": 4,
      "outputs": [
        {
          "output_type": "execute_result",
          "data": {
            "text/html": [
              "<div>\n",
              "<style scoped>\n",
              "    .dataframe tbody tr th:only-of-type {\n",
              "        vertical-align: middle;\n",
              "    }\n",
              "\n",
              "    .dataframe tbody tr th {\n",
              "        vertical-align: top;\n",
              "    }\n",
              "\n",
              "    .dataframe thead th {\n",
              "        text-align: right;\n",
              "    }\n",
              "</style>\n",
              "<table border=\"1\" class=\"dataframe\">\n",
              "  <thead>\n",
              "    <tr style=\"text-align: right;\">\n",
              "      <th></th>\n",
              "      <th>id</th>\n",
              "      <th>season</th>\n",
              "      <th>city</th>\n",
              "      <th>team1</th>\n",
              "      <th>team2</th>\n",
              "      <th>toss_winner</th>\n",
              "      <th>toss_decision</th>\n",
              "      <th>dl_applied</th>\n",
              "      <th>winner</th>\n",
              "      <th>win_by_runs</th>\n",
              "      <th>win_by_wickets</th>\n",
              "      <th>player_of_match</th>\n",
              "    </tr>\n",
              "  </thead>\n",
              "  <tbody>\n",
              "    <tr>\n",
              "      <th>0</th>\n",
              "      <td>1</td>\n",
              "      <td>2017</td>\n",
              "      <td>Hyderabad</td>\n",
              "      <td>Sunrisers Hyderabad</td>\n",
              "      <td>Royal Challengers Bangalore</td>\n",
              "      <td>Royal Challengers Bangalore</td>\n",
              "      <td>field</td>\n",
              "      <td>0</td>\n",
              "      <td>Sunrisers Hyderabad</td>\n",
              "      <td>35</td>\n",
              "      <td>0</td>\n",
              "      <td>Yuvraj Singh</td>\n",
              "    </tr>\n",
              "    <tr>\n",
              "      <th>1</th>\n",
              "      <td>2</td>\n",
              "      <td>2017</td>\n",
              "      <td>Pune</td>\n",
              "      <td>Mumbai Indians</td>\n",
              "      <td>Rising Pune Supergiant</td>\n",
              "      <td>Rising Pune Supergiant</td>\n",
              "      <td>field</td>\n",
              "      <td>0</td>\n",
              "      <td>Rising Pune Supergiant</td>\n",
              "      <td>0</td>\n",
              "      <td>7</td>\n",
              "      <td>SPD Smith</td>\n",
              "    </tr>\n",
              "  </tbody>\n",
              "</table>\n",
              "</div>"
            ],
            "text/plain": [
              "   id  season       city  ... win_by_runs win_by_wickets player_of_match\n",
              "0   1    2017  Hyderabad  ...          35              0    Yuvraj Singh\n",
              "1   2    2017       Pune  ...           0              7       SPD Smith\n",
              "\n",
              "[2 rows x 12 columns]"
            ]
          },
          "metadata": {
            "tags": []
          },
          "execution_count": 4
        }
      ]
    },
    {
      "cell_type": "code",
      "metadata": {
        "id": "Zdbuetb56_Zs",
        "outputId": "836552b3-6368-4b10-e4d1-34a3325a3230",
        "colab": {
          "base_uri": "https://localhost:8080/"
        }
      },
      "source": [
        "print(df_matches[\"team1\"].value_counts())"
      ],
      "execution_count": 5,
      "outputs": [
        {
          "output_type": "stream",
          "text": [
            "Mumbai Indians                 101\n",
            "Kings XI Punjab                 91\n",
            "Chennai Super Kings             89\n",
            "Royal Challengers Bangalore     85\n",
            "Kolkata Knight Riders           83\n",
            "Delhi Daredevils                72\n",
            "Rajasthan Royals                67\n",
            "Sunrisers Hyderabad             63\n",
            "Deccan Chargers                 43\n",
            "Pune Warriors                   20\n",
            "Gujarat Lions                   14\n",
            "Rising Pune Supergiant           8\n",
            "Kochi Tuskers Kerala             7\n",
            "Rising Pune Supergiants          7\n",
            "Delhi Capitals                   6\n",
            "Name: team1, dtype: int64\n"
          ],
          "name": "stdout"
        }
      ]
    },
    {
      "cell_type": "code",
      "metadata": {
        "id": "dXs5X_Mn7Dvp"
      },
      "source": [
        "#In 2019 delhi daredevils name changed to delhi capitals. So i am replacing old name with new name for all the rows.\n",
        "df_matches = df_matches.replace(to_replace =\"Delhi Daredevils\", value = \"Delhi Capitals\") \n",
        "\n",
        "df_deliveries = df_deliveries.replace(to_replace = \"Delhi Daredevils\", value = \"Delhi Capitals\")\n",
        "\n",
        "#Rising pune supergiants name also printed in two ways. Lets change it to Rising pune supergiants.\n",
        "df_matches = df_matches.replace(to_replace =\"Rising Pune Supergiant\", value = \"Rising Pune Supergiants\") \n",
        "\n",
        "df_deliveries = df_deliveries.replace(to_replace = \"Rising Pune Supergiant\", value = \"Rising Pune Supergiants\")"
      ],
      "execution_count": 6,
      "outputs": []
    },
    {
      "cell_type": "code",
      "metadata": {
        "id": "yc0VtxHp7HpG",
        "outputId": "b02147c1-069b-4e3c-e61d-a87ec507ac4e",
        "colab": {
          "base_uri": "https://localhost:8080/"
        }
      },
      "source": [
        "#checking null values in matches dataset\n",
        "print(df_matches.isnull().sum())"
      ],
      "execution_count": 7,
      "outputs": [
        {
          "output_type": "stream",
          "text": [
            "id                 0\n",
            "season             0\n",
            "city               7\n",
            "team1              0\n",
            "team2              0\n",
            "toss_winner        0\n",
            "toss_decision      0\n",
            "dl_applied         0\n",
            "winner             4\n",
            "win_by_runs        0\n",
            "win_by_wickets     0\n",
            "player_of_match    4\n",
            "dtype: int64\n"
          ],
          "name": "stdout"
        }
      ]
    },
    {
      "cell_type": "code",
      "metadata": {
        "id": "00Pov_yp7L_h",
        "outputId": "f1c64148-f80d-494c-bf6f-f38e2113c86b",
        "colab": {
          "base_uri": "https://localhost:8080/",
          "height": 177
        }
      },
      "source": [
        "#printing null rows in matches dataset\n",
        "df1_null = df_matches[df_matches.isna().any(axis=1)]\n",
        "df1_null.head(2)"
      ],
      "execution_count": 8,
      "outputs": [
        {
          "output_type": "execute_result",
          "data": {
            "text/html": [
              "<div>\n",
              "<style scoped>\n",
              "    .dataframe tbody tr th:only-of-type {\n",
              "        vertical-align: middle;\n",
              "    }\n",
              "\n",
              "    .dataframe tbody tr th {\n",
              "        vertical-align: top;\n",
              "    }\n",
              "\n",
              "    .dataframe thead th {\n",
              "        text-align: right;\n",
              "    }\n",
              "</style>\n",
              "<table border=\"1\" class=\"dataframe\">\n",
              "  <thead>\n",
              "    <tr style=\"text-align: right;\">\n",
              "      <th></th>\n",
              "      <th>id</th>\n",
              "      <th>season</th>\n",
              "      <th>city</th>\n",
              "      <th>team1</th>\n",
              "      <th>team2</th>\n",
              "      <th>toss_winner</th>\n",
              "      <th>toss_decision</th>\n",
              "      <th>dl_applied</th>\n",
              "      <th>winner</th>\n",
              "      <th>win_by_runs</th>\n",
              "      <th>win_by_wickets</th>\n",
              "      <th>player_of_match</th>\n",
              "    </tr>\n",
              "  </thead>\n",
              "  <tbody>\n",
              "    <tr>\n",
              "      <th>300</th>\n",
              "      <td>301</td>\n",
              "      <td>2011</td>\n",
              "      <td>Delhi</td>\n",
              "      <td>Delhi Capitals</td>\n",
              "      <td>Pune Warriors</td>\n",
              "      <td>Delhi Capitals</td>\n",
              "      <td>bat</td>\n",
              "      <td>0</td>\n",
              "      <td>NaN</td>\n",
              "      <td>0</td>\n",
              "      <td>0</td>\n",
              "      <td>NaN</td>\n",
              "    </tr>\n",
              "    <tr>\n",
              "      <th>461</th>\n",
              "      <td>462</td>\n",
              "      <td>2014</td>\n",
              "      <td>NaN</td>\n",
              "      <td>Mumbai Indians</td>\n",
              "      <td>Royal Challengers Bangalore</td>\n",
              "      <td>Royal Challengers Bangalore</td>\n",
              "      <td>field</td>\n",
              "      <td>0</td>\n",
              "      <td>Royal Challengers Bangalore</td>\n",
              "      <td>0</td>\n",
              "      <td>7</td>\n",
              "      <td>PA Patel</td>\n",
              "    </tr>\n",
              "  </tbody>\n",
              "</table>\n",
              "</div>"
            ],
            "text/plain": [
              "      id  season   city  ... win_by_runs win_by_wickets player_of_match\n",
              "300  301    2011  Delhi  ...           0              0             NaN\n",
              "461  462    2014    NaN  ...           0              7        PA Patel\n",
              "\n",
              "[2 rows x 12 columns]"
            ]
          },
          "metadata": {
            "tags": []
          },
          "execution_count": 8
        }
      ]
    },
    {
      "cell_type": "code",
      "metadata": {
        "id": "Pvn3s14O7Pi9",
        "outputId": "0598a6fe-d39a-4e5c-f7de-e28b4a0e5c54",
        "colab": {
          "base_uri": "https://localhost:8080/"
        }
      },
      "source": [
        "#After seeing above table we can clearly understood that 4 matches are not played beacuse of rain, badlight or pitch condition. \n",
        "#So i am replacing those null values in winner column with no result and palyer of the match column null values with not declared.\n",
        "df_matches[\"winner\"].fillna(\"No result\", inplace = True)\n",
        "df_matches['player_of_match'].fillna(\"Not declared\", inplace = True)\n",
        "#city column also has 7 null values. I checked those matches data in Espn website and they played in Dubai.\n",
        "df_matches[\"city\"].fillna(\"Dubai\", inplace = True)\n",
        "print(df_matches.shape)"
      ],
      "execution_count": 9,
      "outputs": [
        {
          "output_type": "stream",
          "text": [
            "(756, 12)\n"
          ],
          "name": "stdout"
        }
      ]
    },
    {
      "cell_type": "code",
      "metadata": {
        "id": "1gBkV3767TWI",
        "outputId": "8050b940-39e3-445f-f976-eef5edeaadac",
        "colab": {
          "base_uri": "https://localhost:8080/"
        }
      },
      "source": [
        "#checking null values in deliveries dataset\n",
        "print(df_deliveries.isnull().sum())"
      ],
      "execution_count": 10,
      "outputs": [
        {
          "output_type": "stream",
          "text": [
            "match_id                 0\n",
            "inning                   0\n",
            "batting_team             0\n",
            "bowling_team             0\n",
            "over                     0\n",
            "ball                     0\n",
            "batsman                  0\n",
            "non_striker              0\n",
            "bowler                   0\n",
            "is_super_over            0\n",
            "wide_runs                0\n",
            "bye_runs                 0\n",
            "legbye_runs              0\n",
            "noball_runs              0\n",
            "penalty_runs             0\n",
            "batsman_runs             0\n",
            "extra_runs               0\n",
            "total_runs               0\n",
            "player_dismissed    170244\n",
            "dismissal_kind      170244\n",
            "fielder             172630\n",
            "dtype: int64\n"
          ],
          "name": "stdout"
        }
      ]
    },
    {
      "cell_type": "markdown",
      "metadata": {
        "id": "v0ski1_A7ctQ"
      },
      "source": [
        "\n",
        "\n",
        "*   Player_dismissed, dismissal_kind and fielder features are having null values. But if you consider today questions only 'player_dismissed' and 'dismissal_kind' features are useful for today analysis. So i am removing \"fielder\" feature.\n",
        "*   Filling player_dismissed null values with 'No wicket', dismissal_Kind null values with also No Wicket.\n",
        "\n"
      ]
    },
    {
      "cell_type": "code",
      "metadata": {
        "id": "vwZOhw4P7YZC",
        "outputId": "3f6f5321-b780-4298-9565-0447b94fff33",
        "colab": {
          "base_uri": "https://localhost:8080/",
          "height": 194
        }
      },
      "source": [
        "#dropping fielder column\n",
        "df_deliveries = df_deliveries.drop(['fielder'], axis = 1) \n",
        "#filling null values\n",
        "df_deliveries[\"player_dismissed\"].fillna(\"No Wicket\", inplace = True)\n",
        "df_deliveries[\"dismissal_kind\"].fillna(\"No Wicket\", inplace = True)\n",
        "df_deliveries.head(2)"
      ],
      "execution_count": 11,
      "outputs": [
        {
          "output_type": "execute_result",
          "data": {
            "text/html": [
              "<div>\n",
              "<style scoped>\n",
              "    .dataframe tbody tr th:only-of-type {\n",
              "        vertical-align: middle;\n",
              "    }\n",
              "\n",
              "    .dataframe tbody tr th {\n",
              "        vertical-align: top;\n",
              "    }\n",
              "\n",
              "    .dataframe thead th {\n",
              "        text-align: right;\n",
              "    }\n",
              "</style>\n",
              "<table border=\"1\" class=\"dataframe\">\n",
              "  <thead>\n",
              "    <tr style=\"text-align: right;\">\n",
              "      <th></th>\n",
              "      <th>match_id</th>\n",
              "      <th>inning</th>\n",
              "      <th>batting_team</th>\n",
              "      <th>bowling_team</th>\n",
              "      <th>over</th>\n",
              "      <th>ball</th>\n",
              "      <th>batsman</th>\n",
              "      <th>non_striker</th>\n",
              "      <th>bowler</th>\n",
              "      <th>is_super_over</th>\n",
              "      <th>wide_runs</th>\n",
              "      <th>bye_runs</th>\n",
              "      <th>legbye_runs</th>\n",
              "      <th>noball_runs</th>\n",
              "      <th>penalty_runs</th>\n",
              "      <th>batsman_runs</th>\n",
              "      <th>extra_runs</th>\n",
              "      <th>total_runs</th>\n",
              "      <th>player_dismissed</th>\n",
              "      <th>dismissal_kind</th>\n",
              "    </tr>\n",
              "  </thead>\n",
              "  <tbody>\n",
              "    <tr>\n",
              "      <th>0</th>\n",
              "      <td>1</td>\n",
              "      <td>1</td>\n",
              "      <td>Sunrisers Hyderabad</td>\n",
              "      <td>Royal Challengers Bangalore</td>\n",
              "      <td>1</td>\n",
              "      <td>1</td>\n",
              "      <td>DA Warner</td>\n",
              "      <td>S Dhawan</td>\n",
              "      <td>TS Mills</td>\n",
              "      <td>0</td>\n",
              "      <td>0</td>\n",
              "      <td>0</td>\n",
              "      <td>0</td>\n",
              "      <td>0</td>\n",
              "      <td>0</td>\n",
              "      <td>0</td>\n",
              "      <td>0</td>\n",
              "      <td>0</td>\n",
              "      <td>No Wicket</td>\n",
              "      <td>No Wicket</td>\n",
              "    </tr>\n",
              "    <tr>\n",
              "      <th>1</th>\n",
              "      <td>1</td>\n",
              "      <td>1</td>\n",
              "      <td>Sunrisers Hyderabad</td>\n",
              "      <td>Royal Challengers Bangalore</td>\n",
              "      <td>1</td>\n",
              "      <td>2</td>\n",
              "      <td>DA Warner</td>\n",
              "      <td>S Dhawan</td>\n",
              "      <td>TS Mills</td>\n",
              "      <td>0</td>\n",
              "      <td>0</td>\n",
              "      <td>0</td>\n",
              "      <td>0</td>\n",
              "      <td>0</td>\n",
              "      <td>0</td>\n",
              "      <td>0</td>\n",
              "      <td>0</td>\n",
              "      <td>0</td>\n",
              "      <td>No Wicket</td>\n",
              "      <td>No Wicket</td>\n",
              "    </tr>\n",
              "  </tbody>\n",
              "</table>\n",
              "</div>"
            ],
            "text/plain": [
              "   match_id  inning  ... player_dismissed dismissal_kind\n",
              "0         1       1  ...        No Wicket      No Wicket\n",
              "1         1       1  ...        No Wicket      No Wicket\n",
              "\n",
              "[2 rows x 20 columns]"
            ]
          },
          "metadata": {
            "tags": []
          },
          "execution_count": 11
        }
      ]
    },
    {
      "cell_type": "code",
      "metadata": {
        "id": "PD6NDyE77l__",
        "outputId": "ad34efbf-9ff9-46b9-d8c7-29c0a367e713",
        "colab": {
          "base_uri": "https://localhost:8080/",
          "height": 304
        }
      },
      "source": [
        "# list of dtypes to include \n",
        "include =['float', 'int']\n",
        "desc = df_deliveries.describe(include = include)\n",
        "desc"
      ],
      "execution_count": 12,
      "outputs": [
        {
          "output_type": "execute_result",
          "data": {
            "text/html": [
              "<div>\n",
              "<style scoped>\n",
              "    .dataframe tbody tr th:only-of-type {\n",
              "        vertical-align: middle;\n",
              "    }\n",
              "\n",
              "    .dataframe tbody tr th {\n",
              "        vertical-align: top;\n",
              "    }\n",
              "\n",
              "    .dataframe thead th {\n",
              "        text-align: right;\n",
              "    }\n",
              "</style>\n",
              "<table border=\"1\" class=\"dataframe\">\n",
              "  <thead>\n",
              "    <tr style=\"text-align: right;\">\n",
              "      <th></th>\n",
              "      <th>match_id</th>\n",
              "      <th>inning</th>\n",
              "      <th>over</th>\n",
              "      <th>ball</th>\n",
              "      <th>is_super_over</th>\n",
              "      <th>wide_runs</th>\n",
              "      <th>bye_runs</th>\n",
              "      <th>legbye_runs</th>\n",
              "      <th>noball_runs</th>\n",
              "      <th>penalty_runs</th>\n",
              "      <th>batsman_runs</th>\n",
              "      <th>extra_runs</th>\n",
              "      <th>total_runs</th>\n",
              "    </tr>\n",
              "  </thead>\n",
              "  <tbody>\n",
              "    <tr>\n",
              "      <th>count</th>\n",
              "      <td>179078.000000</td>\n",
              "      <td>179078.000000</td>\n",
              "      <td>179078.000000</td>\n",
              "      <td>179078.000000</td>\n",
              "      <td>179078.000000</td>\n",
              "      <td>179078.000000</td>\n",
              "      <td>179078.000000</td>\n",
              "      <td>179078.000000</td>\n",
              "      <td>179078.000000</td>\n",
              "      <td>179078.000000</td>\n",
              "      <td>179078.000000</td>\n",
              "      <td>179078.000000</td>\n",
              "      <td>179078.000000</td>\n",
              "    </tr>\n",
              "    <tr>\n",
              "      <th>mean</th>\n",
              "      <td>1802.252957</td>\n",
              "      <td>1.482952</td>\n",
              "      <td>10.162488</td>\n",
              "      <td>3.615587</td>\n",
              "      <td>0.000452</td>\n",
              "      <td>0.036721</td>\n",
              "      <td>0.004936</td>\n",
              "      <td>0.021136</td>\n",
              "      <td>0.004183</td>\n",
              "      <td>0.000056</td>\n",
              "      <td>1.246864</td>\n",
              "      <td>0.067032</td>\n",
              "      <td>1.313897</td>\n",
              "    </tr>\n",
              "    <tr>\n",
              "      <th>std</th>\n",
              "      <td>3472.322805</td>\n",
              "      <td>0.502074</td>\n",
              "      <td>5.677684</td>\n",
              "      <td>1.806966</td>\n",
              "      <td>0.021263</td>\n",
              "      <td>0.251161</td>\n",
              "      <td>0.116480</td>\n",
              "      <td>0.194908</td>\n",
              "      <td>0.070492</td>\n",
              "      <td>0.016709</td>\n",
              "      <td>1.608270</td>\n",
              "      <td>0.342553</td>\n",
              "      <td>1.605422</td>\n",
              "    </tr>\n",
              "    <tr>\n",
              "      <th>min</th>\n",
              "      <td>1.000000</td>\n",
              "      <td>1.000000</td>\n",
              "      <td>1.000000</td>\n",
              "      <td>1.000000</td>\n",
              "      <td>0.000000</td>\n",
              "      <td>0.000000</td>\n",
              "      <td>0.000000</td>\n",
              "      <td>0.000000</td>\n",
              "      <td>0.000000</td>\n",
              "      <td>0.000000</td>\n",
              "      <td>0.000000</td>\n",
              "      <td>0.000000</td>\n",
              "      <td>0.000000</td>\n",
              "    </tr>\n",
              "    <tr>\n",
              "      <th>25%</th>\n",
              "      <td>190.000000</td>\n",
              "      <td>1.000000</td>\n",
              "      <td>5.000000</td>\n",
              "      <td>2.000000</td>\n",
              "      <td>0.000000</td>\n",
              "      <td>0.000000</td>\n",
              "      <td>0.000000</td>\n",
              "      <td>0.000000</td>\n",
              "      <td>0.000000</td>\n",
              "      <td>0.000000</td>\n",
              "      <td>0.000000</td>\n",
              "      <td>0.000000</td>\n",
              "      <td>0.000000</td>\n",
              "    </tr>\n",
              "    <tr>\n",
              "      <th>50%</th>\n",
              "      <td>379.000000</td>\n",
              "      <td>1.000000</td>\n",
              "      <td>10.000000</td>\n",
              "      <td>4.000000</td>\n",
              "      <td>0.000000</td>\n",
              "      <td>0.000000</td>\n",
              "      <td>0.000000</td>\n",
              "      <td>0.000000</td>\n",
              "      <td>0.000000</td>\n",
              "      <td>0.000000</td>\n",
              "      <td>1.000000</td>\n",
              "      <td>0.000000</td>\n",
              "      <td>1.000000</td>\n",
              "    </tr>\n",
              "    <tr>\n",
              "      <th>75%</th>\n",
              "      <td>567.000000</td>\n",
              "      <td>2.000000</td>\n",
              "      <td>15.000000</td>\n",
              "      <td>5.000000</td>\n",
              "      <td>0.000000</td>\n",
              "      <td>0.000000</td>\n",
              "      <td>0.000000</td>\n",
              "      <td>0.000000</td>\n",
              "      <td>0.000000</td>\n",
              "      <td>0.000000</td>\n",
              "      <td>1.000000</td>\n",
              "      <td>0.000000</td>\n",
              "      <td>1.000000</td>\n",
              "    </tr>\n",
              "    <tr>\n",
              "      <th>max</th>\n",
              "      <td>11415.000000</td>\n",
              "      <td>5.000000</td>\n",
              "      <td>20.000000</td>\n",
              "      <td>9.000000</td>\n",
              "      <td>1.000000</td>\n",
              "      <td>5.000000</td>\n",
              "      <td>4.000000</td>\n",
              "      <td>5.000000</td>\n",
              "      <td>5.000000</td>\n",
              "      <td>5.000000</td>\n",
              "      <td>7.000000</td>\n",
              "      <td>7.000000</td>\n",
              "      <td>10.000000</td>\n",
              "    </tr>\n",
              "  </tbody>\n",
              "</table>\n",
              "</div>"
            ],
            "text/plain": [
              "            match_id         inning  ...     extra_runs     total_runs\n",
              "count  179078.000000  179078.000000  ...  179078.000000  179078.000000\n",
              "mean     1802.252957       1.482952  ...       0.067032       1.313897\n",
              "std      3472.322805       0.502074  ...       0.342553       1.605422\n",
              "min         1.000000       1.000000  ...       0.000000       0.000000\n",
              "25%       190.000000       1.000000  ...       0.000000       0.000000\n",
              "50%       379.000000       1.000000  ...       0.000000       1.000000\n",
              "75%       567.000000       2.000000  ...       0.000000       1.000000\n",
              "max     11415.000000       5.000000  ...       7.000000      10.000000\n",
              "\n",
              "[8 rows x 13 columns]"
            ]
          },
          "metadata": {
            "tags": []
          },
          "execution_count": 12
        }
      ]
    },
    {
      "cell_type": "markdown",
      "metadata": {
        "id": "04zMNGIY7sBR"
      },
      "source": [
        "\n",
        "\n",
        "*   I think there are no outliers present in overs column but in balls column balls range is between(0-9), it happens if bowlers balls extra deliveries.\n",
        "*   In innings column maximum value is 5 so there are some outliers presented. Because there are 2 innings per match, if match tied then they will conduct one super over till last season. So maximum number of innings is 4.\n",
        "\n",
        "\n",
        "*   And in remaining columns max value is in certain limit only. So i can say there are not much outliers.\n",
        "\n",
        "\n",
        "\n",
        "\n"
      ]
    },
    {
      "cell_type": "markdown",
      "metadata": {
        "id": "gJCTNFSvCxG1"
      },
      "source": [
        "### Q1) Who will win today match SRH vs MI?"
      ]
    },
    {
      "cell_type": "code",
      "metadata": {
        "id": "tVhPGJzRCwym",
        "outputId": "81457478-ba8e-4230-95bc-79bdb243f8fe",
        "colab": {
          "base_uri": "https://localhost:8080/",
          "height": 542
        }
      },
      "source": [
        "#First Lets see head-head results\n",
        "df_SRH_MI = df_matches[((df_matches['team1'] == 'Sunrisers Hyderabad') | (df_matches['team1'] == 'Mumbai Indians')) & \n",
        "                        ((df_matches['team2'] == 'Sunrisers Hyderabad') | (df_matches['team2'] == 'Mumbai Indians'))] \n",
        "\n",
        "#plotting SRH and MI wins against each other\n",
        "import plotly.graph_objs as go\n",
        "df_winner = df_SRH_MI[['id','winner']].groupby('winner').size().reset_index()\n",
        "df_winner.columns = ['winner','total_wins']\n",
        "df_winner = df_winner.sort_values('total_wins',ascending=False)[:2]\n",
        "\n",
        "data = go.Bar(x = df_winner['winner'],y = df_winner['total_wins'])\n",
        "layout = go.Layout(title = 'Number of wins by SRH and MI against each other',xaxis = dict(title = 'Team'),yaxis = dict(title = 'No of wins'))\n",
        "fig = go.Figure(data = data,layout = layout)\n",
        "fig.show()"
      ],
      "execution_count": 28,
      "outputs": [
        {
          "output_type": "display_data",
          "data": {
            "text/html": [
              "<html>\n",
              "<head><meta charset=\"utf-8\" /></head>\n",
              "<body>\n",
              "    <div>\n",
              "            <script src=\"https://cdnjs.cloudflare.com/ajax/libs/mathjax/2.7.5/MathJax.js?config=TeX-AMS-MML_SVG\"></script><script type=\"text/javascript\">if (window.MathJax) {MathJax.Hub.Config({SVG: {font: \"STIX-Web\"}});}</script>\n",
              "                <script type=\"text/javascript\">window.PlotlyConfig = {MathJaxConfig: 'local'};</script>\n",
              "        <script src=\"https://cdn.plot.ly/plotly-latest.min.js\"></script>    \n",
              "            <div id=\"8ab7a40c-33a5-45da-b938-5ccb48c5e266\" class=\"plotly-graph-div\" style=\"height:525px; width:100%;\"></div>\n",
              "            <script type=\"text/javascript\">\n",
              "                \n",
              "                    window.PLOTLYENV=window.PLOTLYENV || {};\n",
              "                    \n",
              "                if (document.getElementById(\"8ab7a40c-33a5-45da-b938-5ccb48c5e266\")) {\n",
              "                    Plotly.newPlot(\n",
              "                        '8ab7a40c-33a5-45da-b938-5ccb48c5e266',\n",
              "                        [{\"type\": \"bar\", \"x\": [\"Mumbai Indians\", \"Sunrisers Hyderabad\"], \"y\": [7, 7]}],\n",
              "                        {\"template\": {\"data\": {\"bar\": [{\"error_x\": {\"color\": \"#2a3f5f\"}, \"error_y\": {\"color\": \"#2a3f5f\"}, \"marker\": {\"line\": {\"color\": \"#E5ECF6\", \"width\": 0.5}}, \"type\": \"bar\"}], \"barpolar\": [{\"marker\": {\"line\": {\"color\": \"#E5ECF6\", \"width\": 0.5}}, \"type\": \"barpolar\"}], \"carpet\": [{\"aaxis\": {\"endlinecolor\": \"#2a3f5f\", \"gridcolor\": \"white\", \"linecolor\": \"white\", \"minorgridcolor\": \"white\", \"startlinecolor\": \"#2a3f5f\"}, \"baxis\": {\"endlinecolor\": \"#2a3f5f\", \"gridcolor\": \"white\", \"linecolor\": \"white\", \"minorgridcolor\": \"white\", \"startlinecolor\": \"#2a3f5f\"}, \"type\": \"carpet\"}], \"choropleth\": [{\"colorbar\": {\"outlinewidth\": 0, \"ticks\": \"\"}, \"type\": \"choropleth\"}], \"contour\": [{\"colorbar\": {\"outlinewidth\": 0, \"ticks\": \"\"}, \"colorscale\": [[0.0, \"#0d0887\"], [0.1111111111111111, \"#46039f\"], [0.2222222222222222, \"#7201a8\"], [0.3333333333333333, \"#9c179e\"], [0.4444444444444444, \"#bd3786\"], [0.5555555555555556, \"#d8576b\"], [0.6666666666666666, \"#ed7953\"], [0.7777777777777778, \"#fb9f3a\"], [0.8888888888888888, \"#fdca26\"], [1.0, \"#f0f921\"]], \"type\": \"contour\"}], \"contourcarpet\": [{\"colorbar\": {\"outlinewidth\": 0, \"ticks\": \"\"}, \"type\": \"contourcarpet\"}], \"heatmap\": [{\"colorbar\": {\"outlinewidth\": 0, \"ticks\": \"\"}, \"colorscale\": [[0.0, \"#0d0887\"], [0.1111111111111111, \"#46039f\"], [0.2222222222222222, \"#7201a8\"], [0.3333333333333333, \"#9c179e\"], [0.4444444444444444, \"#bd3786\"], [0.5555555555555556, \"#d8576b\"], [0.6666666666666666, \"#ed7953\"], [0.7777777777777778, \"#fb9f3a\"], [0.8888888888888888, \"#fdca26\"], [1.0, \"#f0f921\"]], \"type\": \"heatmap\"}], \"heatmapgl\": [{\"colorbar\": {\"outlinewidth\": 0, \"ticks\": \"\"}, \"colorscale\": [[0.0, \"#0d0887\"], [0.1111111111111111, \"#46039f\"], [0.2222222222222222, \"#7201a8\"], [0.3333333333333333, \"#9c179e\"], [0.4444444444444444, \"#bd3786\"], [0.5555555555555556, \"#d8576b\"], [0.6666666666666666, \"#ed7953\"], [0.7777777777777778, \"#fb9f3a\"], [0.8888888888888888, \"#fdca26\"], [1.0, \"#f0f921\"]], \"type\": \"heatmapgl\"}], \"histogram\": [{\"marker\": {\"colorbar\": {\"outlinewidth\": 0, \"ticks\": \"\"}}, \"type\": \"histogram\"}], \"histogram2d\": [{\"colorbar\": {\"outlinewidth\": 0, \"ticks\": \"\"}, \"colorscale\": [[0.0, \"#0d0887\"], [0.1111111111111111, \"#46039f\"], [0.2222222222222222, \"#7201a8\"], [0.3333333333333333, \"#9c179e\"], [0.4444444444444444, \"#bd3786\"], [0.5555555555555556, \"#d8576b\"], [0.6666666666666666, \"#ed7953\"], [0.7777777777777778, \"#fb9f3a\"], [0.8888888888888888, \"#fdca26\"], [1.0, \"#f0f921\"]], \"type\": \"histogram2d\"}], \"histogram2dcontour\": [{\"colorbar\": {\"outlinewidth\": 0, \"ticks\": \"\"}, \"colorscale\": [[0.0, \"#0d0887\"], [0.1111111111111111, \"#46039f\"], [0.2222222222222222, \"#7201a8\"], [0.3333333333333333, \"#9c179e\"], [0.4444444444444444, \"#bd3786\"], [0.5555555555555556, \"#d8576b\"], [0.6666666666666666, \"#ed7953\"], [0.7777777777777778, \"#fb9f3a\"], [0.8888888888888888, \"#fdca26\"], [1.0, \"#f0f921\"]], \"type\": \"histogram2dcontour\"}], \"mesh3d\": [{\"colorbar\": {\"outlinewidth\": 0, \"ticks\": \"\"}, \"type\": \"mesh3d\"}], \"parcoords\": [{\"line\": {\"colorbar\": {\"outlinewidth\": 0, \"ticks\": \"\"}}, \"type\": \"parcoords\"}], \"pie\": [{\"automargin\": true, \"type\": \"pie\"}], \"scatter\": [{\"marker\": {\"colorbar\": {\"outlinewidth\": 0, \"ticks\": \"\"}}, \"type\": \"scatter\"}], \"scatter3d\": [{\"line\": {\"colorbar\": {\"outlinewidth\": 0, \"ticks\": \"\"}}, \"marker\": {\"colorbar\": {\"outlinewidth\": 0, \"ticks\": \"\"}}, \"type\": \"scatter3d\"}], \"scattercarpet\": [{\"marker\": {\"colorbar\": {\"outlinewidth\": 0, \"ticks\": \"\"}}, \"type\": \"scattercarpet\"}], \"scattergeo\": [{\"marker\": {\"colorbar\": {\"outlinewidth\": 0, \"ticks\": \"\"}}, \"type\": \"scattergeo\"}], \"scattergl\": [{\"marker\": {\"colorbar\": {\"outlinewidth\": 0, \"ticks\": \"\"}}, \"type\": \"scattergl\"}], \"scattermapbox\": [{\"marker\": {\"colorbar\": {\"outlinewidth\": 0, \"ticks\": \"\"}}, \"type\": \"scattermapbox\"}], \"scatterpolar\": [{\"marker\": {\"colorbar\": {\"outlinewidth\": 0, \"ticks\": \"\"}}, \"type\": \"scatterpolar\"}], \"scatterpolargl\": [{\"marker\": {\"colorbar\": {\"outlinewidth\": 0, \"ticks\": \"\"}}, \"type\": \"scatterpolargl\"}], \"scatterternary\": [{\"marker\": {\"colorbar\": {\"outlinewidth\": 0, \"ticks\": \"\"}}, \"type\": \"scatterternary\"}], \"surface\": [{\"colorbar\": {\"outlinewidth\": 0, \"ticks\": \"\"}, \"colorscale\": [[0.0, \"#0d0887\"], [0.1111111111111111, \"#46039f\"], [0.2222222222222222, \"#7201a8\"], [0.3333333333333333, \"#9c179e\"], [0.4444444444444444, \"#bd3786\"], [0.5555555555555556, \"#d8576b\"], [0.6666666666666666, \"#ed7953\"], [0.7777777777777778, \"#fb9f3a\"], [0.8888888888888888, \"#fdca26\"], [1.0, \"#f0f921\"]], \"type\": \"surface\"}], \"table\": [{\"cells\": {\"fill\": {\"color\": \"#EBF0F8\"}, \"line\": {\"color\": \"white\"}}, \"header\": {\"fill\": {\"color\": \"#C8D4E3\"}, \"line\": {\"color\": \"white\"}}, \"type\": \"table\"}]}, \"layout\": {\"annotationdefaults\": {\"arrowcolor\": \"#2a3f5f\", \"arrowhead\": 0, \"arrowwidth\": 1}, \"coloraxis\": {\"colorbar\": {\"outlinewidth\": 0, \"ticks\": \"\"}}, \"colorscale\": {\"diverging\": [[0, \"#8e0152\"], [0.1, \"#c51b7d\"], [0.2, \"#de77ae\"], [0.3, \"#f1b6da\"], [0.4, \"#fde0ef\"], [0.5, \"#f7f7f7\"], [0.6, \"#e6f5d0\"], [0.7, \"#b8e186\"], [0.8, \"#7fbc41\"], [0.9, \"#4d9221\"], [1, \"#276419\"]], \"sequential\": [[0.0, \"#0d0887\"], [0.1111111111111111, \"#46039f\"], [0.2222222222222222, \"#7201a8\"], [0.3333333333333333, \"#9c179e\"], [0.4444444444444444, \"#bd3786\"], [0.5555555555555556, \"#d8576b\"], [0.6666666666666666, \"#ed7953\"], [0.7777777777777778, \"#fb9f3a\"], [0.8888888888888888, \"#fdca26\"], [1.0, \"#f0f921\"]], \"sequentialminus\": [[0.0, \"#0d0887\"], [0.1111111111111111, \"#46039f\"], [0.2222222222222222, \"#7201a8\"], [0.3333333333333333, \"#9c179e\"], [0.4444444444444444, \"#bd3786\"], [0.5555555555555556, \"#d8576b\"], [0.6666666666666666, \"#ed7953\"], [0.7777777777777778, \"#fb9f3a\"], [0.8888888888888888, \"#fdca26\"], [1.0, \"#f0f921\"]]}, \"colorway\": [\"#636efa\", \"#EF553B\", \"#00cc96\", \"#ab63fa\", \"#FFA15A\", \"#19d3f3\", \"#FF6692\", \"#B6E880\", \"#FF97FF\", \"#FECB52\"], \"font\": {\"color\": \"#2a3f5f\"}, \"geo\": {\"bgcolor\": \"white\", \"lakecolor\": \"white\", \"landcolor\": \"#E5ECF6\", \"showlakes\": true, \"showland\": true, \"subunitcolor\": \"white\"}, \"hoverlabel\": {\"align\": \"left\"}, \"hovermode\": \"closest\", \"mapbox\": {\"style\": \"light\"}, \"paper_bgcolor\": \"white\", \"plot_bgcolor\": \"#E5ECF6\", \"polar\": {\"angularaxis\": {\"gridcolor\": \"white\", \"linecolor\": \"white\", \"ticks\": \"\"}, \"bgcolor\": \"#E5ECF6\", \"radialaxis\": {\"gridcolor\": \"white\", \"linecolor\": \"white\", \"ticks\": \"\"}}, \"scene\": {\"xaxis\": {\"backgroundcolor\": \"#E5ECF6\", \"gridcolor\": \"white\", \"gridwidth\": 2, \"linecolor\": \"white\", \"showbackground\": true, \"ticks\": \"\", \"zerolinecolor\": \"white\"}, \"yaxis\": {\"backgroundcolor\": \"#E5ECF6\", \"gridcolor\": \"white\", \"gridwidth\": 2, \"linecolor\": \"white\", \"showbackground\": true, \"ticks\": \"\", \"zerolinecolor\": \"white\"}, \"zaxis\": {\"backgroundcolor\": \"#E5ECF6\", \"gridcolor\": \"white\", \"gridwidth\": 2, \"linecolor\": \"white\", \"showbackground\": true, \"ticks\": \"\", \"zerolinecolor\": \"white\"}}, \"shapedefaults\": {\"line\": {\"color\": \"#2a3f5f\"}}, \"ternary\": {\"aaxis\": {\"gridcolor\": \"white\", \"linecolor\": \"white\", \"ticks\": \"\"}, \"baxis\": {\"gridcolor\": \"white\", \"linecolor\": \"white\", \"ticks\": \"\"}, \"bgcolor\": \"#E5ECF6\", \"caxis\": {\"gridcolor\": \"white\", \"linecolor\": \"white\", \"ticks\": \"\"}}, \"title\": {\"x\": 0.05}, \"xaxis\": {\"automargin\": true, \"gridcolor\": \"white\", \"linecolor\": \"white\", \"ticks\": \"\", \"title\": {\"standoff\": 15}, \"zerolinecolor\": \"white\", \"zerolinewidth\": 2}, \"yaxis\": {\"automargin\": true, \"gridcolor\": \"white\", \"linecolor\": \"white\", \"ticks\": \"\", \"title\": {\"standoff\": 15}, \"zerolinecolor\": \"white\", \"zerolinewidth\": 2}}}, \"title\": {\"text\": \"Number of wins by SRH and MI against each other\"}, \"xaxis\": {\"title\": {\"text\": \"Team\"}}, \"yaxis\": {\"title\": {\"text\": \"No of wins\"}}},\n",
              "                        {\"responsive\": true}\n",
              "                    ).then(function(){\n",
              "                            \n",
              "var gd = document.getElementById('8ab7a40c-33a5-45da-b938-5ccb48c5e266');\n",
              "var x = new MutationObserver(function (mutations, observer) {{\n",
              "        var display = window.getComputedStyle(gd).display;\n",
              "        if (!display || display === 'none') {{\n",
              "            console.log([gd, 'removed!']);\n",
              "            Plotly.purge(gd);\n",
              "            observer.disconnect();\n",
              "        }}\n",
              "}});\n",
              "\n",
              "// Listen for the removal of the full notebook cells\n",
              "var notebookContainer = gd.closest('#notebook-container');\n",
              "if (notebookContainer) {{\n",
              "    x.observe(notebookContainer, {childList: true});\n",
              "}}\n",
              "\n",
              "// Listen for the clearing of the current output cell\n",
              "var outputEl = gd.closest('.output');\n",
              "if (outputEl) {{\n",
              "    x.observe(outputEl, {childList: true});\n",
              "}}\n",
              "\n",
              "                        })\n",
              "                };\n",
              "                \n",
              "            </script>\n",
              "        </div>\n",
              "</body>\n",
              "</html>"
            ]
          },
          "metadata": {
            "tags": []
          }
        }
      ]
    },
    {
      "cell_type": "code",
      "metadata": {
        "id": "txzJnehDDUhM",
        "outputId": "2d2be89b-58d8-48ae-b68b-6e3e9ea69f10",
        "colab": {
          "base_uri": "https://localhost:8080/",
          "height": 391
        }
      },
      "source": [
        "#Lets look at how each tean won the matches i.e weather batting first or bowling first\n",
        "import matplotlib.pyplot as plt\n",
        "df_SRH_MI = df_SRH_MI[['win_by_runs','win_by_wickets','winner']]\n",
        "df_SRH_MI.plot( \"winner\", kind=\"bar\")"
      ],
      "execution_count": 29,
      "outputs": [
        {
          "output_type": "execute_result",
          "data": {
            "text/plain": [
              "<matplotlib.axes._subplots.AxesSubplot at 0x7f7d25cb8160>"
            ]
          },
          "metadata": {
            "tags": []
          },
          "execution_count": 29
        },
        {
          "output_type": "display_data",
          "data": {
            "image/png": "[encoded data removed]",
            "text/plain": [
              "<Figure size 432x288 with 1 Axes>"
            ]
          },
          "metadata": {
            "tags": [],
            "needs_background": "light"
          }
        }
      ]
    },
    {
      "cell_type": "code",
      "metadata": {
        "id": "qBIAUGyVDqwC",
        "outputId": "5619d62b-a788-4e23-ae01-2e66f7f721ba",
        "colab": {
          "base_uri": "https://localhost:8080/"
        }
      },
      "source": [
        "#Lets look at how many player of the match awards won by current MI and SRH players.\n",
        "#Note: I am taking top 7 palyers from both teams not taking rohit because he is not played in last match. I think this match also he will take rest.\n",
        "#Sometimes team win dependent on Number of match winners in your team. i.e why i am using this approach.\n",
        "#Note: I am taking these player names because these players are played atleast one match for their respective sides in this season till now.\n",
        "df_man_of_match_MI = df_matches[(df_matches['player_of_match'] == 'AS Yadav') | (df_matches['player_of_match'] == 'Q de Kock') |\n",
        "                                (df_matches['player_of_match'] == 'HH Pandya') | (df_matches['player_of_match'] == 'KA Pollard\t') |\n",
        "                                (df_matches['player_of_match'] == 'JJ Bumrah') | (df_matches['player_of_match'] == 'TA Boult') |\n",
        "                                (df_matches['player_of_match'] == 'RD Chahar') ]\n",
        "\n",
        "\n",
        "print(\"Total number of man of matches won by present Mumbai players is\", df_man_of_match_MI.shape[0],\"\\n\") \n",
        "\n",
        "df_man_of_match_SRH = df_matches[(df_matches['player_of_match'] == 'DA Warner') | (df_matches['player_of_match'] == 'WP Saha') |\n",
        "                                (df_matches['player_of_match'] == 'MK Pandey') | (df_matches['player_of_match'] == 'Rashid Khan') |\n",
        "                                (df_matches['player_of_match'] == 'S Sharma') | (df_matches['player_of_match'] == 'S Nadeem') |\n",
        "                                (df_matches['player_of_match'] == 'JO Holder') ]\n",
        "\n",
        "print(\"Total number of man of matches won by SRH players is\", df_man_of_match_SRH.shape[0])"
      ],
      "execution_count": 30,
      "outputs": [
        {
          "output_type": "stream",
          "text": [
            "Total number of man of matches won by present Mumbai players is 15 \n",
            "\n",
            "Total number of man of matches won by SRH players is 32\n"
          ],
          "name": "stdout"
        }
      ]
    },
    {
      "cell_type": "markdown",
      "metadata": {
        "id": "dhLl6bcIE-uo"
      },
      "source": [
        "**Conclusion :-**\n",
        "\n",
        "\n",
        "\n",
        "*   Mumbai and SRH played 14 matches out of 14 both of them won 7 each. SRH won 7 matches straight forward and MI won 1 match out of 7 matches they won through super over.\n",
        "*   But SRH has more match winners or experienced players in their team than MI especially rohit also not playing for MI any match this year IPL. So i am predicting SRH will win today match.\n",
        "\n"
      ]
    },
    {
      "cell_type": "markdown",
      "metadata": {
        "id": "2lxpPYtt75VO"
      },
      "source": [
        "### Q2) Which batsman will have highest Stamina Score in today match?"
      ]
    },
    {
      "cell_type": "markdown",
      "metadata": {
        "id": "FMXDxn2E_Kbd"
      },
      "source": [
        "Stamina Score = ((no.of runs 1s2s3s/no.of boundary runs) + (balls played/balls they were in the crease))/Total runs scored by the batsman"
      ]
    },
    {
      "cell_type": "code",
      "metadata": {
        "id": "AYlocvGm_1YP"
      },
      "source": [
        "df_batsman = df_deliveries[(df_deliveries['batsman'] == 'Q de Kock') | (df_deliveries['batsman'] == 'AS Yadav') |\n",
        "                           (df_deliveries['batsman'] == 'KA Pollard') | (df_deliveries['batsman'] == 'Ishan Kishan') |\n",
        "                           (df_deliveries['batsman'] == 'HH Pandya') | (df_deliveries['batsman'] == 'KH Pandya') |\n",
        "                           (df_deliveries['batsman'] == 'DA Warner') | (df_deliveries['batsman'] == 'WP Saha') |\n",
        "                           (df_deliveries['batsman'] == 'KS Williamson') | (df_deliveries['batsman'] == 'MK Pandey')]\n",
        "\n",
        "#Calculating number runs scored by above batsman in each match they played\n",
        "df_runs_scored = df_batsman.groupby(['match_id','batsman'],as_index=False)['batsman_runs'].sum()  \n",
        "df_runs_scored.rename(columns={'batsman_runs':'total_runs_scored'},inplace=True)\n",
        "\n",
        "#Calculating no.of runs scored through 1s,2s,3s \n",
        "df_1s2s3s = df_batsman[(df_batsman['batsman_runs'] >=1) & (df_batsman['batsman_runs'] <=3)]\n",
        "df_1s2s3s = df_1s2s3s.groupby(['match_id','batsman'],as_index=False)['batsman_runs'].sum()\n",
        "df_1s2s3s.rename(columns={'batsman_runs':'1s2s3s_runs'},inplace=True)\n",
        "\n",
        "#Calculating no.of boundary runs\n",
        "df_boundaries = df_batsman[(df_batsman['batsman_runs'] == 4) | (df_batsman['batsman_runs'] == 6)]\n",
        "df_boundaries = df_boundaries.groupby(['match_id','batsman'],as_index=False)['batsman_runs'].sum()\n",
        "df_boundaries.rename(columns={'batsman_runs':'bounadry_runs'},inplace=True)\n",
        "\n",
        "#Calculating no.of balls faced by batsman, wides are not comes under batsman balls faced list.\n",
        "df_balls_played = df_batsman[(df_batsman['wide_runs'] == 0)]\n",
        "df_balls_played = df_balls_played.groupby(['match_id','batsman'],as_index=False)['ball'].count()\n",
        "df_balls_played.rename(columns={'ball':'balls_faced'},inplace=True)\n",
        "\n",
        "#Calculating balls count when batsman was non-striker. \n",
        "#So after that i can sum striker balls and non-striker balls to get no.of balls batsman in the crease\n",
        "df_non_striker = df_deliveries[(df_deliveries['non_striker'] == 'Q de Kock') | (df_deliveries['non_striker'] == 'AS Yadav') |\n",
        "                               (df_deliveries['non_striker'] == 'KA Pollard') | (df_deliveries['non_striker'] == 'Ishan Kishan') |\n",
        "                               (df_deliveries['non_striker'] == 'HH Pandya') | (df_deliveries['non_striker'] == 'KH Pandya') |\n",
        "                               (df_deliveries['non_striker'] == 'DA Warner') | (df_deliveries['non_striker'] == 'WP Saha') |\n",
        "                               (df_deliveries['non_striker'] == 'KS Williamson') | (df_deliveries['non_striker'] == 'MK Pandey')]\n",
        "\n",
        "df_non_striker = df_non_striker.groupby(['match_id','non_striker'],as_index=False)['ball'].count()\n",
        "df_crease = pd.merge(df_balls_played, df_non_striker, how= 'outer', left_on=['match_id','batsman'],right_on=['match_id','non_striker'])\n",
        "df_crease.fillna(0, inplace=True)\n",
        "\n",
        "df_crease['balls_in_crease'] = df_crease['balls_faced'] + df_crease['ball']\n",
        "df_crease = df_crease[['match_id','batsman','non_striker','balls_in_crease']]\n"
      ],
      "execution_count": 13,
      "outputs": []
    },
    {
      "cell_type": "code",
      "metadata": {
        "id": "dwpZcirnSRv2",
        "outputId": "40abf06f-b0de-48dd-f049-5f6ab7d23f12",
        "colab": {
          "base_uri": "https://localhost:8080/",
          "height": 279
        }
      },
      "source": [
        "from functools import reduce\n",
        "#Now merging all above dataframes\n",
        "df_all = [df_runs_scored,df_1s2s3s,df_boundaries,df_balls_played,df_crease]\n",
        "df_stamina_score = reduce(lambda  left,right: pd.merge(left,right,on=['match_id','batsman'],how='outer'), df_all)\n",
        "df_stamina_score.fillna(0,inplace=True)\n",
        "\n",
        "#In question we want to calculate stamina score for batsman who scored more than 15 runs\n",
        "df_stamina_score = df_stamina_score[df_stamina_score['total_runs_scored'] > 15]\n",
        "\n",
        "#Now calculating stamina score of each batsman in each match\n",
        "#One thing we can observe is that for some batsman we are getting infinite stamina score when batsman not scored any boundary runs or total runs = 0.\n",
        "#i.e i am adding small noise(+1) to boundary runs and total runs\n",
        "df_stamina_score['stamina_score'] = ((df_stamina_score['1s2s3s_runs']/(df_stamina_score['bounadry_runs']+1)) + (df_stamina_score['balls_faced']/df_stamina_score['balls_in_crease']))/(df_stamina_score['total_runs_scored']+1)\n",
        "df_stamina_score.head()\n"
      ],
      "execution_count": 14,
      "outputs": [
        {
          "output_type": "execute_result",
          "data": {
            "text/html": [
              "<div>\n",
              "<style scoped>\n",
              "    .dataframe tbody tr th:only-of-type {\n",
              "        vertical-align: middle;\n",
              "    }\n",
              "\n",
              "    .dataframe tbody tr th {\n",
              "        vertical-align: top;\n",
              "    }\n",
              "\n",
              "    .dataframe thead th {\n",
              "        text-align: right;\n",
              "    }\n",
              "</style>\n",
              "<table border=\"1\" class=\"dataframe\">\n",
              "  <thead>\n",
              "    <tr style=\"text-align: right;\">\n",
              "      <th></th>\n",
              "      <th>match_id</th>\n",
              "      <th>batsman</th>\n",
              "      <th>total_runs_scored</th>\n",
              "      <th>1s2s3s_runs</th>\n",
              "      <th>bounadry_runs</th>\n",
              "      <th>balls_faced</th>\n",
              "      <th>non_striker</th>\n",
              "      <th>balls_in_crease</th>\n",
              "      <th>stamina_score</th>\n",
              "    </tr>\n",
              "  </thead>\n",
              "  <tbody>\n",
              "    <tr>\n",
              "      <th>1</th>\n",
              "      <td>2</td>\n",
              "      <td>HH Pandya</td>\n",
              "      <td>35.0</td>\n",
              "      <td>7.0</td>\n",
              "      <td>28.0</td>\n",
              "      <td>15.0</td>\n",
              "      <td>HH Pandya</td>\n",
              "      <td>27.0</td>\n",
              "      <td>0.022137</td>\n",
              "    </tr>\n",
              "    <tr>\n",
              "      <th>2</th>\n",
              "      <td>2</td>\n",
              "      <td>KA Pollard</td>\n",
              "      <td>27.0</td>\n",
              "      <td>9.0</td>\n",
              "      <td>18.0</td>\n",
              "      <td>17.0</td>\n",
              "      <td>KA Pollard</td>\n",
              "      <td>31.0</td>\n",
              "      <td>0.036503</td>\n",
              "    </tr>\n",
              "    <tr>\n",
              "      <th>5</th>\n",
              "      <td>6</td>\n",
              "      <td>DA Warner</td>\n",
              "      <td>76.0</td>\n",
              "      <td>28.0</td>\n",
              "      <td>48.0</td>\n",
              "      <td>45.0</td>\n",
              "      <td>DA Warner</td>\n",
              "      <td>94.0</td>\n",
              "      <td>0.013638</td>\n",
              "    </tr>\n",
              "    <tr>\n",
              "      <th>6</th>\n",
              "      <td>7</td>\n",
              "      <td>HH Pandya</td>\n",
              "      <td>29.0</td>\n",
              "      <td>5.0</td>\n",
              "      <td>24.0</td>\n",
              "      <td>11.0</td>\n",
              "      <td>HH Pandya</td>\n",
              "      <td>23.0</td>\n",
              "      <td>0.022609</td>\n",
              "    </tr>\n",
              "    <tr>\n",
              "      <th>7</th>\n",
              "      <td>7</td>\n",
              "      <td>KA Pollard</td>\n",
              "      <td>17.0</td>\n",
              "      <td>7.0</td>\n",
              "      <td>10.0</td>\n",
              "      <td>17.0</td>\n",
              "      <td>KA Pollard</td>\n",
              "      <td>24.0</td>\n",
              "      <td>0.074705</td>\n",
              "    </tr>\n",
              "  </tbody>\n",
              "</table>\n",
              "</div>"
            ],
            "text/plain": [
              "   match_id     batsman  ...  balls_in_crease  stamina_score\n",
              "1         2   HH Pandya  ...             27.0       0.022137\n",
              "2         2  KA Pollard  ...             31.0       0.036503\n",
              "5         6   DA Warner  ...             94.0       0.013638\n",
              "6         7   HH Pandya  ...             23.0       0.022609\n",
              "7         7  KA Pollard  ...             24.0       0.074705\n",
              "\n",
              "[5 rows x 9 columns]"
            ]
          },
          "metadata": {
            "tags": []
          },
          "execution_count": 14
        }
      ]
    },
    {
      "cell_type": "code",
      "metadata": {
        "id": "ub-juXNziPr3",
        "outputId": "3b13c95d-38ff-4bdc-8c4d-3778562aa477",
        "colab": {
          "base_uri": "https://localhost:8080/",
          "height": 343
        }
      },
      "source": [
        "#Now i am taking central tendency of each batsman\n",
        "df_stamina_score = df_stamina_score.groupby('batsman',as_index=False)['stamina_score'].median() \n",
        "\n",
        "#Now normalising stamina scores of each batsman\n",
        "df_stamina_score['normalized_SS'] = (df_stamina_score['stamina_score'] - df_stamina_score['stamina_score'].min())/(df_stamina_score['stamina_score'].max()-df_stamina_score['stamina_score'].min()) \n",
        "df_stamina_score.head(10)"
      ],
      "execution_count": 15,
      "outputs": [
        {
          "output_type": "execute_result",
          "data": {
            "text/html": [
              "<div>\n",
              "<style scoped>\n",
              "    .dataframe tbody tr th:only-of-type {\n",
              "        vertical-align: middle;\n",
              "    }\n",
              "\n",
              "    .dataframe tbody tr th {\n",
              "        vertical-align: top;\n",
              "    }\n",
              "\n",
              "    .dataframe thead th {\n",
              "        text-align: right;\n",
              "    }\n",
              "</style>\n",
              "<table border=\"1\" class=\"dataframe\">\n",
              "  <thead>\n",
              "    <tr style=\"text-align: right;\">\n",
              "      <th></th>\n",
              "      <th>batsman</th>\n",
              "      <th>stamina_score</th>\n",
              "      <th>normalized_SS</th>\n",
              "    </tr>\n",
              "  </thead>\n",
              "  <tbody>\n",
              "    <tr>\n",
              "      <th>0</th>\n",
              "      <td>AS Yadav</td>\n",
              "      <td>0.026591</td>\n",
              "      <td>0.255617</td>\n",
              "    </tr>\n",
              "    <tr>\n",
              "      <th>1</th>\n",
              "      <td>DA Warner</td>\n",
              "      <td>0.021519</td>\n",
              "      <td>0.000000</td>\n",
              "    </tr>\n",
              "    <tr>\n",
              "      <th>2</th>\n",
              "      <td>HH Pandya</td>\n",
              "      <td>0.027651</td>\n",
              "      <td>0.309085</td>\n",
              "    </tr>\n",
              "    <tr>\n",
              "      <th>3</th>\n",
              "      <td>Ishan Kishan</td>\n",
              "      <td>0.029744</td>\n",
              "      <td>0.414552</td>\n",
              "    </tr>\n",
              "    <tr>\n",
              "      <th>4</th>\n",
              "      <td>KA Pollard</td>\n",
              "      <td>0.036185</td>\n",
              "      <td>0.739227</td>\n",
              "    </tr>\n",
              "    <tr>\n",
              "      <th>5</th>\n",
              "      <td>KH Pandya</td>\n",
              "      <td>0.037926</td>\n",
              "      <td>0.826965</td>\n",
              "    </tr>\n",
              "    <tr>\n",
              "      <th>6</th>\n",
              "      <td>KS Williamson</td>\n",
              "      <td>0.032461</td>\n",
              "      <td>0.551502</td>\n",
              "    </tr>\n",
              "    <tr>\n",
              "      <th>7</th>\n",
              "      <td>MK Pandey</td>\n",
              "      <td>0.041359</td>\n",
              "      <td>1.000000</td>\n",
              "    </tr>\n",
              "    <tr>\n",
              "      <th>8</th>\n",
              "      <td>Q de Kock</td>\n",
              "      <td>0.025600</td>\n",
              "      <td>0.205681</td>\n",
              "    </tr>\n",
              "    <tr>\n",
              "      <th>9</th>\n",
              "      <td>WP Saha</td>\n",
              "      <td>0.038748</td>\n",
              "      <td>0.868394</td>\n",
              "    </tr>\n",
              "  </tbody>\n",
              "</table>\n",
              "</div>"
            ],
            "text/plain": [
              "         batsman  stamina_score  normalized_SS\n",
              "0       AS Yadav       0.026591       0.255617\n",
              "1      DA Warner       0.021519       0.000000\n",
              "2      HH Pandya       0.027651       0.309085\n",
              "3   Ishan Kishan       0.029744       0.414552\n",
              "4     KA Pollard       0.036185       0.739227\n",
              "5      KH Pandya       0.037926       0.826965\n",
              "6  KS Williamson       0.032461       0.551502\n",
              "7      MK Pandey       0.041359       1.000000\n",
              "8      Q de Kock       0.025600       0.205681\n",
              "9        WP Saha       0.038748       0.868394"
            ]
          },
          "metadata": {
            "tags": []
          },
          "execution_count": 15
        }
      ]
    },
    {
      "cell_type": "markdown",
      "metadata": {
        "id": "3sAwXImbkZ9j"
      },
      "source": [
        "**Conclusion :-**\n",
        "\n",
        "\n",
        "\n",
        "*   From above stamina_score column i can say that Manish pandey has highest stamina score followed by Wridhiman Saha and Krunal pandya.\n",
        "*   I understood why wridhiman saha has highest stamina score because he used to score lot of runs through 1s,2s and 3s and manish also very good runner between wickets. \n",
        "\n",
        "So i am predicting either saha,manish or pandya has highest stsmina score in today match. Saha and pandya are in same option, so i am choosing that option.\n",
        "\n"
      ]
    },
    {
      "cell_type": "markdown",
      "metadata": {
        "id": "XzN_bS6tlh4E"
      },
      "source": [
        "### Q3) Which batsman will have highest smash rate in today match?"
      ]
    },
    {
      "cell_type": "markdown",
      "metadata": {
        "id": "sfB8VCACqrcQ"
      },
      "source": [
        "Smash rate = (no.of boundaries scored by batsman / no.of balls faced by batsman)*100"
      ]
    },
    {
      "cell_type": "code",
      "metadata": {
        "id": "rgBB0y04q4JY",
        "outputId": "b3261639-0388-476d-b98a-f590811084e2",
        "colab": {
          "base_uri": "https://localhost:8080/",
          "height": 195
        }
      },
      "source": [
        "#Taking same batsman which are taken in Q2.\n",
        "#First claculating number of boundaries they scored in each match\n",
        "df_no_of_boundaries = df_batsman[(df_batsman['batsman_runs'] == 4) | (df_batsman['batsman_runs'] == 6)]\n",
        "df_no_of_boundaries = df_no_of_boundaries.groupby(['match_id','batsman'],as_index=False)['batsman_runs'].count()\n",
        "df_no_of_boundaries.rename(columns={'batsman_runs':'no_of_boundaries'},inplace=True)\n",
        "\n",
        "#We already calculated number of balls faced by batsman in Q2.\n",
        "#Now merging balls, runs dataframes\n",
        "df_smash_rate = pd.merge(df_balls_played, df_no_of_boundaries, how= 'left', left_on=['match_id','batsman'],right_on=['match_id','batsman'])\n",
        "df_smash_rate['no_of_boundaries'].fillna(0, inplace=True) \n",
        "\n",
        "df_smash_rate['smash_rate'] = (df_smash_rate['no_of_boundaries'] / df_smash_rate['balls_faced'])*100\n",
        "df_smash_rate.head()"
      ],
      "execution_count": 16,
      "outputs": [
        {
          "output_type": "execute_result",
          "data": {
            "text/html": [
              "<div>\n",
              "<style scoped>\n",
              "    .dataframe tbody tr th:only-of-type {\n",
              "        vertical-align: middle;\n",
              "    }\n",
              "\n",
              "    .dataframe tbody tr th {\n",
              "        vertical-align: top;\n",
              "    }\n",
              "\n",
              "    .dataframe thead th {\n",
              "        text-align: right;\n",
              "    }\n",
              "</style>\n",
              "<table border=\"1\" class=\"dataframe\">\n",
              "  <thead>\n",
              "    <tr style=\"text-align: right;\">\n",
              "      <th></th>\n",
              "      <th>match_id</th>\n",
              "      <th>batsman</th>\n",
              "      <th>balls_faced</th>\n",
              "      <th>no_of_boundaries</th>\n",
              "      <th>smash_rate</th>\n",
              "    </tr>\n",
              "  </thead>\n",
              "  <tbody>\n",
              "    <tr>\n",
              "      <th>0</th>\n",
              "      <td>1</td>\n",
              "      <td>DA Warner</td>\n",
              "      <td>8</td>\n",
              "      <td>3.0</td>\n",
              "      <td>37.500000</td>\n",
              "    </tr>\n",
              "    <tr>\n",
              "      <th>1</th>\n",
              "      <td>2</td>\n",
              "      <td>HH Pandya</td>\n",
              "      <td>15</td>\n",
              "      <td>5.0</td>\n",
              "      <td>33.333333</td>\n",
              "    </tr>\n",
              "    <tr>\n",
              "      <th>2</th>\n",
              "      <td>2</td>\n",
              "      <td>KA Pollard</td>\n",
              "      <td>17</td>\n",
              "      <td>4.0</td>\n",
              "      <td>23.529412</td>\n",
              "    </tr>\n",
              "    <tr>\n",
              "      <th>3</th>\n",
              "      <td>2</td>\n",
              "      <td>KH Pandya</td>\n",
              "      <td>5</td>\n",
              "      <td>0.0</td>\n",
              "      <td>0.000000</td>\n",
              "    </tr>\n",
              "    <tr>\n",
              "      <th>4</th>\n",
              "      <td>4</td>\n",
              "      <td>WP Saha</td>\n",
              "      <td>9</td>\n",
              "      <td>3.0</td>\n",
              "      <td>33.333333</td>\n",
              "    </tr>\n",
              "  </tbody>\n",
              "</table>\n",
              "</div>"
            ],
            "text/plain": [
              "   match_id     batsman  balls_faced  no_of_boundaries  smash_rate\n",
              "0         1   DA Warner            8               3.0   37.500000\n",
              "1         2   HH Pandya           15               5.0   33.333333\n",
              "2         2  KA Pollard           17               4.0   23.529412\n",
              "3         2   KH Pandya            5               0.0    0.000000\n",
              "4         4     WP Saha            9               3.0   33.333333"
            ]
          },
          "metadata": {
            "tags": []
          },
          "execution_count": 16
        }
      ]
    },
    {
      "cell_type": "code",
      "metadata": {
        "id": "ddwmo-i6wGf3",
        "outputId": "1a15a3f6-f7b6-45be-8199-c1afec0399ca",
        "colab": {
          "base_uri": "https://localhost:8080/",
          "height": 312
        }
      },
      "source": [
        "import seaborn as sns\n",
        "import matplotlib.pyplot as plt\n",
        "\n",
        "# List of 4 SRH batsman who are playing today\n",
        "SRH_batsman = ['DA Warner', 'WP Saha','KS Williamson', 'MK Pandey']\n",
        "\n",
        "# Iterate through the 4 SRH batsman\n",
        "for batsman in SRH_batsman:\n",
        "    # Subset to the batsman\n",
        "    subset = df_smash_rate[df_smash_rate['batsman'] == batsman]\n",
        "    \n",
        "    # Draw the density plot\n",
        "    sns.distplot(subset['smash_rate'], hist = False, kde = True,\n",
        "                 kde_kws = {'linewidth': 3},\n",
        "                 label = batsman)\n",
        "    \n",
        "# Plot formatting\n",
        "plt.legend(prop={'size': 10}, title = 'batsman')\n",
        "plt.title('Density Plot with SRH batsman')\n",
        "plt.xlabel('Smash Rate')\n",
        "plt.ylabel('Density')"
      ],
      "execution_count": 17,
      "outputs": [
        {
          "output_type": "execute_result",
          "data": {
            "text/plain": [
              "Text(0, 0.5, 'Density')"
            ]
          },
          "metadata": {
            "tags": []
          },
          "execution_count": 17
        },
        {
          "output_type": "display_data",
          "data": {
            "image/png": "[encoded data removed]",
            "text/plain": [
              "<Figure size 432x288 with 1 Axes>"
            ]
          },
          "metadata": {
            "tags": [],
            "needs_background": "light"
          }
        }
      ]
    },
    {
      "cell_type": "code",
      "metadata": {
        "id": "9bh4As_wzBGn",
        "outputId": "56205db0-eb1d-421c-a78e-2f776c1d09c7",
        "colab": {
          "base_uri": "https://localhost:8080/",
          "height": 312
        }
      },
      "source": [
        "# List of 6 MI batsman who are playing today\n",
        "MI_batsman = ['Q de Kock', 'AS Yadav','KA Pollard', 'HH Pandya','Ishan Kishan','KH Pandya']\n",
        "\n",
        "# Iterate through the 6 MI batsman\n",
        "for batsman in MI_batsman:\n",
        "    # Subset to the batsman\n",
        "    subset = df_smash_rate[df_smash_rate['batsman'] == batsman]\n",
        "    \n",
        "    # Draw the density plot\n",
        "    sns.distplot(subset['smash_rate'], hist = False, kde = True,\n",
        "                 kde_kws = {'linewidth': 3},\n",
        "                 label = batsman)\n",
        "    \n",
        "# Plot formatting\n",
        "plt.legend(prop={'size': 10}, title = 'batsman')\n",
        "plt.title('Density Plot with MI batsman')\n",
        "plt.xlabel('Smash Rate')\n",
        "plt.ylabel('Density')"
      ],
      "execution_count": 18,
      "outputs": [
        {
          "output_type": "execute_result",
          "data": {
            "text/plain": [
              "Text(0, 0.5, 'Density')"
            ]
          },
          "metadata": {
            "tags": []
          },
          "execution_count": 18
        },
        {
          "output_type": "display_data",
          "data": {
            "image/png": "[encoded data removed]",
            "text/plain": [
              "<Figure size 432x288 with 1 Axes>"
            ]
          },
          "metadata": {
            "tags": [],
            "needs_background": "light"
          }
        }
      ]
    },
    {
      "cell_type": "markdown",
      "metadata": {
        "id": "vTZ8N3OP0ATs"
      },
      "source": [
        "**Conclusion :-**\n",
        "\n",
        "\n",
        "\n",
        "*   From SRH density plot i can say Warner and williomson has smash rate more than 20 will have highest density.\n",
        "*   In MI batsman surya kumar and decock has highest density when smash rate is greater than 20.\n",
        "\n",
        "So i am predicting Surya kumar or Williamson will have highest smash rate in today match.\n",
        "\n"
      ]
    },
    {
      "cell_type": "markdown",
      "metadata": {
        "id": "SxLb69mD0r8Y"
      },
      "source": [
        "### Q4) Which bowler will have highest boundar leaker metric?"
      ]
    },
    {
      "cell_type": "markdown",
      "metadata": {
        "id": "6qGoQ9UB1CxF"
      },
      "source": [
        "Boundary leaker = 1/(no.of balls bowled by bowler)/(no.of boundaries scored of the bowler +1))"
      ]
    },
    {
      "cell_type": "code",
      "metadata": {
        "id": "S1kh9XXC1uyO"
      },
      "source": [
        "df_bowler = df_deliveries[(df_deliveries['bowler'] == 'Rashid Khan') | (df_deliveries['bowler'] == 'T Natarajan')|\n",
        "                          (df_deliveries['bowler'] == 'S Nadeem') | (df_deliveries['bowler'] == 'S Sharma') |\n",
        "                          (df_deliveries['bowler'] == 'TA Boult') | (df_deliveries['bowler'] == 'JJ Bumrah') |\n",
        "                          (df_deliveries['bowler'] == 'KH Pandya') | (df_deliveries['bowler'] == 'RD Chahar')]\n",
        "\n",
        "#Calculating number of balls bowled, wides,no-balls are not allocated under bowler balls.\n",
        "df_balls_bowled = df_bowler[(df_bowler['wide_runs'] == 0) & (df_bowler['noball_runs'] == 0)]\n",
        "df_balls_bowled = df_balls_bowled.groupby(['match_id','bowler'],as_index=False)['ball'].count()\n",
        "df_balls_bowled.rename(columns={'ball':'balls_bowled'},inplace=True) \n",
        "\n",
        "#Calcualting no.of boundaries scored off the bowler in each match\n",
        "df_boundary = df_bowler[(df_bowler['batsman_runs'] == 4) | (df_bowler['batsman_runs'] == 6)]\n",
        "df_boundary = df_boundary.groupby(['match_id','bowler'],as_index=False)['batsman_runs'].count()\n",
        "df_boundary.rename(columns={'batsman_runs':'no_of_boundaries_given'}, inplace=True)\n"
      ],
      "execution_count": 22,
      "outputs": []
    },
    {
      "cell_type": "code",
      "metadata": {
        "id": "aUWaDeze7Cvc",
        "outputId": "0135ed51-ca63-49f6-dd00-3bc4f3dd8c9d",
        "colab": {
          "base_uri": "https://localhost:8080/",
          "height": 195
        }
      },
      "source": [
        "#Now merging above noth dataframes\n",
        "df_BL = pd.merge(df_balls_bowled, df_boundary, how= 'left', left_on=['match_id','bowler'],right_on=['match_id','bowler'])\n",
        "df_BL['no_of_boundaries_given'].fillna(0, inplace=True)\n",
        "\n",
        "#Now calculating BL\n",
        "df_BL['boundary_leaker'] = (1 / (df_BL['balls_bowled'] / (df_BL['no_of_boundaries_given'] +1)))\n",
        "df_BL.head()"
      ],
      "execution_count": 23,
      "outputs": [
        {
          "output_type": "execute_result",
          "data": {
            "text/html": [
              "<div>\n",
              "<style scoped>\n",
              "    .dataframe tbody tr th:only-of-type {\n",
              "        vertical-align: middle;\n",
              "    }\n",
              "\n",
              "    .dataframe tbody tr th {\n",
              "        vertical-align: top;\n",
              "    }\n",
              "\n",
              "    .dataframe thead th {\n",
              "        text-align: right;\n",
              "    }\n",
              "</style>\n",
              "<table border=\"1\" class=\"dataframe\">\n",
              "  <thead>\n",
              "    <tr style=\"text-align: right;\">\n",
              "      <th></th>\n",
              "      <th>match_id</th>\n",
              "      <th>bowler</th>\n",
              "      <th>balls_bowled</th>\n",
              "      <th>no_of_boundaries_given</th>\n",
              "      <th>boundary_leaker</th>\n",
              "    </tr>\n",
              "  </thead>\n",
              "  <tbody>\n",
              "    <tr>\n",
              "      <th>0</th>\n",
              "      <td>1</td>\n",
              "      <td>Rashid Khan</td>\n",
              "      <td>24</td>\n",
              "      <td>5.0</td>\n",
              "      <td>0.250000</td>\n",
              "    </tr>\n",
              "    <tr>\n",
              "      <th>1</th>\n",
              "      <td>2</td>\n",
              "      <td>JJ Bumrah</td>\n",
              "      <td>24</td>\n",
              "      <td>3.0</td>\n",
              "      <td>0.166667</td>\n",
              "    </tr>\n",
              "    <tr>\n",
              "      <th>2</th>\n",
              "      <td>2</td>\n",
              "      <td>KH Pandya</td>\n",
              "      <td>12</td>\n",
              "      <td>2.0</td>\n",
              "      <td>0.250000</td>\n",
              "    </tr>\n",
              "    <tr>\n",
              "      <th>3</th>\n",
              "      <td>3</td>\n",
              "      <td>TA Boult</td>\n",
              "      <td>24</td>\n",
              "      <td>8.0</td>\n",
              "      <td>0.375000</td>\n",
              "    </tr>\n",
              "    <tr>\n",
              "      <th>4</th>\n",
              "      <td>4</td>\n",
              "      <td>RD Chahar</td>\n",
              "      <td>24</td>\n",
              "      <td>3.0</td>\n",
              "      <td>0.166667</td>\n",
              "    </tr>\n",
              "  </tbody>\n",
              "</table>\n",
              "</div>"
            ],
            "text/plain": [
              "   match_id       bowler  balls_bowled  no_of_boundaries_given  boundary_leaker\n",
              "0         1  Rashid Khan            24                     5.0         0.250000\n",
              "1         2    JJ Bumrah            24                     3.0         0.166667\n",
              "2         2    KH Pandya            12                     2.0         0.250000\n",
              "3         3     TA Boult            24                     8.0         0.375000\n",
              "4         4    RD Chahar            24                     3.0         0.166667"
            ]
          },
          "metadata": {
            "tags": []
          },
          "execution_count": 23
        }
      ]
    },
    {
      "cell_type": "code",
      "metadata": {
        "id": "vD8sskvD8HV5",
        "outputId": "895d4d42-e030-4a08-d81d-44c933f91b45",
        "colab": {
          "base_uri": "https://localhost:8080/",
          "height": 284
        }
      },
      "source": [
        "#Taking central tendency of each bowler\n",
        "df_BL.groupby('bowler',as_index=False)['boundary_leaker'].mean()"
      ],
      "execution_count": 24,
      "outputs": [
        {
          "output_type": "execute_result",
          "data": {
            "text/html": [
              "<div>\n",
              "<style scoped>\n",
              "    .dataframe tbody tr th:only-of-type {\n",
              "        vertical-align: middle;\n",
              "    }\n",
              "\n",
              "    .dataframe tbody tr th {\n",
              "        vertical-align: top;\n",
              "    }\n",
              "\n",
              "    .dataframe thead th {\n",
              "        text-align: right;\n",
              "    }\n",
              "</style>\n",
              "<table border=\"1\" class=\"dataframe\">\n",
              "  <thead>\n",
              "    <tr style=\"text-align: right;\">\n",
              "      <th></th>\n",
              "      <th>bowler</th>\n",
              "      <th>boundary_leaker</th>\n",
              "    </tr>\n",
              "  </thead>\n",
              "  <tbody>\n",
              "    <tr>\n",
              "      <th>0</th>\n",
              "      <td>JJ Bumrah</td>\n",
              "      <td>0.198190</td>\n",
              "    </tr>\n",
              "    <tr>\n",
              "      <th>1</th>\n",
              "      <td>KH Pandya</td>\n",
              "      <td>0.194108</td>\n",
              "    </tr>\n",
              "    <tr>\n",
              "      <th>2</th>\n",
              "      <td>RD Chahar</td>\n",
              "      <td>0.193519</td>\n",
              "    </tr>\n",
              "    <tr>\n",
              "      <th>3</th>\n",
              "      <td>Rashid Khan</td>\n",
              "      <td>0.168076</td>\n",
              "    </tr>\n",
              "    <tr>\n",
              "      <th>4</th>\n",
              "      <td>S Nadeem</td>\n",
              "      <td>0.197648</td>\n",
              "    </tr>\n",
              "    <tr>\n",
              "      <th>5</th>\n",
              "      <td>S Sharma</td>\n",
              "      <td>0.202899</td>\n",
              "    </tr>\n",
              "    <tr>\n",
              "      <th>6</th>\n",
              "      <td>T Natarajan</td>\n",
              "      <td>0.329861</td>\n",
              "    </tr>\n",
              "    <tr>\n",
              "      <th>7</th>\n",
              "      <td>TA Boult</td>\n",
              "      <td>0.257997</td>\n",
              "    </tr>\n",
              "  </tbody>\n",
              "</table>\n",
              "</div>"
            ],
            "text/plain": [
              "        bowler  boundary_leaker\n",
              "0    JJ Bumrah         0.198190\n",
              "1    KH Pandya         0.194108\n",
              "2    RD Chahar         0.193519\n",
              "3  Rashid Khan         0.168076\n",
              "4     S Nadeem         0.197648\n",
              "5     S Sharma         0.202899\n",
              "6  T Natarajan         0.329861\n",
              "7     TA Boult         0.257997"
            ]
          },
          "metadata": {
            "tags": []
          },
          "execution_count": 24
        }
      ]
    },
    {
      "cell_type": "markdown",
      "metadata": {
        "id": "L_8aZ_F9-_3U"
      },
      "source": [
        "**Conclusion :-**\n",
        "\n",
        "\n",
        "\n",
        "*   Here i  am dividing x value with 1. i.e 1/x. So in my solution who has the less values in 'boundary_leaker column' that bowler will have the best BL metric. \n",
        "*   Rashid khan has the least value, So he has best avearage Boundary Leaker metric.\n",
        "\n",
        "So i am predicting in today match also rashid will have best BL metric.\n",
        "\n"
      ]
    },
    {
      "cell_type": "markdown",
      "metadata": {
        "id": "PhaJmJjmAeDp"
      },
      "source": [
        "### Q5) How many wickets will fall total during the match?"
      ]
    },
    {
      "cell_type": "code",
      "metadata": {
        "id": "pxmfIU5DAlMK",
        "outputId": "d77be088-b093-41b5-8d0f-cd057abd91ac",
        "colab": {
          "base_uri": "https://localhost:8080/",
          "height": 195
        }
      },
      "source": [
        "df_SRHMI = df_deliveries[(df_deliveries['batting_team'] == 'Sunrisers Hyderabad') & (df_deliveries['bowling_team'] == 'Mumbai Indians') |\n",
        "                         (df_deliveries['batting_team'] == 'Mumbai Indians') & (df_deliveries['bowling_team'] == 'Sunrisers Hyderabad')] \n",
        "\n",
        "df_wickets = df_SRHMI[df_SRHMI['player_dismissed'] != 'No Wicket']\n",
        "df_wickets = df_wickets.groupby('match_id',as_index=False)['player_dismissed'].count()\n",
        "df_wickets.rename(columns={'player_dismissed':'Number_of_wickets'}, inplace=True)\n",
        "df_wickets.head()\n"
      ],
      "execution_count": 25,
      "outputs": [
        {
          "output_type": "execute_result",
          "data": {
            "text/html": [
              "<div>\n",
              "<style scoped>\n",
              "    .dataframe tbody tr th:only-of-type {\n",
              "        vertical-align: middle;\n",
              "    }\n",
              "\n",
              "    .dataframe tbody tr th {\n",
              "        vertical-align: top;\n",
              "    }\n",
              "\n",
              "    .dataframe thead th {\n",
              "        text-align: right;\n",
              "    }\n",
              "</style>\n",
              "<table border=\"1\" class=\"dataframe\">\n",
              "  <thead>\n",
              "    <tr style=\"text-align: right;\">\n",
              "      <th></th>\n",
              "      <th>match_id</th>\n",
              "      <th>Number_of_wickets</th>\n",
              "    </tr>\n",
              "  </thead>\n",
              "  <tbody>\n",
              "    <tr>\n",
              "      <th>0</th>\n",
              "      <td>10</td>\n",
              "      <td>14</td>\n",
              "    </tr>\n",
              "    <tr>\n",
              "      <th>1</th>\n",
              "      <td>47</td>\n",
              "      <td>10</td>\n",
              "    </tr>\n",
              "    <tr>\n",
              "      <th>2</th>\n",
              "      <td>423</td>\n",
              "      <td>7</td>\n",
              "    </tr>\n",
              "    <tr>\n",
              "      <th>3</th>\n",
              "      <td>444</td>\n",
              "      <td>7</td>\n",
              "    </tr>\n",
              "    <tr>\n",
              "      <th>4</th>\n",
              "      <td>477</td>\n",
              "      <td>12</td>\n",
              "    </tr>\n",
              "  </tbody>\n",
              "</table>\n",
              "</div>"
            ],
            "text/plain": [
              "   match_id  Number_of_wickets\n",
              "0        10                 14\n",
              "1        47                 10\n",
              "2       423                  7\n",
              "3       444                  7\n",
              "4       477                 12"
            ]
          },
          "metadata": {
            "tags": []
          },
          "execution_count": 25
        }
      ]
    },
    {
      "cell_type": "code",
      "metadata": {
        "id": "zXSeBEZ1BP7p",
        "outputId": "00c5c9c2-54e3-42f5-8280-65bf26fb16b6",
        "colab": {
          "base_uri": "https://localhost:8080/",
          "height": 383
        }
      },
      "source": [
        "#Now plotting PDF \n",
        "sns.FacetGrid(df_wickets,size=5) \\\n",
        "   .map(sns.distplot, \"Number_of_wickets\") \\\n",
        "   .add_legend();\n",
        "\n",
        "plt.title(\"PDF for number of wickets fallen in SRH vs MI matches\")\n",
        "plt.show();\n"
      ],
      "execution_count": 27,
      "outputs": [
        {
          "output_type": "display_data",
          "data": {
            "image/png": "[encoded data removed]",
            "text/plain": [
              "<Figure size 368x360 with 1 Axes>"
            ]
          },
          "metadata": {
            "tags": [],
            "needs_background": "light"
          }
        }
      ]
    },
    {
      "cell_type": "markdown",
      "metadata": {
        "id": "IF8qmjEECTuU"
      },
      "source": [
        "**Conclusion :-**\n",
        "\n",
        "\n",
        "\n",
        "*   Probability is very high for wickets 9 to 11. I think the mean value is also almost equal to 10.\n",
        "*  So i am predicting in today match they will loose 10 wickets.\n",
        "\n"
      ]
    }
  ]
}