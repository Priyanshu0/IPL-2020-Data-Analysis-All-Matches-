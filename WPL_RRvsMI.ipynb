{
  "nbformat": 4,
  "nbformat_minor": 0,
  "metadata": {
    "colab": {
      "name": "WPL_RRvsMI.ipynb",
      "provenance": []
    },
    "kernelspec": {
      "name": "python3",
      "display_name": "Python 3"
    }
  },
  "cells": [
    {
      "cell_type": "markdown",
      "metadata": {
        "id": "8tT81EC2pJ6E"
      },
      "source": [
        "### Exploratory Data Analysis\n",
        "### Data Pre-Processing"
      ]
    },
    {
      "cell_type": "code",
      "metadata": {
        "id": "fNpaTsBMpJZ5",
        "outputId": "707daa5a-c754-4450-dc4e-13259ac6c201",
        "colab": {
          "base_uri": "https://localhost:8080/",
          "height": 244
        }
      },
      "source": [
        "import warnings\n",
        "warnings.filterwarnings(\"ignore\")\n",
        "import pandas as pd\n",
        "\n",
        "df_matches = pd.read_csv(\"matches.csv\")\n",
        "df_matches.head(2)"
      ],
      "execution_count": 2,
      "outputs": [
        {
          "output_type": "execute_result",
          "data": {
            "text/html": [
              "<div>\n",
              "<style scoped>\n",
              "    .dataframe tbody tr th:only-of-type {\n",
              "        vertical-align: middle;\n",
              "    }\n",
              "\n",
              "    .dataframe tbody tr th {\n",
              "        vertical-align: top;\n",
              "    }\n",
              "\n",
              "    .dataframe thead th {\n",
              "        text-align: right;\n",
              "    }\n",
              "</style>\n",
              "<table border=\"1\" class=\"dataframe\">\n",
              "  <thead>\n",
              "    <tr style=\"text-align: right;\">\n",
              "      <th></th>\n",
              "      <th>id</th>\n",
              "      <th>season</th>\n",
              "      <th>city</th>\n",
              "      <th>date</th>\n",
              "      <th>team1</th>\n",
              "      <th>team2</th>\n",
              "      <th>toss_winner</th>\n",
              "      <th>toss_decision</th>\n",
              "      <th>result</th>\n",
              "      <th>dl_applied</th>\n",
              "      <th>winner</th>\n",
              "      <th>win_by_runs</th>\n",
              "      <th>win_by_wickets</th>\n",
              "      <th>player_of_match</th>\n",
              "      <th>venue</th>\n",
              "      <th>umpire1</th>\n",
              "      <th>umpire2</th>\n",
              "      <th>umpire3</th>\n",
              "    </tr>\n",
              "  </thead>\n",
              "  <tbody>\n",
              "    <tr>\n",
              "      <th>0</th>\n",
              "      <td>1</td>\n",
              "      <td>2017</td>\n",
              "      <td>Hyderabad</td>\n",
              "      <td>2017-04-05</td>\n",
              "      <td>Sunrisers Hyderabad</td>\n",
              "      <td>Royal Challengers Bangalore</td>\n",
              "      <td>Royal Challengers Bangalore</td>\n",
              "      <td>field</td>\n",
              "      <td>normal</td>\n",
              "      <td>0</td>\n",
              "      <td>Sunrisers Hyderabad</td>\n",
              "      <td>35</td>\n",
              "      <td>0</td>\n",
              "      <td>Yuvraj Singh</td>\n",
              "      <td>Rajiv Gandhi International Stadium, Uppal</td>\n",
              "      <td>AY Dandekar</td>\n",
              "      <td>NJ Llong</td>\n",
              "      <td>NaN</td>\n",
              "    </tr>\n",
              "    <tr>\n",
              "      <th>1</th>\n",
              "      <td>2</td>\n",
              "      <td>2017</td>\n",
              "      <td>Pune</td>\n",
              "      <td>2017-04-06</td>\n",
              "      <td>Mumbai Indians</td>\n",
              "      <td>Rising Pune Supergiant</td>\n",
              "      <td>Rising Pune Supergiant</td>\n",
              "      <td>field</td>\n",
              "      <td>normal</td>\n",
              "      <td>0</td>\n",
              "      <td>Rising Pune Supergiant</td>\n",
              "      <td>0</td>\n",
              "      <td>7</td>\n",
              "      <td>SPD Smith</td>\n",
              "      <td>Maharashtra Cricket Association Stadium</td>\n",
              "      <td>A Nand Kishore</td>\n",
              "      <td>S Ravi</td>\n",
              "      <td>NaN</td>\n",
              "    </tr>\n",
              "  </tbody>\n",
              "</table>\n",
              "</div>"
            ],
            "text/plain": [
              "   id  season       city  ...         umpire1   umpire2 umpire3\n",
              "0   1    2017  Hyderabad  ...     AY Dandekar  NJ Llong     NaN\n",
              "1   2    2017       Pune  ...  A Nand Kishore    S Ravi     NaN\n",
              "\n",
              "[2 rows x 18 columns]"
            ]
          },
          "metadata": {
            "tags": []
          },
          "execution_count": 2
        }
      ]
    },
    {
      "cell_type": "code",
      "metadata": {
        "id": "_XS-VimVmiwV",
        "outputId": "1edc4440-6670-4cf6-efdc-73e6c281c392",
        "colab": {
          "base_uri": "https://localhost:8080/",
          "height": 194
        }
      },
      "source": [
        "df_deliveries = pd.read_csv(\"deliveries.csv\")\n",
        "df_deliveries.head(2)"
      ],
      "execution_count": 92,
      "outputs": [
        {
          "output_type": "execute_result",
          "data": {
            "text/html": [
              "<div>\n",
              "<style scoped>\n",
              "    .dataframe tbody tr th:only-of-type {\n",
              "        vertical-align: middle;\n",
              "    }\n",
              "\n",
              "    .dataframe tbody tr th {\n",
              "        vertical-align: top;\n",
              "    }\n",
              "\n",
              "    .dataframe thead th {\n",
              "        text-align: right;\n",
              "    }\n",
              "</style>\n",
              "<table border=\"1\" class=\"dataframe\">\n",
              "  <thead>\n",
              "    <tr style=\"text-align: right;\">\n",
              "      <th></th>\n",
              "      <th>match_id</th>\n",
              "      <th>inning</th>\n",
              "      <th>batting_team</th>\n",
              "      <th>bowling_team</th>\n",
              "      <th>over</th>\n",
              "      <th>ball</th>\n",
              "      <th>batsman</th>\n",
              "      <th>non_striker</th>\n",
              "      <th>bowler</th>\n",
              "      <th>is_super_over</th>\n",
              "      <th>wide_runs</th>\n",
              "      <th>bye_runs</th>\n",
              "      <th>legbye_runs</th>\n",
              "      <th>noball_runs</th>\n",
              "      <th>penalty_runs</th>\n",
              "      <th>batsman_runs</th>\n",
              "      <th>extra_runs</th>\n",
              "      <th>total_runs</th>\n",
              "      <th>player_dismissed</th>\n",
              "      <th>dismissal_kind</th>\n",
              "      <th>fielder</th>\n",
              "    </tr>\n",
              "  </thead>\n",
              "  <tbody>\n",
              "    <tr>\n",
              "      <th>0</th>\n",
              "      <td>1</td>\n",
              "      <td>1</td>\n",
              "      <td>Sunrisers Hyderabad</td>\n",
              "      <td>Royal Challengers Bangalore</td>\n",
              "      <td>1</td>\n",
              "      <td>1</td>\n",
              "      <td>DA Warner</td>\n",
              "      <td>S Dhawan</td>\n",
              "      <td>TS Mills</td>\n",
              "      <td>0</td>\n",
              "      <td>0</td>\n",
              "      <td>0</td>\n",
              "      <td>0</td>\n",
              "      <td>0</td>\n",
              "      <td>0</td>\n",
              "      <td>0</td>\n",
              "      <td>0</td>\n",
              "      <td>0</td>\n",
              "      <td>NaN</td>\n",
              "      <td>NaN</td>\n",
              "      <td>NaN</td>\n",
              "    </tr>\n",
              "    <tr>\n",
              "      <th>1</th>\n",
              "      <td>1</td>\n",
              "      <td>1</td>\n",
              "      <td>Sunrisers Hyderabad</td>\n",
              "      <td>Royal Challengers Bangalore</td>\n",
              "      <td>1</td>\n",
              "      <td>2</td>\n",
              "      <td>DA Warner</td>\n",
              "      <td>S Dhawan</td>\n",
              "      <td>TS Mills</td>\n",
              "      <td>0</td>\n",
              "      <td>0</td>\n",
              "      <td>0</td>\n",
              "      <td>0</td>\n",
              "      <td>0</td>\n",
              "      <td>0</td>\n",
              "      <td>0</td>\n",
              "      <td>0</td>\n",
              "      <td>0</td>\n",
              "      <td>NaN</td>\n",
              "      <td>NaN</td>\n",
              "      <td>NaN</td>\n",
              "    </tr>\n",
              "  </tbody>\n",
              "</table>\n",
              "</div>"
            ],
            "text/plain": [
              "   match_id  inning  ... dismissal_kind fielder\n",
              "0         1       1  ...            NaN     NaN\n",
              "1         1       1  ...            NaN     NaN\n",
              "\n",
              "[2 rows x 21 columns]"
            ]
          },
          "metadata": {
            "tags": []
          },
          "execution_count": 92
        }
      ]
    },
    {
      "cell_type": "code",
      "metadata": {
        "id": "1-uhYzr4pVka",
        "outputId": "ac3288b6-f0ea-4979-8fec-f178f50496e1",
        "colab": {
          "base_uri": "https://localhost:8080/",
          "height": 50
        }
      },
      "source": [
        "print(df_matches.shape)\n",
        "print(df_deliveries.shape)"
      ],
      "execution_count": null,
      "outputs": [
        {
          "output_type": "stream",
          "text": [
            "(756, 18)\n",
            "(179078, 21)\n"
          ],
          "name": "stdout"
        }
      ]
    },
    {
      "cell_type": "markdown",
      "metadata": {
        "id": "HYWf_JAGpnxU"
      },
      "source": [
        "\n",
        "\n",
        "\n",
        "\n",
        "*   In matches data frame columns like umpire1,umpire2,umpire3 are not useful because these days they are using technology. So we cant decide which umpire is more useful for predicting anything related to match.\n",
        "*   Date is also not useful because we already have season column which is also almost equal to date.\n",
        "\n",
        "\n",
        "*   City and venue also not important features for this year IPL. Because IPL2020 is happening in UAE, only 2014 ipl was happened in UAE that to half season. But i am removing only venue it almost equal to city feature.\n",
        "*   'Result' feature is almost equal to 'winner' feature. So i am dropping result column also.\n",
        "\n",
        "\n",
        "\n",
        "\n",
        "\n",
        "\n",
        "\n",
        "\n"
      ]
    },
    {
      "cell_type": "code",
      "metadata": {
        "id": "HorfJTVepZOO",
        "outputId": "b4a8d52e-c583-4807-a50b-c23a91ad74bd",
        "colab": {
          "base_uri": "https://localhost:8080/",
          "height": 194
        }
      },
      "source": [
        "df_matches = df_matches.drop(['venue','date','result','umpire1','umpire2','umpire3'], axis = 1) \n",
        "df_matches.head(2)"
      ],
      "execution_count": 4,
      "outputs": [
        {
          "output_type": "execute_result",
          "data": {
            "text/html": [
              "<div>\n",
              "<style scoped>\n",
              "    .dataframe tbody tr th:only-of-type {\n",
              "        vertical-align: middle;\n",
              "    }\n",
              "\n",
              "    .dataframe tbody tr th {\n",
              "        vertical-align: top;\n",
              "    }\n",
              "\n",
              "    .dataframe thead th {\n",
              "        text-align: right;\n",
              "    }\n",
              "</style>\n",
              "<table border=\"1\" class=\"dataframe\">\n",
              "  <thead>\n",
              "    <tr style=\"text-align: right;\">\n",
              "      <th></th>\n",
              "      <th>id</th>\n",
              "      <th>season</th>\n",
              "      <th>city</th>\n",
              "      <th>team1</th>\n",
              "      <th>team2</th>\n",
              "      <th>toss_winner</th>\n",
              "      <th>toss_decision</th>\n",
              "      <th>dl_applied</th>\n",
              "      <th>winner</th>\n",
              "      <th>win_by_runs</th>\n",
              "      <th>win_by_wickets</th>\n",
              "      <th>player_of_match</th>\n",
              "    </tr>\n",
              "  </thead>\n",
              "  <tbody>\n",
              "    <tr>\n",
              "      <th>0</th>\n",
              "      <td>1</td>\n",
              "      <td>2017</td>\n",
              "      <td>Hyderabad</td>\n",
              "      <td>Sunrisers Hyderabad</td>\n",
              "      <td>Royal Challengers Bangalore</td>\n",
              "      <td>Royal Challengers Bangalore</td>\n",
              "      <td>field</td>\n",
              "      <td>0</td>\n",
              "      <td>Sunrisers Hyderabad</td>\n",
              "      <td>35</td>\n",
              "      <td>0</td>\n",
              "      <td>Yuvraj Singh</td>\n",
              "    </tr>\n",
              "    <tr>\n",
              "      <th>1</th>\n",
              "      <td>2</td>\n",
              "      <td>2017</td>\n",
              "      <td>Pune</td>\n",
              "      <td>Mumbai Indians</td>\n",
              "      <td>Rising Pune Supergiant</td>\n",
              "      <td>Rising Pune Supergiant</td>\n",
              "      <td>field</td>\n",
              "      <td>0</td>\n",
              "      <td>Rising Pune Supergiant</td>\n",
              "      <td>0</td>\n",
              "      <td>7</td>\n",
              "      <td>SPD Smith</td>\n",
              "    </tr>\n",
              "  </tbody>\n",
              "</table>\n",
              "</div>"
            ],
            "text/plain": [
              "   id  season       city  ... win_by_runs win_by_wickets player_of_match\n",
              "0   1    2017  Hyderabad  ...          35              0    Yuvraj Singh\n",
              "1   2    2017       Pune  ...           0              7       SPD Smith\n",
              "\n",
              "[2 rows x 12 columns]"
            ]
          },
          "metadata": {
            "tags": []
          },
          "execution_count": 4
        }
      ]
    },
    {
      "cell_type": "code",
      "metadata": {
        "id": "ZKsS-b9fqKDi",
        "outputId": "39dc2a49-67c7-4a41-bd80-88a08b888c46",
        "colab": {
          "base_uri": "https://localhost:8080/",
          "height": 286
        }
      },
      "source": [
        "print(df_matches[\"team1\"].value_counts())"
      ],
      "execution_count": 5,
      "outputs": [
        {
          "output_type": "stream",
          "text": [
            "Mumbai Indians                 101\n",
            "Kings XI Punjab                 91\n",
            "Chennai Super Kings             89\n",
            "Royal Challengers Bangalore     85\n",
            "Kolkata Knight Riders           83\n",
            "Delhi Daredevils                72\n",
            "Rajasthan Royals                67\n",
            "Sunrisers Hyderabad             63\n",
            "Deccan Chargers                 43\n",
            "Pune Warriors                   20\n",
            "Gujarat Lions                   14\n",
            "Rising Pune Supergiant           8\n",
            "Rising Pune Supergiants          7\n",
            "Kochi Tuskers Kerala             7\n",
            "Delhi Capitals                   6\n",
            "Name: team1, dtype: int64\n"
          ],
          "name": "stdout"
        }
      ]
    },
    {
      "cell_type": "code",
      "metadata": {
        "id": "jvx8eUtbqNdk"
      },
      "source": [
        "#In 2019 delhi daredevils name changed to delhi capitals. So i am replacing old name with new name for all the rows.\n",
        "df_matches = df_matches.replace(to_replace =\"Delhi Daredevils\", value = \"Delhi Capitals\") \n",
        "\n",
        "df_deliveries = df_deliveries.replace(to_replace = \"Delhi Daredevils\", value = \"Delhi Capitals\")\n",
        "\n",
        "#Rising pune supergiants name also printed in two ways. Lets change it to Rising pune supergiants.\n",
        "df_matches = df_matches.replace(to_replace =\"Rising Pune Supergiant\", value = \"Rising Pune Supergiants\") \n",
        "\n",
        "df_deliveries = df_deliveries.replace(to_replace = \"Rising Pune Supergiant\", value = \"Rising Pune Supergiants\")"
      ],
      "execution_count": 93,
      "outputs": []
    },
    {
      "cell_type": "code",
      "metadata": {
        "id": "2DANPrQ_qWvy",
        "outputId": "b2040224-757d-46cb-9123-9e9cd006510b",
        "colab": {
          "base_uri": "https://localhost:8080/",
          "height": 235
        }
      },
      "source": [
        "#checking null values in matches dataset\n",
        "print(df_matches.isnull().sum())"
      ],
      "execution_count": 7,
      "outputs": [
        {
          "output_type": "stream",
          "text": [
            "id                 0\n",
            "season             0\n",
            "city               7\n",
            "team1              0\n",
            "team2              0\n",
            "toss_winner        0\n",
            "toss_decision      0\n",
            "dl_applied         0\n",
            "winner             4\n",
            "win_by_runs        0\n",
            "win_by_wickets     0\n",
            "player_of_match    4\n",
            "dtype: int64\n"
          ],
          "name": "stdout"
        }
      ]
    },
    {
      "cell_type": "code",
      "metadata": {
        "id": "NeGW7909qaDx",
        "outputId": "eac86b36-374d-41bc-a5ae-119e330ea419",
        "colab": {
          "base_uri": "https://localhost:8080/",
          "height": 177
        }
      },
      "source": [
        "#printing null rows in matches dataset\n",
        "df1_null = df_matches[df_matches.isna().any(axis=1)]\n",
        "df1_null.head(2)"
      ],
      "execution_count": null,
      "outputs": [
        {
          "output_type": "execute_result",
          "data": {
            "text/html": [
              "<div>\n",
              "<style scoped>\n",
              "    .dataframe tbody tr th:only-of-type {\n",
              "        vertical-align: middle;\n",
              "    }\n",
              "\n",
              "    .dataframe tbody tr th {\n",
              "        vertical-align: top;\n",
              "    }\n",
              "\n",
              "    .dataframe thead th {\n",
              "        text-align: right;\n",
              "    }\n",
              "</style>\n",
              "<table border=\"1\" class=\"dataframe\">\n",
              "  <thead>\n",
              "    <tr style=\"text-align: right;\">\n",
              "      <th></th>\n",
              "      <th>id</th>\n",
              "      <th>season</th>\n",
              "      <th>city</th>\n",
              "      <th>team1</th>\n",
              "      <th>team2</th>\n",
              "      <th>toss_winner</th>\n",
              "      <th>toss_decision</th>\n",
              "      <th>dl_applied</th>\n",
              "      <th>winner</th>\n",
              "      <th>win_by_runs</th>\n",
              "      <th>win_by_wickets</th>\n",
              "      <th>player_of_match</th>\n",
              "    </tr>\n",
              "  </thead>\n",
              "  <tbody>\n",
              "    <tr>\n",
              "      <th>300</th>\n",
              "      <td>301</td>\n",
              "      <td>2011</td>\n",
              "      <td>Delhi</td>\n",
              "      <td>Delhi Capitals</td>\n",
              "      <td>Pune Warriors</td>\n",
              "      <td>Delhi Capitals</td>\n",
              "      <td>bat</td>\n",
              "      <td>0</td>\n",
              "      <td>NaN</td>\n",
              "      <td>0</td>\n",
              "      <td>0</td>\n",
              "      <td>NaN</td>\n",
              "    </tr>\n",
              "    <tr>\n",
              "      <th>461</th>\n",
              "      <td>462</td>\n",
              "      <td>2014</td>\n",
              "      <td>NaN</td>\n",
              "      <td>Mumbai Indians</td>\n",
              "      <td>Royal Challengers Bangalore</td>\n",
              "      <td>Royal Challengers Bangalore</td>\n",
              "      <td>field</td>\n",
              "      <td>0</td>\n",
              "      <td>Royal Challengers Bangalore</td>\n",
              "      <td>0</td>\n",
              "      <td>7</td>\n",
              "      <td>PA Patel</td>\n",
              "    </tr>\n",
              "  </tbody>\n",
              "</table>\n",
              "</div>"
            ],
            "text/plain": [
              "      id  season   city  ... win_by_runs win_by_wickets player_of_match\n",
              "300  301    2011  Delhi  ...           0              0             NaN\n",
              "461  462    2014    NaN  ...           0              7        PA Patel\n",
              "\n",
              "[2 rows x 12 columns]"
            ]
          },
          "metadata": {
            "tags": []
          },
          "execution_count": 59
        }
      ]
    },
    {
      "cell_type": "code",
      "metadata": {
        "id": "93W-kaovqbaL",
        "outputId": "4d72d883-a38f-4773-dcae-12100e4cee59",
        "colab": {
          "base_uri": "https://localhost:8080/",
          "height": 34
        }
      },
      "source": [
        "#After seeing above table we can clearly understood that 4 matches are not played beacuse of rain, badlight or pitch condition. \n",
        "#So i am replacing those null values in winner column with no result and palyer of the match column null values with not declared.\n",
        "df_matches[\"winner\"].fillna(\"No result\", inplace = True)\n",
        "df_matches['player_of_match'].fillna(\"Not declared\", inplace = True)\n",
        "#city column also has 7 null values. I checked those matches data in Espn website and they played in Dubai.\n",
        "df_matches[\"city\"].fillna(\"Dubai\", inplace = True)\n",
        "print(df_matches.shape)"
      ],
      "execution_count": 9,
      "outputs": [
        {
          "output_type": "stream",
          "text": [
            "(756, 12)\n"
          ],
          "name": "stdout"
        }
      ]
    },
    {
      "cell_type": "code",
      "metadata": {
        "id": "6GQGbDHoqe5P",
        "outputId": "b44b7be9-f65c-4f45-a85f-e01d2a8aa6d5",
        "colab": {
          "base_uri": "https://localhost:8080/",
          "height": 386
        }
      },
      "source": [
        "#checking null values in deliveries dataset\n",
        "print(df_deliveries.isnull().sum())"
      ],
      "execution_count": null,
      "outputs": [
        {
          "output_type": "stream",
          "text": [
            "match_id                 0\n",
            "inning                   0\n",
            "batting_team             0\n",
            "bowling_team             0\n",
            "over                     0\n",
            "ball                     0\n",
            "batsman                  0\n",
            "non_striker              0\n",
            "bowler                   0\n",
            "is_super_over            0\n",
            "wide_runs                0\n",
            "bye_runs                 0\n",
            "legbye_runs              0\n",
            "noball_runs              0\n",
            "penalty_runs             0\n",
            "batsman_runs             0\n",
            "extra_runs               0\n",
            "total_runs               0\n",
            "player_dismissed    170244\n",
            "dismissal_kind      170244\n",
            "fielder             172630\n",
            "dtype: int64\n"
          ],
          "name": "stdout"
        }
      ]
    },
    {
      "cell_type": "markdown",
      "metadata": {
        "id": "z5kd0xwBqk_g"
      },
      "source": [
        "\n",
        "\n",
        "*   Player_dismissed, dismissal_kind and fielder features are having null values. But if you consider today questions only 'player_dismissed' and 'dismissal_kind' features are useful for today analysis. So i am removing \"fielder\" feature.\n",
        "*   Filling player_dismissed null values with 'No wicket', dismissal_Kind null values with also No Wicket\n",
        "\n"
      ]
    },
    {
      "cell_type": "code",
      "metadata": {
        "id": "I4T4Jq2uqu5a",
        "outputId": "103f4812-28e0-4d4a-db2e-b7a8732c3ad8",
        "colab": {
          "base_uri": "https://localhost:8080/",
          "height": 194
        }
      },
      "source": [
        "#dropping fielder column\n",
        "df_deliveries = df_deliveries.drop(['fielder'], axis = 1) \n",
        "#filling null values\n",
        "df_deliveries[\"player_dismissed\"].fillna(\"No Wicket\", inplace = True)\n",
        "df_deliveries[\"dismissal_kind\"].fillna(\"No Wicket\", inplace = True)\n",
        "df_deliveries.head(2)"
      ],
      "execution_count": 94,
      "outputs": [
        {
          "output_type": "execute_result",
          "data": {
            "text/html": [
              "<div>\n",
              "<style scoped>\n",
              "    .dataframe tbody tr th:only-of-type {\n",
              "        vertical-align: middle;\n",
              "    }\n",
              "\n",
              "    .dataframe tbody tr th {\n",
              "        vertical-align: top;\n",
              "    }\n",
              "\n",
              "    .dataframe thead th {\n",
              "        text-align: right;\n",
              "    }\n",
              "</style>\n",
              "<table border=\"1\" class=\"dataframe\">\n",
              "  <thead>\n",
              "    <tr style=\"text-align: right;\">\n",
              "      <th></th>\n",
              "      <th>match_id</th>\n",
              "      <th>inning</th>\n",
              "      <th>batting_team</th>\n",
              "      <th>bowling_team</th>\n",
              "      <th>over</th>\n",
              "      <th>ball</th>\n",
              "      <th>batsman</th>\n",
              "      <th>non_striker</th>\n",
              "      <th>bowler</th>\n",
              "      <th>is_super_over</th>\n",
              "      <th>wide_runs</th>\n",
              "      <th>bye_runs</th>\n",
              "      <th>legbye_runs</th>\n",
              "      <th>noball_runs</th>\n",
              "      <th>penalty_runs</th>\n",
              "      <th>batsman_runs</th>\n",
              "      <th>extra_runs</th>\n",
              "      <th>total_runs</th>\n",
              "      <th>player_dismissed</th>\n",
              "      <th>dismissal_kind</th>\n",
              "    </tr>\n",
              "  </thead>\n",
              "  <tbody>\n",
              "    <tr>\n",
              "      <th>0</th>\n",
              "      <td>1</td>\n",
              "      <td>1</td>\n",
              "      <td>Sunrisers Hyderabad</td>\n",
              "      <td>Royal Challengers Bangalore</td>\n",
              "      <td>1</td>\n",
              "      <td>1</td>\n",
              "      <td>DA Warner</td>\n",
              "      <td>S Dhawan</td>\n",
              "      <td>TS Mills</td>\n",
              "      <td>0</td>\n",
              "      <td>0</td>\n",
              "      <td>0</td>\n",
              "      <td>0</td>\n",
              "      <td>0</td>\n",
              "      <td>0</td>\n",
              "      <td>0</td>\n",
              "      <td>0</td>\n",
              "      <td>0</td>\n",
              "      <td>No Wicket</td>\n",
              "      <td>No Wicket</td>\n",
              "    </tr>\n",
              "    <tr>\n",
              "      <th>1</th>\n",
              "      <td>1</td>\n",
              "      <td>1</td>\n",
              "      <td>Sunrisers Hyderabad</td>\n",
              "      <td>Royal Challengers Bangalore</td>\n",
              "      <td>1</td>\n",
              "      <td>2</td>\n",
              "      <td>DA Warner</td>\n",
              "      <td>S Dhawan</td>\n",
              "      <td>TS Mills</td>\n",
              "      <td>0</td>\n",
              "      <td>0</td>\n",
              "      <td>0</td>\n",
              "      <td>0</td>\n",
              "      <td>0</td>\n",
              "      <td>0</td>\n",
              "      <td>0</td>\n",
              "      <td>0</td>\n",
              "      <td>0</td>\n",
              "      <td>No Wicket</td>\n",
              "      <td>No Wicket</td>\n",
              "    </tr>\n",
              "  </tbody>\n",
              "</table>\n",
              "</div>"
            ],
            "text/plain": [
              "   match_id  inning  ... player_dismissed dismissal_kind\n",
              "0         1       1  ...        No Wicket      No Wicket\n",
              "1         1       1  ...        No Wicket      No Wicket\n",
              "\n",
              "[2 rows x 20 columns]"
            ]
          },
          "metadata": {
            "tags": []
          },
          "execution_count": 94
        }
      ]
    },
    {
      "cell_type": "code",
      "metadata": {
        "id": "oRxGjbTeq0CD",
        "outputId": "d155b453-6662-40b3-f155-a95d4c67d057",
        "colab": {
          "base_uri": "https://localhost:8080/",
          "height": 304
        }
      },
      "source": [
        "# list of dtypes to include \n",
        "include =['float', 'int']\n",
        "desc = df_deliveries.describe(include = include)\n",
        "desc"
      ],
      "execution_count": null,
      "outputs": [
        {
          "output_type": "execute_result",
          "data": {
            "text/html": [
              "<div>\n",
              "<style scoped>\n",
              "    .dataframe tbody tr th:only-of-type {\n",
              "        vertical-align: middle;\n",
              "    }\n",
              "\n",
              "    .dataframe tbody tr th {\n",
              "        vertical-align: top;\n",
              "    }\n",
              "\n",
              "    .dataframe thead th {\n",
              "        text-align: right;\n",
              "    }\n",
              "</style>\n",
              "<table border=\"1\" class=\"dataframe\">\n",
              "  <thead>\n",
              "    <tr style=\"text-align: right;\">\n",
              "      <th></th>\n",
              "      <th>match_id</th>\n",
              "      <th>inning</th>\n",
              "      <th>over</th>\n",
              "      <th>ball</th>\n",
              "      <th>is_super_over</th>\n",
              "      <th>wide_runs</th>\n",
              "      <th>bye_runs</th>\n",
              "      <th>legbye_runs</th>\n",
              "      <th>noball_runs</th>\n",
              "      <th>penalty_runs</th>\n",
              "      <th>batsman_runs</th>\n",
              "      <th>extra_runs</th>\n",
              "      <th>total_runs</th>\n",
              "    </tr>\n",
              "  </thead>\n",
              "  <tbody>\n",
              "    <tr>\n",
              "      <th>count</th>\n",
              "      <td>179078.000000</td>\n",
              "      <td>179078.000000</td>\n",
              "      <td>179078.000000</td>\n",
              "      <td>179078.000000</td>\n",
              "      <td>179078.000000</td>\n",
              "      <td>179078.000000</td>\n",
              "      <td>179078.000000</td>\n",
              "      <td>179078.000000</td>\n",
              "      <td>179078.000000</td>\n",
              "      <td>179078.000000</td>\n",
              "      <td>179078.000000</td>\n",
              "      <td>179078.000000</td>\n",
              "      <td>179078.000000</td>\n",
              "    </tr>\n",
              "    <tr>\n",
              "      <th>mean</th>\n",
              "      <td>1802.252957</td>\n",
              "      <td>1.482952</td>\n",
              "      <td>10.162488</td>\n",
              "      <td>3.615587</td>\n",
              "      <td>0.000452</td>\n",
              "      <td>0.036721</td>\n",
              "      <td>0.004936</td>\n",
              "      <td>0.021136</td>\n",
              "      <td>0.004183</td>\n",
              "      <td>0.000056</td>\n",
              "      <td>1.246864</td>\n",
              "      <td>0.067032</td>\n",
              "      <td>1.313897</td>\n",
              "    </tr>\n",
              "    <tr>\n",
              "      <th>std</th>\n",
              "      <td>3472.322805</td>\n",
              "      <td>0.502074</td>\n",
              "      <td>5.677684</td>\n",
              "      <td>1.806966</td>\n",
              "      <td>0.021263</td>\n",
              "      <td>0.251161</td>\n",
              "      <td>0.116480</td>\n",
              "      <td>0.194908</td>\n",
              "      <td>0.070492</td>\n",
              "      <td>0.016709</td>\n",
              "      <td>1.608270</td>\n",
              "      <td>0.342553</td>\n",
              "      <td>1.605422</td>\n",
              "    </tr>\n",
              "    <tr>\n",
              "      <th>min</th>\n",
              "      <td>1.000000</td>\n",
              "      <td>1.000000</td>\n",
              "      <td>1.000000</td>\n",
              "      <td>1.000000</td>\n",
              "      <td>0.000000</td>\n",
              "      <td>0.000000</td>\n",
              "      <td>0.000000</td>\n",
              "      <td>0.000000</td>\n",
              "      <td>0.000000</td>\n",
              "      <td>0.000000</td>\n",
              "      <td>0.000000</td>\n",
              "      <td>0.000000</td>\n",
              "      <td>0.000000</td>\n",
              "    </tr>\n",
              "    <tr>\n",
              "      <th>25%</th>\n",
              "      <td>190.000000</td>\n",
              "      <td>1.000000</td>\n",
              "      <td>5.000000</td>\n",
              "      <td>2.000000</td>\n",
              "      <td>0.000000</td>\n",
              "      <td>0.000000</td>\n",
              "      <td>0.000000</td>\n",
              "      <td>0.000000</td>\n",
              "      <td>0.000000</td>\n",
              "      <td>0.000000</td>\n",
              "      <td>0.000000</td>\n",
              "      <td>0.000000</td>\n",
              "      <td>0.000000</td>\n",
              "    </tr>\n",
              "    <tr>\n",
              "      <th>50%</th>\n",
              "      <td>379.000000</td>\n",
              "      <td>1.000000</td>\n",
              "      <td>10.000000</td>\n",
              "      <td>4.000000</td>\n",
              "      <td>0.000000</td>\n",
              "      <td>0.000000</td>\n",
              "      <td>0.000000</td>\n",
              "      <td>0.000000</td>\n",
              "      <td>0.000000</td>\n",
              "      <td>0.000000</td>\n",
              "      <td>1.000000</td>\n",
              "      <td>0.000000</td>\n",
              "      <td>1.000000</td>\n",
              "    </tr>\n",
              "    <tr>\n",
              "      <th>75%</th>\n",
              "      <td>567.000000</td>\n",
              "      <td>2.000000</td>\n",
              "      <td>15.000000</td>\n",
              "      <td>5.000000</td>\n",
              "      <td>0.000000</td>\n",
              "      <td>0.000000</td>\n",
              "      <td>0.000000</td>\n",
              "      <td>0.000000</td>\n",
              "      <td>0.000000</td>\n",
              "      <td>0.000000</td>\n",
              "      <td>1.000000</td>\n",
              "      <td>0.000000</td>\n",
              "      <td>1.000000</td>\n",
              "    </tr>\n",
              "    <tr>\n",
              "      <th>max</th>\n",
              "      <td>11415.000000</td>\n",
              "      <td>5.000000</td>\n",
              "      <td>20.000000</td>\n",
              "      <td>9.000000</td>\n",
              "      <td>1.000000</td>\n",
              "      <td>5.000000</td>\n",
              "      <td>4.000000</td>\n",
              "      <td>5.000000</td>\n",
              "      <td>5.000000</td>\n",
              "      <td>5.000000</td>\n",
              "      <td>7.000000</td>\n",
              "      <td>7.000000</td>\n",
              "      <td>10.000000</td>\n",
              "    </tr>\n",
              "  </tbody>\n",
              "</table>\n",
              "</div>"
            ],
            "text/plain": [
              "            match_id         inning  ...     extra_runs     total_runs\n",
              "count  179078.000000  179078.000000  ...  179078.000000  179078.000000\n",
              "mean     1802.252957       1.482952  ...       0.067032       1.313897\n",
              "std      3472.322805       0.502074  ...       0.342553       1.605422\n",
              "min         1.000000       1.000000  ...       0.000000       0.000000\n",
              "25%       190.000000       1.000000  ...       0.000000       0.000000\n",
              "50%       379.000000       1.000000  ...       0.000000       1.000000\n",
              "75%       567.000000       2.000000  ...       0.000000       1.000000\n",
              "max     11415.000000       5.000000  ...       7.000000      10.000000\n",
              "\n",
              "[8 rows x 13 columns]"
            ]
          },
          "metadata": {
            "tags": []
          },
          "execution_count": 63
        }
      ]
    },
    {
      "cell_type": "markdown",
      "metadata": {
        "id": "euKmuV57q395"
      },
      "source": [
        "\n",
        "\n",
        "*   I think there are no outliers present in overs column but in balls column balls range is between(0-9), it happens if bowlers balls extra deliveries.\n",
        "*   In innings column maximum value is 5 so there are some outliers presented. Because there are 2 innings per match, if match tied then they will conduct one super over till last season. So maximum number of innings is 4.\n",
        "\n",
        "*   And in remaining columns max value is in certain limit only. So i can say there are not much outliers.\n",
        "\n",
        "\n",
        "\n",
        "\n"
      ]
    },
    {
      "cell_type": "markdown",
      "metadata": {
        "id": "ORrk0QkLVW7q"
      },
      "source": [
        "### Q1) Who will win today match MI VS RR?"
      ]
    },
    {
      "cell_type": "code",
      "metadata": {
        "id": "B2ttjhyUVkOP",
        "outputId": "5625f6ad-a26f-495c-a2ba-20c52366cd31",
        "colab": {
          "base_uri": "https://localhost:8080/",
          "height": 542
        }
      },
      "source": [
        "# Lets check winning ratio between MI VS RR\n",
        "df_MI_CSK = df_matches[((df_matches['team1'] == 'Mumbai Indians') | (df_matches['team1'] == 'Rajasthan Royals')) & \n",
        "                         ((df_matches['team2'] == 'Mumbai Indians') | (df_matches['team2'] == 'Rajasthan Royals'))] \n",
        "\n",
        "#plotting MI and RR wins against each other\n",
        "import plotly.graph_objs as go\n",
        "df_winner = df_MI_CSK[['id','winner']].groupby('winner').size().reset_index()\n",
        "df_winner.columns = ['winner','total_wins']\n",
        "df_winner = df_winner.sort_values('total_wins',ascending=False)\n",
        "\n",
        "data = go.Bar(x = df_winner['winner'],y = df_winner['total_wins'])\n",
        "layout = go.Layout(title = 'Number of wins by MI and RR against each other',xaxis = dict(title = 'Team'),yaxis = dict(title = 'No of wins'))\n",
        "fig = go.Figure(data = data,layout = layout)\n",
        "fig.show()"
      ],
      "execution_count": 21,
      "outputs": [
        {
          "output_type": "display_data",
          "data": {
            "text/html": [
              "<html>\n",
              "<head><meta charset=\"utf-8\" /></head>\n",
              "<body>\n",
              "    <div>\n",
              "            <script src=\"https://cdnjs.cloudflare.com/ajax/libs/mathjax/2.7.5/MathJax.js?config=TeX-AMS-MML_SVG\"></script><script type=\"text/javascript\">if (window.MathJax) {MathJax.Hub.Config({SVG: {font: \"STIX-Web\"}});}</script>\n",
              "                <script type=\"text/javascript\">window.PlotlyConfig = {MathJaxConfig: 'local'};</script>\n",
              "        <script src=\"https://cdn.plot.ly/plotly-latest.min.js\"></script>    \n",
              "            <div id=\"5efc836b-c5ab-4bdd-93f9-61798d4957dc\" class=\"plotly-graph-div\" style=\"height:525px; width:100%;\"></div>\n",
              "            <script type=\"text/javascript\">\n",
              "                \n",
              "                    window.PLOTLYENV=window.PLOTLYENV || {};\n",
              "                    \n",
              "                if (document.getElementById(\"5efc836b-c5ab-4bdd-93f9-61798d4957dc\")) {\n",
              "                    Plotly.newPlot(\n",
              "                        '5efc836b-c5ab-4bdd-93f9-61798d4957dc',\n",
              "                        [{\"type\": \"bar\", \"x\": [\"Mumbai Indians\", \"Rajasthan Royals\"], \"y\": [10, 10]}],\n",
              "                        {\"template\": {\"data\": {\"bar\": [{\"error_x\": {\"color\": \"#2a3f5f\"}, \"error_y\": {\"color\": \"#2a3f5f\"}, \"marker\": {\"line\": {\"color\": \"#E5ECF6\", \"width\": 0.5}}, \"type\": \"bar\"}], \"barpolar\": [{\"marker\": {\"line\": {\"color\": \"#E5ECF6\", \"width\": 0.5}}, \"type\": \"barpolar\"}], \"carpet\": [{\"aaxis\": {\"endlinecolor\": \"#2a3f5f\", \"gridcolor\": \"white\", \"linecolor\": \"white\", \"minorgridcolor\": \"white\", \"startlinecolor\": \"#2a3f5f\"}, \"baxis\": {\"endlinecolor\": \"#2a3f5f\", \"gridcolor\": \"white\", \"linecolor\": \"white\", \"minorgridcolor\": \"white\", \"startlinecolor\": \"#2a3f5f\"}, \"type\": \"carpet\"}], \"choropleth\": [{\"colorbar\": {\"outlinewidth\": 0, \"ticks\": \"\"}, \"type\": \"choropleth\"}], \"contour\": [{\"colorbar\": {\"outlinewidth\": 0, \"ticks\": \"\"}, \"colorscale\": [[0.0, \"#0d0887\"], [0.1111111111111111, \"#46039f\"], [0.2222222222222222, \"#7201a8\"], [0.3333333333333333, \"#9c179e\"], [0.4444444444444444, \"#bd3786\"], [0.5555555555555556, \"#d8576b\"], [0.6666666666666666, \"#ed7953\"], [0.7777777777777778, \"#fb9f3a\"], [0.8888888888888888, \"#fdca26\"], [1.0, \"#f0f921\"]], \"type\": \"contour\"}], \"contourcarpet\": [{\"colorbar\": {\"outlinewidth\": 0, \"ticks\": \"\"}, \"type\": \"contourcarpet\"}], \"heatmap\": [{\"colorbar\": {\"outlinewidth\": 0, \"ticks\": \"\"}, \"colorscale\": [[0.0, \"#0d0887\"], [0.1111111111111111, \"#46039f\"], [0.2222222222222222, \"#7201a8\"], [0.3333333333333333, \"#9c179e\"], [0.4444444444444444, \"#bd3786\"], [0.5555555555555556, \"#d8576b\"], [0.6666666666666666, \"#ed7953\"], [0.7777777777777778, \"#fb9f3a\"], [0.8888888888888888, \"#fdca26\"], [1.0, \"#f0f921\"]], \"type\": \"heatmap\"}], \"heatmapgl\": [{\"colorbar\": {\"outlinewidth\": 0, \"ticks\": \"\"}, \"colorscale\": [[0.0, \"#0d0887\"], [0.1111111111111111, \"#46039f\"], [0.2222222222222222, \"#7201a8\"], [0.3333333333333333, \"#9c179e\"], [0.4444444444444444, \"#bd3786\"], [0.5555555555555556, \"#d8576b\"], [0.6666666666666666, \"#ed7953\"], [0.7777777777777778, \"#fb9f3a\"], [0.8888888888888888, \"#fdca26\"], [1.0, \"#f0f921\"]], \"type\": \"heatmapgl\"}], \"histogram\": [{\"marker\": {\"colorbar\": {\"outlinewidth\": 0, \"ticks\": \"\"}}, \"type\": \"histogram\"}], \"histogram2d\": [{\"colorbar\": {\"outlinewidth\": 0, \"ticks\": \"\"}, \"colorscale\": [[0.0, \"#0d0887\"], [0.1111111111111111, \"#46039f\"], [0.2222222222222222, \"#7201a8\"], [0.3333333333333333, \"#9c179e\"], [0.4444444444444444, \"#bd3786\"], [0.5555555555555556, \"#d8576b\"], [0.6666666666666666, \"#ed7953\"], [0.7777777777777778, \"#fb9f3a\"], [0.8888888888888888, \"#fdca26\"], [1.0, \"#f0f921\"]], \"type\": \"histogram2d\"}], \"histogram2dcontour\": [{\"colorbar\": {\"outlinewidth\": 0, \"ticks\": \"\"}, \"colorscale\": [[0.0, \"#0d0887\"], [0.1111111111111111, \"#46039f\"], [0.2222222222222222, \"#7201a8\"], [0.3333333333333333, \"#9c179e\"], [0.4444444444444444, \"#bd3786\"], [0.5555555555555556, \"#d8576b\"], [0.6666666666666666, \"#ed7953\"], [0.7777777777777778, \"#fb9f3a\"], [0.8888888888888888, \"#fdca26\"], [1.0, \"#f0f921\"]], \"type\": \"histogram2dcontour\"}], \"mesh3d\": [{\"colorbar\": {\"outlinewidth\": 0, \"ticks\": \"\"}, \"type\": \"mesh3d\"}], \"parcoords\": [{\"line\": {\"colorbar\": {\"outlinewidth\": 0, \"ticks\": \"\"}}, \"type\": \"parcoords\"}], \"pie\": [{\"automargin\": true, \"type\": \"pie\"}], \"scatter\": [{\"marker\": {\"colorbar\": {\"outlinewidth\": 0, \"ticks\": \"\"}}, \"type\": \"scatter\"}], \"scatter3d\": [{\"line\": {\"colorbar\": {\"outlinewidth\": 0, \"ticks\": \"\"}}, \"marker\": {\"colorbar\": {\"outlinewidth\": 0, \"ticks\": \"\"}}, \"type\": \"scatter3d\"}], \"scattercarpet\": [{\"marker\": {\"colorbar\": {\"outlinewidth\": 0, \"ticks\": \"\"}}, \"type\": \"scattercarpet\"}], \"scattergeo\": [{\"marker\": {\"colorbar\": {\"outlinewidth\": 0, \"ticks\": \"\"}}, \"type\": \"scattergeo\"}], \"scattergl\": [{\"marker\": {\"colorbar\": {\"outlinewidth\": 0, \"ticks\": \"\"}}, \"type\": \"scattergl\"}], \"scattermapbox\": [{\"marker\": {\"colorbar\": {\"outlinewidth\": 0, \"ticks\": \"\"}}, \"type\": \"scattermapbox\"}], \"scatterpolar\": [{\"marker\": {\"colorbar\": {\"outlinewidth\": 0, \"ticks\": \"\"}}, \"type\": \"scatterpolar\"}], \"scatterpolargl\": [{\"marker\": {\"colorbar\": {\"outlinewidth\": 0, \"ticks\": \"\"}}, \"type\": \"scatterpolargl\"}], \"scatterternary\": [{\"marker\": {\"colorbar\": {\"outlinewidth\": 0, \"ticks\": \"\"}}, \"type\": \"scatterternary\"}], \"surface\": [{\"colorbar\": {\"outlinewidth\": 0, \"ticks\": \"\"}, \"colorscale\": [[0.0, \"#0d0887\"], [0.1111111111111111, \"#46039f\"], [0.2222222222222222, \"#7201a8\"], [0.3333333333333333, \"#9c179e\"], [0.4444444444444444, \"#bd3786\"], [0.5555555555555556, \"#d8576b\"], [0.6666666666666666, \"#ed7953\"], [0.7777777777777778, \"#fb9f3a\"], [0.8888888888888888, \"#fdca26\"], [1.0, \"#f0f921\"]], \"type\": \"surface\"}], \"table\": [{\"cells\": {\"fill\": {\"color\": \"#EBF0F8\"}, \"line\": {\"color\": \"white\"}}, \"header\": {\"fill\": {\"color\": \"#C8D4E3\"}, \"line\": {\"color\": \"white\"}}, \"type\": \"table\"}]}, \"layout\": {\"annotationdefaults\": {\"arrowcolor\": \"#2a3f5f\", \"arrowhead\": 0, \"arrowwidth\": 1}, \"coloraxis\": {\"colorbar\": {\"outlinewidth\": 0, \"ticks\": \"\"}}, \"colorscale\": {\"diverging\": [[0, \"#8e0152\"], [0.1, \"#c51b7d\"], [0.2, \"#de77ae\"], [0.3, \"#f1b6da\"], [0.4, \"#fde0ef\"], [0.5, \"#f7f7f7\"], [0.6, \"#e6f5d0\"], [0.7, \"#b8e186\"], [0.8, \"#7fbc41\"], [0.9, \"#4d9221\"], [1, \"#276419\"]], \"sequential\": [[0.0, \"#0d0887\"], [0.1111111111111111, \"#46039f\"], [0.2222222222222222, \"#7201a8\"], [0.3333333333333333, \"#9c179e\"], [0.4444444444444444, \"#bd3786\"], [0.5555555555555556, \"#d8576b\"], [0.6666666666666666, \"#ed7953\"], [0.7777777777777778, \"#fb9f3a\"], [0.8888888888888888, \"#fdca26\"], [1.0, \"#f0f921\"]], \"sequentialminus\": [[0.0, \"#0d0887\"], [0.1111111111111111, \"#46039f\"], [0.2222222222222222, \"#7201a8\"], [0.3333333333333333, \"#9c179e\"], [0.4444444444444444, \"#bd3786\"], [0.5555555555555556, \"#d8576b\"], [0.6666666666666666, \"#ed7953\"], [0.7777777777777778, \"#fb9f3a\"], [0.8888888888888888, \"#fdca26\"], [1.0, \"#f0f921\"]]}, \"colorway\": [\"#636efa\", \"#EF553B\", \"#00cc96\", \"#ab63fa\", \"#FFA15A\", \"#19d3f3\", \"#FF6692\", \"#B6E880\", \"#FF97FF\", \"#FECB52\"], \"font\": {\"color\": \"#2a3f5f\"}, \"geo\": {\"bgcolor\": \"white\", \"lakecolor\": \"white\", \"landcolor\": \"#E5ECF6\", \"showlakes\": true, \"showland\": true, \"subunitcolor\": \"white\"}, \"hoverlabel\": {\"align\": \"left\"}, \"hovermode\": \"closest\", \"mapbox\": {\"style\": \"light\"}, \"paper_bgcolor\": \"white\", \"plot_bgcolor\": \"#E5ECF6\", \"polar\": {\"angularaxis\": {\"gridcolor\": \"white\", \"linecolor\": \"white\", \"ticks\": \"\"}, \"bgcolor\": \"#E5ECF6\", \"radialaxis\": {\"gridcolor\": \"white\", \"linecolor\": \"white\", \"ticks\": \"\"}}, \"scene\": {\"xaxis\": {\"backgroundcolor\": \"#E5ECF6\", \"gridcolor\": \"white\", \"gridwidth\": 2, \"linecolor\": \"white\", \"showbackground\": true, \"ticks\": \"\", \"zerolinecolor\": \"white\"}, \"yaxis\": {\"backgroundcolor\": \"#E5ECF6\", \"gridcolor\": \"white\", \"gridwidth\": 2, \"linecolor\": \"white\", \"showbackground\": true, \"ticks\": \"\", \"zerolinecolor\": \"white\"}, \"zaxis\": {\"backgroundcolor\": \"#E5ECF6\", \"gridcolor\": \"white\", \"gridwidth\": 2, \"linecolor\": \"white\", \"showbackground\": true, \"ticks\": \"\", \"zerolinecolor\": \"white\"}}, \"shapedefaults\": {\"line\": {\"color\": \"#2a3f5f\"}}, \"ternary\": {\"aaxis\": {\"gridcolor\": \"white\", \"linecolor\": \"white\", \"ticks\": \"\"}, \"baxis\": {\"gridcolor\": \"white\", \"linecolor\": \"white\", \"ticks\": \"\"}, \"bgcolor\": \"#E5ECF6\", \"caxis\": {\"gridcolor\": \"white\", \"linecolor\": \"white\", \"ticks\": \"\"}}, \"title\": {\"x\": 0.05}, \"xaxis\": {\"automargin\": true, \"gridcolor\": \"white\", \"linecolor\": \"white\", \"ticks\": \"\", \"title\": {\"standoff\": 15}, \"zerolinecolor\": \"white\", \"zerolinewidth\": 2}, \"yaxis\": {\"automargin\": true, \"gridcolor\": \"white\", \"linecolor\": \"white\", \"ticks\": \"\", \"title\": {\"standoff\": 15}, \"zerolinecolor\": \"white\", \"zerolinewidth\": 2}}}, \"title\": {\"text\": \"Number of wins by MI and RR against each other\"}, \"xaxis\": {\"title\": {\"text\": \"Team\"}}, \"yaxis\": {\"title\": {\"text\": \"No of wins\"}}},\n",
              "                        {\"responsive\": true}\n",
              "                    ).then(function(){\n",
              "                            \n",
              "var gd = document.getElementById('5efc836b-c5ab-4bdd-93f9-61798d4957dc');\n",
              "var x = new MutationObserver(function (mutations, observer) {{\n",
              "        var display = window.getComputedStyle(gd).display;\n",
              "        if (!display || display === 'none') {{\n",
              "            console.log([gd, 'removed!']);\n",
              "            Plotly.purge(gd);\n",
              "            observer.disconnect();\n",
              "        }}\n",
              "}});\n",
              "\n",
              "// Listen for the removal of the full notebook cells\n",
              "var notebookContainer = gd.closest('#notebook-container');\n",
              "if (notebookContainer) {{\n",
              "    x.observe(notebookContainer, {childList: true});\n",
              "}}\n",
              "\n",
              "// Listen for the clearing of the current output cell\n",
              "var outputEl = gd.closest('.output');\n",
              "if (outputEl) {{\n",
              "    x.observe(outputEl, {childList: true});\n",
              "}}\n",
              "\n",
              "                        })\n",
              "                };\n",
              "                \n",
              "            </script>\n",
              "        </div>\n",
              "</body>\n",
              "</html>"
            ]
          },
          "metadata": {
            "tags": []
          }
        }
      ]
    },
    {
      "cell_type": "markdown",
      "metadata": {
        "id": "DTqq2gJtWPD3"
      },
      "source": [
        "They played 20 head-head matches. RR won 10 and MI won 10 matches. "
      ]
    },
    {
      "cell_type": "code",
      "metadata": {
        "id": "SVXvzmiPWYJ1",
        "outputId": "eb9b0d52-5c05-4516-c9a6-1003d42a2bc2",
        "colab": {
          "base_uri": "https://localhost:8080/",
          "height": 67
        }
      },
      "source": [
        "#Lets look at how many player of the match awards won by current MI and RR players.\n",
        "#Note: I am taking top 7 palyers from both teams not tking rohit because he is not played in last match. I think this match also he will take rest.\n",
        "#Sometimes team win dependent on Number of match winners in your team. i.e why i am using this approach.\n",
        "#Note: I am taking these player names because these players are played atleast one match for their respective sides in this season till now.\n",
        "df_man_of_match_MI = df_matches[(df_matches['player_of_match'] == 'AS Yadav') | (df_matches['player_of_match'] == 'Q de Kock') |\n",
        "                                (df_matches['player_of_match'] == 'HH Pandya') | (df_matches['player_of_match'] == 'KA Pollard\t') |\n",
        "                                (df_matches['player_of_match'] == 'JJ Bumrah') | (df_matches['player_of_match'] == 'TA Boult') |\n",
        "                                (df_matches['player_of_match'] == 'RD Chahar') ]\n",
        "\n",
        "\n",
        "print(\"Total number of man of matches won by present Mumbai players is\", df_man_of_match_MI.shape[0],\"\\n\") \n",
        "\n",
        "df_man_of_match_RR = df_matches[(df_matches['player_of_match'] == 'SV Samson') | (df_matches['player_of_match'] == 'BA Stokes') |\n",
        "                                (df_matches['player_of_match'] == 'RV Uthappa') | (df_matches['player_of_match'] == 'JC Buttler') |\n",
        "                                (df_matches['player_of_match'] == 'SPD Smith') | (df_matches['player_of_match'] == 'S Gopal') |\n",
        "                                (df_matches['player_of_match'] == 'J Archer') ] \n",
        "\n",
        "\n",
        "print(\"Total number of man of matches won by present Rajasthan players is\", df_man_of_match_RR.shape[0])                                                               "
      ],
      "execution_count": 25,
      "outputs": [
        {
          "output_type": "stream",
          "text": [
            "Total number of man of matches won by present Mumbai players is 15 \n",
            "\n",
            "Total number of man of matches won by present Rajasthan players is 28\n"
          ],
          "name": "stdout"
        }
      ]
    },
    {
      "cell_type": "markdown",
      "metadata": {
        "id": "EDxDgNqYZB0F"
      },
      "source": [
        "**Conclusion :-**\n",
        "\n",
        "RR players won more man of the match awards than MI. That means RR has more match winners.\n",
        "\n",
        "So i am predicting RR will win today match."
      ]
    },
    {
      "cell_type": "markdown",
      "metadata": {
        "id": "zg73NdZajXq9"
      },
      "source": [
        "### Q2) Calculate which player has highest Batsman intimidation score(BIS) in today match?"
      ]
    },
    {
      "cell_type": "markdown",
      "metadata": {
        "id": "lcAz87Irq5Tm"
      },
      "source": [
        "I am calculating players average BIS by combining all IPL matches"
      ]
    },
    {
      "cell_type": "code",
      "metadata": {
        "id": "Mnt3RhwYjl6L"
      },
      "source": [
        "#------------------------------- decock ----------------------------\n",
        "\n",
        "df_decock= df_deliveries[(df_deliveries['batsman'] == 'Q de Kock') & (df_deliveries['wide_runs'] == 0)]\n",
        "df_1s2s3s_decock = df_decock[(df_decock['batsman_runs'] == 1) | (df_decock['batsman_runs'] == 2) |(df_decock['batsman_runs'] == 3)]\n",
        "df_boundaries_decock = df_decock[(df_decock['batsman_runs'] == 4) | (df_decock['batsman_runs'] == 6)]\n",
        "df_noballs = df_decock[df_decock['noball_runs'] > 0]\n",
        "\n",
        "no_of_runs = df_decock['batsman_runs'].sum()\n",
        "no_of_boundary_runs = df_boundaries_decock['batsman_runs'].sum()\n",
        "no_of_1s2s3s_runs = df_1s2s3s_decock['batsman_runs'].sum()\n",
        "#Claculating number of balls faced by batsman and excluding no-balls. Anyway we excluded wideballs in first step only.\n",
        "no_of_balls_faced = (df_decock.shape[0]) - (df_noballs.shape[0])\n",
        "\n",
        "BIS_decock = (no_of_runs + no_of_boundary_runs - (no_of_1s2s3s_runs*0.5))/(no_of_balls_faced)\n",
        "\n",
        "#------------------------------- SteveSmith ----------------------------\n",
        "\n",
        "df_smith= df_deliveries[(df_deliveries['batsman'] == 'SPD Smith') & (df_deliveries['wide_runs'] == 0)]\n",
        "df_1s2s3s_smith = df_smith[(df_smith['batsman_runs'] == 1) | (df_smith['batsman_runs'] == 2) |(df_smith['batsman_runs'] == 3)]\n",
        "df_boundaries_smith = df_smith[(df_smith['batsman_runs'] == 4) | (df_smith['batsman_runs'] == 6)]\n",
        "df_noballs = df_smith[df_smith['noball_runs'] > 0]\n",
        "\n",
        "no_of_runs = df_smith['batsman_runs'].sum()\n",
        "no_of_boundary_runs = df_boundaries_smith['batsman_runs'].sum()\n",
        "no_of_1s2s3s_runs = df_1s2s3s_smith['batsman_runs'].sum()\n",
        "#Claculating number of balls faced by batsman and excluding no-balls. Anyway we excluded wideballs in first step only.\n",
        "no_of_balls_faced = (df_smith.shape[0]) - (df_noballs.shape[0])\n",
        "\n",
        "BIS_smith = (no_of_runs + no_of_boundary_runs - (no_of_1s2s3s_runs*0.5))/(no_of_balls_faced)\n"
      ],
      "execution_count": 40,
      "outputs": []
    },
    {
      "cell_type": "code",
      "metadata": {
        "id": "ua_y1_FIqc6G"
      },
      "source": [
        "#------------------------------- Pollard ----------------------------\n",
        "\n",
        "df_pollard= df_deliveries[(df_deliveries['batsman'] == 'KA Pollard') & (df_deliveries['wide_runs'] == 0)]\n",
        "df_1s2s3s_pollard = df_pollard[(df_pollard['batsman_runs'] == 1) | (df_pollard['batsman_runs'] == 2) |(df_pollard['batsman_runs'] == 3)]\n",
        "df_boundaries_pollard = df_pollard[(df_pollard['batsman_runs'] == 4) | (df_pollard['batsman_runs'] == 6)]\n",
        "df_noballs = df_pollard[df_pollard['noball_runs'] > 0]\n",
        "\n",
        "no_of_runs = df_pollard['batsman_runs'].sum()\n",
        "no_of_boundary_runs = df_boundaries_pollard['batsman_runs'].sum()\n",
        "no_of_1s2s3s_runs = df_1s2s3s_pollard['batsman_runs'].sum()\n",
        "#Claculating number of balls faced by batsman and excluding no-balls. Anyway we excluded wideballs in first step only.\n",
        "no_of_balls_faced = (df_pollard.shape[0]) - (df_noballs.shape[0])\n",
        "\n",
        "BIS_pollard = (no_of_runs + no_of_boundary_runs - (no_of_1s2s3s_runs*0.5))/(no_of_balls_faced)\n",
        "\n",
        "#------------------------------- Ishan Kishan ----------------------------\n",
        "\n",
        "df_ishan= df_deliveries[(df_deliveries['batsman'] == 'Ishan Kishan') & (df_deliveries['wide_runs'] == 0)]\n",
        "df_1s2s3s_ishan = df_ishan[(df_ishan['batsman_runs'] == 1) | (df_ishan['batsman_runs'] == 2) |(df_ishan['batsman_runs'] == 3)]\n",
        "df_boundaries_ishan = df_ishan[(df_ishan['batsman_runs'] == 4) | (df_ishan['batsman_runs'] == 6)]\n",
        "df_noballs = df_ishan[df_ishan['noball_runs'] > 0]\n",
        "\n",
        "no_of_runs = df_ishan['batsman_runs'].sum()\n",
        "no_of_boundary_runs = df_boundaries_ishan['batsman_runs'].sum()\n",
        "no_of_1s2s3s_runs = df_1s2s3s_ishan['batsman_runs'].sum()\n",
        "#Claculating number of balls faced by batsman and excluding no-balls. Anyway we excluded wideballs in first step only.\n",
        "no_of_balls_faced = (df_ishan.shape[0]) - (df_noballs.shape[0])\n",
        "\n",
        "BIS_ishan = (no_of_runs + no_of_boundary_runs - (no_of_1s2s3s_runs*0.5))/(no_of_balls_faced)\n"
      ],
      "execution_count": 42,
      "outputs": []
    },
    {
      "cell_type": "code",
      "metadata": {
        "id": "9a3aFGpaqd6g"
      },
      "source": [
        "#------------------------------- Samson----------------------------\n",
        "\n",
        "df_samson= df_deliveries[(df_deliveries['batsman'] == 'Q de Kock') & (df_deliveries['wide_runs'] == 0)]\n",
        "df_1s2s3s_samson = df_samson[(df_samson['batsman_runs'] == 1) | (df_samson['batsman_runs'] == 2) |(df_samson['batsman_runs'] == 3)]\n",
        "df_boundaries_samson = df_samson[(df_samson['batsman_runs'] == 4) | (df_samson['batsman_runs'] == 6)]\n",
        "df_noballs = df_samson[df_samson['noball_runs'] > 0]\n",
        "\n",
        "no_of_runs = df_samson['batsman_runs'].sum()\n",
        "no_of_boundary_runs = df_boundaries_samson['batsman_runs'].sum()\n",
        "no_of_1s2s3s_runs = df_1s2s3s_samson['batsman_runs'].sum()\n",
        "#Claculating number of balls faced by batsman and excluding no-balls. Anyway we excluded wideballs in first step only.\n",
        "no_of_balls_faced = (df_samson.shape[0]) - (df_noballs.shape[0])\n",
        "\n",
        "BIS_samson = (no_of_runs + no_of_boundary_runs - (no_of_1s2s3s_runs*0.5))/(no_of_balls_faced)\n",
        "\n",
        "#------------------------------- Hardik Pandya ----------------------------\n",
        "\n",
        "df_HP= df_deliveries[(df_deliveries['batsman'] == 'HH Pandya') & (df_deliveries['wide_runs'] == 0)]\n",
        "df_1s2s3s_HP = df_HP[(df_HP['batsman_runs'] == 1) | (df_HP['batsman_runs'] == 2) |(df_HP['batsman_runs'] == 3)]\n",
        "df_boundaries_HP = df_HP[(df_HP['batsman_runs'] == 4) | (df_HP['batsman_runs'] == 6)]\n",
        "df_noballs = df_HP[df_HP['noball_runs'] > 0]\n",
        "\n",
        "no_of_runs = df_HP['batsman_runs'].sum()\n",
        "no_of_boundary_runs = df_boundaries_HP['batsman_runs'].sum()\n",
        "no_of_1s2s3s_runs = df_1s2s3s_HP['batsman_runs'].sum()\n",
        "#Claculating number of balls faced by batsman and excluding no-balls. Anyway we excluded wideballs in first step only.\n",
        "no_of_balls_faced = (df_HP.shape[0]) - (df_noballs.shape[0])\n",
        "\n",
        "BIS_HP = (no_of_runs + no_of_boundary_runs - (no_of_1s2s3s_runs*0.5))/(no_of_balls_faced)\n"
      ],
      "execution_count": 44,
      "outputs": []
    },
    {
      "cell_type": "code",
      "metadata": {
        "id": "WOrQ6akcqezF"
      },
      "source": [
        "#------------------------------- Buttler ----------------------------\n",
        "\n",
        "df_buttler= df_deliveries[(df_deliveries['batsman'] == 'Q de Kock') & (df_deliveries['wide_runs'] == 0)]\n",
        "df_1s2s3s_buttler = df_buttler[(df_buttler['batsman_runs'] == 1) | (df_buttler['batsman_runs'] == 2) |(df_buttler['batsman_runs'] == 3)]\n",
        "df_boundaries_buttler = df_buttler[(df_buttler['batsman_runs'] == 4) | (df_buttler['batsman_runs'] == 6)]\n",
        "df_noballs = df_buttler[df_buttler['noball_runs'] > 0]\n",
        "\n",
        "no_of_runs = df_buttler['batsman_runs'].sum()\n",
        "no_of_boundary_runs = df_boundaries_buttler['batsman_runs'].sum()\n",
        "no_of_1s2s3s_runs = df_1s2s3s_buttler['batsman_runs'].sum()\n",
        "#Claculating number of balls faced by batsman and excluding no-balls. Anyway we excluded wideballs in first step only.\n",
        "no_of_balls_faced = (df_buttler.shape[0]) - (df_noballs.shape[0])\n",
        "\n",
        "BIS_buttler = (no_of_runs + no_of_boundary_runs - (no_of_1s2s3s_runs*0.5))/(no_of_balls_faced)\n",
        "\n",
        "#------------------------------- Krunal Pandya ----------------------------\n",
        "\n",
        "df_KP= df_deliveries[(df_deliveries['batsman'] == 'KH Pandya') & (df_deliveries['wide_runs'] == 0)]\n",
        "df_1s2s3s_KP = df_KP[(df_KP['batsman_runs'] == 1) | (df_KP['batsman_runs'] == 2) |(df_KP['batsman_runs'] == 3)]\n",
        "df_boundaries_KP = df_KP[(df_KP['batsman_runs'] == 4) | (df_KP['batsman_runs'] == 6)]\n",
        "df_noballs = df_KP[df_KP['noball_runs'] > 0]\n",
        "\n",
        "no_of_runs = df_KP['batsman_runs'].sum()\n",
        "no_of_boundary_runs = df_boundaries_KP['batsman_runs'].sum()\n",
        "no_of_1s2s3s_runs = df_1s2s3s_KP['batsman_runs'].sum()\n",
        "#Claculating number of balls faced by batsman and excluding no-balls. Anyway we excluded wideballs in first step only.\n",
        "no_of_balls_faced = (df_KP.shape[0]) - (df_noballs.shape[0])\n",
        "\n",
        "BIS_KP = (no_of_runs + no_of_boundary_runs - (no_of_1s2s3s_runs*0.5))/(no_of_balls_faced)\n"
      ],
      "execution_count": 46,
      "outputs": []
    },
    {
      "cell_type": "code",
      "metadata": {
        "id": "W1OETK-9t-Sv",
        "outputId": "5cb4ac19-9630-4010-9965-04a872dbf8c7",
        "colab": {
          "base_uri": "https://localhost:8080/",
          "height": 151
        }
      },
      "source": [
        "print(\"Decock BIS Score :\", BIS_decock)\n",
        "print(\"Smith BIS Score  :\", BIS_smith)\n",
        "print(\"Pollard BIS Score:\", BIS_pollard)\n",
        "print(\"Ishan BIS Score  :\", BIS_ishan)\n",
        "print(\"Samson BIS Score :\", BIS_samson)\n",
        "print(\"Hardik BIS Score :\", BIS_HP)\n",
        "print(\"Buttler BIS Score:\", BIS_buttler)\n",
        "print(\"Krunal BIS Score :\", BIS_KP)\n"
      ],
      "execution_count": 47,
      "outputs": [
        {
          "output_type": "stream",
          "text": [
            "Decock BIS Score : 1.9530685920577617\n",
            "Smith BIS Score  : 1.6310057655349135\n",
            "Pollard BIS Score: 2.1736222578919207\n",
            "Ishan BIS Score  : 1.9745283018867925\n",
            "Samson BIS Score : 1.9530685920577617\n",
            "Hardik BIS Score : 2.332122093023256\n",
            "Buttler BIS Score: 1.9530685920577617\n",
            "Krunal BIS Score : 2.1081967213114754\n"
          ],
          "name": "stdout"
        }
      ]
    },
    {
      "cell_type": "markdown",
      "metadata": {
        "id": "N0LcewJdu7eo"
      },
      "source": [
        "**Cocnclusion :-**\n",
        "\n",
        "According to above analysis Hardik pandya has highest BIS. So i am predicting in today match also hardik will have highest BIS."
      ]
    },
    {
      "cell_type": "markdown",
      "metadata": {
        "id": "SGeDiV4KrCfW"
      },
      "source": [
        "### Q3) Which individual batsman in the match will have the best(number of runs scored off boundaries) : (total runs scored) ratio?"
      ]
    },
    {
      "cell_type": "markdown",
      "metadata": {
        "id": "qOujE7KNr96z"
      },
      "source": [
        "I am calculating ratio for all batsman who are played in last match for their respective sides. Rohit is not not played in last match for MI. This question is about players, So most of the players will change team every two years. i.e why i am considering all the matches they played not only MI VS RR matches."
      ]
    },
    {
      "cell_type": "code",
      "metadata": {
        "id": "WzF_vk_HrrVN",
        "outputId": "fea6da70-11c6-4255-d581-0ce23e81df72",
        "colab": {
          "base_uri": "https://localhost:8080/",
          "height": 343
        }
      },
      "source": [
        "#Taking 5 batsman from each team(Not including rohit)\n",
        "df_batsmans_MIRR = df_deliveries[(df_deliveries['batsman'] == 'Q de Kock') | (df_deliveries['batsman'] == 'KA Pollard') |\n",
        "                                 (df_deliveries['batsman'] == 'HH Pandya') | (df_deliveries['batsman'] == 'Ishan Kishan') |\n",
        "                                 (df_deliveries['batsman'] == 'KH Pandya') | (df_deliveries['batsman'] == 'SPD Smith') |\n",
        "                                 (df_deliveries['batsman'] == 'SV Samson') | (df_deliveries['batsman'] == 'BA Stokes') |\n",
        "                                 (df_deliveries['batsman'] == 'RV Uthappa') | (df_deliveries['batsman'] == 'JC Buttler')]\n",
        "\n",
        "#First calcualting total runs scored by every batsman in all matches \n",
        "total_runs = df_batsmans_MIRR.groupby('batsman')['batsman_runs'].sum()\n",
        "df_total_runs = total_runs.to_frame().reset_index()\n",
        "df_total_runs.rename(columns = {'batsman_runs':'total_runs'}, inplace = True) \n",
        "df_total_runs.head(10)\n"
      ],
      "execution_count": 11,
      "outputs": [
        {
          "output_type": "execute_result",
          "data": {
            "text/html": [
              "<div>\n",
              "<style scoped>\n",
              "    .dataframe tbody tr th:only-of-type {\n",
              "        vertical-align: middle;\n",
              "    }\n",
              "\n",
              "    .dataframe tbody tr th {\n",
              "        vertical-align: top;\n",
              "    }\n",
              "\n",
              "    .dataframe thead th {\n",
              "        text-align: right;\n",
              "    }\n",
              "</style>\n",
              "<table border=\"1\" class=\"dataframe\">\n",
              "  <thead>\n",
              "    <tr style=\"text-align: right;\">\n",
              "      <th></th>\n",
              "      <th>batsman</th>\n",
              "      <th>total_runs</th>\n",
              "    </tr>\n",
              "  </thead>\n",
              "  <tbody>\n",
              "    <tr>\n",
              "      <th>0</th>\n",
              "      <td>BA Stokes</td>\n",
              "      <td>647</td>\n",
              "    </tr>\n",
              "    <tr>\n",
              "      <th>1</th>\n",
              "      <td>HH Pandya</td>\n",
              "      <td>1118</td>\n",
              "    </tr>\n",
              "    <tr>\n",
              "      <th>2</th>\n",
              "      <td>Ishan Kishan</td>\n",
              "      <td>711</td>\n",
              "    </tr>\n",
              "    <tr>\n",
              "      <th>3</th>\n",
              "      <td>JC Buttler</td>\n",
              "      <td>1431</td>\n",
              "    </tr>\n",
              "    <tr>\n",
              "      <th>4</th>\n",
              "      <td>KA Pollard</td>\n",
              "      <td>2784</td>\n",
              "    </tr>\n",
              "    <tr>\n",
              "      <th>5</th>\n",
              "      <td>KH Pandya</td>\n",
              "      <td>915</td>\n",
              "    </tr>\n",
              "    <tr>\n",
              "      <th>6</th>\n",
              "      <td>Q de Kock</td>\n",
              "      <td>1489</td>\n",
              "    </tr>\n",
              "    <tr>\n",
              "      <th>7</th>\n",
              "      <td>RV Uthappa</td>\n",
              "      <td>4446</td>\n",
              "    </tr>\n",
              "    <tr>\n",
              "      <th>8</th>\n",
              "      <td>SPD Smith</td>\n",
              "      <td>2047</td>\n",
              "    </tr>\n",
              "    <tr>\n",
              "      <th>9</th>\n",
              "      <td>SV Samson</td>\n",
              "      <td>2235</td>\n",
              "    </tr>\n",
              "  </tbody>\n",
              "</table>\n",
              "</div>"
            ],
            "text/plain": [
              "        batsman  total_runs\n",
              "0     BA Stokes         647\n",
              "1     HH Pandya        1118\n",
              "2  Ishan Kishan         711\n",
              "3    JC Buttler        1431\n",
              "4    KA Pollard        2784\n",
              "5     KH Pandya         915\n",
              "6     Q de Kock        1489\n",
              "7    RV Uthappa        4446\n",
              "8     SPD Smith        2047\n",
              "9     SV Samson        2235"
            ]
          },
          "metadata": {
            "tags": []
          },
          "execution_count": 11
        }
      ]
    },
    {
      "cell_type": "code",
      "metadata": {
        "id": "TK5A8zOoziyK",
        "outputId": "4c648487-d68e-4733-db98-99335111a018",
        "colab": {
          "base_uri": "https://localhost:8080/",
          "height": 343
        }
      },
      "source": [
        "#Now taking only 4's and 6's rows from above dataframe\n",
        "#I saw in dataset some rows showing batsman runs = 5 or 7 but we dont know weather these runs are coming from boundaries or not.\n",
        "#So i am considering those rows as outliers and taking only 4 and 6.\n",
        "\n",
        "df_4s6s = df_batsmans_MIRR[(df_batsmans_MIRR['batsman_runs'] == 4) | (df_batsmans_MIRR['batsman_runs'] == 6)]\n",
        "df_4s6s.head(2)\n",
        "boundaries_runs = df_4s6s.groupby('batsman')['batsman_runs'].sum()\n",
        "df_boundaries_runs = boundaries_runs.to_frame().reset_index()\n",
        "df_boundaries_runs.rename(columns = {'batsman_runs':'boundaries_runs'}, inplace = True) \n",
        "df_boundaries_runs.head(10)"
      ],
      "execution_count": 12,
      "outputs": [
        {
          "output_type": "execute_result",
          "data": {
            "text/html": [
              "<div>\n",
              "<style scoped>\n",
              "    .dataframe tbody tr th:only-of-type {\n",
              "        vertical-align: middle;\n",
              "    }\n",
              "\n",
              "    .dataframe tbody tr th {\n",
              "        vertical-align: top;\n",
              "    }\n",
              "\n",
              "    .dataframe thead th {\n",
              "        text-align: right;\n",
              "    }\n",
              "</style>\n",
              "<table border=\"1\" class=\"dataframe\">\n",
              "  <thead>\n",
              "    <tr style=\"text-align: right;\">\n",
              "      <th></th>\n",
              "      <th>batsman</th>\n",
              "      <th>boundaries_runs</th>\n",
              "    </tr>\n",
              "  </thead>\n",
              "  <tbody>\n",
              "    <tr>\n",
              "      <th>0</th>\n",
              "      <td>BA Stokes</td>\n",
              "      <td>322</td>\n",
              "    </tr>\n",
              "    <tr>\n",
              "      <th>1</th>\n",
              "      <td>HH Pandya</td>\n",
              "      <td>706</td>\n",
              "    </tr>\n",
              "    <tr>\n",
              "      <th>2</th>\n",
              "      <td>Ishan Kishan</td>\n",
              "      <td>468</td>\n",
              "    </tr>\n",
              "    <tr>\n",
              "      <th>3</th>\n",
              "      <td>JC Buttler</td>\n",
              "      <td>938</td>\n",
              "    </tr>\n",
              "    <tr>\n",
              "      <th>4</th>\n",
              "      <td>KA Pollard</td>\n",
              "      <td>1778</td>\n",
              "    </tr>\n",
              "    <tr>\n",
              "      <th>5</th>\n",
              "      <td>KH Pandya</td>\n",
              "      <td>558</td>\n",
              "    </tr>\n",
              "    <tr>\n",
              "      <th>6</th>\n",
              "      <td>Q de Kock</td>\n",
              "      <td>948</td>\n",
              "    </tr>\n",
              "    <tr>\n",
              "      <th>7</th>\n",
              "      <td>RV Uthappa</td>\n",
              "      <td>2680</td>\n",
              "    </tr>\n",
              "    <tr>\n",
              "      <th>8</th>\n",
              "      <td>SPD Smith</td>\n",
              "      <td>1018</td>\n",
              "    </tr>\n",
              "    <tr>\n",
              "      <th>9</th>\n",
              "      <td>SV Samson</td>\n",
              "      <td>1218</td>\n",
              "    </tr>\n",
              "  </tbody>\n",
              "</table>\n",
              "</div>"
            ],
            "text/plain": [
              "        batsman  boundaries_runs\n",
              "0     BA Stokes              322\n",
              "1     HH Pandya              706\n",
              "2  Ishan Kishan              468\n",
              "3    JC Buttler              938\n",
              "4    KA Pollard             1778\n",
              "5     KH Pandya              558\n",
              "6     Q de Kock              948\n",
              "7    RV Uthappa             2680\n",
              "8     SPD Smith             1018\n",
              "9     SV Samson             1218"
            ]
          },
          "metadata": {
            "tags": []
          },
          "execution_count": 12
        }
      ]
    },
    {
      "cell_type": "code",
      "metadata": {
        "id": "2CyaiF_N33Iv",
        "outputId": "1ebf4050-a016-4115-aa13-c1b0e4226fa7",
        "colab": {
          "base_uri": "https://localhost:8080/",
          "height": 343
        }
      },
      "source": [
        "#Now first merging above dataframes then calculating ratio for each batsman\n",
        "df_ratio = pd.merge(df_boundaries_runs, df_total_runs, left_on='batsman',right_on='batsman', how='outer')\n",
        "\n",
        "df_ratio['ratio'] = df_ratio['boundaries_runs'] / df_ratio['total_runs']\n",
        "df_ratio.head(10)"
      ],
      "execution_count": 13,
      "outputs": [
        {
          "output_type": "execute_result",
          "data": {
            "text/html": [
              "<div>\n",
              "<style scoped>\n",
              "    .dataframe tbody tr th:only-of-type {\n",
              "        vertical-align: middle;\n",
              "    }\n",
              "\n",
              "    .dataframe tbody tr th {\n",
              "        vertical-align: top;\n",
              "    }\n",
              "\n",
              "    .dataframe thead th {\n",
              "        text-align: right;\n",
              "    }\n",
              "</style>\n",
              "<table border=\"1\" class=\"dataframe\">\n",
              "  <thead>\n",
              "    <tr style=\"text-align: right;\">\n",
              "      <th></th>\n",
              "      <th>batsman</th>\n",
              "      <th>boundaries_runs</th>\n",
              "      <th>total_runs</th>\n",
              "      <th>ratio</th>\n",
              "    </tr>\n",
              "  </thead>\n",
              "  <tbody>\n",
              "    <tr>\n",
              "      <th>0</th>\n",
              "      <td>BA Stokes</td>\n",
              "      <td>322</td>\n",
              "      <td>647</td>\n",
              "      <td>0.497682</td>\n",
              "    </tr>\n",
              "    <tr>\n",
              "      <th>1</th>\n",
              "      <td>HH Pandya</td>\n",
              "      <td>706</td>\n",
              "      <td>1118</td>\n",
              "      <td>0.631485</td>\n",
              "    </tr>\n",
              "    <tr>\n",
              "      <th>2</th>\n",
              "      <td>Ishan Kishan</td>\n",
              "      <td>468</td>\n",
              "      <td>711</td>\n",
              "      <td>0.658228</td>\n",
              "    </tr>\n",
              "    <tr>\n",
              "      <th>3</th>\n",
              "      <td>JC Buttler</td>\n",
              "      <td>938</td>\n",
              "      <td>1431</td>\n",
              "      <td>0.655486</td>\n",
              "    </tr>\n",
              "    <tr>\n",
              "      <th>4</th>\n",
              "      <td>KA Pollard</td>\n",
              "      <td>1778</td>\n",
              "      <td>2784</td>\n",
              "      <td>0.638649</td>\n",
              "    </tr>\n",
              "    <tr>\n",
              "      <th>5</th>\n",
              "      <td>KH Pandya</td>\n",
              "      <td>558</td>\n",
              "      <td>915</td>\n",
              "      <td>0.609836</td>\n",
              "    </tr>\n",
              "    <tr>\n",
              "      <th>6</th>\n",
              "      <td>Q de Kock</td>\n",
              "      <td>948</td>\n",
              "      <td>1489</td>\n",
              "      <td>0.636669</td>\n",
              "    </tr>\n",
              "    <tr>\n",
              "      <th>7</th>\n",
              "      <td>RV Uthappa</td>\n",
              "      <td>2680</td>\n",
              "      <td>4446</td>\n",
              "      <td>0.602789</td>\n",
              "    </tr>\n",
              "    <tr>\n",
              "      <th>8</th>\n",
              "      <td>SPD Smith</td>\n",
              "      <td>1018</td>\n",
              "      <td>2047</td>\n",
              "      <td>0.497313</td>\n",
              "    </tr>\n",
              "    <tr>\n",
              "      <th>9</th>\n",
              "      <td>SV Samson</td>\n",
              "      <td>1218</td>\n",
              "      <td>2235</td>\n",
              "      <td>0.544966</td>\n",
              "    </tr>\n",
              "  </tbody>\n",
              "</table>\n",
              "</div>"
            ],
            "text/plain": [
              "        batsman  boundaries_runs  total_runs     ratio\n",
              "0     BA Stokes              322         647  0.497682\n",
              "1     HH Pandya              706        1118  0.631485\n",
              "2  Ishan Kishan              468         711  0.658228\n",
              "3    JC Buttler              938        1431  0.655486\n",
              "4    KA Pollard             1778        2784  0.638649\n",
              "5     KH Pandya              558         915  0.609836\n",
              "6     Q de Kock              948        1489  0.636669\n",
              "7    RV Uthappa             2680        4446  0.602789\n",
              "8     SPD Smith             1018        2047  0.497313\n",
              "9     SV Samson             1218        2235  0.544966"
            ]
          },
          "metadata": {
            "tags": []
          },
          "execution_count": 13
        }
      ]
    },
    {
      "cell_type": "markdown",
      "metadata": {
        "id": "OcgFkkgu_JAq"
      },
      "source": [
        "\n",
        "\n",
        "1.   If you look at ratio column Pandya brothers,kishan,buttler,pollard,uthappa and decock has ratio > 0.6 of(boundary runs : total runs) in ipl.\n",
        "2.   So in given options Krunal pandya,hardik pandya, Jos buttler and Uthappa is not there from above mentioned list of 6 players who has ratio > 0.6.\n",
        "\n",
        "So i am choosing 'others' option in given options.\n",
        "\n"
      ]
    },
    {
      "cell_type": "markdown",
      "metadata": {
        "id": "T4dxXCLtC1TW"
      },
      "source": [
        "### Q4) How many balls more/less will RR take to reach a team total 100 as compared to MI?"
      ]
    },
    {
      "cell_type": "code",
      "metadata": {
        "id": "QNByb53ZDRed",
        "outputId": "7d70fcb1-8192-49d2-ceb1-89b5351bf7e8",
        "colab": {
          "base_uri": "https://localhost:8080/",
          "height": 70
        }
      },
      "source": [
        "#First i am taking Mumbai vs RR matches.\n",
        "#Than calculating Number of balls take to reach 100 runs in each match by both teams.\n",
        "#Now i am filtering MI batting against RR.\n",
        "df_MIbatting = df_deliveries[(df_deliveries['batting_team'] == 'Mumbai Indians') & (df_deliveries['bowling_team'] == 'Rajasthan Royals')]\n",
        "                          \n",
        "#converting total_runs,match id and wide_runs into list\n",
        "total_runs_list = df_MIbatting['total_runs'].tolist()\n",
        "match_id_list = df_MIbatting['match_id'].tolist()\n",
        "wideballs_list = df_MIbatting['wide_runs'].tolist()\n",
        "noballs_list = df_MIbatting['noball_runs'].tolist()\n",
        "\n",
        "listoflists = []\n",
        "listoflists.append(match_id_list)\n",
        "listoflists.append(total_runs_list)\n",
        "listoflists.append(wideballs_list)\n",
        "listoflists.append(noballs_list)\n",
        "\n",
        "MI_ballsfaced = []\n",
        "MI_matchID = []\n",
        "run = 0\n",
        "balls_faced = 0\n",
        "for i in range(len(listoflists[0])-1):\n",
        "     run = run + (listoflists[1][i])\n",
        "     if listoflists[2][i] == 0 and listoflists[3][i] == 0 : #only including valid deliveries in balls faced not wides, no-balls\n",
        "        balls_faced = balls_faced + 1\n",
        "     if listoflists[0][i] != listoflists[0][i+1] and listoflists[0][i] not in MI_matchID and run<100:\n",
        "        MI_ballsfaced.append('NA')  #here 'NA' means mumbai didnt scored 100 runs in a match.\n",
        "        MI_matchID.append(listoflists[0][i])\n",
        "        balls_faced = 0\n",
        "        run = 0\n",
        "     if listoflists[0][i] != listoflists[0][i+1]:\n",
        "        balls_faced = 0\n",
        "        run = 0 \n",
        "     if listoflists[0][i] not in MI_matchID:   \n",
        "        if run >= 100:\n",
        "           MI_ballsfaced.append(balls_faced)\n",
        "           MI_matchID.append(listoflists[0][i])\n",
        "           run = 0\n",
        "           balls_faced = 0\n",
        "\n",
        "print(\"Balls faced to reach 100 runs by MI:\",MI_ballsfaced)\n",
        "print(\"Corresponding Match_Id             :\",MI_matchID)"
      ],
      "execution_count": 14,
      "outputs": [
        {
          "output_type": "stream",
          "text": [
            "Balls faced to reach 100 runs by MI: [87, 94, 90, 60, 81, 'NA', 97, 74, 68, 'NA', 70, 72, 74, 52, 97, 79, 63, 72, 68, 70]\n",
            "Corresponding Match_Id             : [86, 113, 160, 176, 219, 267, 299, 319, 377, 403, 447, 456, 501, 513, 526, 549, 7914, 7940, 11318, 11327]\n"
          ],
          "name": "stdout"
        }
      ]
    },
    {
      "cell_type": "code",
      "metadata": {
        "id": "cAlbW0bWLEd1",
        "outputId": "56662d08-740b-461b-a2b1-ab30df817a7e",
        "colab": {
          "base_uri": "https://localhost:8080/",
          "height": 70
        }
      },
      "source": [
        "#Now i am filtering RR batting against MI\n",
        "df_RRbatting = df_deliveries[(df_deliveries['batting_team'] == 'Rajasthan Royals') & (df_deliveries['bowling_team'] == 'Mumbai Indians')]\n",
        "\n",
        "#converting total_runs,match id and wide_runs into list\n",
        "total_runs_list = df_RRbatting['total_runs'].tolist()\n",
        "match_id_list = df_RRbatting['match_id'].tolist()\n",
        "wideballs_list = df_RRbatting['wide_runs'].tolist()\n",
        "noballs_list = df_RRbatting['noball_runs'].tolist()\n",
        "\n",
        "listoflists = []\n",
        "listoflists.append(match_id_list)\n",
        "listoflists.append(total_runs_list)\n",
        "listoflists.append(wideballs_list)\n",
        "listoflists.append(noballs_list)\n",
        "\n",
        "RR_ballsfaced = []\n",
        "RR_matchID = []\n",
        "run = 0\n",
        "balls_faced = 0\n",
        "for i in range(len(listoflists[0])-1):\n",
        "     run = run + (listoflists[1][i])\n",
        "     if listoflists[2][i] == 0 and listoflists[3][i] == 0 : #only including valid deliveries in balls faced not wides, no-balls\n",
        "        balls_faced = balls_faced + 1\n",
        "     if listoflists[0][i] != listoflists[0][i+1] and listoflists[0][i] not in RR_matchID and run<100:\n",
        "        RR_ballsfaced.append('NA')  #here NA means mumbai didnt scored 100 runs in a match.\n",
        "        RR_matchID.append(listoflists[0][i])\n",
        "        balls_faced = 0\n",
        "        run = 0\n",
        "     if listoflists[0][i] != listoflists[0][i+1]:\n",
        "        balls_faced = 0\n",
        "        run = 0 \n",
        "     if listoflists[0][i] not in RR_matchID:   \n",
        "        if run >= 100:\n",
        "           RR_ballsfaced.append(balls_faced)\n",
        "           RR_matchID.append(listoflists[0][i])\n",
        "           run = 0\n",
        "           balls_faced = 0\n",
        "\n",
        "print(\"Balls faced to reach 100 runs by MI:\",RR_ballsfaced)\n",
        "print(\"Corresponding Match_Id             :\",RR_matchID)"
      ],
      "execution_count": 15,
      "outputs": [
        {
          "output_type": "stream",
          "text": [
            "Balls faced to reach 100 runs by MI: [88, 100, 81, 70, 101, 'NA', 63, 74, 81, 68, 85, 82, 94, 76, 83, 68, 72, 69, 59, 63]\n",
            "Corresponding Match_Id             : [86, 113, 160, 176, 219, 267, 299, 319, 377, 403, 447, 456, 501, 513, 526, 549, 7914, 7940, 11318, 11327]\n"
          ],
          "name": "stdout"
        }
      ]
    },
    {
      "cell_type": "markdown",
      "metadata": {
        "id": "wQSVkAJ5Uxhb"
      },
      "source": [
        "By looking at MI and RR balls faced list one thing we can observe is that Mumbai not reached 100 runs 2 times and Rajssthan not reached 100 runs 1 time out of 20 matches."
      ]
    },
    {
      "cell_type": "code",
      "metadata": {
        "id": "3-11_T7bVKno",
        "outputId": "a33a776e-264b-4cf7-9168-932bdafa9e20",
        "colab": {
          "base_uri": "https://localhost:8080/",
          "height": 106
        }
      },
      "source": [
        "#converting above lists into dataframes \n",
        "df_MI_ballsfaced =  pd.DataFrame(list(zip(MI_matchID, MI_ballsfaced)), columns =['match_id', 'balls_faced_MI']) \n",
        "df_RR_ballsfaced =  pd.DataFrame(list(zip(RR_matchID, RR_ballsfaced)), columns =['match_id', 'balls_faced_RR']) \n",
        "#Merging MI and RR ballsfaced dataframes on match_id\n",
        "df_MIvsRR = pd.merge(df_MI_ballsfaced, df_RR_ballsfaced, left_on='match_id',right_on='match_id', how='outer')\n",
        "#Here i am taking only matches where both teams crossed 100 runs\n",
        "df_MIvsRR = df_MIvsRR[df_MIvsRR.balls_faced_MI != 'NA']\n",
        "df_MIvsRR['difference_in_balls'] = abs(df_MIvsRR['balls_faced_MI'] - df_MIvsRR['balls_faced_RR'])\n",
        "df_MIvsRR.head(2)"
      ],
      "execution_count": 16,
      "outputs": [
        {
          "output_type": "execute_result",
          "data": {
            "text/html": [
              "<div>\n",
              "<style scoped>\n",
              "    .dataframe tbody tr th:only-of-type {\n",
              "        vertical-align: middle;\n",
              "    }\n",
              "\n",
              "    .dataframe tbody tr th {\n",
              "        vertical-align: top;\n",
              "    }\n",
              "\n",
              "    .dataframe thead th {\n",
              "        text-align: right;\n",
              "    }\n",
              "</style>\n",
              "<table border=\"1\" class=\"dataframe\">\n",
              "  <thead>\n",
              "    <tr style=\"text-align: right;\">\n",
              "      <th></th>\n",
              "      <th>match_id</th>\n",
              "      <th>balls_faced_MI</th>\n",
              "      <th>balls_faced_RR</th>\n",
              "      <th>difference_in_balls</th>\n",
              "    </tr>\n",
              "  </thead>\n",
              "  <tbody>\n",
              "    <tr>\n",
              "      <th>0</th>\n",
              "      <td>86</td>\n",
              "      <td>87</td>\n",
              "      <td>88</td>\n",
              "      <td>1</td>\n",
              "    </tr>\n",
              "    <tr>\n",
              "      <th>1</th>\n",
              "      <td>113</td>\n",
              "      <td>94</td>\n",
              "      <td>100</td>\n",
              "      <td>6</td>\n",
              "    </tr>\n",
              "  </tbody>\n",
              "</table>\n",
              "</div>"
            ],
            "text/plain": [
              "   match_id balls_faced_MI balls_faced_RR difference_in_balls\n",
              "0        86             87             88                   1\n",
              "1       113             94            100                   6"
            ]
          },
          "metadata": {
            "tags": []
          },
          "execution_count": 16
        }
      ]
    },
    {
      "cell_type": "code",
      "metadata": {
        "id": "myf36pSqZfX8",
        "outputId": "0969cf31-a03f-4147-d6c7-0e1506287443",
        "colab": {
          "base_uri": "https://localhost:8080/",
          "height": 399
        }
      },
      "source": [
        "#Now plotting PDF \n",
        "import seaborn as sns\n",
        "import matplotlib.pyplot as plt\n",
        "sns.FacetGrid(df_MIvsRR,size=5) \\\n",
        "   .map(sns.distplot, \"difference_in_balls\") \\\n",
        "   .add_legend();\n",
        "\n",
        "plt.title(\"PDF for difference in balls to reach 100 runs by MI and RR\")\n",
        "plt.show();\n",
        "\n",
        "#Printing Median\n",
        "print(\"Median :\",df_MIvsRR['difference_in_balls'].median())"
      ],
      "execution_count": 17,
      "outputs": [
        {
          "output_type": "display_data",
          "data": {
            "image/png": "[encoded data removed]",
            "text/plain": [
              "<Figure size 368x360 with 1 Axes>"
            ]
          },
          "metadata": {
            "tags": [],
            "needs_background": "light"
          }
        },
        {
          "output_type": "stream",
          "text": [
            "Median : 10.0\n"
          ],
          "name": "stdout"
        }
      ]
    },
    {
      "cell_type": "markdown",
      "metadata": {
        "id": "BokxZ4YBbjBT"
      },
      "source": [
        "**Conclusion :-**\n",
        "\n",
        "\n",
        "\n",
        "1.   By observing above PDF plot i can say most of the points are lies between 4 to 14 and median is 10.\n",
        "2.   MI and RR played 20 head-head matches i.e total 40 innings. Out of 40 MI not scored 100 runs 2times and RR not scored 100 runs 1times.\n",
        "\n",
        "By according to all the above analysis MI/RR will reach 100 runs in the diffrence of 10 balls more/less. In given options i am choosing (0-10) balls difference.\n",
        "\n"
      ]
    },
    {
      "cell_type": "markdown",
      "metadata": {
        "id": "Thmyo0drcyzP"
      },
      "source": [
        "### Q5) Which bowler has the best Bolwer Letahlity Score(BLS) in today match?"
      ]
    },
    {
      "cell_type": "code",
      "metadata": {
        "id": "IgQmvMIXvVg2",
        "outputId": "9db0b581-9bdc-40db-dc00-d5b072fb04b8",
        "colab": {
          "base_uri": "https://localhost:8080/",
          "height": 212
        }
      },
      "source": [
        "#------------------------------- Bumrah ----------------------------\n",
        "from functools import reduce\n",
        "#Filtering out bumrah without wide deliveries. I know officially no-balls not comes under number of balls bowled by bowler\n",
        "#But you can hardly get 0-1 no-ball for innings i.e why i am not removing no-balls from total balls bowled\n",
        "#I am calculating BLS of player for every match then taking central tendency.\n",
        "df = df_deliveries[(df_deliveries['bowler'] == 'JJ Bumrah')&(df_deliveries['wide_runs'] == 0)]\n",
        "df_wickets = df[(df['player_dismissed'] != 'No Wicket') & (df['dismissal_kind'] != 'run out')]\n",
        "df_dot_balls= df[(df['total_runs'] == 0)]\n",
        "df_boundaries = df[(df['batsman_runs'] == 4) | (df['batsman_runs'] == 6)]\n",
        "\n",
        "no_of_wickets = df_wickets.groupby('match_id')['player_dismissed'].count()\n",
        "df_no_of_wickets = no_of_wickets.to_frame().reset_index()\n",
        "no_of_dotballs = df_dot_balls_archer.groupby('match_id')['ball'].count()\n",
        "df_no_of_dotballs = no_of_dotballs.to_frame().reset_index()\n",
        "no_of_boundary_runs = df_boundaries_archer.groupby('match_id')['batsman_runs'].sum()\n",
        "df_no_of_boundary_runs = no_of_boundary_runs.to_frame().reset_index()\n",
        "no_of_boundaries = df_boundaries_archer.groupby('match_id')['batsman_runs'].count()\n",
        "df_no_of_boundaries = no_of_boundaries.to_frame().reset_index()\n",
        "no_of_balls_bowled = df_archer.groupby('match_id')['ball'].count()\n",
        "df_no_of_balls_bowled = no_of_balls_bowled.to_frame().reset_index()\n",
        "\n",
        "\n",
        "dfs = [df_no_of_wickets, df_no_of_dotballs, df_no_of_boundary_runs, df_no_of_boundaries, df_no_of_balls_bowled]\n",
        "df_final = reduce(lambda left,right: pd.merge(left,right,on='match_id'), dfs)\n",
        "df_final.rename(columns = {'player_dismissed':'Wickets_taken','ball_x':'dot_balls','batsman_runs_x':'boundary_runs',\n",
        "                           'batsman_runs_y':'boundaries','ball_y':'balls_bowled'}, inplace = True)\n",
        "\n",
        "#Adding small noise to denominator because we are getting infinity for some values\n",
        "df_final['BLS_Bumrah'] = (df_final['Wickets_taken'] + (df_final['dot_balls'] * 2) - (df_final['boundary_runs'] / df_final['boundaries']))/(df_final['balls_bowled'] - (df_final['dot_balls'] * 2.5)+0.1)\n",
        "\n",
        "print('Median of BLS Bumrah is:',df_final['BLS_Bumrah'].median())\n",
        "df_final.head()"
      ],
      "execution_count": 70,
      "outputs": [
        {
          "output_type": "stream",
          "text": [
            "Median of BLS Bumrah is: 1.6153846153846154\n"
          ],
          "name": "stdout"
        },
        {
          "output_type": "execute_result",
          "data": {
            "text/html": [
              "<div>\n",
              "<style scoped>\n",
              "    .dataframe tbody tr th:only-of-type {\n",
              "        vertical-align: middle;\n",
              "    }\n",
              "\n",
              "    .dataframe tbody tr th {\n",
              "        vertical-align: top;\n",
              "    }\n",
              "\n",
              "    .dataframe thead th {\n",
              "        text-align: right;\n",
              "    }\n",
              "</style>\n",
              "<table border=\"1\" class=\"dataframe\">\n",
              "  <thead>\n",
              "    <tr style=\"text-align: right;\">\n",
              "      <th></th>\n",
              "      <th>match_id</th>\n",
              "      <th>Wickets_taken</th>\n",
              "      <th>dot_balls</th>\n",
              "      <th>boundary_runs</th>\n",
              "      <th>boundaries</th>\n",
              "      <th>balls_bowled</th>\n",
              "      <th>BLS_Bumrah</th>\n",
              "    </tr>\n",
              "  </thead>\n",
              "  <tbody>\n",
              "    <tr>\n",
              "      <th>0</th>\n",
              "      <td>7</td>\n",
              "      <td>1</td>\n",
              "      <td>7</td>\n",
              "      <td>18</td>\n",
              "      <td>4</td>\n",
              "      <td>26</td>\n",
              "      <td>1.235294</td>\n",
              "    </tr>\n",
              "    <tr>\n",
              "      <th>1</th>\n",
              "      <td>10</td>\n",
              "      <td>3</td>\n",
              "      <td>9</td>\n",
              "      <td>8</td>\n",
              "      <td>2</td>\n",
              "      <td>24</td>\n",
              "      <td>11.333333</td>\n",
              "    </tr>\n",
              "    <tr>\n",
              "      <th>2</th>\n",
              "      <td>22</td>\n",
              "      <td>1</td>\n",
              "      <td>8</td>\n",
              "      <td>12</td>\n",
              "      <td>3</td>\n",
              "      <td>25</td>\n",
              "      <td>2.600000</td>\n",
              "    </tr>\n",
              "    <tr>\n",
              "      <th>3</th>\n",
              "      <td>24</td>\n",
              "      <td>2</td>\n",
              "      <td>11</td>\n",
              "      <td>8</td>\n",
              "      <td>2</td>\n",
              "      <td>24</td>\n",
              "      <td>-5.714286</td>\n",
              "    </tr>\n",
              "    <tr>\n",
              "      <th>4</th>\n",
              "      <td>28</td>\n",
              "      <td>2</td>\n",
              "      <td>9</td>\n",
              "      <td>12</td>\n",
              "      <td>3</td>\n",
              "      <td>24</td>\n",
              "      <td>10.666667</td>\n",
              "    </tr>\n",
              "  </tbody>\n",
              "</table>\n",
              "</div>"
            ],
            "text/plain": [
              "   match_id  Wickets_taken  dot_balls  ...  boundaries  balls_bowled  BLS_Bumrah\n",
              "0         7              1          7  ...           4            26    1.235294\n",
              "1        10              3          9  ...           2            24   11.333333\n",
              "2        22              1          8  ...           3            25    2.600000\n",
              "3        24              2         11  ...           2            24   -5.714286\n",
              "4        28              2          9  ...           3            24   10.666667\n",
              "\n",
              "[5 rows x 7 columns]"
            ]
          },
          "metadata": {
            "tags": []
          },
          "execution_count": 70
        }
      ]
    },
    {
      "cell_type": "markdown",
      "metadata": {
        "id": "kk3gAUIi3yKT"
      },
      "source": [
        "Actually for some matches we are getting BLS is infinity. So that means denominatore is zero. So i am adding small noise to the denominator i.e 0.1."
      ]
    },
    {
      "cell_type": "code",
      "metadata": {
        "id": "cdlZrKEc3Lpn",
        "outputId": "70262bc5-fd5a-45b6-8759-80a7e5c4d3dd",
        "colab": {
          "base_uri": "https://localhost:8080/",
          "height": 123
        }
      },
      "source": [
        "#--------------------------------- Archer -----------------------------\n",
        "df = df_deliveries[(df_deliveries['bowler'] == 'J Archer')&(df_deliveries['wide_runs'] == 0)]\n",
        "df_wickets = df[(df['player_dismissed'] != 'No Wicket') & (df['dismissal_kind'] != 'run out')]\n",
        "df_dot_balls= df[(df['total_runs'] == 0)]\n",
        "df_boundaries = df[(df['batsman_runs'] == 4) | (df['batsman_runs'] == 6)]\n",
        "\n",
        "no_of_wickets = df_wickets.groupby('match_id')['player_dismissed'].count()\n",
        "df_no_of_wickets = no_of_wickets.to_frame().reset_index()\n",
        "no_of_dotballs = df_dot_balls_archer.groupby('match_id')['ball'].count()\n",
        "df_no_of_dotballs = no_of_dotballs.to_frame().reset_index()\n",
        "no_of_boundary_runs = df_boundaries_archer.groupby('match_id')['batsman_runs'].sum()\n",
        "df_no_of_boundary_runs = no_of_boundary_runs.to_frame().reset_index()\n",
        "no_of_boundaries = df_boundaries_archer.groupby('match_id')['batsman_runs'].count()\n",
        "df_no_of_boundaries = no_of_boundaries.to_frame().reset_index()\n",
        "no_of_balls_bowled = df_archer.groupby('match_id')['ball'].count()\n",
        "df_no_of_balls_bowled = no_of_balls_bowled.to_frame().reset_index()\n",
        "\n",
        "\n",
        "dfs = [df_no_of_wickets, df_no_of_dotballs, df_no_of_boundary_runs, df_no_of_boundaries, df_no_of_balls_bowled]\n",
        "df_final = reduce(lambda left,right: pd.merge(left,right,on='match_id'), dfs)\n",
        "df_final.rename(columns = {'player_dismissed':'Wickets_taken','ball_x':'dot_balls','batsman_runs_x':'boundary_runs',\n",
        "                           'batsman_runs_y':'boundaries','ball_y':'balls_bowled'}, inplace = True)\n",
        "\n",
        "df_final['BLS_Archer'] = (df_final['Wickets_taken'] + (df_final['dot_balls'] * 2) - (df_final['boundary_runs'] / df_final['boundaries']))/(df_final['balls_bowled'] - (df_final['dot_balls'] * 2.5)+0.1)\n",
        "\n",
        "print('Median of BLS Archer is:',df_final['BLS_Archer'].median())\n",
        "df_final.head(2)"
      ],
      "execution_count": 86,
      "outputs": [
        {
          "output_type": "stream",
          "text": [
            "Median of BLS Archer is: 2.381720430107527\n"
          ],
          "name": "stdout"
        },
        {
          "output_type": "execute_result",
          "data": {
            "text/html": [
              "<div>\n",
              "<style scoped>\n",
              "    .dataframe tbody tr th:only-of-type {\n",
              "        vertical-align: middle;\n",
              "    }\n",
              "\n",
              "    .dataframe tbody tr th {\n",
              "        vertical-align: top;\n",
              "    }\n",
              "\n",
              "    .dataframe thead th {\n",
              "        text-align: right;\n",
              "    }\n",
              "</style>\n",
              "<table border=\"1\" class=\"dataframe\">\n",
              "  <thead>\n",
              "    <tr style=\"text-align: right;\">\n",
              "      <th></th>\n",
              "      <th>match_id</th>\n",
              "      <th>Wickets_taken</th>\n",
              "      <th>dot_balls</th>\n",
              "      <th>boundary_runs</th>\n",
              "      <th>boundaries</th>\n",
              "      <th>balls_bowled</th>\n",
              "      <th>BLS_Archer</th>\n",
              "    </tr>\n",
              "  </thead>\n",
              "  <tbody>\n",
              "    <tr>\n",
              "      <th>0</th>\n",
              "      <td>7914</td>\n",
              "      <td>3</td>\n",
              "      <td>10</td>\n",
              "      <td>12</td>\n",
              "      <td>3</td>\n",
              "      <td>25</td>\n",
              "      <td>190.000000</td>\n",
              "    </tr>\n",
              "    <tr>\n",
              "      <th>1</th>\n",
              "      <td>7940</td>\n",
              "      <td>2</td>\n",
              "      <td>6</td>\n",
              "      <td>22</td>\n",
              "      <td>5</td>\n",
              "      <td>18</td>\n",
              "      <td>3.096774</td>\n",
              "    </tr>\n",
              "  </tbody>\n",
              "</table>\n",
              "</div>"
            ],
            "text/plain": [
              "   match_id  Wickets_taken  dot_balls  ...  boundaries  balls_bowled  BLS_Archer\n",
              "0      7914              3         10  ...           3            25  190.000000\n",
              "1      7940              2          6  ...           5            18    3.096774\n",
              "\n",
              "[2 rows x 7 columns]"
            ]
          },
          "metadata": {
            "tags": []
          },
          "execution_count": 86
        }
      ]
    },
    {
      "cell_type": "code",
      "metadata": {
        "id": "HlouJQD15Fla",
        "outputId": "3bc1c2b9-48ea-4628-da69-a71043ad1a9b",
        "colab": {
          "base_uri": "https://localhost:8080/",
          "height": 153
        }
      },
      "source": [
        "#--------------------------------- Trent Boult -----------------------------\n",
        "dfb = df_deliveries[(df_deliveries['bowler'] == 'TA Boult')&(df_deliveries['wide_runs'] == 0)]\n",
        "df_wickets = dfb[(dfb['player_dismissed'] != 'No Wicket') & (dfb['dismissal_kind'] != 'run out')]\n",
        "df_dot_balls= dfb[(dfb['total_runs'] == 0)]\n",
        "df_boundaries = dfb[(dfb['batsman_runs'] == 4) | (dfb['batsman_runs'] == 6)]\n",
        "\n",
        "no_of_wickets = df_wickets.groupby('match_id')['player_dismissed'].count()\n",
        "df_no_of_wickets = no_of_wickets.to_frame().reset_index()\n",
        "no_of_dotballs = df_dot_balls_archer.groupby('match_id')['ball'].count()\n",
        "df_no_of_dotballs = no_of_dotballs.to_frame().reset_index()\n",
        "no_of_boundary_runs = df_boundaries_archer.groupby('match_id')['batsman_runs'].sum()\n",
        "df_no_of_boundary_runs = no_of_boundary_runs.to_frame().reset_index()\n",
        "no_of_boundaries = df_boundaries_archer.groupby('match_id')['batsman_runs'].count()\n",
        "df_no_of_boundaries = no_of_boundaries.to_frame().reset_index()\n",
        "no_of_balls_bowled = dfb.groupby('match_id')['ball'].count()\n",
        "df_no_of_balls_bowled = no_of_balls_bowled.to_frame().reset_index()\n",
        "\n",
        "\n",
        "dfs = [df_no_of_wickets, df_no_of_dotballs, df_no_of_boundary_runs, df_no_of_boundaries, df_no_of_balls_bowled]\n",
        "df_final = reduce(lambda left,right: pd.merge(left,right,on='match_id'), dfs)\n",
        "df_final.rename(columns = {'player_dismissed':'Wickets_taken','ball_x':'dot_balls','batsman_runs_x':'boundary_runs',\n",
        "                           'batsman_runs_y':'boundaries','ball_y':'balls_bowled'}, inplace = True)\n",
        "\n",
        "df_final['BLS_Boult'] = (df_final['Wickets_taken'] + (df_final['dot_balls'] * 2) - (df_final['boundary_runs'] / df_final['boundaries']))/(df_final['balls_bowled'] - (df_final['dot_balls'] * 2.5)+0.1)\n",
        "\n",
        "print('Median of BLS Boult is:',df_final['BLS_Boult'].median())\n",
        "df_final.head()"
      ],
      "execution_count": 96,
      "outputs": [
        {
          "output_type": "stream",
          "text": [
            "Median of BLS Boult is: 3.1707317073170733\n"
          ],
          "name": "stdout"
        },
        {
          "output_type": "execute_result",
          "data": {
            "text/html": [
              "<div>\n",
              "<style scoped>\n",
              "    .dataframe tbody tr th:only-of-type {\n",
              "        vertical-align: middle;\n",
              "    }\n",
              "\n",
              "    .dataframe tbody tr th {\n",
              "        vertical-align: top;\n",
              "    }\n",
              "\n",
              "    .dataframe thead th {\n",
              "        text-align: right;\n",
              "    }\n",
              "</style>\n",
              "<table border=\"1\" class=\"dataframe\">\n",
              "  <thead>\n",
              "    <tr style=\"text-align: right;\">\n",
              "      <th></th>\n",
              "      <th>match_id</th>\n",
              "      <th>Wickets_taken</th>\n",
              "      <th>dot_balls</th>\n",
              "      <th>boundary_runs</th>\n",
              "      <th>boundaries</th>\n",
              "      <th>balls_bowled</th>\n",
              "      <th>BLS_Boult</th>\n",
              "    </tr>\n",
              "  </thead>\n",
              "  <tbody>\n",
              "    <tr>\n",
              "      <th>0</th>\n",
              "      <td>7902</td>\n",
              "      <td>2</td>\n",
              "      <td>9</td>\n",
              "      <td>12</td>\n",
              "      <td>3</td>\n",
              "      <td>24</td>\n",
              "      <td>10.000000</td>\n",
              "    </tr>\n",
              "    <tr>\n",
              "      <th>1</th>\n",
              "      <td>7948</td>\n",
              "      <td>1</td>\n",
              "      <td>8</td>\n",
              "      <td>12</td>\n",
              "      <td>3</td>\n",
              "      <td>24</td>\n",
              "      <td>3.170732</td>\n",
              "    </tr>\n",
              "    <tr>\n",
              "      <th>2</th>\n",
              "      <td>11139</td>\n",
              "      <td>1</td>\n",
              "      <td>7</td>\n",
              "      <td>30</td>\n",
              "      <td>6</td>\n",
              "      <td>24</td>\n",
              "      <td>1.515152</td>\n",
              "    </tr>\n",
              "  </tbody>\n",
              "</table>\n",
              "</div>"
            ],
            "text/plain": [
              "   match_id  Wickets_taken  dot_balls  ...  boundaries  balls_bowled  BLS_Boult\n",
              "0      7902              2          9  ...           3            24  10.000000\n",
              "1      7948              1          8  ...           3            24   3.170732\n",
              "2     11139              1          7  ...           6            24   1.515152\n",
              "\n",
              "[3 rows x 7 columns]"
            ]
          },
          "metadata": {
            "tags": []
          },
          "execution_count": 96
        }
      ]
    },
    {
      "cell_type": "code",
      "metadata": {
        "id": "XDZzh8jD5bur",
        "outputId": "47a2a8d5-af44-4062-cd1f-ab4543a06b0f",
        "colab": {
          "base_uri": "https://localhost:8080/",
          "height": 123
        }
      },
      "source": [
        "#--------------------------------- Rahul Chahar -----------------------------\n",
        "df = df_deliveries[(df_deliveries['bowler'] == 'RD Chahar')&(df_deliveries['wide_runs'] == 0)]\n",
        "df_wickets = df[(df['player_dismissed'] != 'No Wicket') & (df['dismissal_kind'] != 'run out')]\n",
        "df_dot_balls= df[(df['total_runs'] == 0)]\n",
        "df_boundaries = df[(df['batsman_runs'] == 4) | (df['batsman_runs'] == 6)]\n",
        "\n",
        "no_of_wickets = df_wickets.groupby('match_id')['player_dismissed'].count()\n",
        "df_no_of_wickets = no_of_wickets.to_frame().reset_index()\n",
        "no_of_dotballs = df_dot_balls_archer.groupby('match_id')['ball'].count()\n",
        "df_no_of_dotballs = no_of_dotballs.to_frame().reset_index()\n",
        "no_of_boundary_runs = df_boundaries_archer.groupby('match_id')['batsman_runs'].sum()\n",
        "df_no_of_boundary_runs = no_of_boundary_runs.to_frame().reset_index()\n",
        "no_of_boundaries = df_boundaries_archer.groupby('match_id')['batsman_runs'].count()\n",
        "df_no_of_boundaries = no_of_boundaries.to_frame().reset_index()\n",
        "no_of_balls_bowled = df_archer.groupby('match_id')['ball'].count()\n",
        "df_no_of_balls_bowled = no_of_balls_bowled.to_frame().reset_index()\n",
        "\n",
        "\n",
        "dfs = [df_no_of_wickets, df_no_of_dotballs, df_no_of_boundary_runs, df_no_of_boundaries, df_no_of_balls_bowled]\n",
        "df_final = reduce(lambda left,right: pd.merge(left,right,on='match_id'), dfs)\n",
        "df_final.rename(columns = {'player_dismissed':'Wickets_taken','ball_x':'dot_balls','batsman_runs_x':'boundary_runs',\n",
        "                           'batsman_runs_y':'boundaries','ball_y':'balls_bowled'}, inplace = True)\n",
        "\n",
        "df_final['BLS_Chahar'] = (df_final['Wickets_taken'] + (df_final['dot_balls'] * 2) - (df_final['boundary_runs'] / df_final['boundaries']))/(df_final['balls_bowled'] - (df_final['dot_balls'] * 2.5)+0.1)\n",
        "\n",
        "print('Median of BLS Rahul Chahar is:',df_final['BLS_Chahar'].median())\n",
        "df_final.head(2)"
      ],
      "execution_count": 89,
      "outputs": [
        {
          "output_type": "stream",
          "text": [
            "Median of BLS Rahul Chahar is: -3.1818181818181817\n"
          ],
          "name": "stdout"
        },
        {
          "output_type": "execute_result",
          "data": {
            "text/html": [
              "<div>\n",
              "<style scoped>\n",
              "    .dataframe tbody tr th:only-of-type {\n",
              "        vertical-align: middle;\n",
              "    }\n",
              "\n",
              "    .dataframe tbody tr th {\n",
              "        vertical-align: top;\n",
              "    }\n",
              "\n",
              "    .dataframe thead th {\n",
              "        text-align: right;\n",
              "    }\n",
              "</style>\n",
              "<table border=\"1\" class=\"dataframe\">\n",
              "  <thead>\n",
              "    <tr style=\"text-align: right;\">\n",
              "      <th></th>\n",
              "      <th>match_id</th>\n",
              "      <th>Wickets_taken</th>\n",
              "      <th>dot_balls</th>\n",
              "      <th>boundary_runs</th>\n",
              "      <th>boundaries</th>\n",
              "      <th>balls_bowled</th>\n",
              "      <th>BLS_Chahar</th>\n",
              "    </tr>\n",
              "  </thead>\n",
              "  <tbody>\n",
              "    <tr>\n",
              "      <th>0</th>\n",
              "      <td>11310</td>\n",
              "      <td>2</td>\n",
              "      <td>9</td>\n",
              "      <td>6</td>\n",
              "      <td>1</td>\n",
              "      <td>18</td>\n",
              "      <td>-3.181818</td>\n",
              "    </tr>\n",
              "    <tr>\n",
              "      <th>1</th>\n",
              "      <td>11318</td>\n",
              "      <td>1</td>\n",
              "      <td>11</td>\n",
              "      <td>12</td>\n",
              "      <td>3</td>\n",
              "      <td>24</td>\n",
              "      <td>-5.588235</td>\n",
              "    </tr>\n",
              "  </tbody>\n",
              "</table>\n",
              "</div>"
            ],
            "text/plain": [
              "   match_id  Wickets_taken  dot_balls  ...  boundaries  balls_bowled  BLS_Chahar\n",
              "0     11310              2          9  ...           1            18   -3.181818\n",
              "1     11318              1         11  ...           3            24   -5.588235\n",
              "\n",
              "[2 rows x 7 columns]"
            ]
          },
          "metadata": {
            "tags": []
          },
          "execution_count": 89
        }
      ]
    },
    {
      "cell_type": "code",
      "metadata": {
        "id": "vnK_BdpB5gMg",
        "outputId": "35dfd15e-5517-4599-dd56-6aca019f8dc5",
        "colab": {
          "base_uri": "https://localhost:8080/",
          "height": 123
        }
      },
      "source": [
        "#--------------------------------- Ben Stokes -----------------------------\n",
        "df = df_deliveries[(df_deliveries['bowler'] == 'BA Stokes')&(df_deliveries['wide_runs'] == 0)]\n",
        "df_wickets = df[(df['player_dismissed'] != 'No Wicket') & (df['dismissal_kind'] != 'run out')]\n",
        "df_dot_balls= df[(df['total_runs'] == 0)]\n",
        "df_boundaries = df[(df['batsman_runs'] == 4) | (df['batsman_runs'] == 6)]\n",
        "\n",
        "no_of_wickets = df_wickets.groupby('match_id')['player_dismissed'].count()\n",
        "df_no_of_wickets = no_of_wickets.to_frame().reset_index()\n",
        "no_of_dotballs = df_dot_balls_archer.groupby('match_id')['ball'].count()\n",
        "df_no_of_dotballs = no_of_dotballs.to_frame().reset_index()\n",
        "no_of_boundary_runs = df_boundaries_archer.groupby('match_id')['batsman_runs'].sum()\n",
        "df_no_of_boundary_runs = no_of_boundary_runs.to_frame().reset_index()\n",
        "no_of_boundaries = df_boundaries_archer.groupby('match_id')['batsman_runs'].count()\n",
        "df_no_of_boundaries = no_of_boundaries.to_frame().reset_index()\n",
        "no_of_balls_bowled = df_archer.groupby('match_id')['ball'].count()\n",
        "df_no_of_balls_bowled = no_of_balls_bowled.to_frame().reset_index()\n",
        "\n",
        "\n",
        "dfs = [df_no_of_wickets, df_no_of_dotballs, df_no_of_boundary_runs, df_no_of_boundaries, df_no_of_balls_bowled]\n",
        "df_final = reduce(lambda left,right: pd.merge(left,right,on='match_id'), dfs)\n",
        "df_final.rename(columns = {'player_dismissed':'Wickets_taken','ball_x':'dot_balls','batsman_runs_x':'boundary_runs',\n",
        "                           'batsman_runs_y':'boundaries','ball_y':'balls_bowled'}, inplace = True)\n",
        "\n",
        "df_final['BLS_Stokes'] = (df_final['Wickets_taken'] + (df_final['dot_balls'] * 2) - (df_final['boundary_runs'] / df_final['boundaries']))/(df_final['balls_bowled'] - (df_final['dot_balls'] * 2.5)+0.1)\n",
        "\n",
        "print('Median of BLS Ben Stokes is:',df_final['BLS_Stokes'].median())\n",
        "df_final.head(2)"
      ],
      "execution_count": 91,
      "outputs": [
        {
          "output_type": "stream",
          "text": [
            "Median of BLS Ben Stokes is: 3.096774193548387\n"
          ],
          "name": "stdout"
        },
        {
          "output_type": "execute_result",
          "data": {
            "text/html": [
              "<div>\n",
              "<style scoped>\n",
              "    .dataframe tbody tr th:only-of-type {\n",
              "        vertical-align: middle;\n",
              "    }\n",
              "\n",
              "    .dataframe tbody tr th {\n",
              "        vertical-align: top;\n",
              "    }\n",
              "\n",
              "    .dataframe thead th {\n",
              "        text-align: right;\n",
              "    }\n",
              "</style>\n",
              "<table border=\"1\" class=\"dataframe\">\n",
              "  <thead>\n",
              "    <tr style=\"text-align: right;\">\n",
              "      <th></th>\n",
              "      <th>match_id</th>\n",
              "      <th>Wickets_taken</th>\n",
              "      <th>dot_balls</th>\n",
              "      <th>boundary_runs</th>\n",
              "      <th>boundaries</th>\n",
              "      <th>balls_bowled</th>\n",
              "      <th>BLS_Stokes</th>\n",
              "    </tr>\n",
              "  </thead>\n",
              "  <tbody>\n",
              "    <tr>\n",
              "      <th>0</th>\n",
              "      <td>2</td>\n",
              "      <td>1</td>\n",
              "      <td>6</td>\n",
              "      <td>12</td>\n",
              "      <td>3</td>\n",
              "      <td>24</td>\n",
              "      <td>0.989011</td>\n",
              "    </tr>\n",
              "    <tr>\n",
              "      <th>1</th>\n",
              "      <td>28</td>\n",
              "      <td>2</td>\n",
              "      <td>9</td>\n",
              "      <td>12</td>\n",
              "      <td>3</td>\n",
              "      <td>24</td>\n",
              "      <td>10.000000</td>\n",
              "    </tr>\n",
              "  </tbody>\n",
              "</table>\n",
              "</div>"
            ],
            "text/plain": [
              "   match_id  Wickets_taken  dot_balls  ...  boundaries  balls_bowled  BLS_Stokes\n",
              "0         2              1          6  ...           3            24    0.989011\n",
              "1        28              2          9  ...           3            24   10.000000\n",
              "\n",
              "[2 rows x 7 columns]"
            ]
          },
          "metadata": {
            "tags": []
          },
          "execution_count": 91
        }
      ]
    },
    {
      "cell_type": "markdown",
      "metadata": {
        "id": "1qwF7x9-8Lck"
      },
      "source": [
        "**Conclusion :-**\n",
        "\n",
        "According to above analysis Boult, Archer, Stokes has highest BLS. In given question Boult and Archer are in same option. So i am going with Archer or boult."
      ]
    }
  ]
}