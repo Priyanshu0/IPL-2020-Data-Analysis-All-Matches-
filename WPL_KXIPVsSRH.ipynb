{
  "nbformat": 4,
  "nbformat_minor": 0,
  "metadata": {
    "colab": {
      "name": "WPL_KXIPVsSRH.ipynb",
      "provenance": []
    },
    "kernelspec": {
      "name": "python3",
      "display_name": "Python 3"
    }
  },
  "cells": [
    {
      "cell_type": "markdown",
      "metadata": {
        "id": "WEuaSRpsc3Yk"
      },
      "source": [
        "### Exploratory Data Analysis\n",
        "\n",
        "### Data Pre-Processing"
      ]
    },
    {
      "cell_type": "code",
      "metadata": {
        "id": "zCdyVYn5dPAN",
        "outputId": "e50bfc09-73ce-4ebb-ea27-4df210e74617",
        "colab": {
          "base_uri": "https://localhost:8080/",
          "height": 244
        }
      },
      "source": [
        "import warnings\n",
        "warnings.filterwarnings(\"ignore\")\n",
        "import pandas as pd\n",
        "\n",
        "df_matches = pd.read_csv(\"matches.csv\")\n",
        "df_matches.head(2)"
      ],
      "execution_count": 1,
      "outputs": [
        {
          "output_type": "execute_result",
          "data": {
            "text/html": [
              "<div>\n",
              "<style scoped>\n",
              "    .dataframe tbody tr th:only-of-type {\n",
              "        vertical-align: middle;\n",
              "    }\n",
              "\n",
              "    .dataframe tbody tr th {\n",
              "        vertical-align: top;\n",
              "    }\n",
              "\n",
              "    .dataframe thead th {\n",
              "        text-align: right;\n",
              "    }\n",
              "</style>\n",
              "<table border=\"1\" class=\"dataframe\">\n",
              "  <thead>\n",
              "    <tr style=\"text-align: right;\">\n",
              "      <th></th>\n",
              "      <th>id</th>\n",
              "      <th>season</th>\n",
              "      <th>city</th>\n",
              "      <th>date</th>\n",
              "      <th>team1</th>\n",
              "      <th>team2</th>\n",
              "      <th>toss_winner</th>\n",
              "      <th>toss_decision</th>\n",
              "      <th>result</th>\n",
              "      <th>dl_applied</th>\n",
              "      <th>winner</th>\n",
              "      <th>win_by_runs</th>\n",
              "      <th>win_by_wickets</th>\n",
              "      <th>player_of_match</th>\n",
              "      <th>venue</th>\n",
              "      <th>umpire1</th>\n",
              "      <th>umpire2</th>\n",
              "      <th>umpire3</th>\n",
              "    </tr>\n",
              "  </thead>\n",
              "  <tbody>\n",
              "    <tr>\n",
              "      <th>0</th>\n",
              "      <td>1</td>\n",
              "      <td>2017</td>\n",
              "      <td>Hyderabad</td>\n",
              "      <td>2017-04-05</td>\n",
              "      <td>Sunrisers Hyderabad</td>\n",
              "      <td>Royal Challengers Bangalore</td>\n",
              "      <td>Royal Challengers Bangalore</td>\n",
              "      <td>field</td>\n",
              "      <td>normal</td>\n",
              "      <td>0</td>\n",
              "      <td>Sunrisers Hyderabad</td>\n",
              "      <td>35</td>\n",
              "      <td>0</td>\n",
              "      <td>Yuvraj Singh</td>\n",
              "      <td>Rajiv Gandhi International Stadium, Uppal</td>\n",
              "      <td>AY Dandekar</td>\n",
              "      <td>NJ Llong</td>\n",
              "      <td>NaN</td>\n",
              "    </tr>\n",
              "    <tr>\n",
              "      <th>1</th>\n",
              "      <td>2</td>\n",
              "      <td>2017</td>\n",
              "      <td>Pune</td>\n",
              "      <td>2017-04-06</td>\n",
              "      <td>Mumbai Indians</td>\n",
              "      <td>Rising Pune Supergiant</td>\n",
              "      <td>Rising Pune Supergiant</td>\n",
              "      <td>field</td>\n",
              "      <td>normal</td>\n",
              "      <td>0</td>\n",
              "      <td>Rising Pune Supergiant</td>\n",
              "      <td>0</td>\n",
              "      <td>7</td>\n",
              "      <td>SPD Smith</td>\n",
              "      <td>Maharashtra Cricket Association Stadium</td>\n",
              "      <td>A Nand Kishore</td>\n",
              "      <td>S Ravi</td>\n",
              "      <td>NaN</td>\n",
              "    </tr>\n",
              "  </tbody>\n",
              "</table>\n",
              "</div>"
            ],
            "text/plain": [
              "   id  season       city  ...         umpire1   umpire2 umpire3\n",
              "0   1    2017  Hyderabad  ...     AY Dandekar  NJ Llong     NaN\n",
              "1   2    2017       Pune  ...  A Nand Kishore    S Ravi     NaN\n",
              "\n",
              "[2 rows x 18 columns]"
            ]
          },
          "metadata": {
            "tags": []
          },
          "execution_count": 1
        }
      ]
    },
    {
      "cell_type": "code",
      "metadata": {
        "id": "K-7j3amudUHA",
        "outputId": "a522418b-d2bb-43c7-a350-0bf9cb5e1579",
        "colab": {
          "base_uri": "https://localhost:8080/",
          "height": 194
        }
      },
      "source": [
        "df_deliveries = pd.read_csv(\"deliveries.csv\")\n",
        "df_deliveries.head(2)"
      ],
      "execution_count": 2,
      "outputs": [
        {
          "output_type": "execute_result",
          "data": {
            "text/html": [
              "<div>\n",
              "<style scoped>\n",
              "    .dataframe tbody tr th:only-of-type {\n",
              "        vertical-align: middle;\n",
              "    }\n",
              "\n",
              "    .dataframe tbody tr th {\n",
              "        vertical-align: top;\n",
              "    }\n",
              "\n",
              "    .dataframe thead th {\n",
              "        text-align: right;\n",
              "    }\n",
              "</style>\n",
              "<table border=\"1\" class=\"dataframe\">\n",
              "  <thead>\n",
              "    <tr style=\"text-align: right;\">\n",
              "      <th></th>\n",
              "      <th>match_id</th>\n",
              "      <th>inning</th>\n",
              "      <th>batting_team</th>\n",
              "      <th>bowling_team</th>\n",
              "      <th>over</th>\n",
              "      <th>ball</th>\n",
              "      <th>batsman</th>\n",
              "      <th>non_striker</th>\n",
              "      <th>bowler</th>\n",
              "      <th>is_super_over</th>\n",
              "      <th>wide_runs</th>\n",
              "      <th>bye_runs</th>\n",
              "      <th>legbye_runs</th>\n",
              "      <th>noball_runs</th>\n",
              "      <th>penalty_runs</th>\n",
              "      <th>batsman_runs</th>\n",
              "      <th>extra_runs</th>\n",
              "      <th>total_runs</th>\n",
              "      <th>player_dismissed</th>\n",
              "      <th>dismissal_kind</th>\n",
              "      <th>fielder</th>\n",
              "    </tr>\n",
              "  </thead>\n",
              "  <tbody>\n",
              "    <tr>\n",
              "      <th>0</th>\n",
              "      <td>1</td>\n",
              "      <td>1</td>\n",
              "      <td>Sunrisers Hyderabad</td>\n",
              "      <td>Royal Challengers Bangalore</td>\n",
              "      <td>1</td>\n",
              "      <td>1</td>\n",
              "      <td>DA Warner</td>\n",
              "      <td>S Dhawan</td>\n",
              "      <td>TS Mills</td>\n",
              "      <td>0</td>\n",
              "      <td>0</td>\n",
              "      <td>0</td>\n",
              "      <td>0</td>\n",
              "      <td>0</td>\n",
              "      <td>0</td>\n",
              "      <td>0</td>\n",
              "      <td>0</td>\n",
              "      <td>0</td>\n",
              "      <td>NaN</td>\n",
              "      <td>NaN</td>\n",
              "      <td>NaN</td>\n",
              "    </tr>\n",
              "    <tr>\n",
              "      <th>1</th>\n",
              "      <td>1</td>\n",
              "      <td>1</td>\n",
              "      <td>Sunrisers Hyderabad</td>\n",
              "      <td>Royal Challengers Bangalore</td>\n",
              "      <td>1</td>\n",
              "      <td>2</td>\n",
              "      <td>DA Warner</td>\n",
              "      <td>S Dhawan</td>\n",
              "      <td>TS Mills</td>\n",
              "      <td>0</td>\n",
              "      <td>0</td>\n",
              "      <td>0</td>\n",
              "      <td>0</td>\n",
              "      <td>0</td>\n",
              "      <td>0</td>\n",
              "      <td>0</td>\n",
              "      <td>0</td>\n",
              "      <td>0</td>\n",
              "      <td>NaN</td>\n",
              "      <td>NaN</td>\n",
              "      <td>NaN</td>\n",
              "    </tr>\n",
              "  </tbody>\n",
              "</table>\n",
              "</div>"
            ],
            "text/plain": [
              "   match_id  inning  ... dismissal_kind fielder\n",
              "0         1       1  ...            NaN     NaN\n",
              "1         1       1  ...            NaN     NaN\n",
              "\n",
              "[2 rows x 21 columns]"
            ]
          },
          "metadata": {
            "tags": []
          },
          "execution_count": 2
        }
      ]
    },
    {
      "cell_type": "code",
      "metadata": {
        "id": "SUqaxoKodYhn",
        "outputId": "443ec101-9e11-4305-9f69-387754d5c4cc",
        "colab": {
          "base_uri": "https://localhost:8080/",
          "height": 50
        }
      },
      "source": [
        "print(df_matches.shape)\n",
        "print(df_deliveries.shape)"
      ],
      "execution_count": 3,
      "outputs": [
        {
          "output_type": "stream",
          "text": [
            "(756, 18)\n",
            "(179078, 21)\n"
          ],
          "name": "stdout"
        }
      ]
    },
    {
      "cell_type": "markdown",
      "metadata": {
        "id": "CzUwwLcWdbsC"
      },
      "source": [
        "In matches data frame columns like umpire1,umpire2,umpire3 are not useful because these days they are using technology. So we cant decide which umpire is more useful for predicting anything related to match.\n",
        "\n",
        "Date is also not useful because we already have season column which is also almost equal to date.\n",
        "\n",
        "City and venue also not important features for this year IPL. Because IPL2020 is happening in UAE, only 2014 ipl was happened in UAE that to half season. But i am removing only venue it almost equal to city feature.\n",
        "\n",
        "'Result' feature is almost equal to 'winner' feature. So i am dropping result column also."
      ]
    },
    {
      "cell_type": "code",
      "metadata": {
        "id": "MEqvdR_LdeyK",
        "outputId": "90756678-ec02-4c62-d69e-db5bb45fa274",
        "colab": {
          "base_uri": "https://localhost:8080/",
          "height": 194
        }
      },
      "source": [
        "df_matches = df_matches.drop(['venue','date','result','umpire1','umpire2','umpire3'], axis = 1) \n",
        "df_matches.head(2)"
      ],
      "execution_count": 4,
      "outputs": [
        {
          "output_type": "execute_result",
          "data": {
            "text/html": [
              "<div>\n",
              "<style scoped>\n",
              "    .dataframe tbody tr th:only-of-type {\n",
              "        vertical-align: middle;\n",
              "    }\n",
              "\n",
              "    .dataframe tbody tr th {\n",
              "        vertical-align: top;\n",
              "    }\n",
              "\n",
              "    .dataframe thead th {\n",
              "        text-align: right;\n",
              "    }\n",
              "</style>\n",
              "<table border=\"1\" class=\"dataframe\">\n",
              "  <thead>\n",
              "    <tr style=\"text-align: right;\">\n",
              "      <th></th>\n",
              "      <th>id</th>\n",
              "      <th>season</th>\n",
              "      <th>city</th>\n",
              "      <th>team1</th>\n",
              "      <th>team2</th>\n",
              "      <th>toss_winner</th>\n",
              "      <th>toss_decision</th>\n",
              "      <th>dl_applied</th>\n",
              "      <th>winner</th>\n",
              "      <th>win_by_runs</th>\n",
              "      <th>win_by_wickets</th>\n",
              "      <th>player_of_match</th>\n",
              "    </tr>\n",
              "  </thead>\n",
              "  <tbody>\n",
              "    <tr>\n",
              "      <th>0</th>\n",
              "      <td>1</td>\n",
              "      <td>2017</td>\n",
              "      <td>Hyderabad</td>\n",
              "      <td>Sunrisers Hyderabad</td>\n",
              "      <td>Royal Challengers Bangalore</td>\n",
              "      <td>Royal Challengers Bangalore</td>\n",
              "      <td>field</td>\n",
              "      <td>0</td>\n",
              "      <td>Sunrisers Hyderabad</td>\n",
              "      <td>35</td>\n",
              "      <td>0</td>\n",
              "      <td>Yuvraj Singh</td>\n",
              "    </tr>\n",
              "    <tr>\n",
              "      <th>1</th>\n",
              "      <td>2</td>\n",
              "      <td>2017</td>\n",
              "      <td>Pune</td>\n",
              "      <td>Mumbai Indians</td>\n",
              "      <td>Rising Pune Supergiant</td>\n",
              "      <td>Rising Pune Supergiant</td>\n",
              "      <td>field</td>\n",
              "      <td>0</td>\n",
              "      <td>Rising Pune Supergiant</td>\n",
              "      <td>0</td>\n",
              "      <td>7</td>\n",
              "      <td>SPD Smith</td>\n",
              "    </tr>\n",
              "  </tbody>\n",
              "</table>\n",
              "</div>"
            ],
            "text/plain": [
              "   id  season       city  ... win_by_runs win_by_wickets player_of_match\n",
              "0   1    2017  Hyderabad  ...          35              0    Yuvraj Singh\n",
              "1   2    2017       Pune  ...           0              7       SPD Smith\n",
              "\n",
              "[2 rows x 12 columns]"
            ]
          },
          "metadata": {
            "tags": []
          },
          "execution_count": 4
        }
      ]
    },
    {
      "cell_type": "code",
      "metadata": {
        "id": "39-Ko1Bxdktz",
        "outputId": "2dfb5789-064b-4239-aadf-481592977e28",
        "colab": {
          "base_uri": "https://localhost:8080/",
          "height": 286
        }
      },
      "source": [
        "print(df_matches[\"team1\"].value_counts())"
      ],
      "execution_count": 5,
      "outputs": [
        {
          "output_type": "stream",
          "text": [
            "Mumbai Indians                 101\n",
            "Kings XI Punjab                 91\n",
            "Chennai Super Kings             89\n",
            "Royal Challengers Bangalore     85\n",
            "Kolkata Knight Riders           83\n",
            "Delhi Daredevils                72\n",
            "Rajasthan Royals                67\n",
            "Sunrisers Hyderabad             63\n",
            "Deccan Chargers                 43\n",
            "Pune Warriors                   20\n",
            "Gujarat Lions                   14\n",
            "Rising Pune Supergiant           8\n",
            "Kochi Tuskers Kerala             7\n",
            "Rising Pune Supergiants          7\n",
            "Delhi Capitals                   6\n",
            "Name: team1, dtype: int64\n"
          ],
          "name": "stdout"
        }
      ]
    },
    {
      "cell_type": "code",
      "metadata": {
        "id": "fuDnoT4edoZI"
      },
      "source": [
        "#In 2019 delhi daredevils name changed to delhi capitals. So i am replacing old name with new name for all the rows.\n",
        "df_matches = df_matches.replace(to_replace =\"Delhi Daredevils\", value = \"Delhi Capitals\") \n",
        "\n",
        "df_deliveries = df_deliveries.replace(to_replace = \"Delhi Daredevils\", value = \"Delhi Capitals\")\n",
        "\n",
        "#Rising pune supergiants name also printed in two ways. Lets change it to Rising pune supergiants.\n",
        "df_matches = df_matches.replace(to_replace =\"Rising Pune Supergiant\", value = \"Rising Pune Supergiants\") \n",
        "\n",
        "df_deliveries = df_deliveries.replace(to_replace = \"Rising Pune Supergiant\", value = \"Rising Pune Supergiants\")"
      ],
      "execution_count": 7,
      "outputs": []
    },
    {
      "cell_type": "code",
      "metadata": {
        "id": "LN_ZO07tduoo",
        "outputId": "9a135a4d-ca83-48cb-c84b-47fd60212274",
        "colab": {
          "base_uri": "https://localhost:8080/",
          "height": 235
        }
      },
      "source": [
        "#checking null values in matches dataset\n",
        "print(df_matches.isnull().sum())"
      ],
      "execution_count": 8,
      "outputs": [
        {
          "output_type": "stream",
          "text": [
            "id                 0\n",
            "season             0\n",
            "city               7\n",
            "team1              0\n",
            "team2              0\n",
            "toss_winner        0\n",
            "toss_decision      0\n",
            "dl_applied         0\n",
            "winner             4\n",
            "win_by_runs        0\n",
            "win_by_wickets     0\n",
            "player_of_match    4\n",
            "dtype: int64\n"
          ],
          "name": "stdout"
        }
      ]
    },
    {
      "cell_type": "code",
      "metadata": {
        "id": "TdZuacBSdxrj",
        "outputId": "25f6aae0-01d3-4733-9679-f81548834bfc",
        "colab": {
          "base_uri": "https://localhost:8080/",
          "height": 177
        }
      },
      "source": [
        "#printing null rows in matches dataset\n",
        "df1_null = df_matches[df_matches.isna().any(axis=1)]\n",
        "df1_null.head(2)"
      ],
      "execution_count": 9,
      "outputs": [
        {
          "output_type": "execute_result",
          "data": {
            "text/html": [
              "<div>\n",
              "<style scoped>\n",
              "    .dataframe tbody tr th:only-of-type {\n",
              "        vertical-align: middle;\n",
              "    }\n",
              "\n",
              "    .dataframe tbody tr th {\n",
              "        vertical-align: top;\n",
              "    }\n",
              "\n",
              "    .dataframe thead th {\n",
              "        text-align: right;\n",
              "    }\n",
              "</style>\n",
              "<table border=\"1\" class=\"dataframe\">\n",
              "  <thead>\n",
              "    <tr style=\"text-align: right;\">\n",
              "      <th></th>\n",
              "      <th>id</th>\n",
              "      <th>season</th>\n",
              "      <th>city</th>\n",
              "      <th>team1</th>\n",
              "      <th>team2</th>\n",
              "      <th>toss_winner</th>\n",
              "      <th>toss_decision</th>\n",
              "      <th>dl_applied</th>\n",
              "      <th>winner</th>\n",
              "      <th>win_by_runs</th>\n",
              "      <th>win_by_wickets</th>\n",
              "      <th>player_of_match</th>\n",
              "    </tr>\n",
              "  </thead>\n",
              "  <tbody>\n",
              "    <tr>\n",
              "      <th>300</th>\n",
              "      <td>301</td>\n",
              "      <td>2011</td>\n",
              "      <td>Delhi</td>\n",
              "      <td>Delhi Capitals</td>\n",
              "      <td>Pune Warriors</td>\n",
              "      <td>Delhi Capitals</td>\n",
              "      <td>bat</td>\n",
              "      <td>0</td>\n",
              "      <td>NaN</td>\n",
              "      <td>0</td>\n",
              "      <td>0</td>\n",
              "      <td>NaN</td>\n",
              "    </tr>\n",
              "    <tr>\n",
              "      <th>461</th>\n",
              "      <td>462</td>\n",
              "      <td>2014</td>\n",
              "      <td>NaN</td>\n",
              "      <td>Mumbai Indians</td>\n",
              "      <td>Royal Challengers Bangalore</td>\n",
              "      <td>Royal Challengers Bangalore</td>\n",
              "      <td>field</td>\n",
              "      <td>0</td>\n",
              "      <td>Royal Challengers Bangalore</td>\n",
              "      <td>0</td>\n",
              "      <td>7</td>\n",
              "      <td>PA Patel</td>\n",
              "    </tr>\n",
              "  </tbody>\n",
              "</table>\n",
              "</div>"
            ],
            "text/plain": [
              "      id  season   city  ... win_by_runs win_by_wickets player_of_match\n",
              "300  301    2011  Delhi  ...           0              0             NaN\n",
              "461  462    2014    NaN  ...           0              7        PA Patel\n",
              "\n",
              "[2 rows x 12 columns]"
            ]
          },
          "metadata": {
            "tags": []
          },
          "execution_count": 9
        }
      ]
    },
    {
      "cell_type": "code",
      "metadata": {
        "id": "yHhvYMOody8I",
        "outputId": "1ec51995-3ed3-4c3a-881d-54b2b230965e",
        "colab": {
          "base_uri": "https://localhost:8080/",
          "height": 34
        }
      },
      "source": [
        "#After seeing above table we can clearly understood that 4 matches are not played beacuse of rain, badlight or pitch condition. \n",
        "#So i am replacing those null values in winner column with no result and palyer of the match column null values with not declared.\n",
        "df_matches[\"winner\"].fillna(\"No result\", inplace = True)\n",
        "df_matches['player_of_match'].fillna(\"Not declared\", inplace = True)\n",
        "#city column also has 7 null values. I checked those matches data in Espn website and they played in Dubai.\n",
        "df_matches[\"city\"].fillna(\"Dubai\", inplace = True)\n",
        "print(df_matches.shape)"
      ],
      "execution_count": 10,
      "outputs": [
        {
          "output_type": "stream",
          "text": [
            "(756, 12)\n"
          ],
          "name": "stdout"
        }
      ]
    },
    {
      "cell_type": "code",
      "metadata": {
        "id": "iIwyVNm7d2Ag",
        "outputId": "b0d3f90d-2caa-4b0b-f447-c5326ffaf21c",
        "colab": {
          "base_uri": "https://localhost:8080/",
          "height": 386
        }
      },
      "source": [
        "#checking null values in deliveries dataset\n",
        "print(df_deliveries.isnull().sum())"
      ],
      "execution_count": 11,
      "outputs": [
        {
          "output_type": "stream",
          "text": [
            "match_id                 0\n",
            "inning                   0\n",
            "batting_team             0\n",
            "bowling_team             0\n",
            "over                     0\n",
            "ball                     0\n",
            "batsman                  0\n",
            "non_striker              0\n",
            "bowler                   0\n",
            "is_super_over            0\n",
            "wide_runs                0\n",
            "bye_runs                 0\n",
            "legbye_runs              0\n",
            "noball_runs              0\n",
            "penalty_runs             0\n",
            "batsman_runs             0\n",
            "extra_runs               0\n",
            "total_runs               0\n",
            "player_dismissed    170244\n",
            "dismissal_kind      170244\n",
            "fielder             172630\n",
            "dtype: int64\n"
          ],
          "name": "stdout"
        }
      ]
    },
    {
      "cell_type": "markdown",
      "metadata": {
        "id": "xFu6vNnCd83s"
      },
      "source": [
        "Player_dismissed, dismissal_kind and fielder features are having null values. But if you consider today questions only 'player_dismissed' and 'dismissal_kind' features are useful for today analysis. So i am removing \"fielder\" feature.\n",
        "\n",
        "Filling player_dismissed null values with 'No wicket', didmissal_Kind null values with also No Wicket"
      ]
    },
    {
      "cell_type": "code",
      "metadata": {
        "id": "_h_YN0Otd5eY",
        "outputId": "7316471a-4eb9-4aa3-d86b-2a268878d2f3",
        "colab": {
          "base_uri": "https://localhost:8080/",
          "height": 194
        }
      },
      "source": [
        "#dropping fielder column\n",
        "df_deliveries = df_deliveries.drop(['fielder'], axis = 1) \n",
        "#filling null values\n",
        "df_deliveries[\"player_dismissed\"].fillna(\"No Wicket\", inplace = True)\n",
        "df_deliveries[\"dismissal_kind\"].fillna(\"No Wicket\", inplace = True)\n",
        "df_deliveries.head(2)"
      ],
      "execution_count": 12,
      "outputs": [
        {
          "output_type": "execute_result",
          "data": {
            "text/html": [
              "<div>\n",
              "<style scoped>\n",
              "    .dataframe tbody tr th:only-of-type {\n",
              "        vertical-align: middle;\n",
              "    }\n",
              "\n",
              "    .dataframe tbody tr th {\n",
              "        vertical-align: top;\n",
              "    }\n",
              "\n",
              "    .dataframe thead th {\n",
              "        text-align: right;\n",
              "    }\n",
              "</style>\n",
              "<table border=\"1\" class=\"dataframe\">\n",
              "  <thead>\n",
              "    <tr style=\"text-align: right;\">\n",
              "      <th></th>\n",
              "      <th>match_id</th>\n",
              "      <th>inning</th>\n",
              "      <th>batting_team</th>\n",
              "      <th>bowling_team</th>\n",
              "      <th>over</th>\n",
              "      <th>ball</th>\n",
              "      <th>batsman</th>\n",
              "      <th>non_striker</th>\n",
              "      <th>bowler</th>\n",
              "      <th>is_super_over</th>\n",
              "      <th>wide_runs</th>\n",
              "      <th>bye_runs</th>\n",
              "      <th>legbye_runs</th>\n",
              "      <th>noball_runs</th>\n",
              "      <th>penalty_runs</th>\n",
              "      <th>batsman_runs</th>\n",
              "      <th>extra_runs</th>\n",
              "      <th>total_runs</th>\n",
              "      <th>player_dismissed</th>\n",
              "      <th>dismissal_kind</th>\n",
              "    </tr>\n",
              "  </thead>\n",
              "  <tbody>\n",
              "    <tr>\n",
              "      <th>0</th>\n",
              "      <td>1</td>\n",
              "      <td>1</td>\n",
              "      <td>Sunrisers Hyderabad</td>\n",
              "      <td>Royal Challengers Bangalore</td>\n",
              "      <td>1</td>\n",
              "      <td>1</td>\n",
              "      <td>DA Warner</td>\n",
              "      <td>S Dhawan</td>\n",
              "      <td>TS Mills</td>\n",
              "      <td>0</td>\n",
              "      <td>0</td>\n",
              "      <td>0</td>\n",
              "      <td>0</td>\n",
              "      <td>0</td>\n",
              "      <td>0</td>\n",
              "      <td>0</td>\n",
              "      <td>0</td>\n",
              "      <td>0</td>\n",
              "      <td>No Wicket</td>\n",
              "      <td>No Wicket</td>\n",
              "    </tr>\n",
              "    <tr>\n",
              "      <th>1</th>\n",
              "      <td>1</td>\n",
              "      <td>1</td>\n",
              "      <td>Sunrisers Hyderabad</td>\n",
              "      <td>Royal Challengers Bangalore</td>\n",
              "      <td>1</td>\n",
              "      <td>2</td>\n",
              "      <td>DA Warner</td>\n",
              "      <td>S Dhawan</td>\n",
              "      <td>TS Mills</td>\n",
              "      <td>0</td>\n",
              "      <td>0</td>\n",
              "      <td>0</td>\n",
              "      <td>0</td>\n",
              "      <td>0</td>\n",
              "      <td>0</td>\n",
              "      <td>0</td>\n",
              "      <td>0</td>\n",
              "      <td>0</td>\n",
              "      <td>No Wicket</td>\n",
              "      <td>No Wicket</td>\n",
              "    </tr>\n",
              "  </tbody>\n",
              "</table>\n",
              "</div>"
            ],
            "text/plain": [
              "   match_id  inning  ... player_dismissed dismissal_kind\n",
              "0         1       1  ...        No Wicket      No Wicket\n",
              "1         1       1  ...        No Wicket      No Wicket\n",
              "\n",
              "[2 rows x 20 columns]"
            ]
          },
          "metadata": {
            "tags": []
          },
          "execution_count": 12
        }
      ]
    },
    {
      "cell_type": "code",
      "metadata": {
        "id": "5gAGiftEeAnk",
        "outputId": "ad253e76-234e-48d0-c268-a1adc1143814",
        "colab": {
          "base_uri": "https://localhost:8080/",
          "height": 304
        }
      },
      "source": [
        "# list of dtypes to include \n",
        "include =['float', 'int']\n",
        "desc = df_deliveries.describe(include = include)\n",
        "desc"
      ],
      "execution_count": 13,
      "outputs": [
        {
          "output_type": "execute_result",
          "data": {
            "text/html": [
              "<div>\n",
              "<style scoped>\n",
              "    .dataframe tbody tr th:only-of-type {\n",
              "        vertical-align: middle;\n",
              "    }\n",
              "\n",
              "    .dataframe tbody tr th {\n",
              "        vertical-align: top;\n",
              "    }\n",
              "\n",
              "    .dataframe thead th {\n",
              "        text-align: right;\n",
              "    }\n",
              "</style>\n",
              "<table border=\"1\" class=\"dataframe\">\n",
              "  <thead>\n",
              "    <tr style=\"text-align: right;\">\n",
              "      <th></th>\n",
              "      <th>match_id</th>\n",
              "      <th>inning</th>\n",
              "      <th>over</th>\n",
              "      <th>ball</th>\n",
              "      <th>is_super_over</th>\n",
              "      <th>wide_runs</th>\n",
              "      <th>bye_runs</th>\n",
              "      <th>legbye_runs</th>\n",
              "      <th>noball_runs</th>\n",
              "      <th>penalty_runs</th>\n",
              "      <th>batsman_runs</th>\n",
              "      <th>extra_runs</th>\n",
              "      <th>total_runs</th>\n",
              "    </tr>\n",
              "  </thead>\n",
              "  <tbody>\n",
              "    <tr>\n",
              "      <th>count</th>\n",
              "      <td>179078.000000</td>\n",
              "      <td>179078.000000</td>\n",
              "      <td>179078.000000</td>\n",
              "      <td>179078.000000</td>\n",
              "      <td>179078.000000</td>\n",
              "      <td>179078.000000</td>\n",
              "      <td>179078.000000</td>\n",
              "      <td>179078.000000</td>\n",
              "      <td>179078.000000</td>\n",
              "      <td>179078.000000</td>\n",
              "      <td>179078.000000</td>\n",
              "      <td>179078.000000</td>\n",
              "      <td>179078.000000</td>\n",
              "    </tr>\n",
              "    <tr>\n",
              "      <th>mean</th>\n",
              "      <td>1802.252957</td>\n",
              "      <td>1.482952</td>\n",
              "      <td>10.162488</td>\n",
              "      <td>3.615587</td>\n",
              "      <td>0.000452</td>\n",
              "      <td>0.036721</td>\n",
              "      <td>0.004936</td>\n",
              "      <td>0.021136</td>\n",
              "      <td>0.004183</td>\n",
              "      <td>0.000056</td>\n",
              "      <td>1.246864</td>\n",
              "      <td>0.067032</td>\n",
              "      <td>1.313897</td>\n",
              "    </tr>\n",
              "    <tr>\n",
              "      <th>std</th>\n",
              "      <td>3472.322805</td>\n",
              "      <td>0.502074</td>\n",
              "      <td>5.677684</td>\n",
              "      <td>1.806966</td>\n",
              "      <td>0.021263</td>\n",
              "      <td>0.251161</td>\n",
              "      <td>0.116480</td>\n",
              "      <td>0.194908</td>\n",
              "      <td>0.070492</td>\n",
              "      <td>0.016709</td>\n",
              "      <td>1.608270</td>\n",
              "      <td>0.342553</td>\n",
              "      <td>1.605422</td>\n",
              "    </tr>\n",
              "    <tr>\n",
              "      <th>min</th>\n",
              "      <td>1.000000</td>\n",
              "      <td>1.000000</td>\n",
              "      <td>1.000000</td>\n",
              "      <td>1.000000</td>\n",
              "      <td>0.000000</td>\n",
              "      <td>0.000000</td>\n",
              "      <td>0.000000</td>\n",
              "      <td>0.000000</td>\n",
              "      <td>0.000000</td>\n",
              "      <td>0.000000</td>\n",
              "      <td>0.000000</td>\n",
              "      <td>0.000000</td>\n",
              "      <td>0.000000</td>\n",
              "    </tr>\n",
              "    <tr>\n",
              "      <th>25%</th>\n",
              "      <td>190.000000</td>\n",
              "      <td>1.000000</td>\n",
              "      <td>5.000000</td>\n",
              "      <td>2.000000</td>\n",
              "      <td>0.000000</td>\n",
              "      <td>0.000000</td>\n",
              "      <td>0.000000</td>\n",
              "      <td>0.000000</td>\n",
              "      <td>0.000000</td>\n",
              "      <td>0.000000</td>\n",
              "      <td>0.000000</td>\n",
              "      <td>0.000000</td>\n",
              "      <td>0.000000</td>\n",
              "    </tr>\n",
              "    <tr>\n",
              "      <th>50%</th>\n",
              "      <td>379.000000</td>\n",
              "      <td>1.000000</td>\n",
              "      <td>10.000000</td>\n",
              "      <td>4.000000</td>\n",
              "      <td>0.000000</td>\n",
              "      <td>0.000000</td>\n",
              "      <td>0.000000</td>\n",
              "      <td>0.000000</td>\n",
              "      <td>0.000000</td>\n",
              "      <td>0.000000</td>\n",
              "      <td>1.000000</td>\n",
              "      <td>0.000000</td>\n",
              "      <td>1.000000</td>\n",
              "    </tr>\n",
              "    <tr>\n",
              "      <th>75%</th>\n",
              "      <td>567.000000</td>\n",
              "      <td>2.000000</td>\n",
              "      <td>15.000000</td>\n",
              "      <td>5.000000</td>\n",
              "      <td>0.000000</td>\n",
              "      <td>0.000000</td>\n",
              "      <td>0.000000</td>\n",
              "      <td>0.000000</td>\n",
              "      <td>0.000000</td>\n",
              "      <td>0.000000</td>\n",
              "      <td>1.000000</td>\n",
              "      <td>0.000000</td>\n",
              "      <td>1.000000</td>\n",
              "    </tr>\n",
              "    <tr>\n",
              "      <th>max</th>\n",
              "      <td>11415.000000</td>\n",
              "      <td>5.000000</td>\n",
              "      <td>20.000000</td>\n",
              "      <td>9.000000</td>\n",
              "      <td>1.000000</td>\n",
              "      <td>5.000000</td>\n",
              "      <td>4.000000</td>\n",
              "      <td>5.000000</td>\n",
              "      <td>5.000000</td>\n",
              "      <td>5.000000</td>\n",
              "      <td>7.000000</td>\n",
              "      <td>7.000000</td>\n",
              "      <td>10.000000</td>\n",
              "    </tr>\n",
              "  </tbody>\n",
              "</table>\n",
              "</div>"
            ],
            "text/plain": [
              "            match_id         inning  ...     extra_runs     total_runs\n",
              "count  179078.000000  179078.000000  ...  179078.000000  179078.000000\n",
              "mean     1802.252957       1.482952  ...       0.067032       1.313897\n",
              "std      3472.322805       0.502074  ...       0.342553       1.605422\n",
              "min         1.000000       1.000000  ...       0.000000       0.000000\n",
              "25%       190.000000       1.000000  ...       0.000000       0.000000\n",
              "50%       379.000000       1.000000  ...       0.000000       1.000000\n",
              "75%       567.000000       2.000000  ...       0.000000       1.000000\n",
              "max     11415.000000       5.000000  ...       7.000000      10.000000\n",
              "\n",
              "[8 rows x 13 columns]"
            ]
          },
          "metadata": {
            "tags": []
          },
          "execution_count": 13
        }
      ]
    },
    {
      "cell_type": "markdown",
      "metadata": {
        "id": "71xjMUybeE2U"
      },
      "source": [
        "I think there are no outliers present in overs column but in balls column balls range is between(0-9), it happens if bowlers balls extra deliveries.\n",
        "\n",
        "In innings column maximum value is 5 so there are some outliers presented. Because there are 2 innings per match, if match tied then they will conduct one super over till last season. So maximum number of innings is 4.\n",
        "\n",
        "And in remaining columns max value is in certain limit only. So i can say there are not much outliers."
      ]
    },
    {
      "cell_type": "markdown",
      "metadata": {
        "id": "nFTeSYxBW32u"
      },
      "source": [
        "### Q1) who will win today match KXIP VS SRH?"
      ]
    },
    {
      "cell_type": "code",
      "metadata": {
        "id": "EPAoK3WJXC3w",
        "outputId": "4873ab7f-449f-4252-dca7-025e27e017fe",
        "colab": {
          "base_uri": "https://localhost:8080/",
          "height": 542
        }
      },
      "source": [
        "#First Lets see head-head results\n",
        "df_SRH_KXIP = df_matches[((df_matches['team1'] == 'Kings XI Punjab') | (df_matches['team1'] == 'Sunrisers Hyderabad')) & \n",
        "                        ((df_matches['team2'] == 'Kings XI Punjab') | (df_matches['team2'] == 'Sunrisers Hyderabad'))] \n",
        "\n",
        "#plotting SRH and KXIP wins against each other\n",
        "import plotly.graph_objs as go\n",
        "df_winner = df_SRH_KXIP[['id','winner']].groupby('winner').size().reset_index()\n",
        "df_winner.columns = ['winner','total_wins']\n",
        "df_winner = df_winner.sort_values('total_wins',ascending=False)[:2]\n",
        "\n",
        "data = go.Bar(x = df_winner['winner'],y = df_winner['total_wins'])\n",
        "layout = go.Layout(title = 'Number of wins by KXIP and SRH against each other',xaxis = dict(title = 'Team'),yaxis = dict(title = 'No of wins'))\n",
        "fig = go.Figure(data = data,layout = layout)\n",
        "fig.show()"
      ],
      "execution_count": 78,
      "outputs": [
        {
          "output_type": "display_data",
          "data": {
            "text/html": [
              "<html>\n",
              "<head><meta charset=\"utf-8\" /></head>\n",
              "<body>\n",
              "    <div>\n",
              "            <script src=\"https://cdnjs.cloudflare.com/ajax/libs/mathjax/2.7.5/MathJax.js?config=TeX-AMS-MML_SVG\"></script><script type=\"text/javascript\">if (window.MathJax) {MathJax.Hub.Config({SVG: {font: \"STIX-Web\"}});}</script>\n",
              "                <script type=\"text/javascript\">window.PlotlyConfig = {MathJaxConfig: 'local'};</script>\n",
              "        <script src=\"https://cdn.plot.ly/plotly-latest.min.js\"></script>    \n",
              "            <div id=\"af85fb9f-84af-4130-9601-4336a9eb5991\" class=\"plotly-graph-div\" style=\"height:525px; width:100%;\"></div>\n",
              "            <script type=\"text/javascript\">\n",
              "                \n",
              "                    window.PLOTLYENV=window.PLOTLYENV || {};\n",
              "                    \n",
              "                if (document.getElementById(\"af85fb9f-84af-4130-9601-4336a9eb5991\")) {\n",
              "                    Plotly.newPlot(\n",
              "                        'af85fb9f-84af-4130-9601-4336a9eb5991',\n",
              "                        [{\"type\": \"bar\", \"x\": [\"Sunrisers Hyderabad\", \"Kings XI Punjab\"], \"y\": [10, 4]}],\n",
              "                        {\"template\": {\"data\": {\"bar\": [{\"error_x\": {\"color\": \"#2a3f5f\"}, \"error_y\": {\"color\": \"#2a3f5f\"}, \"marker\": {\"line\": {\"color\": \"#E5ECF6\", \"width\": 0.5}}, \"type\": \"bar\"}], \"barpolar\": [{\"marker\": {\"line\": {\"color\": \"#E5ECF6\", \"width\": 0.5}}, \"type\": \"barpolar\"}], \"carpet\": [{\"aaxis\": {\"endlinecolor\": \"#2a3f5f\", \"gridcolor\": \"white\", \"linecolor\": \"white\", \"minorgridcolor\": \"white\", \"startlinecolor\": \"#2a3f5f\"}, \"baxis\": {\"endlinecolor\": \"#2a3f5f\", \"gridcolor\": \"white\", \"linecolor\": \"white\", \"minorgridcolor\": \"white\", \"startlinecolor\": \"#2a3f5f\"}, \"type\": \"carpet\"}], \"choropleth\": [{\"colorbar\": {\"outlinewidth\": 0, \"ticks\": \"\"}, \"type\": \"choropleth\"}], \"contour\": [{\"colorbar\": {\"outlinewidth\": 0, \"ticks\": \"\"}, \"colorscale\": [[0.0, \"#0d0887\"], [0.1111111111111111, \"#46039f\"], [0.2222222222222222, \"#7201a8\"], [0.3333333333333333, \"#9c179e\"], [0.4444444444444444, \"#bd3786\"], [0.5555555555555556, \"#d8576b\"], [0.6666666666666666, \"#ed7953\"], [0.7777777777777778, \"#fb9f3a\"], [0.8888888888888888, \"#fdca26\"], [1.0, \"#f0f921\"]], \"type\": \"contour\"}], \"contourcarpet\": [{\"colorbar\": {\"outlinewidth\": 0, \"ticks\": \"\"}, \"type\": \"contourcarpet\"}], \"heatmap\": [{\"colorbar\": {\"outlinewidth\": 0, \"ticks\": \"\"}, \"colorscale\": [[0.0, \"#0d0887\"], [0.1111111111111111, \"#46039f\"], [0.2222222222222222, \"#7201a8\"], [0.3333333333333333, \"#9c179e\"], [0.4444444444444444, \"#bd3786\"], [0.5555555555555556, \"#d8576b\"], [0.6666666666666666, \"#ed7953\"], [0.7777777777777778, \"#fb9f3a\"], [0.8888888888888888, \"#fdca26\"], [1.0, \"#f0f921\"]], \"type\": \"heatmap\"}], \"heatmapgl\": [{\"colorbar\": {\"outlinewidth\": 0, \"ticks\": \"\"}, \"colorscale\": [[0.0, \"#0d0887\"], [0.1111111111111111, \"#46039f\"], [0.2222222222222222, \"#7201a8\"], [0.3333333333333333, \"#9c179e\"], [0.4444444444444444, \"#bd3786\"], [0.5555555555555556, \"#d8576b\"], [0.6666666666666666, \"#ed7953\"], [0.7777777777777778, \"#fb9f3a\"], [0.8888888888888888, \"#fdca26\"], [1.0, \"#f0f921\"]], \"type\": \"heatmapgl\"}], \"histogram\": [{\"marker\": {\"colorbar\": {\"outlinewidth\": 0, \"ticks\": \"\"}}, \"type\": \"histogram\"}], \"histogram2d\": [{\"colorbar\": {\"outlinewidth\": 0, \"ticks\": \"\"}, \"colorscale\": [[0.0, \"#0d0887\"], [0.1111111111111111, \"#46039f\"], [0.2222222222222222, \"#7201a8\"], [0.3333333333333333, \"#9c179e\"], [0.4444444444444444, \"#bd3786\"], [0.5555555555555556, \"#d8576b\"], [0.6666666666666666, \"#ed7953\"], [0.7777777777777778, \"#fb9f3a\"], [0.8888888888888888, \"#fdca26\"], [1.0, \"#f0f921\"]], \"type\": \"histogram2d\"}], \"histogram2dcontour\": [{\"colorbar\": {\"outlinewidth\": 0, \"ticks\": \"\"}, \"colorscale\": [[0.0, \"#0d0887\"], [0.1111111111111111, \"#46039f\"], [0.2222222222222222, \"#7201a8\"], [0.3333333333333333, \"#9c179e\"], [0.4444444444444444, \"#bd3786\"], [0.5555555555555556, \"#d8576b\"], [0.6666666666666666, \"#ed7953\"], [0.7777777777777778, \"#fb9f3a\"], [0.8888888888888888, \"#fdca26\"], [1.0, \"#f0f921\"]], \"type\": \"histogram2dcontour\"}], \"mesh3d\": [{\"colorbar\": {\"outlinewidth\": 0, \"ticks\": \"\"}, \"type\": \"mesh3d\"}], \"parcoords\": [{\"line\": {\"colorbar\": {\"outlinewidth\": 0, \"ticks\": \"\"}}, \"type\": \"parcoords\"}], \"pie\": [{\"automargin\": true, \"type\": \"pie\"}], \"scatter\": [{\"marker\": {\"colorbar\": {\"outlinewidth\": 0, \"ticks\": \"\"}}, \"type\": \"scatter\"}], \"scatter3d\": [{\"line\": {\"colorbar\": {\"outlinewidth\": 0, \"ticks\": \"\"}}, \"marker\": {\"colorbar\": {\"outlinewidth\": 0, \"ticks\": \"\"}}, \"type\": \"scatter3d\"}], \"scattercarpet\": [{\"marker\": {\"colorbar\": {\"outlinewidth\": 0, \"ticks\": \"\"}}, \"type\": \"scattercarpet\"}], \"scattergeo\": [{\"marker\": {\"colorbar\": {\"outlinewidth\": 0, \"ticks\": \"\"}}, \"type\": \"scattergeo\"}], \"scattergl\": [{\"marker\": {\"colorbar\": {\"outlinewidth\": 0, \"ticks\": \"\"}}, \"type\": \"scattergl\"}], \"scattermapbox\": [{\"marker\": {\"colorbar\": {\"outlinewidth\": 0, \"ticks\": \"\"}}, \"type\": \"scattermapbox\"}], \"scatterpolar\": [{\"marker\": {\"colorbar\": {\"outlinewidth\": 0, \"ticks\": \"\"}}, \"type\": \"scatterpolar\"}], \"scatterpolargl\": [{\"marker\": {\"colorbar\": {\"outlinewidth\": 0, \"ticks\": \"\"}}, \"type\": \"scatterpolargl\"}], \"scatterternary\": [{\"marker\": {\"colorbar\": {\"outlinewidth\": 0, \"ticks\": \"\"}}, \"type\": \"scatterternary\"}], \"surface\": [{\"colorbar\": {\"outlinewidth\": 0, \"ticks\": \"\"}, \"colorscale\": [[0.0, \"#0d0887\"], [0.1111111111111111, \"#46039f\"], [0.2222222222222222, \"#7201a8\"], [0.3333333333333333, \"#9c179e\"], [0.4444444444444444, \"#bd3786\"], [0.5555555555555556, \"#d8576b\"], [0.6666666666666666, \"#ed7953\"], [0.7777777777777778, \"#fb9f3a\"], [0.8888888888888888, \"#fdca26\"], [1.0, \"#f0f921\"]], \"type\": \"surface\"}], \"table\": [{\"cells\": {\"fill\": {\"color\": \"#EBF0F8\"}, \"line\": {\"color\": \"white\"}}, \"header\": {\"fill\": {\"color\": \"#C8D4E3\"}, \"line\": {\"color\": \"white\"}}, \"type\": \"table\"}]}, \"layout\": {\"annotationdefaults\": {\"arrowcolor\": \"#2a3f5f\", \"arrowhead\": 0, \"arrowwidth\": 1}, \"coloraxis\": {\"colorbar\": {\"outlinewidth\": 0, \"ticks\": \"\"}}, \"colorscale\": {\"diverging\": [[0, \"#8e0152\"], [0.1, \"#c51b7d\"], [0.2, \"#de77ae\"], [0.3, \"#f1b6da\"], [0.4, \"#fde0ef\"], [0.5, \"#f7f7f7\"], [0.6, \"#e6f5d0\"], [0.7, \"#b8e186\"], [0.8, \"#7fbc41\"], [0.9, \"#4d9221\"], [1, \"#276419\"]], \"sequential\": [[0.0, \"#0d0887\"], [0.1111111111111111, \"#46039f\"], [0.2222222222222222, \"#7201a8\"], [0.3333333333333333, \"#9c179e\"], [0.4444444444444444, \"#bd3786\"], [0.5555555555555556, \"#d8576b\"], [0.6666666666666666, \"#ed7953\"], [0.7777777777777778, \"#fb9f3a\"], [0.8888888888888888, \"#fdca26\"], [1.0, \"#f0f921\"]], \"sequentialminus\": [[0.0, \"#0d0887\"], [0.1111111111111111, \"#46039f\"], [0.2222222222222222, \"#7201a8\"], [0.3333333333333333, \"#9c179e\"], [0.4444444444444444, \"#bd3786\"], [0.5555555555555556, \"#d8576b\"], [0.6666666666666666, \"#ed7953\"], [0.7777777777777778, \"#fb9f3a\"], [0.8888888888888888, \"#fdca26\"], [1.0, \"#f0f921\"]]}, \"colorway\": [\"#636efa\", \"#EF553B\", \"#00cc96\", \"#ab63fa\", \"#FFA15A\", \"#19d3f3\", \"#FF6692\", \"#B6E880\", \"#FF97FF\", \"#FECB52\"], \"font\": {\"color\": \"#2a3f5f\"}, \"geo\": {\"bgcolor\": \"white\", \"lakecolor\": \"white\", \"landcolor\": \"#E5ECF6\", \"showlakes\": true, \"showland\": true, \"subunitcolor\": \"white\"}, \"hoverlabel\": {\"align\": \"left\"}, \"hovermode\": \"closest\", \"mapbox\": {\"style\": \"light\"}, \"paper_bgcolor\": \"white\", \"plot_bgcolor\": \"#E5ECF6\", \"polar\": {\"angularaxis\": {\"gridcolor\": \"white\", \"linecolor\": \"white\", \"ticks\": \"\"}, \"bgcolor\": \"#E5ECF6\", \"radialaxis\": {\"gridcolor\": \"white\", \"linecolor\": \"white\", \"ticks\": \"\"}}, \"scene\": {\"xaxis\": {\"backgroundcolor\": \"#E5ECF6\", \"gridcolor\": \"white\", \"gridwidth\": 2, \"linecolor\": \"white\", \"showbackground\": true, \"ticks\": \"\", \"zerolinecolor\": \"white\"}, \"yaxis\": {\"backgroundcolor\": \"#E5ECF6\", \"gridcolor\": \"white\", \"gridwidth\": 2, \"linecolor\": \"white\", \"showbackground\": true, \"ticks\": \"\", \"zerolinecolor\": \"white\"}, \"zaxis\": {\"backgroundcolor\": \"#E5ECF6\", \"gridcolor\": \"white\", \"gridwidth\": 2, \"linecolor\": \"white\", \"showbackground\": true, \"ticks\": \"\", \"zerolinecolor\": \"white\"}}, \"shapedefaults\": {\"line\": {\"color\": \"#2a3f5f\"}}, \"ternary\": {\"aaxis\": {\"gridcolor\": \"white\", \"linecolor\": \"white\", \"ticks\": \"\"}, \"baxis\": {\"gridcolor\": \"white\", \"linecolor\": \"white\", \"ticks\": \"\"}, \"bgcolor\": \"#E5ECF6\", \"caxis\": {\"gridcolor\": \"white\", \"linecolor\": \"white\", \"ticks\": \"\"}}, \"title\": {\"x\": 0.05}, \"xaxis\": {\"automargin\": true, \"gridcolor\": \"white\", \"linecolor\": \"white\", \"ticks\": \"\", \"title\": {\"standoff\": 15}, \"zerolinecolor\": \"white\", \"zerolinewidth\": 2}, \"yaxis\": {\"automargin\": true, \"gridcolor\": \"white\", \"linecolor\": \"white\", \"ticks\": \"\", \"title\": {\"standoff\": 15}, \"zerolinecolor\": \"white\", \"zerolinewidth\": 2}}}, \"title\": {\"text\": \"Number of wins by KXIP and SRH against each other\"}, \"xaxis\": {\"title\": {\"text\": \"Team\"}}, \"yaxis\": {\"title\": {\"text\": \"No of wins\"}}},\n",
              "                        {\"responsive\": true}\n",
              "                    ).then(function(){\n",
              "                            \n",
              "var gd = document.getElementById('af85fb9f-84af-4130-9601-4336a9eb5991');\n",
              "var x = new MutationObserver(function (mutations, observer) {{\n",
              "        var display = window.getComputedStyle(gd).display;\n",
              "        if (!display || display === 'none') {{\n",
              "            console.log([gd, 'removed!']);\n",
              "            Plotly.purge(gd);\n",
              "            observer.disconnect();\n",
              "        }}\n",
              "}});\n",
              "\n",
              "// Listen for the removal of the full notebook cells\n",
              "var notebookContainer = gd.closest('#notebook-container');\n",
              "if (notebookContainer) {{\n",
              "    x.observe(notebookContainer, {childList: true});\n",
              "}}\n",
              "\n",
              "// Listen for the clearing of the current output cell\n",
              "var outputEl = gd.closest('.output');\n",
              "if (outputEl) {{\n",
              "    x.observe(outputEl, {childList: true});\n",
              "}}\n",
              "\n",
              "                        })\n",
              "                };\n",
              "                \n",
              "            </script>\n",
              "        </div>\n",
              "</body>\n",
              "</html>"
            ]
          },
          "metadata": {
            "tags": []
          }
        }
      ]
    },
    {
      "cell_type": "markdown",
      "metadata": {
        "id": "cE_wR5OkYCEz"
      },
      "source": [
        "SRH won more matches than KXIP in head-head matches. But IPL team will change every two years, So lets look at individual player performance in IPL as well."
      ]
    },
    {
      "cell_type": "code",
      "metadata": {
        "id": "VJXelotsYUrk",
        "outputId": "23643965-91b8-4844-d94d-912a656eef64",
        "colab": {
          "base_uri": "https://localhost:8080/",
          "height": 67
        }
      },
      "source": [
        "#Lets look at how many player of the match awards won by current DC and KXIP players.\n",
        "#Note: I am taking top 8 palyers from both teams\n",
        "#Sometimes team win dependent on Number of match winners in your team. i.e why i am using this approach.\n",
        "#Note: I am taking these player names because these players are played atleast one match for their respective sides in this season till now.\n",
        "df_man_of_match_SRH = df_matches[(df_matches['player_of_match'] == 'DA Warner') | (df_matches['player_of_match'] == 'J Bairstow') |\n",
        "                                (df_matches['player_of_match'] == 'MK Pandey') | (df_matches['player_of_match'] == 'Rashid Khan') |\n",
        "                                (df_matches['player_of_match'] == 'S Sharma') | (df_matches['player_of_match'] == 'K Ahmed') |\n",
        "                                (df_matches['player_of_match'] == 'JO Holder') | (df_matches['player_of_match'] == 'V Shankar')]\n",
        "\n",
        "print(\"Total number of man of matches won by SRH players is\", df_man_of_match_SRH.shape[0],\"\\n\")\n",
        "\n",
        "df_man_of_match_KXIP = df_matches[(df_matches['player_of_match'] == 'KL Rahul') | (df_matches['player_of_match'] == 'MA Agarwal') |\n",
        "                                (df_matches['player_of_match'] == 'GJ Maxwell') | (df_matches['player_of_match'] == 'CH Gayle') |\n",
        "                                (df_matches['player_of_match'] == 'Mohammed Shami') | (df_matches['player_of_match'] == 'Mandeep Singh') |\n",
        "                                (df_matches['player_of_match'] == 'CJ Jordan') | (df_matches['player_of_match'] == 'M Ashwin') ]\n",
        "\n",
        "print(\"Total number of man of matches won by Punjab players is\", df_man_of_match_KXIP.shape[0])  "
      ],
      "execution_count": 88,
      "outputs": [
        {
          "output_type": "stream",
          "text": [
            "Total number of man of matches won by SRH players is 31 \n",
            "\n",
            "Total number of man of matches won by Punjab players is 36\n"
          ],
          "name": "stdout"
        }
      ]
    },
    {
      "cell_type": "markdown",
      "metadata": {
        "id": "j8d1v1T-aGcQ"
      },
      "source": [
        "**Conclusion :-**\n",
        "\n",
        "KXIP players won more man of the match awrads than SRH players. So i can say KXIP has more match winners then SRH. So i am predicting KXIP will win today match."
      ]
    },
    {
      "cell_type": "markdown",
      "metadata": {
        "id": "qHXGNnEna0IS"
      },
      "source": [
        "### Q2) Which of the following will be true about Warner i.e what is his strike rate and weather he will get out or not?"
      ]
    },
    {
      "cell_type": "code",
      "metadata": {
        "id": "wsoolFuqbJ2B",
        "outputId": "cf06e93e-15dd-4259-f1d3-8c775c1b5cab",
        "colab": {
          "base_uri": "https://localhost:8080/",
          "height": 67
        }
      },
      "source": [
        "#Lets calculate warner strike rate against current KXIP bowlers. \n",
        "df_Warner_against_DC = df_deliveries[(df_deliveries['batsman'] == 'DA Warner') &\n",
        "                         ((df_deliveries['bowler'] == 'Mohammed Shami') | (df_deliveries['bowler'] == 'M Ashwin') |\n",
        "                         (df_deliveries['bowler'] == 'CJ Jordan')  | (df_deliveries['bowler'] == 'GJ Maxwell'))]                                           \n",
        "\n",
        "#Number of runs scored by Warner against current KXIP bowlers\n",
        "total_runs = df_Warner_against_DC['batsman_runs'].sum()\n",
        "#Number of balls faced by warner against current KXIP bowlers\n",
        "#Here wide balls are not counted under batsman faced balls. We can count No-balls under batsman faced deliveries\n",
        "no_of_balls = len(df_Warner_against_DC['ball']) - len(df_Warner_against_DC[df_Warner_against_DC['wide_runs'] >= 1])\n",
        "\n",
        "print(\"David Warner Scored\",total_runs, \"runs aginst current KXIP bowlers in\",no_of_balls,\"balls\\n\")\n",
        "\n",
        "Strike_rate = (total_runs/no_of_balls)*100\n",
        "print(\"David Warner Strike rate against current KXIP bowlers is\",int(Strike_rate))"
      ],
      "execution_count": 89,
      "outputs": [
        {
          "output_type": "stream",
          "text": [
            "David Warner Scored 100 runs aginst current KXIP bowlers in 73 balls\n",
            "\n",
            "David Warner Strike rate against current KXIP bowlers is 136\n"
          ],
          "name": "stdout"
        }
      ]
    },
    {
      "cell_type": "code",
      "metadata": {
        "id": "0UK0X1hugtTl",
        "outputId": "181d6536-cf38-4c5f-bba8-70032d7738fa",
        "colab": {
          "base_uri": "https://localhost:8080/",
          "height": 67
        }
      },
      "source": [
        "#Lets calcualte David Warner overall strike rate in IPL\n",
        "df_Warner = df_deliveries[(df_deliveries['batsman'] == \"DA Warner\") ]\n",
        "\n",
        "#Number of runs scored by Warner in first 6 overs\n",
        "total_runs = df_Warner['batsman_runs'].sum()\n",
        "#Number of balls faced by warner in first 6 overs\n",
        "#Here wide balls are not counted under batsman faced balls. We can count No-balls under batsman faced deliveries\n",
        "no_of_balls = len(df_Warner['ball']) - len(df_Warner[df_Warner['wide_runs'] >= 1])\n",
        "\n",
        "print(\"David Warner Scored\",total_runs, \"runs in IPL in\",no_of_balls,\"balls\\n\")\n",
        "\n",
        "Strike_rate = (total_runs/no_of_balls)*100\n",
        "print(\"David Warner Strike rate in IPL is\",int(Strike_rate))"
      ],
      "execution_count": 90,
      "outputs": [
        {
          "output_type": "stream",
          "text": [
            "David Warner Scored 4741 runs in IPL in 3306 balls\n",
            "\n",
            "David Warner Strike rate in IPL is 143\n"
          ],
          "name": "stdout"
        }
      ]
    },
    {
      "cell_type": "code",
      "metadata": {
        "id": "5HyBRK4Zhesy",
        "outputId": "c1c71d9e-e1e9-45d7-b8c0-fd494eec8807",
        "colab": {
          "base_uri": "https://localhost:8080/",
          "height": 34
        }
      },
      "source": [
        "#Calculating number of times david warner got out in IPL\n",
        "#Some times batsman get out when he was in non-striker end. i.e why i filtering non-striker also.\n",
        "df_Warner_wicket = df_deliveries[(df_deliveries['batsman'] == \"DA Warner\") | (df_deliveries['non_striker'] == \"DA Warner\")]\n",
        "\n",
        "out = len(df_Warner_wicket[df_Warner_wicket['player_dismissed'] == \"DA Warner\"])\n",
        "no_of_matches = df_Warner_wicket['match_id'].nunique()\n",
        "\n",
        "print(out,\"times Warner got out in\",no_of_matches,\"matches\")"
      ],
      "execution_count": 92,
      "outputs": [
        {
          "output_type": "stream",
          "text": [
            "110 times Warner got out in 126 matches\n"
          ],
          "name": "stdout"
        }
      ]
    },
    {
      "cell_type": "markdown",
      "metadata": {
        "id": "PUWsc3Z0iMxg"
      },
      "source": [
        "**Conclusion :-**\n",
        "\n",
        "According to above analysis warner strike rate in today match will be more than 125 and he is top order batsman and also he got out in IPL almost every match. So i am predicting he is out and strike rate is above 125."
      ]
    },
    {
      "cell_type": "markdown",
      "metadata": {
        "id": "oUyRyMCQMh6V"
      },
      "source": [
        "### Q3) What would be KL Rahul Contribution to the team total?"
      ]
    },
    {
      "cell_type": "code",
      "metadata": {
        "id": "BEIJtENnPucE",
        "outputId": "c39ef94c-0dfe-40fb-9492-6fade4b3aba3",
        "colab": {
          "base_uri": "https://localhost:8080/",
          "height": 67
        }
      },
      "source": [
        "#Lets filter out KL rahul rows when he played for punjab\n",
        "#I know KL rahul is playing for KXIP from 2018 onwards\n",
        "#Lets claculate the number of runs scored by KXIP and KL rahul\n",
        "#In some matches player will goes for Diamond duck(with out facing deliveries) i.e 0(0). i.why i am choosing non-striker option also\n",
        "df_rahul = df_deliveries[(df_deliveries[\"batsman\"] == 'KL Rahul') & (df_deliveries[\"batting_team\"] == 'Kings XI Punjab')]  \n",
        "common = df_deliveries.merge(df_rahul,on=['match_id','match_id'])\n",
        "\n",
        "df_KXIP = df_deliveries[(df_deliveries.match_id.isin(common.match_id))&(df_deliveries.match_id.isin(common.match_id))]\n",
        "df_KXIP = df_KXIP[df_KXIP['batting_team'] == 'Kings XI Punjab']    \n",
        "\n",
        "rahul_runs = df_rahul['batsman_runs'].sum()\n",
        "KXIP_runs = df_KXIP['total_runs'].sum()\n",
        "print(\"Total runs scored by KL rahul for KXIP is\",rahul_runs,\"runs\\n\")\n",
        "print(\"Total Runs scored by KXIP when Rahul was in KXIP playing11 is\",KXIP_runs,\"runs\")"
      ],
      "execution_count": 74,
      "outputs": [
        {
          "output_type": "stream",
          "text": [
            "Total runs scored by KL rahul for KXIP is 1288 runs\n",
            "\n",
            "Total Runs scored by KXIP when Rahul was in KXIP playing11 is 4825 runs\n"
          ],
          "name": "stdout"
        }
      ]
    },
    {
      "cell_type": "code",
      "metadata": {
        "id": "6aSTuOn5WJpw",
        "outputId": "794f1439-898a-4275-c587-5927dc990c6d",
        "colab": {
          "base_uri": "https://localhost:8080/",
          "height": 34
        }
      },
      "source": [
        "#Lets calculate percentage of runs he scored\n",
        "Per_runs = (rahul_runs*100)/(KXIP_runs)\n",
        "print(round(Per_runs,2),\"% was the total contribution by KL Rahul to KXIP total score when he was in playing11\" )"
      ],
      "execution_count": 76,
      "outputs": [
        {
          "output_type": "stream",
          "text": [
            "26.69 % was the total contribution by KL Rahul to KXIP total score when he was in playing11\n"
          ],
          "name": "stdout"
        }
      ]
    },
    {
      "cell_type": "markdown",
      "metadata": {
        "id": "glDxDoWFfSI6"
      },
      "source": [
        "**Conclusion :-**\n",
        "\n",
        "According to above analysis i am predicting his contribution in today match is above 25%."
      ]
    },
    {
      "cell_type": "markdown",
      "metadata": {
        "id": "_c4bUE2WeJKu"
      },
      "source": [
        "### Q4) How many balls would SRH take to reach 50 runs on team total? "
      ]
    },
    {
      "cell_type": "code",
      "metadata": {
        "id": "s_OO5uuye7Ka",
        "outputId": "fe625da0-74aa-48ad-c56b-6e3995ab3c36",
        "colab": {
          "base_uri": "https://localhost:8080/",
          "height": 70
        }
      },
      "source": [
        "#Filtering out SRH team matches in IPL\n",
        "df_SRH = df_deliveries[df_deliveries['batting_team'] == \"Sunrisers Hyderabad\"] \n",
        "\n",
        "#converting total runs,match id, wide balls into list\n",
        "batsman_runs_list = df_SRH['total_runs'].tolist()\n",
        "match_id_list = df_SRH['match_id'].tolist()\n",
        "wides_list = df_SRH['wide_runs'].tolist() \n",
        "#I am taking this wide list because while calcualting total balls faced to reach 50,then i dont want to consider wide balls.\n",
        "#I know no-balls also not consider under balls faced by team. But you will get hardly 0-1 no ball in innings. So i am not removing any no-balls.\n",
        "\n",
        "listoflists = []\n",
        "listoflists.append(match_id_list)\n",
        "listoflists.append(batsman_runs_list)\n",
        "listoflists.append(wides_list)\n",
        "\n",
        "#Here i am writing for loop to get how many balls taken in each match to reach 50 runs by SRH.\n",
        "SRH_ballsfaced = []\n",
        "SRH_matchID = []\n",
        "sum = 0\n",
        "balls_faced = 0\n",
        "for i in range(len(listoflists[0])-1):\n",
        "     sum = sum + (listoflists[1][i])\n",
        "     if listoflists[2][i] < 1:\n",
        "       balls_faced = balls_faced + 1\n",
        "     if listoflists[0][i] != listoflists[0][i+1]:\n",
        "       sum = 0\n",
        "       balls_faced = 0\n",
        "     if listoflists[0][i] not in SRH_matchID:   \n",
        "        if sum >= 50:\n",
        "           SRH_ballsfaced.append(balls_faced)\n",
        "           SRH_matchID.append(listoflists[0][i])\n",
        "           sum = 0\n",
        "           balls_faced = 0\n",
        "\n",
        "print(\"Balls Faced to reach 50 runs:\",SRH_ballsfaced)\n",
        "print(\"Corresponding Match_id      :\",SRH_matchID)   "
      ],
      "execution_count": 31,
      "outputs": [
        {
          "output_type": "stream",
          "text": [
            "Balls Faced to reach 50 runs: [33, 33, 43, 51, 54, 43, 40, 29, 23, 31, 43, 39, 39, 56, 48, 51, 56, 43, 67, 51, 43, 50, 46, 51, 46, 37, 44, 35, 66, 44, 64, 48, 45, 34, 46, 44, 40, 36, 43, 34, 41, 32, 33, 37, 37, 26, 52, 36, 42, 31, 31, 26, 41, 31, 45, 26, 30, 54, 33, 57, 50, 26, 27, 74, 38, 51, 35, 53, 34, 35, 42, 39, 45, 43, 32, 31, 35, 30, 40, 47, 26, 46, 44, 34, 48, 33, 46, 33, 27, 39, 38, 40, 34, 28, 29, 28, 49, 52, 43, 26, 27, 32, 35, 19, 28, 30, 34]\n",
            "Corresponding Match_id      : [1, 6, 10, 14, 19, 21, 25, 32, 36, 39, 43, 47, 52, 57, 384, 388, 394, 397, 402, 405, 414, 416, 423, 428, 432, 435, 440, 444, 449, 453, 455, 461, 466, 469, 474, 477, 481, 487, 493, 496, 500, 503, 507, 511, 521, 525, 529, 531, 537, 541, 544, 551, 555, 558, 561, 564, 568, 572, 580, 584, 588, 591, 594, 598, 603, 610, 613, 616, 618, 622, 628, 631, 634, 635, 636, 7897, 7900, 7903, 7909, 7913, 7916, 7918, 7921, 7929, 7932, 7935, 7939, 7944, 7947, 7950, 7952, 7953, 11138, 11144, 11147, 11152, 11310, 11313, 11321, 11324, 11329, 11332, 11336, 11339, 11342, 11345, 11413]\n"
          ],
          "name": "stdout"
        }
      ]
    },
    {
      "cell_type": "code",
      "metadata": {
        "id": "AcLr1ZLIqFKz",
        "outputId": "6ca3b3fb-d13b-4469-bb0c-580edec21629",
        "colab": {
          "base_uri": "https://localhost:8080/",
          "height": 168
        }
      },
      "source": [
        "#converting above two ists into dataframe\n",
        "df_SRH_ballsfaced_50runs =  pd.DataFrame(list(zip(SRH_matchID, SRH_ballsfaced)), columns =['match_id', 'balls_faced']) \n",
        "\n",
        "#Lets see central tendency and percentile values\n",
        "df_SRH_ballsfaced_50runs['balls_faced'].describe()\n"
      ],
      "execution_count": 37,
      "outputs": [
        {
          "output_type": "execute_result",
          "data": {
            "text/plain": [
              "count    107.000000\n",
              "mean      39.859813\n",
              "std       10.188274\n",
              "min       19.000000\n",
              "25%       32.500000\n",
              "50%       39.000000\n",
              "75%       46.000000\n",
              "max       74.000000\n",
              "Name: balls_faced, dtype: float64"
            ]
          },
          "metadata": {
            "tags": []
          },
          "execution_count": 37
        }
      ]
    },
    {
      "cell_type": "code",
      "metadata": {
        "id": "ih4tSLfjzHcq",
        "outputId": "f417e4f2-d4c4-494b-d06a-5b7d43547661",
        "colab": {
          "base_uri": "https://localhost:8080/",
          "height": 385
        }
      },
      "source": [
        "#Now plotting PDF \n",
        "import seaborn as sns\n",
        "import matplotlib.pyplot as plt\n",
        "sns.FacetGrid(df_SRH_ballsfaced_50runs,size=5) \\\n",
        "   .map(sns.distplot, \"balls_faced\") \\\n",
        "   .add_legend();\n",
        "\n",
        "plt.title(\"PDF for number of balls faced by SRH to reach 50 runs in every match\")\n",
        "plt.show();"
      ],
      "execution_count": 39,
      "outputs": [
        {
          "output_type": "display_data",
          "data": {
            "image/png": "[encoded data removed]",
            "text/plain": [
              "<Figure size 368x360 with 1 Axes>"
            ]
          },
          "metadata": {
            "tags": [],
            "needs_background": "light"
          }
        }
      ]
    },
    {
      "cell_type": "markdown",
      "metadata": {
        "id": "mr1-eYMG0LqC"
      },
      "source": [
        "**Conclusion :-**\n",
        "\n",
        "\n",
        "1.   By looking at above PDF plot i can say balls = 30 to 35 has highest probability to score 50 runs.\n",
        "2.   Mean = 39 and 50% values are less than 39.\n",
        "\n",
        "So i am predicting SRH will Score 50 runs in 30-36 balls according to above analysis.\n",
        "\n"
      ]
    },
    {
      "cell_type": "markdown",
      "metadata": {
        "id": "8lMJgblt1YCR"
      },
      "source": [
        "### Q5) How many runs will chris gayle score in the first 10 balls he faces? If he gets out before 10 balls, then the number of runs he scored until he gets out will be considered?"
      ]
    },
    {
      "cell_type": "code",
      "metadata": {
        "id": "B9DiBYRO2ddO",
        "outputId": "00eda714-a9b8-43be-849d-74ee1007adec",
        "colab": {
          "base_uri": "https://localhost:8080/",
          "height": 87
        }
      },
      "source": [
        "#Filtering out gale from batsman column against all teams and not taking wide deliveries\n",
        "#because batsman wont score in wide deliveries but he can score in no-balls\n",
        "df_Gayle = df_deliveries[(df_deliveries['batsman'] == 'CH Gayle') & (df_deliveries['wide_runs'] == 0)]\n",
        "\n",
        "#converting batsman runs and match_id to list\n",
        "runs_list = df_Gayle['batsman_runs'].to_list()\n",
        "matchid_list = df_Gayle['match_id'].to_list()\n",
        "\n",
        "listoflists = []\n",
        "listoflists.append(matchid_list)\n",
        "listoflists.append(runs_list)\n",
        "\n",
        "Gayle_runs_scored = []\n",
        "Gayle_matchID = []\n",
        "balls_faced = 0\n",
        "runs = 0\n",
        "\n",
        "for i in range(len(listoflists[0])-1):\n",
        "  balls_faced = balls_faced + 1\n",
        "  if listoflists[0][i] != listoflists[0][i+1] and balls_faced < 10 and listoflists[0][i] not in Gayle_matchID:\n",
        "     Gayle_runs_scored.append(runs)\n",
        "     Gayle_matchID.append(listoflists[0][i])\n",
        "     balls_faced = 0\n",
        "     runs = 0 \n",
        "  if  balls_faced <= 10 :\n",
        "     runs = runs + (listoflists[1][i])\n",
        "     if balls_faced == 10 or listoflists[0][i] != listoflists[0][i+1]:\n",
        "        if listoflists[0][i] not in Gayle_matchID:   \n",
        "           Gayle_runs_scored.append(runs)\n",
        "           Gayle_matchID.append(listoflists[0][i])\n",
        "           runs = 0\n",
        "           balls_faced = 0\n",
        "  if listoflists[0][i] != listoflists[0][i+1]: #if match_id changes then i am taking balls_faced=0 and runs=0 \n",
        "     balls_faced = 0\n",
        "     runs = 0 \n",
        "\n",
        "#Printing number of runs scored by Gayle in each match for 1st 10 balls he faced.\n",
        "print(\"Runs scored by Gayle for 1st 10balls:\",Gayle_runs_scored,\"\\n\")\n",
        "print(\"Corresponding Match_id              :\", Gayle_matchID)"
      ],
      "execution_count": 54,
      "outputs": [
        {
          "output_type": "stream",
          "text": [
            "Runs scored by Gayle for 1st 10balls: [21, 6, 7, 16, 2, 8, 0, 0, 15, 4, 10, 6, 12, 14, 7, 3, 5, 14, 20, 4, 15, 20, 16, 7, 0, 13, 21, 14, 5, 28, 13, 34, 0, 20, 8, 28, 0, 2, 10, 8, 8, 10, 4, 14, 14, 4, 2, 10, 6, 5, 27, 4, 10, 11, 4, 14, 9, 21, 9, 23, 10, 4, 6, 4, 7, 13, 16, 20, 10, 24, 4, 6, 8, 5, 6, 6, 7, 13, 1, 9, 13, 10, 21, 21, 12, 14, 35, 1, 7, 10, 1, 0, 7, 5, 2, 9, 6, 1, 9, 11, 10, 17, 13, 10, 6, 8, 1, 14, 6, 18, 0, 8, 10, 18, 5, 15, 15, 6, 13, 24, 23, 4, 13, 6] \n",
            "\n",
            "Corresponding Match_id              : [1, 5, 12, 20, 27, 30, 42, 45, 55, 121, 123, 126, 132, 134, 138, 142, 191, 196, 200, 204, 208, 213, 217, 222, 227, 258, 263, 268, 280, 283, 288, 291, 296, 302, 304, 306, 307, 317, 320, 326, 329, 333, 338, 344, 350, 356, 360, 362, 367, 372, 376, 383, 388, 392, 396, 401, 407, 411, 417, 420, 426, 429, 432, 438, 441, 448, 452, 475, 481, 484, 488, 492, 495, 499, 503, 506, 522, 525, 534, 540, 543, 546, 550, 557, 562, 566, 568, 571, 574, 575, 580, 587, 606, 617, 620, 624, 626, 632, 633, 636, 7905, 7909, 7911, 7918, 7927, 7931, 7933, 7937, 7941, 7943, 7949, 11140, 11142, 11145, 11309, 11313, 11315, 11319, 11323, 11328, 11333, 11339, 11343, 11346]\n"
          ],
          "name": "stdout"
        }
      ]
    },
    {
      "cell_type": "code",
      "metadata": {
        "id": "ko8XQEo5CeOG",
        "outputId": "9926aadf-699e-476c-f895-6d3684d3dbd9",
        "colab": {
          "base_uri": "https://localhost:8080/",
          "height": 296
        }
      },
      "source": [
        "#Converting above two lists into dataframe\n",
        "df_Gayle_runs_scored=  pd.DataFrame(list(zip(Gayle_matchID, Gayle_runs_scored)), columns =['match_id', 'Runs_Scored_1st_10balls']) \n",
        "\n",
        "\n",
        "#Cumulative sum of area under curve upto gives you cdf\n",
        "import numpy as np\n",
        "leg = [\"PDF\", \"CDF\"]\n",
        "counts, bin_edges = np.histogram(df_Gayle_runs_scored['Runs_Scored_1st_10balls'], bins=10,density = True)\n",
        "pdf = counts/(np.sum(counts))\n",
        "cdf = np.cumsum(pdf)\n",
        "plt.plot(bin_edges[1:],pdf)\n",
        "plt.plot(bin_edges[1:], cdf)\n",
        "\n",
        "plt.legend(leg)\n",
        "plt.xlabel('Runs_Scored')\n",
        "plt.title(\"PDF and CDF for number of runs scored by Gayle in 1st 10balls he faced\")\n",
        "plt.show();"
      ],
      "execution_count": 67,
      "outputs": [
        {
          "output_type": "display_data",
          "data": {
            "image/png": "[encoded data removed]",
            "text/plain": [
              "<Figure size 432x288 with 1 Axes>"
            ]
          },
          "metadata": {
            "tags": [],
            "needs_background": "light"
          }
        }
      ]
    },
    {
      "cell_type": "markdown",
      "metadata": {
        "id": "L36VgebLI_kf"
      },
      "source": [
        "**Conclusion :-**\n",
        "\n",
        "\n",
        "1.   By looking at above CDF plot i can say 90% of the values are less than 25. So almost in every matche he score less than 25 runs for 1st 10 balls.\n",
        "\n",
        "According to CDF i am predicting his score will be between 15-25. In given option i am choosing 18-24.\n",
        "\n"
      ]
    }
  ]
}