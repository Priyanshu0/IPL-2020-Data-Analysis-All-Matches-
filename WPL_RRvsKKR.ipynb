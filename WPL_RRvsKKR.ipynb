{
  "nbformat": 4,
  "nbformat_minor": 0,
  "metadata": {
    "colab": {
      "name": "WPL_RRvsKKR.ipynb",
      "provenance": []
    },
    "kernelspec": {
      "name": "python3",
      "display_name": "Python 3"
    }
  },
  "cells": [
    {
      "cell_type": "markdown",
      "metadata": {
        "id": "xOMXkaCYv_t9"
      },
      "source": [
        "### Exploratory Data Analysis\n",
        "\n",
        "### Data Pre-Processing"
      ]
    },
    {
      "cell_type": "code",
      "metadata": {
        "id": "ZbTpDfCrswVH",
        "outputId": "f1d24219-be81-4f3e-b1a2-04b63843a4ac",
        "colab": {
          "base_uri": "https://localhost:8080/",
          "height": 244
        }
      },
      "source": [
        "import warnings\n",
        "warnings.filterwarnings(\"ignore\")\n",
        "import pandas as pd\n",
        "\n",
        "df_matches = pd.read_csv(\"matches.csv\")\n",
        "df_matches.head(2)"
      ],
      "execution_count": 1,
      "outputs": [
        {
          "output_type": "execute_result",
          "data": {
            "text/html": [
              "<div>\n",
              "<style scoped>\n",
              "    .dataframe tbody tr th:only-of-type {\n",
              "        vertical-align: middle;\n",
              "    }\n",
              "\n",
              "    .dataframe tbody tr th {\n",
              "        vertical-align: top;\n",
              "    }\n",
              "\n",
              "    .dataframe thead th {\n",
              "        text-align: right;\n",
              "    }\n",
              "</style>\n",
              "<table border=\"1\" class=\"dataframe\">\n",
              "  <thead>\n",
              "    <tr style=\"text-align: right;\">\n",
              "      <th></th>\n",
              "      <th>id</th>\n",
              "      <th>season</th>\n",
              "      <th>city</th>\n",
              "      <th>date</th>\n",
              "      <th>team1</th>\n",
              "      <th>team2</th>\n",
              "      <th>toss_winner</th>\n",
              "      <th>toss_decision</th>\n",
              "      <th>result</th>\n",
              "      <th>dl_applied</th>\n",
              "      <th>winner</th>\n",
              "      <th>win_by_runs</th>\n",
              "      <th>win_by_wickets</th>\n",
              "      <th>player_of_match</th>\n",
              "      <th>venue</th>\n",
              "      <th>umpire1</th>\n",
              "      <th>umpire2</th>\n",
              "      <th>umpire3</th>\n",
              "    </tr>\n",
              "  </thead>\n",
              "  <tbody>\n",
              "    <tr>\n",
              "      <th>0</th>\n",
              "      <td>1</td>\n",
              "      <td>2017</td>\n",
              "      <td>Hyderabad</td>\n",
              "      <td>2017-04-05</td>\n",
              "      <td>Sunrisers Hyderabad</td>\n",
              "      <td>Royal Challengers Bangalore</td>\n",
              "      <td>Royal Challengers Bangalore</td>\n",
              "      <td>field</td>\n",
              "      <td>normal</td>\n",
              "      <td>0</td>\n",
              "      <td>Sunrisers Hyderabad</td>\n",
              "      <td>35</td>\n",
              "      <td>0</td>\n",
              "      <td>Yuvraj Singh</td>\n",
              "      <td>Rajiv Gandhi International Stadium, Uppal</td>\n",
              "      <td>AY Dandekar</td>\n",
              "      <td>NJ Llong</td>\n",
              "      <td>NaN</td>\n",
              "    </tr>\n",
              "    <tr>\n",
              "      <th>1</th>\n",
              "      <td>2</td>\n",
              "      <td>2017</td>\n",
              "      <td>Pune</td>\n",
              "      <td>2017-04-06</td>\n",
              "      <td>Mumbai Indians</td>\n",
              "      <td>Rising Pune Supergiant</td>\n",
              "      <td>Rising Pune Supergiant</td>\n",
              "      <td>field</td>\n",
              "      <td>normal</td>\n",
              "      <td>0</td>\n",
              "      <td>Rising Pune Supergiant</td>\n",
              "      <td>0</td>\n",
              "      <td>7</td>\n",
              "      <td>SPD Smith</td>\n",
              "      <td>Maharashtra Cricket Association Stadium</td>\n",
              "      <td>A Nand Kishore</td>\n",
              "      <td>S Ravi</td>\n",
              "      <td>NaN</td>\n",
              "    </tr>\n",
              "  </tbody>\n",
              "</table>\n",
              "</div>"
            ],
            "text/plain": [
              "   id  season       city  ...         umpire1   umpire2 umpire3\n",
              "0   1    2017  Hyderabad  ...     AY Dandekar  NJ Llong     NaN\n",
              "1   2    2017       Pune  ...  A Nand Kishore    S Ravi     NaN\n",
              "\n",
              "[2 rows x 18 columns]"
            ]
          },
          "metadata": {
            "tags": []
          },
          "execution_count": 1
        }
      ]
    },
    {
      "cell_type": "code",
      "metadata": {
        "id": "OxymK1s1wJ8c",
        "outputId": "97c687f7-9094-4236-88eb-42ab2f4ccdc2",
        "colab": {
          "base_uri": "https://localhost:8080/",
          "height": 194
        }
      },
      "source": [
        "df_deliveries = pd.read_csv(\"deliveries.csv\")\n",
        "df_deliveries.head(2)"
      ],
      "execution_count": 2,
      "outputs": [
        {
          "output_type": "execute_result",
          "data": {
            "text/html": [
              "<div>\n",
              "<style scoped>\n",
              "    .dataframe tbody tr th:only-of-type {\n",
              "        vertical-align: middle;\n",
              "    }\n",
              "\n",
              "    .dataframe tbody tr th {\n",
              "        vertical-align: top;\n",
              "    }\n",
              "\n",
              "    .dataframe thead th {\n",
              "        text-align: right;\n",
              "    }\n",
              "</style>\n",
              "<table border=\"1\" class=\"dataframe\">\n",
              "  <thead>\n",
              "    <tr style=\"text-align: right;\">\n",
              "      <th></th>\n",
              "      <th>match_id</th>\n",
              "      <th>inning</th>\n",
              "      <th>batting_team</th>\n",
              "      <th>bowling_team</th>\n",
              "      <th>over</th>\n",
              "      <th>ball</th>\n",
              "      <th>batsman</th>\n",
              "      <th>non_striker</th>\n",
              "      <th>bowler</th>\n",
              "      <th>is_super_over</th>\n",
              "      <th>wide_runs</th>\n",
              "      <th>bye_runs</th>\n",
              "      <th>legbye_runs</th>\n",
              "      <th>noball_runs</th>\n",
              "      <th>penalty_runs</th>\n",
              "      <th>batsman_runs</th>\n",
              "      <th>extra_runs</th>\n",
              "      <th>total_runs</th>\n",
              "      <th>player_dismissed</th>\n",
              "      <th>dismissal_kind</th>\n",
              "      <th>fielder</th>\n",
              "    </tr>\n",
              "  </thead>\n",
              "  <tbody>\n",
              "    <tr>\n",
              "      <th>0</th>\n",
              "      <td>1</td>\n",
              "      <td>1</td>\n",
              "      <td>Sunrisers Hyderabad</td>\n",
              "      <td>Royal Challengers Bangalore</td>\n",
              "      <td>1</td>\n",
              "      <td>1</td>\n",
              "      <td>DA Warner</td>\n",
              "      <td>S Dhawan</td>\n",
              "      <td>TS Mills</td>\n",
              "      <td>0</td>\n",
              "      <td>0</td>\n",
              "      <td>0</td>\n",
              "      <td>0</td>\n",
              "      <td>0</td>\n",
              "      <td>0</td>\n",
              "      <td>0</td>\n",
              "      <td>0</td>\n",
              "      <td>0</td>\n",
              "      <td>NaN</td>\n",
              "      <td>NaN</td>\n",
              "      <td>NaN</td>\n",
              "    </tr>\n",
              "    <tr>\n",
              "      <th>1</th>\n",
              "      <td>1</td>\n",
              "      <td>1</td>\n",
              "      <td>Sunrisers Hyderabad</td>\n",
              "      <td>Royal Challengers Bangalore</td>\n",
              "      <td>1</td>\n",
              "      <td>2</td>\n",
              "      <td>DA Warner</td>\n",
              "      <td>S Dhawan</td>\n",
              "      <td>TS Mills</td>\n",
              "      <td>0</td>\n",
              "      <td>0</td>\n",
              "      <td>0</td>\n",
              "      <td>0</td>\n",
              "      <td>0</td>\n",
              "      <td>0</td>\n",
              "      <td>0</td>\n",
              "      <td>0</td>\n",
              "      <td>0</td>\n",
              "      <td>NaN</td>\n",
              "      <td>NaN</td>\n",
              "      <td>NaN</td>\n",
              "    </tr>\n",
              "  </tbody>\n",
              "</table>\n",
              "</div>"
            ],
            "text/plain": [
              "   match_id  inning  ... dismissal_kind fielder\n",
              "0         1       1  ...            NaN     NaN\n",
              "1         1       1  ...            NaN     NaN\n",
              "\n",
              "[2 rows x 21 columns]"
            ]
          },
          "metadata": {
            "tags": []
          },
          "execution_count": 2
        }
      ]
    },
    {
      "cell_type": "code",
      "metadata": {
        "id": "DvxGry20wSmf",
        "outputId": "a49a1894-dfb6-4a6c-f301-ca55e8a12754",
        "colab": {
          "base_uri": "https://localhost:8080/"
        }
      },
      "source": [
        "print(df_matches.shape)\n",
        "print(df_deliveries.shape)"
      ],
      "execution_count": 3,
      "outputs": [
        {
          "output_type": "stream",
          "text": [
            "(756, 18)\n",
            "(179078, 21)\n"
          ],
          "name": "stdout"
        }
      ]
    },
    {
      "cell_type": "markdown",
      "metadata": {
        "id": "KuZQ3OxwwW0s"
      },
      "source": [
        "\n",
        "\n",
        "*   In matches data frame columns like umpire1,umpire2,umpire3 are not useful because these days they are using technology. So we cant decide which umpire is more useful for predicting anything related to match.\n",
        "*   Date is also not useful because we already have season column which is also almost equal to date.\n",
        "\n",
        "\n",
        "\n",
        "*   City and venue also not important features for this year IPL. Because IPL2020 is happening in UAE, only 2014 ipl was happened in UAE that to half season. But i am removing only venue it almost equal to city feature.\n",
        "*   'Result' feature is almost equal to 'winner' feature. So i am dropping result column also.\n",
        "\n",
        "\n",
        "\n"
      ]
    },
    {
      "cell_type": "code",
      "metadata": {
        "id": "85qsTyBbwrdz",
        "outputId": "cb9b78cd-fbbf-47a0-9ad7-c9ef9f59ea86",
        "colab": {
          "base_uri": "https://localhost:8080/",
          "height": 194
        }
      },
      "source": [
        "df_matches = df_matches.drop(['venue','date','result','umpire1','umpire2','umpire3'], axis = 1) \n",
        "df_matches.head(2)"
      ],
      "execution_count": 4,
      "outputs": [
        {
          "output_type": "execute_result",
          "data": {
            "text/html": [
              "<div>\n",
              "<style scoped>\n",
              "    .dataframe tbody tr th:only-of-type {\n",
              "        vertical-align: middle;\n",
              "    }\n",
              "\n",
              "    .dataframe tbody tr th {\n",
              "        vertical-align: top;\n",
              "    }\n",
              "\n",
              "    .dataframe thead th {\n",
              "        text-align: right;\n",
              "    }\n",
              "</style>\n",
              "<table border=\"1\" class=\"dataframe\">\n",
              "  <thead>\n",
              "    <tr style=\"text-align: right;\">\n",
              "      <th></th>\n",
              "      <th>id</th>\n",
              "      <th>season</th>\n",
              "      <th>city</th>\n",
              "      <th>team1</th>\n",
              "      <th>team2</th>\n",
              "      <th>toss_winner</th>\n",
              "      <th>toss_decision</th>\n",
              "      <th>dl_applied</th>\n",
              "      <th>winner</th>\n",
              "      <th>win_by_runs</th>\n",
              "      <th>win_by_wickets</th>\n",
              "      <th>player_of_match</th>\n",
              "    </tr>\n",
              "  </thead>\n",
              "  <tbody>\n",
              "    <tr>\n",
              "      <th>0</th>\n",
              "      <td>1</td>\n",
              "      <td>2017</td>\n",
              "      <td>Hyderabad</td>\n",
              "      <td>Sunrisers Hyderabad</td>\n",
              "      <td>Royal Challengers Bangalore</td>\n",
              "      <td>Royal Challengers Bangalore</td>\n",
              "      <td>field</td>\n",
              "      <td>0</td>\n",
              "      <td>Sunrisers Hyderabad</td>\n",
              "      <td>35</td>\n",
              "      <td>0</td>\n",
              "      <td>Yuvraj Singh</td>\n",
              "    </tr>\n",
              "    <tr>\n",
              "      <th>1</th>\n",
              "      <td>2</td>\n",
              "      <td>2017</td>\n",
              "      <td>Pune</td>\n",
              "      <td>Mumbai Indians</td>\n",
              "      <td>Rising Pune Supergiant</td>\n",
              "      <td>Rising Pune Supergiant</td>\n",
              "      <td>field</td>\n",
              "      <td>0</td>\n",
              "      <td>Rising Pune Supergiant</td>\n",
              "      <td>0</td>\n",
              "      <td>7</td>\n",
              "      <td>SPD Smith</td>\n",
              "    </tr>\n",
              "  </tbody>\n",
              "</table>\n",
              "</div>"
            ],
            "text/plain": [
              "   id  season       city  ... win_by_runs win_by_wickets player_of_match\n",
              "0   1    2017  Hyderabad  ...          35              0    Yuvraj Singh\n",
              "1   2    2017       Pune  ...           0              7       SPD Smith\n",
              "\n",
              "[2 rows x 12 columns]"
            ]
          },
          "metadata": {
            "tags": []
          },
          "execution_count": 4
        }
      ]
    },
    {
      "cell_type": "code",
      "metadata": {
        "id": "0yvIBym8w7dW",
        "outputId": "8263c015-9094-4a44-9a58-ac6e8afddfa5",
        "colab": {
          "base_uri": "https://localhost:8080/"
        }
      },
      "source": [
        "print(df_matches[\"team1\"].value_counts())"
      ],
      "execution_count": 5,
      "outputs": [
        {
          "output_type": "stream",
          "text": [
            "Mumbai Indians                 101\n",
            "Kings XI Punjab                 91\n",
            "Chennai Super Kings             89\n",
            "Royal Challengers Bangalore     85\n",
            "Kolkata Knight Riders           83\n",
            "Delhi Daredevils                72\n",
            "Rajasthan Royals                67\n",
            "Sunrisers Hyderabad             63\n",
            "Deccan Chargers                 43\n",
            "Pune Warriors                   20\n",
            "Gujarat Lions                   14\n",
            "Rising Pune Supergiant           8\n",
            "Rising Pune Supergiants          7\n",
            "Kochi Tuskers Kerala             7\n",
            "Delhi Capitals                   6\n",
            "Name: team1, dtype: int64\n"
          ],
          "name": "stdout"
        }
      ]
    },
    {
      "cell_type": "code",
      "metadata": {
        "id": "kkniT0Viw9R4"
      },
      "source": [
        "#In 2019 delhi daredevils name changed to delhi capitals. So i am replacing old name with new name for all the rows.\n",
        "df_matches = df_matches.replace(to_replace =\"Delhi Daredevils\", value = \"Delhi Capitals\") \n",
        "\n",
        "df_deliveries = df_deliveries.replace(to_replace = \"Delhi Daredevils\", value = \"Delhi Capitals\")\n",
        "\n",
        "#Rising pune supergiants name also printed in two ways. Lets change it to Rising pune supergiants.\n",
        "df_matches = df_matches.replace(to_replace =\"Rising Pune Supergiant\", value = \"Rising Pune Supergiants\") \n",
        "\n",
        "df_deliveries = df_deliveries.replace(to_replace = \"Rising Pune Supergiant\", value = \"Rising Pune Supergiants\")"
      ],
      "execution_count": 6,
      "outputs": []
    },
    {
      "cell_type": "code",
      "metadata": {
        "id": "J5dwjjG-xB8I",
        "outputId": "bba86e81-032c-4de0-bd0f-b90bbfc4ef87",
        "colab": {
          "base_uri": "https://localhost:8080/"
        }
      },
      "source": [
        "#checking null values in matches dataset\n",
        "print(df_matches.isnull().sum())"
      ],
      "execution_count": 7,
      "outputs": [
        {
          "output_type": "stream",
          "text": [
            "id                 0\n",
            "season             0\n",
            "city               7\n",
            "team1              0\n",
            "team2              0\n",
            "toss_winner        0\n",
            "toss_decision      0\n",
            "dl_applied         0\n",
            "winner             4\n",
            "win_by_runs        0\n",
            "win_by_wickets     0\n",
            "player_of_match    4\n",
            "dtype: int64\n"
          ],
          "name": "stdout"
        }
      ]
    },
    {
      "cell_type": "code",
      "metadata": {
        "id": "bFlmV6uUxF0z",
        "outputId": "b7886e55-4b6d-474a-ae24-9ed0d96417dc",
        "colab": {
          "base_uri": "https://localhost:8080/",
          "height": 177
        }
      },
      "source": [
        "#printing null rows in matches dataset\n",
        "df1_null = df_matches[df_matches.isna().any(axis=1)]\n",
        "df1_null.head(2)"
      ],
      "execution_count": 8,
      "outputs": [
        {
          "output_type": "execute_result",
          "data": {
            "text/html": [
              "<div>\n",
              "<style scoped>\n",
              "    .dataframe tbody tr th:only-of-type {\n",
              "        vertical-align: middle;\n",
              "    }\n",
              "\n",
              "    .dataframe tbody tr th {\n",
              "        vertical-align: top;\n",
              "    }\n",
              "\n",
              "    .dataframe thead th {\n",
              "        text-align: right;\n",
              "    }\n",
              "</style>\n",
              "<table border=\"1\" class=\"dataframe\">\n",
              "  <thead>\n",
              "    <tr style=\"text-align: right;\">\n",
              "      <th></th>\n",
              "      <th>id</th>\n",
              "      <th>season</th>\n",
              "      <th>city</th>\n",
              "      <th>team1</th>\n",
              "      <th>team2</th>\n",
              "      <th>toss_winner</th>\n",
              "      <th>toss_decision</th>\n",
              "      <th>dl_applied</th>\n",
              "      <th>winner</th>\n",
              "      <th>win_by_runs</th>\n",
              "      <th>win_by_wickets</th>\n",
              "      <th>player_of_match</th>\n",
              "    </tr>\n",
              "  </thead>\n",
              "  <tbody>\n",
              "    <tr>\n",
              "      <th>300</th>\n",
              "      <td>301</td>\n",
              "      <td>2011</td>\n",
              "      <td>Delhi</td>\n",
              "      <td>Delhi Capitals</td>\n",
              "      <td>Pune Warriors</td>\n",
              "      <td>Delhi Capitals</td>\n",
              "      <td>bat</td>\n",
              "      <td>0</td>\n",
              "      <td>NaN</td>\n",
              "      <td>0</td>\n",
              "      <td>0</td>\n",
              "      <td>NaN</td>\n",
              "    </tr>\n",
              "    <tr>\n",
              "      <th>461</th>\n",
              "      <td>462</td>\n",
              "      <td>2014</td>\n",
              "      <td>NaN</td>\n",
              "      <td>Mumbai Indians</td>\n",
              "      <td>Royal Challengers Bangalore</td>\n",
              "      <td>Royal Challengers Bangalore</td>\n",
              "      <td>field</td>\n",
              "      <td>0</td>\n",
              "      <td>Royal Challengers Bangalore</td>\n",
              "      <td>0</td>\n",
              "      <td>7</td>\n",
              "      <td>PA Patel</td>\n",
              "    </tr>\n",
              "  </tbody>\n",
              "</table>\n",
              "</div>"
            ],
            "text/plain": [
              "      id  season   city  ... win_by_runs win_by_wickets player_of_match\n",
              "300  301    2011  Delhi  ...           0              0             NaN\n",
              "461  462    2014    NaN  ...           0              7        PA Patel\n",
              "\n",
              "[2 rows x 12 columns]"
            ]
          },
          "metadata": {
            "tags": []
          },
          "execution_count": 8
        }
      ]
    },
    {
      "cell_type": "code",
      "metadata": {
        "id": "Bqqa9DI0xtrw",
        "outputId": "da869cbd-699b-4086-839f-d6b3baf4321f",
        "colab": {
          "base_uri": "https://localhost:8080/"
        }
      },
      "source": [
        "#After seeing above table we can clearly understood that 4 matches are not played beacuse of rain, badlight or pitch condition. \n",
        "#So i am replacing those null values in winner column with no result and palyer of the match column null values with not declared.\n",
        "df_matches[\"winner\"].fillna(\"No result\", inplace = True)\n",
        "df_matches['player_of_match'].fillna(\"Not declared\", inplace = True)\n",
        "#city column also has 7 null values. I checked those matches data in Espn website and they played in Dubai.\n",
        "df_matches[\"city\"].fillna(\"Dubai\", inplace = True)\n",
        "print(df_matches.shape)"
      ],
      "execution_count": 9,
      "outputs": [
        {
          "output_type": "stream",
          "text": [
            "(756, 12)\n"
          ],
          "name": "stdout"
        }
      ]
    },
    {
      "cell_type": "code",
      "metadata": {
        "id": "370t9n8wx3ht",
        "outputId": "6fee700e-ae60-4c64-c11f-49c3ccd93f07",
        "colab": {
          "base_uri": "https://localhost:8080/"
        }
      },
      "source": [
        "#checking null values in deliveries dataset\n",
        "print(df_deliveries.isnull().sum())"
      ],
      "execution_count": 10,
      "outputs": [
        {
          "output_type": "stream",
          "text": [
            "match_id                 0\n",
            "inning                   0\n",
            "batting_team             0\n",
            "bowling_team             0\n",
            "over                     0\n",
            "ball                     0\n",
            "batsman                  0\n",
            "non_striker              0\n",
            "bowler                   0\n",
            "is_super_over            0\n",
            "wide_runs                0\n",
            "bye_runs                 0\n",
            "legbye_runs              0\n",
            "noball_runs              0\n",
            "penalty_runs             0\n",
            "batsman_runs             0\n",
            "extra_runs               0\n",
            "total_runs               0\n",
            "player_dismissed    170244\n",
            "dismissal_kind      170244\n",
            "fielder             172630\n",
            "dtype: int64\n"
          ],
          "name": "stdout"
        }
      ]
    },
    {
      "cell_type": "markdown",
      "metadata": {
        "id": "bQy1pHZJx_G6"
      },
      "source": [
        "\n",
        "\n",
        "*   Player_dismissed, dismissal_kind and fielder features are having null values. But if you consider today questions only 'player_dismissed' and 'dismissal_kind' features are useful for today analysis. So i am removing \"fielder\" feature.\n",
        "*   Filling player_dismissed null values with 'No wicket', dismissal_Kind null values with also No Wicket.\n",
        "\n"
      ]
    },
    {
      "cell_type": "code",
      "metadata": {
        "id": "3Xgrl4vFx6Il",
        "outputId": "23a34732-ed3f-4dd3-8576-72267fd3d909",
        "colab": {
          "base_uri": "https://localhost:8080/",
          "height": 194
        }
      },
      "source": [
        "#dropping fielder column\n",
        "df_deliveries = df_deliveries.drop(['fielder'], axis = 1) \n",
        "#filling null values\n",
        "df_deliveries[\"player_dismissed\"].fillna(\"No Wicket\", inplace = True)\n",
        "df_deliveries[\"dismissal_kind\"].fillna(\"No Wicket\", inplace = True)\n",
        "df_deliveries.head(2)"
      ],
      "execution_count": 11,
      "outputs": [
        {
          "output_type": "execute_result",
          "data": {
            "text/html": [
              "<div>\n",
              "<style scoped>\n",
              "    .dataframe tbody tr th:only-of-type {\n",
              "        vertical-align: middle;\n",
              "    }\n",
              "\n",
              "    .dataframe tbody tr th {\n",
              "        vertical-align: top;\n",
              "    }\n",
              "\n",
              "    .dataframe thead th {\n",
              "        text-align: right;\n",
              "    }\n",
              "</style>\n",
              "<table border=\"1\" class=\"dataframe\">\n",
              "  <thead>\n",
              "    <tr style=\"text-align: right;\">\n",
              "      <th></th>\n",
              "      <th>match_id</th>\n",
              "      <th>inning</th>\n",
              "      <th>batting_team</th>\n",
              "      <th>bowling_team</th>\n",
              "      <th>over</th>\n",
              "      <th>ball</th>\n",
              "      <th>batsman</th>\n",
              "      <th>non_striker</th>\n",
              "      <th>bowler</th>\n",
              "      <th>is_super_over</th>\n",
              "      <th>wide_runs</th>\n",
              "      <th>bye_runs</th>\n",
              "      <th>legbye_runs</th>\n",
              "      <th>noball_runs</th>\n",
              "      <th>penalty_runs</th>\n",
              "      <th>batsman_runs</th>\n",
              "      <th>extra_runs</th>\n",
              "      <th>total_runs</th>\n",
              "      <th>player_dismissed</th>\n",
              "      <th>dismissal_kind</th>\n",
              "    </tr>\n",
              "  </thead>\n",
              "  <tbody>\n",
              "    <tr>\n",
              "      <th>0</th>\n",
              "      <td>1</td>\n",
              "      <td>1</td>\n",
              "      <td>Sunrisers Hyderabad</td>\n",
              "      <td>Royal Challengers Bangalore</td>\n",
              "      <td>1</td>\n",
              "      <td>1</td>\n",
              "      <td>DA Warner</td>\n",
              "      <td>S Dhawan</td>\n",
              "      <td>TS Mills</td>\n",
              "      <td>0</td>\n",
              "      <td>0</td>\n",
              "      <td>0</td>\n",
              "      <td>0</td>\n",
              "      <td>0</td>\n",
              "      <td>0</td>\n",
              "      <td>0</td>\n",
              "      <td>0</td>\n",
              "      <td>0</td>\n",
              "      <td>No Wicket</td>\n",
              "      <td>No Wicket</td>\n",
              "    </tr>\n",
              "    <tr>\n",
              "      <th>1</th>\n",
              "      <td>1</td>\n",
              "      <td>1</td>\n",
              "      <td>Sunrisers Hyderabad</td>\n",
              "      <td>Royal Challengers Bangalore</td>\n",
              "      <td>1</td>\n",
              "      <td>2</td>\n",
              "      <td>DA Warner</td>\n",
              "      <td>S Dhawan</td>\n",
              "      <td>TS Mills</td>\n",
              "      <td>0</td>\n",
              "      <td>0</td>\n",
              "      <td>0</td>\n",
              "      <td>0</td>\n",
              "      <td>0</td>\n",
              "      <td>0</td>\n",
              "      <td>0</td>\n",
              "      <td>0</td>\n",
              "      <td>0</td>\n",
              "      <td>No Wicket</td>\n",
              "      <td>No Wicket</td>\n",
              "    </tr>\n",
              "  </tbody>\n",
              "</table>\n",
              "</div>"
            ],
            "text/plain": [
              "   match_id  inning  ... player_dismissed dismissal_kind\n",
              "0         1       1  ...        No Wicket      No Wicket\n",
              "1         1       1  ...        No Wicket      No Wicket\n",
              "\n",
              "[2 rows x 20 columns]"
            ]
          },
          "metadata": {
            "tags": []
          },
          "execution_count": 11
        }
      ]
    },
    {
      "cell_type": "code",
      "metadata": {
        "id": "p8qVOMEoyVM8",
        "outputId": "31d42949-dab6-481b-8780-cf249a5fefe9",
        "colab": {
          "base_uri": "https://localhost:8080/",
          "height": 304
        }
      },
      "source": [
        "# list of dtypes to include \n",
        "include =['float', 'int']\n",
        "desc = df_deliveries.describe(include = include)\n",
        "desc"
      ],
      "execution_count": 12,
      "outputs": [
        {
          "output_type": "execute_result",
          "data": {
            "text/html": [
              "<div>\n",
              "<style scoped>\n",
              "    .dataframe tbody tr th:only-of-type {\n",
              "        vertical-align: middle;\n",
              "    }\n",
              "\n",
              "    .dataframe tbody tr th {\n",
              "        vertical-align: top;\n",
              "    }\n",
              "\n",
              "    .dataframe thead th {\n",
              "        text-align: right;\n",
              "    }\n",
              "</style>\n",
              "<table border=\"1\" class=\"dataframe\">\n",
              "  <thead>\n",
              "    <tr style=\"text-align: right;\">\n",
              "      <th></th>\n",
              "      <th>match_id</th>\n",
              "      <th>inning</th>\n",
              "      <th>over</th>\n",
              "      <th>ball</th>\n",
              "      <th>is_super_over</th>\n",
              "      <th>wide_runs</th>\n",
              "      <th>bye_runs</th>\n",
              "      <th>legbye_runs</th>\n",
              "      <th>noball_runs</th>\n",
              "      <th>penalty_runs</th>\n",
              "      <th>batsman_runs</th>\n",
              "      <th>extra_runs</th>\n",
              "      <th>total_runs</th>\n",
              "    </tr>\n",
              "  </thead>\n",
              "  <tbody>\n",
              "    <tr>\n",
              "      <th>count</th>\n",
              "      <td>179078.000000</td>\n",
              "      <td>179078.000000</td>\n",
              "      <td>179078.000000</td>\n",
              "      <td>179078.000000</td>\n",
              "      <td>179078.000000</td>\n",
              "      <td>179078.000000</td>\n",
              "      <td>179078.000000</td>\n",
              "      <td>179078.000000</td>\n",
              "      <td>179078.000000</td>\n",
              "      <td>179078.000000</td>\n",
              "      <td>179078.000000</td>\n",
              "      <td>179078.000000</td>\n",
              "      <td>179078.000000</td>\n",
              "    </tr>\n",
              "    <tr>\n",
              "      <th>mean</th>\n",
              "      <td>1802.252957</td>\n",
              "      <td>1.482952</td>\n",
              "      <td>10.162488</td>\n",
              "      <td>3.615587</td>\n",
              "      <td>0.000452</td>\n",
              "      <td>0.036721</td>\n",
              "      <td>0.004936</td>\n",
              "      <td>0.021136</td>\n",
              "      <td>0.004183</td>\n",
              "      <td>0.000056</td>\n",
              "      <td>1.246864</td>\n",
              "      <td>0.067032</td>\n",
              "      <td>1.313897</td>\n",
              "    </tr>\n",
              "    <tr>\n",
              "      <th>std</th>\n",
              "      <td>3472.322805</td>\n",
              "      <td>0.502074</td>\n",
              "      <td>5.677684</td>\n",
              "      <td>1.806966</td>\n",
              "      <td>0.021263</td>\n",
              "      <td>0.251161</td>\n",
              "      <td>0.116480</td>\n",
              "      <td>0.194908</td>\n",
              "      <td>0.070492</td>\n",
              "      <td>0.016709</td>\n",
              "      <td>1.608270</td>\n",
              "      <td>0.342553</td>\n",
              "      <td>1.605422</td>\n",
              "    </tr>\n",
              "    <tr>\n",
              "      <th>min</th>\n",
              "      <td>1.000000</td>\n",
              "      <td>1.000000</td>\n",
              "      <td>1.000000</td>\n",
              "      <td>1.000000</td>\n",
              "      <td>0.000000</td>\n",
              "      <td>0.000000</td>\n",
              "      <td>0.000000</td>\n",
              "      <td>0.000000</td>\n",
              "      <td>0.000000</td>\n",
              "      <td>0.000000</td>\n",
              "      <td>0.000000</td>\n",
              "      <td>0.000000</td>\n",
              "      <td>0.000000</td>\n",
              "    </tr>\n",
              "    <tr>\n",
              "      <th>25%</th>\n",
              "      <td>190.000000</td>\n",
              "      <td>1.000000</td>\n",
              "      <td>5.000000</td>\n",
              "      <td>2.000000</td>\n",
              "      <td>0.000000</td>\n",
              "      <td>0.000000</td>\n",
              "      <td>0.000000</td>\n",
              "      <td>0.000000</td>\n",
              "      <td>0.000000</td>\n",
              "      <td>0.000000</td>\n",
              "      <td>0.000000</td>\n",
              "      <td>0.000000</td>\n",
              "      <td>0.000000</td>\n",
              "    </tr>\n",
              "    <tr>\n",
              "      <th>50%</th>\n",
              "      <td>379.000000</td>\n",
              "      <td>1.000000</td>\n",
              "      <td>10.000000</td>\n",
              "      <td>4.000000</td>\n",
              "      <td>0.000000</td>\n",
              "      <td>0.000000</td>\n",
              "      <td>0.000000</td>\n",
              "      <td>0.000000</td>\n",
              "      <td>0.000000</td>\n",
              "      <td>0.000000</td>\n",
              "      <td>1.000000</td>\n",
              "      <td>0.000000</td>\n",
              "      <td>1.000000</td>\n",
              "    </tr>\n",
              "    <tr>\n",
              "      <th>75%</th>\n",
              "      <td>567.000000</td>\n",
              "      <td>2.000000</td>\n",
              "      <td>15.000000</td>\n",
              "      <td>5.000000</td>\n",
              "      <td>0.000000</td>\n",
              "      <td>0.000000</td>\n",
              "      <td>0.000000</td>\n",
              "      <td>0.000000</td>\n",
              "      <td>0.000000</td>\n",
              "      <td>0.000000</td>\n",
              "      <td>1.000000</td>\n",
              "      <td>0.000000</td>\n",
              "      <td>1.000000</td>\n",
              "    </tr>\n",
              "    <tr>\n",
              "      <th>max</th>\n",
              "      <td>11415.000000</td>\n",
              "      <td>5.000000</td>\n",
              "      <td>20.000000</td>\n",
              "      <td>9.000000</td>\n",
              "      <td>1.000000</td>\n",
              "      <td>5.000000</td>\n",
              "      <td>4.000000</td>\n",
              "      <td>5.000000</td>\n",
              "      <td>5.000000</td>\n",
              "      <td>5.000000</td>\n",
              "      <td>7.000000</td>\n",
              "      <td>7.000000</td>\n",
              "      <td>10.000000</td>\n",
              "    </tr>\n",
              "  </tbody>\n",
              "</table>\n",
              "</div>"
            ],
            "text/plain": [
              "            match_id         inning  ...     extra_runs     total_runs\n",
              "count  179078.000000  179078.000000  ...  179078.000000  179078.000000\n",
              "mean     1802.252957       1.482952  ...       0.067032       1.313897\n",
              "std      3472.322805       0.502074  ...       0.342553       1.605422\n",
              "min         1.000000       1.000000  ...       0.000000       0.000000\n",
              "25%       190.000000       1.000000  ...       0.000000       0.000000\n",
              "50%       379.000000       1.000000  ...       0.000000       1.000000\n",
              "75%       567.000000       2.000000  ...       0.000000       1.000000\n",
              "max     11415.000000       5.000000  ...       7.000000      10.000000\n",
              "\n",
              "[8 rows x 13 columns]"
            ]
          },
          "metadata": {
            "tags": []
          },
          "execution_count": 12
        }
      ]
    },
    {
      "cell_type": "markdown",
      "metadata": {
        "id": "b7e39PQ9yzY8"
      },
      "source": [
        "\n",
        "\n",
        "*   I think there are no outliers present in overs column but in balls column balls range is between(0-9), it happens if bowlers balls extra deliveries.\n",
        "*   In innings column maximum value is 5 so there are some outliers presented. Because there are 2 innings per match, if match tied then they will conduct one super over till last season. So maximum number of innings is 4.\n",
        "\n",
        "\n",
        "\n",
        "*   And in remaining columns max value is in certain limit only. So i can say there are not much outliers.\n",
        "\n",
        "\n",
        "\n",
        "\n"
      ]
    },
    {
      "cell_type": "markdown",
      "metadata": {
        "id": "_t3oSghXvMtK"
      },
      "source": [
        "### Q1) Who will win today match RR vs KKR"
      ]
    },
    {
      "cell_type": "code",
      "metadata": {
        "id": "DPOO36dDvS5_",
        "outputId": "8f1a730f-b4f1-4538-a82f-d4f7bd5727c6",
        "colab": {
          "base_uri": "https://localhost:8080/",
          "height": 542
        }
      },
      "source": [
        "#First Lets see head-head results\n",
        "df_KKR_RR = df_matches[((df_matches['team1'] == 'Kolkata Knight Riders') | (df_matches['team1'] == 'Rajasthan Royals')) & \n",
        "                        ((df_matches['team2'] == 'Kolkata Knight Riders') | (df_matches['team2'] == 'Rajasthan Royals'))] \n",
        "\n",
        "#plotting RR and KKR wins against each other\n",
        "import plotly.graph_objs as go\n",
        "df_winner = df_KKR_RR[['id','winner']].groupby('winner').size().reset_index()\n",
        "df_winner.columns = ['winner','total_wins']\n",
        "df_winner = df_winner.sort_values('total_wins',ascending=False)[:2]\n",
        "\n",
        "data = go.Bar(x = df_winner['winner'],y = df_winner['total_wins'])\n",
        "layout = go.Layout(title = 'Number of wins by KKR and RR against each other',xaxis = dict(title = 'Team'),yaxis = dict(title = 'No of wins'))\n",
        "fig = go.Figure(data = data,layout = layout)\n",
        "fig.show()"
      ],
      "execution_count": 61,
      "outputs": [
        {
          "output_type": "display_data",
          "data": {
            "text/html": [
              "<html>\n",
              "<head><meta charset=\"utf-8\" /></head>\n",
              "<body>\n",
              "    <div>\n",
              "            <script src=\"https://cdnjs.cloudflare.com/ajax/libs/mathjax/2.7.5/MathJax.js?config=TeX-AMS-MML_SVG\"></script><script type=\"text/javascript\">if (window.MathJax) {MathJax.Hub.Config({SVG: {font: \"STIX-Web\"}});}</script>\n",
              "                <script type=\"text/javascript\">window.PlotlyConfig = {MathJaxConfig: 'local'};</script>\n",
              "        <script src=\"https://cdn.plot.ly/plotly-latest.min.js\"></script>    \n",
              "            <div id=\"9b19c31b-2eb2-4910-9cc2-f695d51a847f\" class=\"plotly-graph-div\" style=\"height:525px; width:100%;\"></div>\n",
              "            <script type=\"text/javascript\">\n",
              "                \n",
              "                    window.PLOTLYENV=window.PLOTLYENV || {};\n",
              "                    \n",
              "                if (document.getElementById(\"9b19c31b-2eb2-4910-9cc2-f695d51a847f\")) {\n",
              "                    Plotly.newPlot(\n",
              "                        '9b19c31b-2eb2-4910-9cc2-f695d51a847f',\n",
              "                        [{\"type\": \"bar\", \"x\": [\"Kolkata Knight Riders\", \"Rajasthan Royals\"], \"y\": [10, 10]}],\n",
              "                        {\"template\": {\"data\": {\"bar\": [{\"error_x\": {\"color\": \"#2a3f5f\"}, \"error_y\": {\"color\": \"#2a3f5f\"}, \"marker\": {\"line\": {\"color\": \"#E5ECF6\", \"width\": 0.5}}, \"type\": \"bar\"}], \"barpolar\": [{\"marker\": {\"line\": {\"color\": \"#E5ECF6\", \"width\": 0.5}}, \"type\": \"barpolar\"}], \"carpet\": [{\"aaxis\": {\"endlinecolor\": \"#2a3f5f\", \"gridcolor\": \"white\", \"linecolor\": \"white\", \"minorgridcolor\": \"white\", \"startlinecolor\": \"#2a3f5f\"}, \"baxis\": {\"endlinecolor\": \"#2a3f5f\", \"gridcolor\": \"white\", \"linecolor\": \"white\", \"minorgridcolor\": \"white\", \"startlinecolor\": \"#2a3f5f\"}, \"type\": \"carpet\"}], \"choropleth\": [{\"colorbar\": {\"outlinewidth\": 0, \"ticks\": \"\"}, \"type\": \"choropleth\"}], \"contour\": [{\"colorbar\": {\"outlinewidth\": 0, \"ticks\": \"\"}, \"colorscale\": [[0.0, \"#0d0887\"], [0.1111111111111111, \"#46039f\"], [0.2222222222222222, \"#7201a8\"], [0.3333333333333333, \"#9c179e\"], [0.4444444444444444, \"#bd3786\"], [0.5555555555555556, \"#d8576b\"], [0.6666666666666666, \"#ed7953\"], [0.7777777777777778, \"#fb9f3a\"], [0.8888888888888888, \"#fdca26\"], [1.0, \"#f0f921\"]], \"type\": \"contour\"}], \"contourcarpet\": [{\"colorbar\": {\"outlinewidth\": 0, \"ticks\": \"\"}, \"type\": \"contourcarpet\"}], \"heatmap\": [{\"colorbar\": {\"outlinewidth\": 0, \"ticks\": \"\"}, \"colorscale\": [[0.0, \"#0d0887\"], [0.1111111111111111, \"#46039f\"], [0.2222222222222222, \"#7201a8\"], [0.3333333333333333, \"#9c179e\"], [0.4444444444444444, \"#bd3786\"], [0.5555555555555556, \"#d8576b\"], [0.6666666666666666, \"#ed7953\"], [0.7777777777777778, \"#fb9f3a\"], [0.8888888888888888, \"#fdca26\"], [1.0, \"#f0f921\"]], \"type\": \"heatmap\"}], \"heatmapgl\": [{\"colorbar\": {\"outlinewidth\": 0, \"ticks\": \"\"}, \"colorscale\": [[0.0, \"#0d0887\"], [0.1111111111111111, \"#46039f\"], [0.2222222222222222, \"#7201a8\"], [0.3333333333333333, \"#9c179e\"], [0.4444444444444444, \"#bd3786\"], [0.5555555555555556, \"#d8576b\"], [0.6666666666666666, \"#ed7953\"], [0.7777777777777778, \"#fb9f3a\"], [0.8888888888888888, \"#fdca26\"], [1.0, \"#f0f921\"]], \"type\": \"heatmapgl\"}], \"histogram\": [{\"marker\": {\"colorbar\": {\"outlinewidth\": 0, \"ticks\": \"\"}}, \"type\": \"histogram\"}], \"histogram2d\": [{\"colorbar\": {\"outlinewidth\": 0, \"ticks\": \"\"}, \"colorscale\": [[0.0, \"#0d0887\"], [0.1111111111111111, \"#46039f\"], [0.2222222222222222, \"#7201a8\"], [0.3333333333333333, \"#9c179e\"], [0.4444444444444444, \"#bd3786\"], [0.5555555555555556, \"#d8576b\"], [0.6666666666666666, \"#ed7953\"], [0.7777777777777778, \"#fb9f3a\"], [0.8888888888888888, \"#fdca26\"], [1.0, \"#f0f921\"]], \"type\": \"histogram2d\"}], \"histogram2dcontour\": [{\"colorbar\": {\"outlinewidth\": 0, \"ticks\": \"\"}, \"colorscale\": [[0.0, \"#0d0887\"], [0.1111111111111111, \"#46039f\"], [0.2222222222222222, \"#7201a8\"], [0.3333333333333333, \"#9c179e\"], [0.4444444444444444, \"#bd3786\"], [0.5555555555555556, \"#d8576b\"], [0.6666666666666666, \"#ed7953\"], [0.7777777777777778, \"#fb9f3a\"], [0.8888888888888888, \"#fdca26\"], [1.0, \"#f0f921\"]], \"type\": \"histogram2dcontour\"}], \"mesh3d\": [{\"colorbar\": {\"outlinewidth\": 0, \"ticks\": \"\"}, \"type\": \"mesh3d\"}], \"parcoords\": [{\"line\": {\"colorbar\": {\"outlinewidth\": 0, \"ticks\": \"\"}}, \"type\": \"parcoords\"}], \"pie\": [{\"automargin\": true, \"type\": \"pie\"}], \"scatter\": [{\"marker\": {\"colorbar\": {\"outlinewidth\": 0, \"ticks\": \"\"}}, \"type\": \"scatter\"}], \"scatter3d\": [{\"line\": {\"colorbar\": {\"outlinewidth\": 0, \"ticks\": \"\"}}, \"marker\": {\"colorbar\": {\"outlinewidth\": 0, \"ticks\": \"\"}}, \"type\": \"scatter3d\"}], \"scattercarpet\": [{\"marker\": {\"colorbar\": {\"outlinewidth\": 0, \"ticks\": \"\"}}, \"type\": \"scattercarpet\"}], \"scattergeo\": [{\"marker\": {\"colorbar\": {\"outlinewidth\": 0, \"ticks\": \"\"}}, \"type\": \"scattergeo\"}], \"scattergl\": [{\"marker\": {\"colorbar\": {\"outlinewidth\": 0, \"ticks\": \"\"}}, \"type\": \"scattergl\"}], \"scattermapbox\": [{\"marker\": {\"colorbar\": {\"outlinewidth\": 0, \"ticks\": \"\"}}, \"type\": \"scattermapbox\"}], \"scatterpolar\": [{\"marker\": {\"colorbar\": {\"outlinewidth\": 0, \"ticks\": \"\"}}, \"type\": \"scatterpolar\"}], \"scatterpolargl\": [{\"marker\": {\"colorbar\": {\"outlinewidth\": 0, \"ticks\": \"\"}}, \"type\": \"scatterpolargl\"}], \"scatterternary\": [{\"marker\": {\"colorbar\": {\"outlinewidth\": 0, \"ticks\": \"\"}}, \"type\": \"scatterternary\"}], \"surface\": [{\"colorbar\": {\"outlinewidth\": 0, \"ticks\": \"\"}, \"colorscale\": [[0.0, \"#0d0887\"], [0.1111111111111111, \"#46039f\"], [0.2222222222222222, \"#7201a8\"], [0.3333333333333333, \"#9c179e\"], [0.4444444444444444, \"#bd3786\"], [0.5555555555555556, \"#d8576b\"], [0.6666666666666666, \"#ed7953\"], [0.7777777777777778, \"#fb9f3a\"], [0.8888888888888888, \"#fdca26\"], [1.0, \"#f0f921\"]], \"type\": \"surface\"}], \"table\": [{\"cells\": {\"fill\": {\"color\": \"#EBF0F8\"}, \"line\": {\"color\": \"white\"}}, \"header\": {\"fill\": {\"color\": \"#C8D4E3\"}, \"line\": {\"color\": \"white\"}}, \"type\": \"table\"}]}, \"layout\": {\"annotationdefaults\": {\"arrowcolor\": \"#2a3f5f\", \"arrowhead\": 0, \"arrowwidth\": 1}, \"coloraxis\": {\"colorbar\": {\"outlinewidth\": 0, \"ticks\": \"\"}}, \"colorscale\": {\"diverging\": [[0, \"#8e0152\"], [0.1, \"#c51b7d\"], [0.2, \"#de77ae\"], [0.3, \"#f1b6da\"], [0.4, \"#fde0ef\"], [0.5, \"#f7f7f7\"], [0.6, \"#e6f5d0\"], [0.7, \"#b8e186\"], [0.8, \"#7fbc41\"], [0.9, \"#4d9221\"], [1, \"#276419\"]], \"sequential\": [[0.0, \"#0d0887\"], [0.1111111111111111, \"#46039f\"], [0.2222222222222222, \"#7201a8\"], [0.3333333333333333, \"#9c179e\"], [0.4444444444444444, \"#bd3786\"], [0.5555555555555556, \"#d8576b\"], [0.6666666666666666, \"#ed7953\"], [0.7777777777777778, \"#fb9f3a\"], [0.8888888888888888, \"#fdca26\"], [1.0, \"#f0f921\"]], \"sequentialminus\": [[0.0, \"#0d0887\"], [0.1111111111111111, \"#46039f\"], [0.2222222222222222, \"#7201a8\"], [0.3333333333333333, \"#9c179e\"], [0.4444444444444444, \"#bd3786\"], [0.5555555555555556, \"#d8576b\"], [0.6666666666666666, \"#ed7953\"], [0.7777777777777778, \"#fb9f3a\"], [0.8888888888888888, \"#fdca26\"], [1.0, \"#f0f921\"]]}, \"colorway\": [\"#636efa\", \"#EF553B\", \"#00cc96\", \"#ab63fa\", \"#FFA15A\", \"#19d3f3\", \"#FF6692\", \"#B6E880\", \"#FF97FF\", \"#FECB52\"], \"font\": {\"color\": \"#2a3f5f\"}, \"geo\": {\"bgcolor\": \"white\", \"lakecolor\": \"white\", \"landcolor\": \"#E5ECF6\", \"showlakes\": true, \"showland\": true, \"subunitcolor\": \"white\"}, \"hoverlabel\": {\"align\": \"left\"}, \"hovermode\": \"closest\", \"mapbox\": {\"style\": \"light\"}, \"paper_bgcolor\": \"white\", \"plot_bgcolor\": \"#E5ECF6\", \"polar\": {\"angularaxis\": {\"gridcolor\": \"white\", \"linecolor\": \"white\", \"ticks\": \"\"}, \"bgcolor\": \"#E5ECF6\", \"radialaxis\": {\"gridcolor\": \"white\", \"linecolor\": \"white\", \"ticks\": \"\"}}, \"scene\": {\"xaxis\": {\"backgroundcolor\": \"#E5ECF6\", \"gridcolor\": \"white\", \"gridwidth\": 2, \"linecolor\": \"white\", \"showbackground\": true, \"ticks\": \"\", \"zerolinecolor\": \"white\"}, \"yaxis\": {\"backgroundcolor\": \"#E5ECF6\", \"gridcolor\": \"white\", \"gridwidth\": 2, \"linecolor\": \"white\", \"showbackground\": true, \"ticks\": \"\", \"zerolinecolor\": \"white\"}, \"zaxis\": {\"backgroundcolor\": \"#E5ECF6\", \"gridcolor\": \"white\", \"gridwidth\": 2, \"linecolor\": \"white\", \"showbackground\": true, \"ticks\": \"\", \"zerolinecolor\": \"white\"}}, \"shapedefaults\": {\"line\": {\"color\": \"#2a3f5f\"}}, \"ternary\": {\"aaxis\": {\"gridcolor\": \"white\", \"linecolor\": \"white\", \"ticks\": \"\"}, \"baxis\": {\"gridcolor\": \"white\", \"linecolor\": \"white\", \"ticks\": \"\"}, \"bgcolor\": \"#E5ECF6\", \"caxis\": {\"gridcolor\": \"white\", \"linecolor\": \"white\", \"ticks\": \"\"}}, \"title\": {\"x\": 0.05}, \"xaxis\": {\"automargin\": true, \"gridcolor\": \"white\", \"linecolor\": \"white\", \"ticks\": \"\", \"title\": {\"standoff\": 15}, \"zerolinecolor\": \"white\", \"zerolinewidth\": 2}, \"yaxis\": {\"automargin\": true, \"gridcolor\": \"white\", \"linecolor\": \"white\", \"ticks\": \"\", \"title\": {\"standoff\": 15}, \"zerolinecolor\": \"white\", \"zerolinewidth\": 2}}}, \"title\": {\"text\": \"Number of wins by KKR and RR against each other\"}, \"xaxis\": {\"title\": {\"text\": \"Team\"}}, \"yaxis\": {\"title\": {\"text\": \"No of wins\"}}},\n",
              "                        {\"responsive\": true}\n",
              "                    ).then(function(){\n",
              "                            \n",
              "var gd = document.getElementById('9b19c31b-2eb2-4910-9cc2-f695d51a847f');\n",
              "var x = new MutationObserver(function (mutations, observer) {{\n",
              "        var display = window.getComputedStyle(gd).display;\n",
              "        if (!display || display === 'none') {{\n",
              "            console.log([gd, 'removed!']);\n",
              "            Plotly.purge(gd);\n",
              "            observer.disconnect();\n",
              "        }}\n",
              "}});\n",
              "\n",
              "// Listen for the removal of the full notebook cells\n",
              "var notebookContainer = gd.closest('#notebook-container');\n",
              "if (notebookContainer) {{\n",
              "    x.observe(notebookContainer, {childList: true});\n",
              "}}\n",
              "\n",
              "// Listen for the clearing of the current output cell\n",
              "var outputEl = gd.closest('.output');\n",
              "if (outputEl) {{\n",
              "    x.observe(outputEl, {childList: true});\n",
              "}}\n",
              "\n",
              "                        })\n",
              "                };\n",
              "                \n",
              "            </script>\n",
              "        </div>\n",
              "</body>\n",
              "</html>"
            ]
          },
          "metadata": {
            "tags": []
          }
        }
      ]
    },
    {
      "cell_type": "markdown",
      "metadata": {
        "id": "tJSIoX0rvm7B"
      },
      "source": [
        "They played 20 head-head matches KKR and RR won won 10 matches each.\n"
      ]
    },
    {
      "cell_type": "code",
      "metadata": {
        "id": "6XHtu3cZxBZy",
        "outputId": "3814eceb-5c6a-4a85-dc93-b41250efd10c",
        "colab": {
          "base_uri": "https://localhost:8080/",
          "height": 393
        }
      },
      "source": [
        "#Lets look at how each tean won the matches i.e weather batting first or bowling first\n",
        "import matplotlib.pyplot as plt\n",
        "df_KKR_RR = df_KKR_RR[['win_by_runs','win_by_wickets','winner']]\n",
        "df_KKR_RR.plot( \"winner\", kind=\"bar\")"
      ],
      "execution_count": 64,
      "outputs": [
        {
          "output_type": "execute_result",
          "data": {
            "text/plain": [
              "<matplotlib.axes._subplots.AxesSubplot at 0x7f1580a35278>"
            ]
          },
          "metadata": {
            "tags": []
          },
          "execution_count": 64
        },
        {
          "output_type": "display_data",
          "data": {
            "image/png": "[encoded data removed]",
            "text/plain": [
              "<Figure size 432x288 with 1 Axes>"
            ]
          },
          "metadata": {
            "tags": [],
            "needs_background": "light"
          }
        }
      ]
    },
    {
      "cell_type": "markdown",
      "metadata": {
        "id": "bMazj6NOxu9q"
      },
      "source": [
        "\n",
        "\n",
        "*   RR won most of the matches when they are batting first and KKR won more matches when they are bowling first. 2 matches are went to superover.\n",
        "*   So today match is about Best chasing team(KKR) and best defending team(RR).\n",
        "\n",
        "Now i am calcualting which team has more match winners.\n",
        "\n"
      ]
    },
    {
      "cell_type": "code",
      "metadata": {
        "id": "Io-2EhrOvt8X",
        "outputId": "64df91ee-fab9-4da8-e998-7b3407f915d8",
        "colab": {
          "base_uri": "https://localhost:8080/"
        }
      },
      "source": [
        "#Lets look at how many player of the match awards won by current KKR and RR players.\n",
        "#Note: I am taking top 8 palyers from both teams\n",
        "#Sometimes team win dependent on Number of match winners in your team. i.e why i am using this approach.\n",
        "#Note: I am taking these player names because these players are played atleast one match for their respective sides in this season till now.\n",
        "df_man_of_match_RR = df_matches[(df_matches['player_of_match'] == 'SV Samson') | (df_matches['player_of_match'] == 'BA Stokes') |\n",
        "                                (df_matches['player_of_match'] == 'RV Uthappa') | (df_matches['player_of_match'] == 'JC Buttler') |\n",
        "                                (df_matches['player_of_match'] == 'SPD Smith') | (df_matches['player_of_match'] == 'S Gopal') |\n",
        "                                (df_matches['player_of_match'] == 'J Archer') | (df_matches['player_of_match'] == 'R Tewatia')] \n",
        "\n",
        "\n",
        "print(\"Total number of man of matches won by present Rajasthan players is\", df_man_of_match_RR.shape[0],'\\n')  \n",
        "\n",
        "#In KKR i am not picking russell because he is injured may be he will not play today match.\n",
        "df_man_of_match_KKR = df_matches[(df_matches['player_of_match'] == 'KD Karthik') | (df_matches['player_of_match'] == 'RA Tripathi') |\n",
        "                                (df_matches['player_of_match'] == 'PJ Cummins') | (df_matches['player_of_match'] == 'SP Narine') |\n",
        "                                (df_matches['player_of_match'] == 'EJG Morgan') | (df_matches['player_of_match'] == 'N Rana') |\n",
        "                                (df_matches['player_of_match'] == 'S Gill') | (df_matches['player_of_match'] == 'LH Ferguson')]\n",
        "\n",
        "\n",
        "print(\"Total number of man of matches won by present KKR players is\", df_man_of_match_KKR.shape[0])"
      ],
      "execution_count": 63,
      "outputs": [
        {
          "output_type": "stream",
          "text": [
            "Total number of man of matches won by present Rajasthan players is 28 \n",
            "\n",
            "Total number of man of matches won by present KKR players is 21\n"
          ],
          "name": "stdout"
        }
      ]
    },
    {
      "cell_type": "markdown",
      "metadata": {
        "id": "W7OCM8zqwg-U"
      },
      "source": [
        "\n",
        "\n",
        "*   RR players won more man of the match awards then KKR players. So i can say RR has more match winners. \n",
        "*   According to above all the analysis i am predcting RR will win today match.\n",
        "\n"
      ]
    },
    {
      "cell_type": "markdown",
      "metadata": {
        "id": "IpVibY1By_4h"
      },
      "source": [
        "### Q2) How many wickets will fall in total during the match?"
      ]
    },
    {
      "cell_type": "code",
      "metadata": {
        "id": "XLMx5JZJzTvt",
        "outputId": "0544ec00-eb43-4b36-dcd0-7ac8861bb556",
        "colab": {
          "base_uri": "https://localhost:8080/",
          "height": 195
        }
      },
      "source": [
        "df_RRKKR = df_deliveries[(df_deliveries['batting_team'] == 'Rajasthan Royals') & (df_deliveries['bowling_team'] == 'Kolkata Knight Riders') |\n",
        "                         (df_deliveries['batting_team'] == 'Kolkata Knight Riders') & (df_deliveries['bowling_team'] == 'Rajasthan Royals')]\n",
        "df_RRKKR.head(2)   \n",
        "\n",
        "df_wickets = df_RRKKR[df_RRKKR['player_dismissed'] != 'No Wicket']\n",
        "df_wickets = df_wickets.groupby('match_id',as_index=False)['player_dismissed'].count()\n",
        "df_wickets.rename(columns={'player_dismissed':'Number_of_wickets'}, inplace=True)\n",
        "df_wickets.head()\n"
      ],
      "execution_count": 21,
      "outputs": [
        {
          "output_type": "execute_result",
          "data": {
            "text/html": [
              "<div>\n",
              "<style scoped>\n",
              "    .dataframe tbody tr th:only-of-type {\n",
              "        vertical-align: middle;\n",
              "    }\n",
              "\n",
              "    .dataframe tbody tr th {\n",
              "        vertical-align: top;\n",
              "    }\n",
              "\n",
              "    .dataframe thead th {\n",
              "        text-align: right;\n",
              "    }\n",
              "</style>\n",
              "<table border=\"1\" class=\"dataframe\">\n",
              "  <thead>\n",
              "    <tr style=\"text-align: right;\">\n",
              "      <th></th>\n",
              "      <th>match_id</th>\n",
              "      <th>Number_of_wickets</th>\n",
              "    </tr>\n",
              "  </thead>\n",
              "  <tbody>\n",
              "    <tr>\n",
              "      <th>0</th>\n",
              "      <td>78</td>\n",
              "      <td>17</td>\n",
              "    </tr>\n",
              "    <tr>\n",
              "      <th>1</th>\n",
              "      <td>105</td>\n",
              "      <td>12</td>\n",
              "    </tr>\n",
              "    <tr>\n",
              "      <th>2</th>\n",
              "      <td>126</td>\n",
              "      <td>15</td>\n",
              "    </tr>\n",
              "    <tr>\n",
              "      <th>3</th>\n",
              "      <td>168</td>\n",
              "      <td>15</td>\n",
              "    </tr>\n",
              "    <tr>\n",
              "      <th>4</th>\n",
              "      <td>187</td>\n",
              "      <td>12</td>\n",
              "    </tr>\n",
              "  </tbody>\n",
              "</table>\n",
              "</div>"
            ],
            "text/plain": [
              "   match_id  Number_of_wickets\n",
              "0        78                 17\n",
              "1       105                 12\n",
              "2       126                 15\n",
              "3       168                 15\n",
              "4       187                 12"
            ]
          },
          "metadata": {
            "tags": []
          },
          "execution_count": 21
        }
      ]
    },
    {
      "cell_type": "code",
      "metadata": {
        "id": "MmOe6ps69qc9",
        "outputId": "2513b77b-409c-4a7f-a3d3-2e7fb692f8ec",
        "colab": {
          "base_uri": "https://localhost:8080/",
          "height": 536
        }
      },
      "source": [
        "#Now plotting PDF \n",
        "import seaborn as sns\n",
        "import matplotlib.pyplot as plt\n",
        "sns.FacetGrid(df_wickets,size=5) \\\n",
        "   .map(sns.distplot, \"Number_of_wickets\") \\\n",
        "   .add_legend();\n",
        "\n",
        "plt.title(\"PDF for number of wickets fallen in KKR vs RR matches\")\n",
        "plt.show();\n",
        "\n",
        "#Printing central tendency and percentile values\n",
        "df_wickets['Number_of_wickets'].describe()"
      ],
      "execution_count": 22,
      "outputs": [
        {
          "output_type": "display_data",
          "data": {
            "image/png": "[encoded data removed]",
            "text/plain": [
              "<Figure size 368x360 with 1 Axes>"
            ]
          },
          "metadata": {
            "tags": [],
            "needs_background": "light"
          }
        },
        {
          "output_type": "execute_result",
          "data": {
            "text/plain": [
              "count    20.000000\n",
              "mean     12.200000\n",
              "std       3.334035\n",
              "min       5.000000\n",
              "25%      11.000000\n",
              "50%      12.000000\n",
              "75%      15.000000\n",
              "max      17.000000\n",
              "Name: Number_of_wickets, dtype: float64"
            ]
          },
          "metadata": {
            "tags": []
          },
          "execution_count": 22
        }
      ]
    },
    {
      "cell_type": "markdown",
      "metadata": {
        "id": "vuVChFLE-Jm7"
      },
      "source": [
        "**Conclusion :-**\n",
        "\n",
        "\n",
        "\n",
        "*   From above PDF plot i can say that wickets between 10-12 and 15-17 the probability is very high. \n",
        "*   Mean,median is 12 and in 75% of the matches wickets fallen are less than 15. Maximum wickets fall in a single match is 17.\n",
        "\n",
        "So according to above all observations i am predicting in today match they will loose 11-15 wickets.\n",
        "\n"
      ]
    },
    {
      "cell_type": "markdown",
      "metadata": {
        "id": "bNwcdCcDAIjJ"
      },
      "source": [
        "### Q3) Which batsman will have the highest no.of runs scored through boundaries - no.of runs scored 1s2s3s to total runs scored ratio in the match?"
      ]
    },
    {
      "cell_type": "code",
      "metadata": {
        "id": "64d7nuE7BjB3",
        "outputId": "d81f13b3-9313-4511-837c-dd7008ae21d8",
        "colab": {
          "base_uri": "https://localhost:8080/",
          "height": 343
        }
      },
      "source": [
        "#Taking 10 batsmans from both teams(According to given options)\n",
        "df_batsmans_KKRRR = df_deliveries[(df_deliveries['batsman'] == 'S Gill') | (df_deliveries['batsman'] == 'KD Karthik') |\n",
        "                                 (df_deliveries['batsman'] == 'N Rana') | (df_deliveries['batsman'] == 'EJG Morgan') |\n",
        "                                 (df_deliveries['batsman'] == 'R Tewatia') | (df_deliveries['batsman'] == 'SPD Smith') |\n",
        "                                 (df_deliveries['batsman'] == 'SV Samson') | (df_deliveries['batsman'] == 'BA Stokes') |\n",
        "                                 (df_deliveries['batsman'] == 'RV Uthappa') | (df_deliveries['batsman'] == 'JC Buttler')]\n",
        "\n",
        "#First calcualting total runs scored by every batsman in all matches \n",
        "total_runs = df_batsmans_KKRRR.groupby('batsman')['batsman_runs'].sum()\n",
        "df_total_runs = total_runs.to_frame().reset_index()\n",
        "df_total_runs.rename(columns = {'batsman_runs':'total_runs'}, inplace = True) \n",
        "df_total_runs.head(10)"
      ],
      "execution_count": 30,
      "outputs": [
        {
          "output_type": "execute_result",
          "data": {
            "text/html": [
              "<div>\n",
              "<style scoped>\n",
              "    .dataframe tbody tr th:only-of-type {\n",
              "        vertical-align: middle;\n",
              "    }\n",
              "\n",
              "    .dataframe tbody tr th {\n",
              "        vertical-align: top;\n",
              "    }\n",
              "\n",
              "    .dataframe thead th {\n",
              "        text-align: right;\n",
              "    }\n",
              "</style>\n",
              "<table border=\"1\" class=\"dataframe\">\n",
              "  <thead>\n",
              "    <tr style=\"text-align: right;\">\n",
              "      <th></th>\n",
              "      <th>batsman</th>\n",
              "      <th>total_runs</th>\n",
              "    </tr>\n",
              "  </thead>\n",
              "  <tbody>\n",
              "    <tr>\n",
              "      <th>0</th>\n",
              "      <td>BA Stokes</td>\n",
              "      <td>647</td>\n",
              "    </tr>\n",
              "    <tr>\n",
              "      <th>1</th>\n",
              "      <td>EJG Morgan</td>\n",
              "      <td>854</td>\n",
              "    </tr>\n",
              "    <tr>\n",
              "      <th>2</th>\n",
              "      <td>JC Buttler</td>\n",
              "      <td>1431</td>\n",
              "    </tr>\n",
              "    <tr>\n",
              "      <th>3</th>\n",
              "      <td>KD Karthik</td>\n",
              "      <td>3688</td>\n",
              "    </tr>\n",
              "    <tr>\n",
              "      <th>4</th>\n",
              "      <td>N Rana</td>\n",
              "      <td>1104</td>\n",
              "    </tr>\n",
              "    <tr>\n",
              "      <th>5</th>\n",
              "      <td>R Tewatia</td>\n",
              "      <td>119</td>\n",
              "    </tr>\n",
              "    <tr>\n",
              "      <th>6</th>\n",
              "      <td>RV Uthappa</td>\n",
              "      <td>4446</td>\n",
              "    </tr>\n",
              "    <tr>\n",
              "      <th>7</th>\n",
              "      <td>S Gill</td>\n",
              "      <td>517</td>\n",
              "    </tr>\n",
              "    <tr>\n",
              "      <th>8</th>\n",
              "      <td>SPD Smith</td>\n",
              "      <td>2047</td>\n",
              "    </tr>\n",
              "    <tr>\n",
              "      <th>9</th>\n",
              "      <td>SV Samson</td>\n",
              "      <td>2235</td>\n",
              "    </tr>\n",
              "  </tbody>\n",
              "</table>\n",
              "</div>"
            ],
            "text/plain": [
              "      batsman  total_runs\n",
              "0   BA Stokes         647\n",
              "1  EJG Morgan         854\n",
              "2  JC Buttler        1431\n",
              "3  KD Karthik        3688\n",
              "4      N Rana        1104\n",
              "5   R Tewatia         119\n",
              "6  RV Uthappa        4446\n",
              "7      S Gill         517\n",
              "8   SPD Smith        2047\n",
              "9   SV Samson        2235"
            ]
          },
          "metadata": {
            "tags": []
          },
          "execution_count": 30
        }
      ]
    },
    {
      "cell_type": "code",
      "metadata": {
        "id": "SBVjw5WwDGVa",
        "outputId": "a90997d4-b1a1-47f1-9600-5db8204c6f84",
        "colab": {
          "base_uri": "https://localhost:8080/",
          "height": 343
        }
      },
      "source": [
        "#Now taking only 4's and 6's rows from above dataframe\n",
        "#I saw in dataset some rows showing batsman runs = 5 or 7 but we dont know weather these runs are coming from boundaries or not.\n",
        "#So i am considering those rows as outliers and taking only 4 and 6.\n",
        "\n",
        "df_4s6s = df_batsmans_KKRRR[(df_batsmans_KKRRR['batsman_runs'] == 4) | (df_batsmans_KKRRR['batsman_runs'] == 6)]\n",
        "\n",
        "boundaries_runs = df_4s6s.groupby('batsman')['batsman_runs'].sum()\n",
        "df_boundaries_runs = boundaries_runs.to_frame().reset_index()\n",
        "df_boundaries_runs.rename(columns = {'batsman_runs':'boundaries_runs'}, inplace = True) \n",
        "\n",
        "#Calculating 1s2s3s runs\n",
        "df_1s2s3s = df_batsmans_KKRRR[(df_batsmans_KKRRR['batsman_runs'] >= 1) & (df_batsmans_KKRRR['batsman_runs'] <= 3)]\n",
        "\n",
        "runs = df_1s2s3s.groupby('batsman')['batsman_runs'].sum()\n",
        "df_1s2s3s_runs = runs.to_frame().reset_index()\n",
        "df_1s2s3s_runs.rename(columns = {'batsman_runs':'1s2s3s_runs'}, inplace = True) \n",
        "\n",
        "#Now merging boundaries and 1s2s3s dataframe\n",
        "df_boundaries_1s2s3s = pd.merge(df_boundaries_runs, df_1s2s3s_runs, left_on='batsman',right_on='batsman', how='outer')\n",
        "df_boundaries_1s2s3s.head(10)"
      ],
      "execution_count": 31,
      "outputs": [
        {
          "output_type": "execute_result",
          "data": {
            "text/html": [
              "<div>\n",
              "<style scoped>\n",
              "    .dataframe tbody tr th:only-of-type {\n",
              "        vertical-align: middle;\n",
              "    }\n",
              "\n",
              "    .dataframe tbody tr th {\n",
              "        vertical-align: top;\n",
              "    }\n",
              "\n",
              "    .dataframe thead th {\n",
              "        text-align: right;\n",
              "    }\n",
              "</style>\n",
              "<table border=\"1\" class=\"dataframe\">\n",
              "  <thead>\n",
              "    <tr style=\"text-align: right;\">\n",
              "      <th></th>\n",
              "      <th>batsman</th>\n",
              "      <th>boundaries_runs</th>\n",
              "      <th>1s2s3s_runs</th>\n",
              "    </tr>\n",
              "  </thead>\n",
              "  <tbody>\n",
              "    <tr>\n",
              "      <th>0</th>\n",
              "      <td>BA Stokes</td>\n",
              "      <td>322</td>\n",
              "      <td>325</td>\n",
              "    </tr>\n",
              "    <tr>\n",
              "      <th>1</th>\n",
              "      <td>EJG Morgan</td>\n",
              "      <td>492</td>\n",
              "      <td>362</td>\n",
              "    </tr>\n",
              "    <tr>\n",
              "      <th>2</th>\n",
              "      <td>JC Buttler</td>\n",
              "      <td>938</td>\n",
              "      <td>488</td>\n",
              "    </tr>\n",
              "    <tr>\n",
              "      <th>3</th>\n",
              "      <td>KD Karthik</td>\n",
              "      <td>2038</td>\n",
              "      <td>1635</td>\n",
              "    </tr>\n",
              "    <tr>\n",
              "      <th>4</th>\n",
              "      <td>N Rana</td>\n",
              "      <td>700</td>\n",
              "      <td>399</td>\n",
              "    </tr>\n",
              "    <tr>\n",
              "      <th>5</th>\n",
              "      <td>R Tewatia</td>\n",
              "      <td>62</td>\n",
              "      <td>57</td>\n",
              "    </tr>\n",
              "    <tr>\n",
              "      <th>6</th>\n",
              "      <td>RV Uthappa</td>\n",
              "      <td>2680</td>\n",
              "      <td>1746</td>\n",
              "    </tr>\n",
              "    <tr>\n",
              "      <th>7</th>\n",
              "      <td>S Gill</td>\n",
              "      <td>270</td>\n",
              "      <td>247</td>\n",
              "    </tr>\n",
              "    <tr>\n",
              "      <th>8</th>\n",
              "      <td>SPD Smith</td>\n",
              "      <td>1018</td>\n",
              "      <td>1029</td>\n",
              "    </tr>\n",
              "    <tr>\n",
              "      <th>9</th>\n",
              "      <td>SV Samson</td>\n",
              "      <td>1218</td>\n",
              "      <td>1017</td>\n",
              "    </tr>\n",
              "  </tbody>\n",
              "</table>\n",
              "</div>"
            ],
            "text/plain": [
              "      batsman  boundaries_runs  1s2s3s_runs\n",
              "0   BA Stokes              322          325\n",
              "1  EJG Morgan              492          362\n",
              "2  JC Buttler              938          488\n",
              "3  KD Karthik             2038         1635\n",
              "4      N Rana              700          399\n",
              "5   R Tewatia               62           57\n",
              "6  RV Uthappa             2680         1746\n",
              "7      S Gill              270          247\n",
              "8   SPD Smith             1018         1029\n",
              "9   SV Samson             1218         1017"
            ]
          },
          "metadata": {
            "tags": []
          },
          "execution_count": 31
        }
      ]
    },
    {
      "cell_type": "code",
      "metadata": {
        "id": "ICshClXpLaQ-",
        "outputId": "61dbd7ea-6be6-4faf-85aa-b228802470df",
        "colab": {
          "base_uri": "https://localhost:8080/",
          "height": 343
        }
      },
      "source": [
        "#Now first merging above dataframes then calculating ratio for each batsman\n",
        "df_ratio = pd.merge(df_boundaries_1s2s3s, df_total_runs, left_on='batsman',right_on='batsman', how='outer')\n",
        "\n",
        "df_ratio['ratio'] = (df_ratio['boundaries_runs'] - df_ratio['1s2s3s_runs']) / df_ratio['total_runs']\n",
        "df_ratio.head(10)"
      ],
      "execution_count": 32,
      "outputs": [
        {
          "output_type": "execute_result",
          "data": {
            "text/html": [
              "<div>\n",
              "<style scoped>\n",
              "    .dataframe tbody tr th:only-of-type {\n",
              "        vertical-align: middle;\n",
              "    }\n",
              "\n",
              "    .dataframe tbody tr th {\n",
              "        vertical-align: top;\n",
              "    }\n",
              "\n",
              "    .dataframe thead th {\n",
              "        text-align: right;\n",
              "    }\n",
              "</style>\n",
              "<table border=\"1\" class=\"dataframe\">\n",
              "  <thead>\n",
              "    <tr style=\"text-align: right;\">\n",
              "      <th></th>\n",
              "      <th>batsman</th>\n",
              "      <th>boundaries_runs</th>\n",
              "      <th>1s2s3s_runs</th>\n",
              "      <th>total_runs</th>\n",
              "      <th>ratio</th>\n",
              "    </tr>\n",
              "  </thead>\n",
              "  <tbody>\n",
              "    <tr>\n",
              "      <th>0</th>\n",
              "      <td>BA Stokes</td>\n",
              "      <td>322</td>\n",
              "      <td>325</td>\n",
              "      <td>647</td>\n",
              "      <td>-0.004637</td>\n",
              "    </tr>\n",
              "    <tr>\n",
              "      <th>1</th>\n",
              "      <td>EJG Morgan</td>\n",
              "      <td>492</td>\n",
              "      <td>362</td>\n",
              "      <td>854</td>\n",
              "      <td>0.152225</td>\n",
              "    </tr>\n",
              "    <tr>\n",
              "      <th>2</th>\n",
              "      <td>JC Buttler</td>\n",
              "      <td>938</td>\n",
              "      <td>488</td>\n",
              "      <td>1431</td>\n",
              "      <td>0.314465</td>\n",
              "    </tr>\n",
              "    <tr>\n",
              "      <th>3</th>\n",
              "      <td>KD Karthik</td>\n",
              "      <td>2038</td>\n",
              "      <td>1635</td>\n",
              "      <td>3688</td>\n",
              "      <td>0.109273</td>\n",
              "    </tr>\n",
              "    <tr>\n",
              "      <th>4</th>\n",
              "      <td>N Rana</td>\n",
              "      <td>700</td>\n",
              "      <td>399</td>\n",
              "      <td>1104</td>\n",
              "      <td>0.272645</td>\n",
              "    </tr>\n",
              "    <tr>\n",
              "      <th>5</th>\n",
              "      <td>R Tewatia</td>\n",
              "      <td>62</td>\n",
              "      <td>57</td>\n",
              "      <td>119</td>\n",
              "      <td>0.042017</td>\n",
              "    </tr>\n",
              "    <tr>\n",
              "      <th>6</th>\n",
              "      <td>RV Uthappa</td>\n",
              "      <td>2680</td>\n",
              "      <td>1746</td>\n",
              "      <td>4446</td>\n",
              "      <td>0.210076</td>\n",
              "    </tr>\n",
              "    <tr>\n",
              "      <th>7</th>\n",
              "      <td>S Gill</td>\n",
              "      <td>270</td>\n",
              "      <td>247</td>\n",
              "      <td>517</td>\n",
              "      <td>0.044487</td>\n",
              "    </tr>\n",
              "    <tr>\n",
              "      <th>8</th>\n",
              "      <td>SPD Smith</td>\n",
              "      <td>1018</td>\n",
              "      <td>1029</td>\n",
              "      <td>2047</td>\n",
              "      <td>-0.005374</td>\n",
              "    </tr>\n",
              "    <tr>\n",
              "      <th>9</th>\n",
              "      <td>SV Samson</td>\n",
              "      <td>1218</td>\n",
              "      <td>1017</td>\n",
              "      <td>2235</td>\n",
              "      <td>0.089933</td>\n",
              "    </tr>\n",
              "  </tbody>\n",
              "</table>\n",
              "</div>"
            ],
            "text/plain": [
              "      batsman  boundaries_runs  1s2s3s_runs  total_runs     ratio\n",
              "0   BA Stokes              322          325         647 -0.004637\n",
              "1  EJG Morgan              492          362         854  0.152225\n",
              "2  JC Buttler              938          488        1431  0.314465\n",
              "3  KD Karthik             2038         1635        3688  0.109273\n",
              "4      N Rana              700          399        1104  0.272645\n",
              "5   R Tewatia               62           57         119  0.042017\n",
              "6  RV Uthappa             2680         1746        4446  0.210076\n",
              "7      S Gill              270          247         517  0.044487\n",
              "8   SPD Smith             1018         1029        2047 -0.005374\n",
              "9   SV Samson             1218         1017        2235  0.089933"
            ]
          },
          "metadata": {
            "tags": []
          },
          "execution_count": 32
        }
      ]
    },
    {
      "cell_type": "markdown",
      "metadata": {
        "id": "KCrdgsmuM4uL"
      },
      "source": [
        "**Conclusion :-**\n",
        "\n",
        "\n",
        "*   According to above analysis Buttler, Rana and Uthappa has highest ratio\n",
        "*   Out of above 3 batsman buttler and Uthappa are in same option in given question. So i am predicting Uthappa or bttler will have highest ratio.\n",
        "\n"
      ]
    },
    {
      "cell_type": "markdown",
      "metadata": {
        "id": "elYSCjmuPfsp"
      },
      "source": [
        "### Q4) What will be Jofra Archer's Economy rate and how many boundaries will he give away in his 4overs?"
      ]
    },
    {
      "cell_type": "code",
      "metadata": {
        "id": "h7fNlD3KP9U2",
        "outputId": "69677f49-2b9f-402e-d177-2b357fba11f9",
        "colab": {
          "base_uri": "https://localhost:8080/",
          "height": 106
        }
      },
      "source": [
        "#I am calculating his economy in all the matches he played not only against KKR because he is playing IPL from 2018 only\n",
        "#So we have very less data about him against KKR\n",
        "df_archer = df_deliveries[(df_deliveries['bowler'] == 'J Archer')]\n",
        "\n",
        "#First calcualting number of runs he give away in each match. Wides,no-balls,batsman_runs comes under bowler runs.\n",
        "df_runs_given = df_archer.groupby('match_id',as_index=False)['batsman_runs','wide_runs','noball_runs'].sum()\n",
        "df_runs_given['total_runs_given'] = df_runs_given['batsman_runs'] + df_runs_given['wide_runs'] + df_runs_given['noball_runs']\n",
        "df_runs_given = df_runs_given[['match_id','total_runs_given']]\n",
        "\n",
        "#Now calculating no_of_boundaries he given\n",
        "df_boundaries = df_archer[(df_archer['batsman_runs'] == 4) | (df_archer['batsman_runs'] == 6)]\n",
        "df_no_of_boundaries = df_boundaries.groupby('match_id',as_index=False)['batsman_runs'].count()\n",
        "df_no_of_boundaries.rename(columns={'batsman_runs':'no_of_boundaries_given'},inplace=True)\n",
        "\n",
        "#Now merging above both dataframes\n",
        "df_runs_boundaries = pd.merge(df_runs_given, df_no_of_boundaries, left_on='match_id',right_on='match_id', how='outer')\n",
        "df_runs_boundaries.head(2)"
      ],
      "execution_count": 48,
      "outputs": [
        {
          "output_type": "execute_result",
          "data": {
            "text/html": [
              "<div>\n",
              "<style scoped>\n",
              "    .dataframe tbody tr th:only-of-type {\n",
              "        vertical-align: middle;\n",
              "    }\n",
              "\n",
              "    .dataframe tbody tr th {\n",
              "        vertical-align: top;\n",
              "    }\n",
              "\n",
              "    .dataframe thead th {\n",
              "        text-align: right;\n",
              "    }\n",
              "</style>\n",
              "<table border=\"1\" class=\"dataframe\">\n",
              "  <thead>\n",
              "    <tr style=\"text-align: right;\">\n",
              "      <th></th>\n",
              "      <th>match_id</th>\n",
              "      <th>total_runs_given</th>\n",
              "      <th>no_of_boundaries_given</th>\n",
              "    </tr>\n",
              "  </thead>\n",
              "  <tbody>\n",
              "    <tr>\n",
              "      <th>0</th>\n",
              "      <td>7914</td>\n",
              "      <td>23</td>\n",
              "      <td>3.0</td>\n",
              "    </tr>\n",
              "    <tr>\n",
              "      <th>1</th>\n",
              "      <td>7921</td>\n",
              "      <td>27</td>\n",
              "      <td>3.0</td>\n",
              "    </tr>\n",
              "  </tbody>\n",
              "</table>\n",
              "</div>"
            ],
            "text/plain": [
              "   match_id  total_runs_given  no_of_boundaries_given\n",
              "0      7914                23                     3.0\n",
              "1      7921                27                     3.0"
            ]
          },
          "metadata": {
            "tags": []
          },
          "execution_count": 48
        }
      ]
    },
    {
      "cell_type": "code",
      "metadata": {
        "id": "dUWOoqYfTQkM",
        "outputId": "dac8532a-d8fd-4f95-c550-61916ca9d893",
        "colab": {
          "base_uri": "https://localhost:8080/",
          "height": 106
        }
      },
      "source": [
        "#Now calculating number of balls he bowled \n",
        "#Wides and no-balls are not comes under bowler deliveries. So i am removing that. \n",
        "df_balls = df_archer[(df_archer['wide_runs'] == 0) & (df_archer['noball_runs'] == 0)]\n",
        "\n",
        "df_balls = df_balls.groupby('match_id',as_index=False)['ball'].count()\n",
        "df_balls.rename(columns = {'ball':'no_of_balls_bowled'}, inplace=True)\n",
        "df_balls.head(2)"
      ],
      "execution_count": 49,
      "outputs": [
        {
          "output_type": "execute_result",
          "data": {
            "text/html": [
              "<div>\n",
              "<style scoped>\n",
              "    .dataframe tbody tr th:only-of-type {\n",
              "        vertical-align: middle;\n",
              "    }\n",
              "\n",
              "    .dataframe tbody tr th {\n",
              "        vertical-align: top;\n",
              "    }\n",
              "\n",
              "    .dataframe thead th {\n",
              "        text-align: right;\n",
              "    }\n",
              "</style>\n",
              "<table border=\"1\" class=\"dataframe\">\n",
              "  <thead>\n",
              "    <tr style=\"text-align: right;\">\n",
              "      <th></th>\n",
              "      <th>match_id</th>\n",
              "      <th>no_of_balls_bowled</th>\n",
              "    </tr>\n",
              "  </thead>\n",
              "  <tbody>\n",
              "    <tr>\n",
              "      <th>0</th>\n",
              "      <td>7914</td>\n",
              "      <td>24</td>\n",
              "    </tr>\n",
              "    <tr>\n",
              "      <th>1</th>\n",
              "      <td>7921</td>\n",
              "      <td>24</td>\n",
              "    </tr>\n",
              "  </tbody>\n",
              "</table>\n",
              "</div>"
            ],
            "text/plain": [
              "   match_id  no_of_balls_bowled\n",
              "0      7914                  24\n",
              "1      7921                  24"
            ]
          },
          "metadata": {
            "tags": []
          },
          "execution_count": 49
        }
      ]
    },
    {
      "cell_type": "code",
      "metadata": {
        "id": "oQOUYpKXVv8l",
        "outputId": "4bce739a-762b-49fb-9c01-229533d16a41",
        "colab": {
          "base_uri": "https://localhost:8080/",
          "height": 195
        }
      },
      "source": [
        "#Now i am calculating his economy in each match after merging above 2 dataframes\n",
        "df_economy = pd.merge(df_runs_boundaries, df_balls, left_on='match_id',right_on='match_id', how='outer')\n",
        "df_economy['economy_rate'] = round((df_economy['total_runs_given'] / df_economy['no_of_balls_bowled'])*6,2)\n",
        "df_economy.head()"
      ],
      "execution_count": 50,
      "outputs": [
        {
          "output_type": "execute_result",
          "data": {
            "text/html": [
              "<div>\n",
              "<style scoped>\n",
              "    .dataframe tbody tr th:only-of-type {\n",
              "        vertical-align: middle;\n",
              "    }\n",
              "\n",
              "    .dataframe tbody tr th {\n",
              "        vertical-align: top;\n",
              "    }\n",
              "\n",
              "    .dataframe thead th {\n",
              "        text-align: right;\n",
              "    }\n",
              "</style>\n",
              "<table border=\"1\" class=\"dataframe\">\n",
              "  <thead>\n",
              "    <tr style=\"text-align: right;\">\n",
              "      <th></th>\n",
              "      <th>match_id</th>\n",
              "      <th>total_runs_given</th>\n",
              "      <th>no_of_boundaries_given</th>\n",
              "      <th>no_of_balls_bowled</th>\n",
              "      <th>economy_rate</th>\n",
              "    </tr>\n",
              "  </thead>\n",
              "  <tbody>\n",
              "    <tr>\n",
              "      <th>0</th>\n",
              "      <td>7914</td>\n",
              "      <td>23</td>\n",
              "      <td>3.0</td>\n",
              "      <td>24</td>\n",
              "      <td>5.75</td>\n",
              "    </tr>\n",
              "    <tr>\n",
              "      <th>1</th>\n",
              "      <td>7921</td>\n",
              "      <td>27</td>\n",
              "      <td>3.0</td>\n",
              "      <td>24</td>\n",
              "      <td>6.75</td>\n",
              "    </tr>\n",
              "    <tr>\n",
              "      <th>2</th>\n",
              "      <td>7925</td>\n",
              "      <td>32</td>\n",
              "      <td>5.0</td>\n",
              "      <td>19</td>\n",
              "      <td>10.11</td>\n",
              "    </tr>\n",
              "    <tr>\n",
              "      <th>3</th>\n",
              "      <td>7931</td>\n",
              "      <td>44</td>\n",
              "      <td>6.0</td>\n",
              "      <td>22</td>\n",
              "      <td>12.00</td>\n",
              "    </tr>\n",
              "    <tr>\n",
              "      <th>4</th>\n",
              "      <td>7933</td>\n",
              "      <td>32</td>\n",
              "      <td>4.0</td>\n",
              "      <td>24</td>\n",
              "      <td>8.00</td>\n",
              "    </tr>\n",
              "  </tbody>\n",
              "</table>\n",
              "</div>"
            ],
            "text/plain": [
              "   match_id  total_runs_given  ...  no_of_balls_bowled  economy_rate\n",
              "0      7914                23  ...                  24          5.75\n",
              "1      7921                27  ...                  24          6.75\n",
              "2      7925                32  ...                  19         10.11\n",
              "3      7931                44  ...                  22         12.00\n",
              "4      7933                32  ...                  24          8.00\n",
              "\n",
              "[5 rows x 5 columns]"
            ]
          },
          "metadata": {
            "tags": []
          },
          "execution_count": 50
        }
      ]
    },
    {
      "cell_type": "code",
      "metadata": {
        "id": "r_2qdwKBW_Xk",
        "outputId": "ae845b35-3608-4e46-8324-6e30c72ff989",
        "colab": {
          "base_uri": "https://localhost:8080/",
          "height": 266
        }
      },
      "source": [
        "df_economy = df_economy[['no_of_boundaries_given','economy_rate']]\n",
        "ax = sns.boxplot(data=df_economy)\n"
      ],
      "execution_count": 52,
      "outputs": [
        {
          "output_type": "display_data",
          "data": {
            "image/png": "[encoded data removed]",
            "text/plain": [
              "<Figure size 432x288 with 1 Axes>"
            ]
          },
          "metadata": {
            "tags": [],
            "needs_background": "light"
          }
        }
      ]
    },
    {
      "cell_type": "markdown",
      "metadata": {
        "id": "pBNQ4qhabOdT"
      },
      "source": [
        "**Conclusion :-**\n",
        "\n",
        "\n",
        "\n",
        "*   From above boxplot i can say that 50% of the matches his economy lies between 6 - 10. \n",
        "*  In half of the matches he played his economy is greater than 8 and 3rd quartile or 75% of matches his economy less than 10.\n",
        "\n",
        "\n",
        "\n",
        "*   In 50 to 75% of the matches he given 4-5 boundaries.\n",
        "\n",
        "\n",
        "\n",
        "\n",
        "So according to above analysis his economy in today match is greater than 8 and boundaries are greater than 4.\n",
        "\n"
      ]
    },
    {
      "cell_type": "markdown",
      "metadata": {
        "id": "S6b6rXBxhkwe"
      },
      "source": [
        "### Q5) How many bowlers in the match from both teams will have a economy rate of less than 8?"
      ]
    },
    {
      "cell_type": "code",
      "metadata": {
        "id": "5i0VfZCAhJg-",
        "outputId": "a4c48a18-de4b-4c3d-c328-fad49414f6ed",
        "colab": {
          "base_uri": "https://localhost:8080/",
          "height": 136
        }
      },
      "source": [
        "#Calculating number of runs given by bowler in each match.\n",
        "#wides,no-balls,penalty runs and batsman runs are go against the bowler cocnceeded runs.\n",
        "df_bowlers = df_deliveries.groupby(['match_id','bowler'], as_index=False)['batsman_runs','wide_runs','noball_runs','penalty_runs'].sum()\n",
        "df_bowlers['runs_conceded'] = df_bowlers['batsman_runs'] + df_bowlers['wide_runs'] + df_bowlers['noball_runs'] + df_bowlers['penalty_runs']\n",
        "\n",
        "#We want only runs conceeded column along with bowler and match_id\n",
        "df_runs_conceded = df_bowlers[['match_id','bowler','runs_conceded']]\n",
        "\n",
        "df_runs_conceded.head(3)"
      ],
      "execution_count": 53,
      "outputs": [
        {
          "output_type": "execute_result",
          "data": {
            "text/html": [
              "<div>\n",
              "<style scoped>\n",
              "    .dataframe tbody tr th:only-of-type {\n",
              "        vertical-align: middle;\n",
              "    }\n",
              "\n",
              "    .dataframe tbody tr th {\n",
              "        vertical-align: top;\n",
              "    }\n",
              "\n",
              "    .dataframe thead th {\n",
              "        text-align: right;\n",
              "    }\n",
              "</style>\n",
              "<table border=\"1\" class=\"dataframe\">\n",
              "  <thead>\n",
              "    <tr style=\"text-align: right;\">\n",
              "      <th></th>\n",
              "      <th>match_id</th>\n",
              "      <th>bowler</th>\n",
              "      <th>runs_conceded</th>\n",
              "    </tr>\n",
              "  </thead>\n",
              "  <tbody>\n",
              "    <tr>\n",
              "      <th>0</th>\n",
              "      <td>1</td>\n",
              "      <td>A Choudhary</td>\n",
              "      <td>55</td>\n",
              "    </tr>\n",
              "    <tr>\n",
              "      <th>1</th>\n",
              "      <td>1</td>\n",
              "      <td>A Nehra</td>\n",
              "      <td>42</td>\n",
              "    </tr>\n",
              "    <tr>\n",
              "      <th>2</th>\n",
              "      <td>1</td>\n",
              "      <td>B Kumar</td>\n",
              "      <td>27</td>\n",
              "    </tr>\n",
              "  </tbody>\n",
              "</table>\n",
              "</div>"
            ],
            "text/plain": [
              "   match_id       bowler  runs_conceded\n",
              "0         1  A Choudhary             55\n",
              "1         1      A Nehra             42\n",
              "2         1      B Kumar             27"
            ]
          },
          "metadata": {
            "tags": []
          },
          "execution_count": 53
        }
      ]
    },
    {
      "cell_type": "code",
      "metadata": {
        "id": "57-Ndx5fizYL",
        "outputId": "411b182b-e5b6-4b12-e3be-9220b0a0d2dc",
        "colab": {
          "base_uri": "https://localhost:8080/",
          "height": 136
        }
      },
      "source": [
        "#Calcualting number of balls bowled by bowler in each match\n",
        "df_balls = df_deliveries[(df_deliveries['wide_runs'] == 0) & (df_deliveries['noball_runs'] == 0)]\n",
        "df_balls = df_balls.groupby(['match_id','bowler'])['ball'].count()\n",
        "df_balls = df_balls.to_frame().reset_index()\n",
        "df_balls.rename(columns={'ball':'balls_bowled'}, inplace=True)\n",
        "df_balls.head(3)"
      ],
      "execution_count": 54,
      "outputs": [
        {
          "output_type": "execute_result",
          "data": {
            "text/html": [
              "<div>\n",
              "<style scoped>\n",
              "    .dataframe tbody tr th:only-of-type {\n",
              "        vertical-align: middle;\n",
              "    }\n",
              "\n",
              "    .dataframe tbody tr th {\n",
              "        vertical-align: top;\n",
              "    }\n",
              "\n",
              "    .dataframe thead th {\n",
              "        text-align: right;\n",
              "    }\n",
              "</style>\n",
              "<table border=\"1\" class=\"dataframe\">\n",
              "  <thead>\n",
              "    <tr style=\"text-align: right;\">\n",
              "      <th></th>\n",
              "      <th>match_id</th>\n",
              "      <th>bowler</th>\n",
              "      <th>balls_bowled</th>\n",
              "    </tr>\n",
              "  </thead>\n",
              "  <tbody>\n",
              "    <tr>\n",
              "      <th>0</th>\n",
              "      <td>1</td>\n",
              "      <td>A Choudhary</td>\n",
              "      <td>24</td>\n",
              "    </tr>\n",
              "    <tr>\n",
              "      <th>1</th>\n",
              "      <td>1</td>\n",
              "      <td>A Nehra</td>\n",
              "      <td>24</td>\n",
              "    </tr>\n",
              "    <tr>\n",
              "      <th>2</th>\n",
              "      <td>1</td>\n",
              "      <td>B Kumar</td>\n",
              "      <td>24</td>\n",
              "    </tr>\n",
              "  </tbody>\n",
              "</table>\n",
              "</div>"
            ],
            "text/plain": [
              "   match_id       bowler  balls_bowled\n",
              "0         1  A Choudhary            24\n",
              "1         1      A Nehra            24\n",
              "2         1      B Kumar            24"
            ]
          },
          "metadata": {
            "tags": []
          },
          "execution_count": 54
        }
      ]
    },
    {
      "cell_type": "code",
      "metadata": {
        "id": "nzG57rH3jTd4",
        "outputId": "e7f0c6ec-dfc7-4666-d461-c58838c06028",
        "colab": {
          "base_uri": "https://localhost:8080/",
          "height": 106
        }
      },
      "source": [
        "#Now we can merge above dataframes \n",
        "df_economy_rate = df_runs_conceded.merge(df_balls, how = 'outer', on = ['match_id', 'bowler'])\n",
        "#Now calcualting economy rate by using above two dataframes\n",
        "df_economy_rate['economy_rate'] = round((df_economy_rate['runs_conceded'] / df_economy_rate['balls_bowled'])*6,2)\n",
        "df_economy_rate.head(2)"
      ],
      "execution_count": 55,
      "outputs": [
        {
          "output_type": "execute_result",
          "data": {
            "text/html": [
              "<div>\n",
              "<style scoped>\n",
              "    .dataframe tbody tr th:only-of-type {\n",
              "        vertical-align: middle;\n",
              "    }\n",
              "\n",
              "    .dataframe tbody tr th {\n",
              "        vertical-align: top;\n",
              "    }\n",
              "\n",
              "    .dataframe thead th {\n",
              "        text-align: right;\n",
              "    }\n",
              "</style>\n",
              "<table border=\"1\" class=\"dataframe\">\n",
              "  <thead>\n",
              "    <tr style=\"text-align: right;\">\n",
              "      <th></th>\n",
              "      <th>match_id</th>\n",
              "      <th>bowler</th>\n",
              "      <th>runs_conceded</th>\n",
              "      <th>balls_bowled</th>\n",
              "      <th>economy_rate</th>\n",
              "    </tr>\n",
              "  </thead>\n",
              "  <tbody>\n",
              "    <tr>\n",
              "      <th>0</th>\n",
              "      <td>1</td>\n",
              "      <td>A Choudhary</td>\n",
              "      <td>55</td>\n",
              "      <td>24.0</td>\n",
              "      <td>13.75</td>\n",
              "    </tr>\n",
              "    <tr>\n",
              "      <th>1</th>\n",
              "      <td>1</td>\n",
              "      <td>A Nehra</td>\n",
              "      <td>42</td>\n",
              "      <td>24.0</td>\n",
              "      <td>10.50</td>\n",
              "    </tr>\n",
              "  </tbody>\n",
              "</table>\n",
              "</div>"
            ],
            "text/plain": [
              "   match_id       bowler  runs_conceded  balls_bowled  economy_rate\n",
              "0         1  A Choudhary             55          24.0         13.75\n",
              "1         1      A Nehra             42          24.0         10.50"
            ]
          },
          "metadata": {
            "tags": []
          },
          "execution_count": 55
        }
      ]
    },
    {
      "cell_type": "markdown",
      "metadata": {
        "id": "3Og3q1TDkCDQ"
      },
      "source": [
        "\n",
        "\n",
        "*   I calculated economy rate of all the bowlers in IPL. But i want to see the economy rate of only bowlers who are playing in today match\n",
        "*   So i am expecting Archer,Shreyas gopal, Tewatia, stokes and Kartik tyagi are 5 bowlers from Rajasthan team.\n",
        "\n",
        "\n",
        "\n",
        "*   From RCB team Cummins, Ferguson, Narine, varun chakravarthy and Nagarkoti are 5 bowlers who are expected to play in today match.\n",
        "*   In question clearly mentioned that bowler has to bowl more than 1 over. I.e also i am taking into consideration.\n",
        "\n",
        "\n",
        "\n"
      ]
    },
    {
      "cell_type": "code",
      "metadata": {
        "id": "td2SyjLVlAnK",
        "outputId": "1d37b4ac-f535-4037-f0b1-75e2612e262c",
        "colab": {
          "base_uri": "https://localhost:8080/",
          "height": 195
        }
      },
      "source": [
        "#Filtering current RR and KKR bowlers and they have to bowl more than 1 over.\n",
        "#Kartik tyagi, Nagarkoti playing theier first IPL season and We also dont have enough data for chakravarthy.\n",
        "df_economy_rate_RRKKR = df_economy_rate[((df_economy_rate['bowler'] == 'J Archer') | (df_economy_rate['bowler'] == 'S Gopal') |\n",
        "                                        (df_economy_rate['bowler'] == 'BA Stokes') | (df_economy_rate['bowler'] == 'R Tewatia') |\n",
        "                                        (df_economy_rate['bowler'] == 'PJ Cummins') | (df_economy_rate['bowler'] == 'SP Narine') |\n",
        "                                        (df_economy_rate['bowler'] == 'LH Ferguson')) &\n",
        "                                        (df_economy_rate['balls_bowled'] > 6)]\n",
        "\n",
        "df_economy_rate_RRKKR.head()  "
      ],
      "execution_count": 58,
      "outputs": [
        {
          "output_type": "execute_result",
          "data": {
            "text/html": [
              "<div>\n",
              "<style scoped>\n",
              "    .dataframe tbody tr th:only-of-type {\n",
              "        vertical-align: middle;\n",
              "    }\n",
              "\n",
              "    .dataframe tbody tr th {\n",
              "        vertical-align: top;\n",
              "    }\n",
              "\n",
              "    .dataframe thead th {\n",
              "        text-align: right;\n",
              "    }\n",
              "</style>\n",
              "<table border=\"1\" class=\"dataframe\">\n",
              "  <thead>\n",
              "    <tr style=\"text-align: right;\">\n",
              "      <th></th>\n",
              "      <th>match_id</th>\n",
              "      <th>bowler</th>\n",
              "      <th>runs_conceded</th>\n",
              "      <th>balls_bowled</th>\n",
              "      <th>economy_rate</th>\n",
              "    </tr>\n",
              "  </thead>\n",
              "  <tbody>\n",
              "    <tr>\n",
              "      <th>16</th>\n",
              "      <td>2</td>\n",
              "      <td>BA Stokes</td>\n",
              "      <td>36</td>\n",
              "      <td>24.0</td>\n",
              "      <td>9.00</td>\n",
              "    </tr>\n",
              "    <tr>\n",
              "      <th>35</th>\n",
              "      <td>3</td>\n",
              "      <td>SP Narine</td>\n",
              "      <td>33</td>\n",
              "      <td>24.0</td>\n",
              "      <td>8.25</td>\n",
              "    </tr>\n",
              "    <tr>\n",
              "      <th>40</th>\n",
              "      <td>4</td>\n",
              "      <td>BA Stokes</td>\n",
              "      <td>32</td>\n",
              "      <td>24.0</td>\n",
              "      <td>8.00</td>\n",
              "    </tr>\n",
              "    <tr>\n",
              "      <th>56</th>\n",
              "      <td>5</td>\n",
              "      <td>PJ Cummins</td>\n",
              "      <td>29</td>\n",
              "      <td>24.0</td>\n",
              "      <td>7.25</td>\n",
              "    </tr>\n",
              "    <tr>\n",
              "      <th>82</th>\n",
              "      <td>7</td>\n",
              "      <td>SP Narine</td>\n",
              "      <td>22</td>\n",
              "      <td>24.0</td>\n",
              "      <td>5.50</td>\n",
              "    </tr>\n",
              "  </tbody>\n",
              "</table>\n",
              "</div>"
            ],
            "text/plain": [
              "    match_id      bowler  runs_conceded  balls_bowled  economy_rate\n",
              "16         2   BA Stokes             36          24.0          9.00\n",
              "35         3   SP Narine             33          24.0          8.25\n",
              "40         4   BA Stokes             32          24.0          8.00\n",
              "56         5  PJ Cummins             29          24.0          7.25\n",
              "82         7   SP Narine             22          24.0          5.50"
            ]
          },
          "metadata": {
            "tags": []
          },
          "execution_count": 58
        }
      ]
    },
    {
      "cell_type": "code",
      "metadata": {
        "id": "UDhjZh9FoLwn",
        "outputId": "d0c859fb-613b-479d-d53b-8f966dec96a1",
        "colab": {
          "base_uri": "https://localhost:8080/",
          "height": 313
        }
      },
      "source": [
        "# List of 4 Rajasthan bowlers who are playing today \n",
        "RR_bowlers = ['J Archer', 'S Gopal','BA Stokes','R Tewatia']\n",
        "# Iterate through the 4 bowlers\n",
        "for bowler in RR_bowlers:\n",
        "    # Subset to the bowler\n",
        "    subset = df_economy_rate_RRKKR[df_economy_rate_RRKKR['bowler'] == bowler]\n",
        "    \n",
        "    # Draw the density plot\n",
        "    sns.distplot(subset['economy_rate'], hist = False, kde = True,\n",
        "                 kde_kws = {'linewidth': 3},\n",
        "                 label = bowler)\n",
        "    \n",
        "# Plot formatting\n",
        "plt.legend(prop={'size': 10}, title = 'Bowler')\n",
        "plt.title('Density Plot with Rajasthan bowlers')\n",
        "plt.xlabel('Economy_rate')\n",
        "plt.ylabel('Density')"
      ],
      "execution_count": 59,
      "outputs": [
        {
          "output_type": "execute_result",
          "data": {
            "text/plain": [
              "Text(0, 0.5, 'Density')"
            ]
          },
          "metadata": {
            "tags": []
          },
          "execution_count": 59
        },
        {
          "output_type": "display_data",
          "data": {
            "image/png": "[encoded data removed]",
            "text/plain": [
              "<Figure size 432x288 with 1 Axes>"
            ]
          },
          "metadata": {
            "tags": [],
            "needs_background": "light"
          }
        }
      ]
    },
    {
      "cell_type": "code",
      "metadata": {
        "id": "vGDdRi3aoyH1",
        "outputId": "578991ed-7530-4faf-d597-e0bf3320e721",
        "colab": {
          "base_uri": "https://localhost:8080/",
          "height": 313
        }
      },
      "source": [
        "# List of 3 KKR bowlers who are playing today \n",
        "KKR_bowlers = ['PJ Cummins', 'SP Narine','LH Ferguson']\n",
        "# Iterate through the 4 bowlers\n",
        "for bowler in KKR_bowlers:\n",
        "    # Subset to the bowler\n",
        "    subset = df_economy_rate_RRKKR[df_economy_rate_RRKKR['bowler'] == bowler]\n",
        "    \n",
        "    # Draw the density plot\n",
        "    sns.distplot(subset['economy_rate'], hist = False, kde = True,\n",
        "                 kde_kws = {'linewidth': 3},\n",
        "                 label = bowler)\n",
        "    \n",
        "# Plot formatting\n",
        "plt.legend(prop={'size': 10}, title = 'Bowler')\n",
        "plt.title('Density Plot with KKR bowlers')\n",
        "plt.xlabel('Economy_rate')\n",
        "plt.ylabel('Density')"
      ],
      "execution_count": 60,
      "outputs": [
        {
          "output_type": "execute_result",
          "data": {
            "text/plain": [
              "Text(0, 0.5, 'Density')"
            ]
          },
          "metadata": {
            "tags": []
          },
          "execution_count": 60
        },
        {
          "output_type": "display_data",
          "data": {
            "image/png": "[encoded data removed]",
            "text/plain": [
              "<Figure size 432x288 with 1 Axes>"
            ]
          },
          "metadata": {
            "tags": [],
            "needs_background": "light"
          }
        }
      ]
    },
    {
      "cell_type": "markdown",
      "metadata": {
        "id": "f0NR5L9cphiN"
      },
      "source": [
        "**Conclusion :-**\n",
        "\n",
        "\n",
        "\n",
        "\n",
        "*   From above RR and KKR density plots i can say Sunile narine and shreyas gopal has economy rate less than 8 in most of the matches.\n",
        "*   So i am predicting in today match only 2 bowlers will have economy rate less than 8.\n",
        "\n",
        "\n",
        "\n"
      ]
    }
  ]
}