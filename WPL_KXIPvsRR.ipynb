{
  "nbformat": 4,
  "nbformat_minor": 0,
  "metadata": {
    "colab": {
      "name": "WPL_KXIPvsRR.ipynb",
      "provenance": []
    },
    "kernelspec": {
      "name": "python3",
      "display_name": "Python 3"
    }
  },
  "cells": [
    {
      "cell_type": "markdown",
      "metadata": {
        "id": "gZxYL60IZm4W"
      },
      "source": [
        "### Exploratory Data Analysis\n",
        "\n",
        "### Data Pre-Processing"
      ]
    },
    {
      "cell_type": "code",
      "metadata": {
        "id": "lfUyyGyCYyjq",
        "outputId": "621ae5ca-5962-4189-c08a-dfe58678fdae",
        "colab": {
          "base_uri": "https://localhost:8080/",
          "height": 244
        }
      },
      "source": [
        "import warnings\n",
        "warnings.filterwarnings(\"ignore\")\n",
        "import pandas as pd\n",
        "\n",
        "df_matches = pd.read_csv(\"matches.csv\")\n",
        "df_matches.head(2)"
      ],
      "execution_count": null,
      "outputs": [
        {
          "output_type": "execute_result",
          "data": {
            "text/html": [
              "<div>\n",
              "<style scoped>\n",
              "    .dataframe tbody tr th:only-of-type {\n",
              "        vertical-align: middle;\n",
              "    }\n",
              "\n",
              "    .dataframe tbody tr th {\n",
              "        vertical-align: top;\n",
              "    }\n",
              "\n",
              "    .dataframe thead th {\n",
              "        text-align: right;\n",
              "    }\n",
              "</style>\n",
              "<table border=\"1\" class=\"dataframe\">\n",
              "  <thead>\n",
              "    <tr style=\"text-align: right;\">\n",
              "      <th></th>\n",
              "      <th>id</th>\n",
              "      <th>season</th>\n",
              "      <th>city</th>\n",
              "      <th>date</th>\n",
              "      <th>team1</th>\n",
              "      <th>team2</th>\n",
              "      <th>toss_winner</th>\n",
              "      <th>toss_decision</th>\n",
              "      <th>result</th>\n",
              "      <th>dl_applied</th>\n",
              "      <th>winner</th>\n",
              "      <th>win_by_runs</th>\n",
              "      <th>win_by_wickets</th>\n",
              "      <th>player_of_match</th>\n",
              "      <th>venue</th>\n",
              "      <th>umpire1</th>\n",
              "      <th>umpire2</th>\n",
              "      <th>umpire3</th>\n",
              "    </tr>\n",
              "  </thead>\n",
              "  <tbody>\n",
              "    <tr>\n",
              "      <th>0</th>\n",
              "      <td>1</td>\n",
              "      <td>2017</td>\n",
              "      <td>Hyderabad</td>\n",
              "      <td>2017-04-05</td>\n",
              "      <td>Sunrisers Hyderabad</td>\n",
              "      <td>Royal Challengers Bangalore</td>\n",
              "      <td>Royal Challengers Bangalore</td>\n",
              "      <td>field</td>\n",
              "      <td>normal</td>\n",
              "      <td>0</td>\n",
              "      <td>Sunrisers Hyderabad</td>\n",
              "      <td>35</td>\n",
              "      <td>0</td>\n",
              "      <td>Yuvraj Singh</td>\n",
              "      <td>Rajiv Gandhi International Stadium, Uppal</td>\n",
              "      <td>AY Dandekar</td>\n",
              "      <td>NJ Llong</td>\n",
              "      <td>NaN</td>\n",
              "    </tr>\n",
              "    <tr>\n",
              "      <th>1</th>\n",
              "      <td>2</td>\n",
              "      <td>2017</td>\n",
              "      <td>Pune</td>\n",
              "      <td>2017-04-06</td>\n",
              "      <td>Mumbai Indians</td>\n",
              "      <td>Rising Pune Supergiant</td>\n",
              "      <td>Rising Pune Supergiant</td>\n",
              "      <td>field</td>\n",
              "      <td>normal</td>\n",
              "      <td>0</td>\n",
              "      <td>Rising Pune Supergiant</td>\n",
              "      <td>0</td>\n",
              "      <td>7</td>\n",
              "      <td>SPD Smith</td>\n",
              "      <td>Maharashtra Cricket Association Stadium</td>\n",
              "      <td>A Nand Kishore</td>\n",
              "      <td>S Ravi</td>\n",
              "      <td>NaN</td>\n",
              "    </tr>\n",
              "  </tbody>\n",
              "</table>\n",
              "</div>"
            ],
            "text/plain": [
              "   id  season       city  ...         umpire1   umpire2 umpire3\n",
              "0   1    2017  Hyderabad  ...     AY Dandekar  NJ Llong     NaN\n",
              "1   2    2017       Pune  ...  A Nand Kishore    S Ravi     NaN\n",
              "\n",
              "[2 rows x 18 columns]"
            ]
          },
          "metadata": {
            "tags": []
          },
          "execution_count": 2
        }
      ]
    },
    {
      "cell_type": "code",
      "metadata": {
        "id": "kYj16Ou1ajOR",
        "outputId": "5bc42183-6f5c-49cd-8dca-dc445056ce56",
        "colab": {
          "base_uri": "https://localhost:8080/",
          "height": 194
        }
      },
      "source": [
        "df_deliveries = pd.read_csv(\"deliveries.csv\")\n",
        "df_deliveries.head(2)"
      ],
      "execution_count": null,
      "outputs": [
        {
          "output_type": "execute_result",
          "data": {
            "text/html": [
              "<div>\n",
              "<style scoped>\n",
              "    .dataframe tbody tr th:only-of-type {\n",
              "        vertical-align: middle;\n",
              "    }\n",
              "\n",
              "    .dataframe tbody tr th {\n",
              "        vertical-align: top;\n",
              "    }\n",
              "\n",
              "    .dataframe thead th {\n",
              "        text-align: right;\n",
              "    }\n",
              "</style>\n",
              "<table border=\"1\" class=\"dataframe\">\n",
              "  <thead>\n",
              "    <tr style=\"text-align: right;\">\n",
              "      <th></th>\n",
              "      <th>match_id</th>\n",
              "      <th>inning</th>\n",
              "      <th>batting_team</th>\n",
              "      <th>bowling_team</th>\n",
              "      <th>over</th>\n",
              "      <th>ball</th>\n",
              "      <th>batsman</th>\n",
              "      <th>non_striker</th>\n",
              "      <th>bowler</th>\n",
              "      <th>is_super_over</th>\n",
              "      <th>wide_runs</th>\n",
              "      <th>bye_runs</th>\n",
              "      <th>legbye_runs</th>\n",
              "      <th>noball_runs</th>\n",
              "      <th>penalty_runs</th>\n",
              "      <th>batsman_runs</th>\n",
              "      <th>extra_runs</th>\n",
              "      <th>total_runs</th>\n",
              "      <th>player_dismissed</th>\n",
              "      <th>dismissal_kind</th>\n",
              "      <th>fielder</th>\n",
              "    </tr>\n",
              "  </thead>\n",
              "  <tbody>\n",
              "    <tr>\n",
              "      <th>0</th>\n",
              "      <td>1</td>\n",
              "      <td>1</td>\n",
              "      <td>Sunrisers Hyderabad</td>\n",
              "      <td>Royal Challengers Bangalore</td>\n",
              "      <td>1</td>\n",
              "      <td>1</td>\n",
              "      <td>DA Warner</td>\n",
              "      <td>S Dhawan</td>\n",
              "      <td>TS Mills</td>\n",
              "      <td>0</td>\n",
              "      <td>0</td>\n",
              "      <td>0</td>\n",
              "      <td>0</td>\n",
              "      <td>0</td>\n",
              "      <td>0</td>\n",
              "      <td>0</td>\n",
              "      <td>0</td>\n",
              "      <td>0</td>\n",
              "      <td>NaN</td>\n",
              "      <td>NaN</td>\n",
              "      <td>NaN</td>\n",
              "    </tr>\n",
              "    <tr>\n",
              "      <th>1</th>\n",
              "      <td>1</td>\n",
              "      <td>1</td>\n",
              "      <td>Sunrisers Hyderabad</td>\n",
              "      <td>Royal Challengers Bangalore</td>\n",
              "      <td>1</td>\n",
              "      <td>2</td>\n",
              "      <td>DA Warner</td>\n",
              "      <td>S Dhawan</td>\n",
              "      <td>TS Mills</td>\n",
              "      <td>0</td>\n",
              "      <td>0</td>\n",
              "      <td>0</td>\n",
              "      <td>0</td>\n",
              "      <td>0</td>\n",
              "      <td>0</td>\n",
              "      <td>0</td>\n",
              "      <td>0</td>\n",
              "      <td>0</td>\n",
              "      <td>NaN</td>\n",
              "      <td>NaN</td>\n",
              "      <td>NaN</td>\n",
              "    </tr>\n",
              "  </tbody>\n",
              "</table>\n",
              "</div>"
            ],
            "text/plain": [
              "   match_id  inning  ... dismissal_kind fielder\n",
              "0         1       1  ...            NaN     NaN\n",
              "1         1       1  ...            NaN     NaN\n",
              "\n",
              "[2 rows x 21 columns]"
            ]
          },
          "metadata": {
            "tags": []
          },
          "execution_count": 3
        }
      ]
    },
    {
      "cell_type": "code",
      "metadata": {
        "id": "UyeLzeoPamH1",
        "outputId": "50e50b38-5c12-42e9-df3b-05ebe65d1d5a",
        "colab": {
          "base_uri": "https://localhost:8080/"
        }
      },
      "source": [
        "print(df_matches.shape)\n",
        "print(df_deliveries.shape)"
      ],
      "execution_count": null,
      "outputs": [
        {
          "output_type": "stream",
          "text": [
            "(756, 18)\n",
            "(179078, 21)\n"
          ],
          "name": "stdout"
        }
      ]
    },
    {
      "cell_type": "markdown",
      "metadata": {
        "id": "vDlHgMToao4m"
      },
      "source": [
        "\n",
        "\n",
        "*   In matches data frame columns like umpire1,umpire2,umpire3 are not useful because these days they are using technology. So we cant decide which umpire is more useful for predicting anything related to match.\n",
        "*   Date is also not useful because we already have season column which is also almost equal to date.\n",
        "\n",
        "\n",
        "*   City and venue also not important features for this year IPL. Because IPL2020 is happening in UAE, only 2014 ipl was happened in UAE that to half season. But i am removing only venue it almost equal to city feature.\n",
        "*   'Result' feature is almost equal to 'winner' feature. So i am dropping result column also.\n",
        "\n",
        "\n",
        "\n"
      ]
    },
    {
      "cell_type": "code",
      "metadata": {
        "id": "DkQF0cUIa1iN",
        "outputId": "f16a18b3-8600-436b-ecf3-b247f01b0586",
        "colab": {
          "base_uri": "https://localhost:8080/",
          "height": 194
        }
      },
      "source": [
        "df_matches = df_matches.drop(['venue','date','result','umpire1','umpire2','umpire3'], axis = 1) \n",
        "df_matches.head(2)"
      ],
      "execution_count": null,
      "outputs": [
        {
          "output_type": "execute_result",
          "data": {
            "text/html": [
              "<div>\n",
              "<style scoped>\n",
              "    .dataframe tbody tr th:only-of-type {\n",
              "        vertical-align: middle;\n",
              "    }\n",
              "\n",
              "    .dataframe tbody tr th {\n",
              "        vertical-align: top;\n",
              "    }\n",
              "\n",
              "    .dataframe thead th {\n",
              "        text-align: right;\n",
              "    }\n",
              "</style>\n",
              "<table border=\"1\" class=\"dataframe\">\n",
              "  <thead>\n",
              "    <tr style=\"text-align: right;\">\n",
              "      <th></th>\n",
              "      <th>id</th>\n",
              "      <th>season</th>\n",
              "      <th>city</th>\n",
              "      <th>team1</th>\n",
              "      <th>team2</th>\n",
              "      <th>toss_winner</th>\n",
              "      <th>toss_decision</th>\n",
              "      <th>dl_applied</th>\n",
              "      <th>winner</th>\n",
              "      <th>win_by_runs</th>\n",
              "      <th>win_by_wickets</th>\n",
              "      <th>player_of_match</th>\n",
              "    </tr>\n",
              "  </thead>\n",
              "  <tbody>\n",
              "    <tr>\n",
              "      <th>0</th>\n",
              "      <td>1</td>\n",
              "      <td>2017</td>\n",
              "      <td>Hyderabad</td>\n",
              "      <td>Sunrisers Hyderabad</td>\n",
              "      <td>Royal Challengers Bangalore</td>\n",
              "      <td>Royal Challengers Bangalore</td>\n",
              "      <td>field</td>\n",
              "      <td>0</td>\n",
              "      <td>Sunrisers Hyderabad</td>\n",
              "      <td>35</td>\n",
              "      <td>0</td>\n",
              "      <td>Yuvraj Singh</td>\n",
              "    </tr>\n",
              "    <tr>\n",
              "      <th>1</th>\n",
              "      <td>2</td>\n",
              "      <td>2017</td>\n",
              "      <td>Pune</td>\n",
              "      <td>Mumbai Indians</td>\n",
              "      <td>Rising Pune Supergiant</td>\n",
              "      <td>Rising Pune Supergiant</td>\n",
              "      <td>field</td>\n",
              "      <td>0</td>\n",
              "      <td>Rising Pune Supergiant</td>\n",
              "      <td>0</td>\n",
              "      <td>7</td>\n",
              "      <td>SPD Smith</td>\n",
              "    </tr>\n",
              "  </tbody>\n",
              "</table>\n",
              "</div>"
            ],
            "text/plain": [
              "   id  season       city  ... win_by_runs win_by_wickets player_of_match\n",
              "0   1    2017  Hyderabad  ...          35              0    Yuvraj Singh\n",
              "1   2    2017       Pune  ...           0              7       SPD Smith\n",
              "\n",
              "[2 rows x 12 columns]"
            ]
          },
          "metadata": {
            "tags": []
          },
          "execution_count": 5
        }
      ]
    },
    {
      "cell_type": "code",
      "metadata": {
        "id": "7MsY4V1va5f6",
        "outputId": "b46ed704-9198-4c68-eb94-bb2a19cc67d8",
        "colab": {
          "base_uri": "https://localhost:8080/"
        }
      },
      "source": [
        "print(df_matches[\"team1\"].value_counts())"
      ],
      "execution_count": null,
      "outputs": [
        {
          "output_type": "stream",
          "text": [
            "Mumbai Indians                 101\n",
            "Kings XI Punjab                 91\n",
            "Chennai Super Kings             89\n",
            "Royal Challengers Bangalore     85\n",
            "Kolkata Knight Riders           83\n",
            "Delhi Daredevils                72\n",
            "Rajasthan Royals                67\n",
            "Sunrisers Hyderabad             63\n",
            "Deccan Chargers                 43\n",
            "Pune Warriors                   20\n",
            "Gujarat Lions                   14\n",
            "Rising Pune Supergiant           8\n",
            "Rising Pune Supergiants          7\n",
            "Kochi Tuskers Kerala             7\n",
            "Delhi Capitals                   6\n",
            "Name: team1, dtype: int64\n"
          ],
          "name": "stdout"
        }
      ]
    },
    {
      "cell_type": "code",
      "metadata": {
        "id": "xbx9FCfDa-QP"
      },
      "source": [
        "#In 2019 delhi daredevils name changed to delhi capitals. So i am replacing old name with new name for all the rows.\n",
        "df_matches = df_matches.replace(to_replace =\"Delhi Daredevils\", value = \"Delhi Capitals\") \n",
        "\n",
        "df_deliveries = df_deliveries.replace(to_replace = \"Delhi Daredevils\", value = \"Delhi Capitals\")\n",
        "\n",
        "#Rising pune supergiants name also printed in two ways. Lets change it to Rising pune supergiants.\n",
        "df_matches = df_matches.replace(to_replace =\"Rising Pune Supergiant\", value = \"Rising Pune Supergiants\") \n",
        "\n",
        "df_deliveries = df_deliveries.replace(to_replace = \"Rising Pune Supergiant\", value = \"Rising Pune Supergiants\")"
      ],
      "execution_count": null,
      "outputs": []
    },
    {
      "cell_type": "code",
      "metadata": {
        "id": "XXnQ53hdbCsC",
        "outputId": "3927d871-880a-4f43-977a-3130bfc47d41",
        "colab": {
          "base_uri": "https://localhost:8080/"
        }
      },
      "source": [
        "#checking null values in matches dataset\n",
        "print(df_matches.isnull().sum())"
      ],
      "execution_count": null,
      "outputs": [
        {
          "output_type": "stream",
          "text": [
            "id                 0\n",
            "season             0\n",
            "city               7\n",
            "team1              0\n",
            "team2              0\n",
            "toss_winner        0\n",
            "toss_decision      0\n",
            "dl_applied         0\n",
            "winner             4\n",
            "win_by_runs        0\n",
            "win_by_wickets     0\n",
            "player_of_match    4\n",
            "dtype: int64\n"
          ],
          "name": "stdout"
        }
      ]
    },
    {
      "cell_type": "code",
      "metadata": {
        "id": "vY0rmODabFl7",
        "outputId": "a6c46792-67a0-4b3c-890d-86878cea06dc",
        "colab": {
          "base_uri": "https://localhost:8080/",
          "height": 177
        }
      },
      "source": [
        "#printing null rows in matches dataset\n",
        "df1_null = df_matches[df_matches.isna().any(axis=1)]\n",
        "df1_null.head(2)"
      ],
      "execution_count": null,
      "outputs": [
        {
          "output_type": "execute_result",
          "data": {
            "text/html": [
              "<div>\n",
              "<style scoped>\n",
              "    .dataframe tbody tr th:only-of-type {\n",
              "        vertical-align: middle;\n",
              "    }\n",
              "\n",
              "    .dataframe tbody tr th {\n",
              "        vertical-align: top;\n",
              "    }\n",
              "\n",
              "    .dataframe thead th {\n",
              "        text-align: right;\n",
              "    }\n",
              "</style>\n",
              "<table border=\"1\" class=\"dataframe\">\n",
              "  <thead>\n",
              "    <tr style=\"text-align: right;\">\n",
              "      <th></th>\n",
              "      <th>id</th>\n",
              "      <th>season</th>\n",
              "      <th>city</th>\n",
              "      <th>team1</th>\n",
              "      <th>team2</th>\n",
              "      <th>toss_winner</th>\n",
              "      <th>toss_decision</th>\n",
              "      <th>dl_applied</th>\n",
              "      <th>winner</th>\n",
              "      <th>win_by_runs</th>\n",
              "      <th>win_by_wickets</th>\n",
              "      <th>player_of_match</th>\n",
              "    </tr>\n",
              "  </thead>\n",
              "  <tbody>\n",
              "    <tr>\n",
              "      <th>300</th>\n",
              "      <td>301</td>\n",
              "      <td>2011</td>\n",
              "      <td>Delhi</td>\n",
              "      <td>Delhi Capitals</td>\n",
              "      <td>Pune Warriors</td>\n",
              "      <td>Delhi Capitals</td>\n",
              "      <td>bat</td>\n",
              "      <td>0</td>\n",
              "      <td>NaN</td>\n",
              "      <td>0</td>\n",
              "      <td>0</td>\n",
              "      <td>NaN</td>\n",
              "    </tr>\n",
              "    <tr>\n",
              "      <th>461</th>\n",
              "      <td>462</td>\n",
              "      <td>2014</td>\n",
              "      <td>NaN</td>\n",
              "      <td>Mumbai Indians</td>\n",
              "      <td>Royal Challengers Bangalore</td>\n",
              "      <td>Royal Challengers Bangalore</td>\n",
              "      <td>field</td>\n",
              "      <td>0</td>\n",
              "      <td>Royal Challengers Bangalore</td>\n",
              "      <td>0</td>\n",
              "      <td>7</td>\n",
              "      <td>PA Patel</td>\n",
              "    </tr>\n",
              "  </tbody>\n",
              "</table>\n",
              "</div>"
            ],
            "text/plain": [
              "      id  season   city  ... win_by_runs win_by_wickets player_of_match\n",
              "300  301    2011  Delhi  ...           0              0             NaN\n",
              "461  462    2014    NaN  ...           0              7        PA Patel\n",
              "\n",
              "[2 rows x 12 columns]"
            ]
          },
          "metadata": {
            "tags": []
          },
          "execution_count": 9
        }
      ]
    },
    {
      "cell_type": "code",
      "metadata": {
        "id": "ByEtCaAIbIqT",
        "outputId": "924f232b-9229-49f3-f85c-dc2eb0eff3d6",
        "colab": {
          "base_uri": "https://localhost:8080/"
        }
      },
      "source": [
        "#After seeing above table we can clearly understood that 4 matches are not played beacuse of rain, badlight or pitch condition. \n",
        "#So i am replacing those null values in winner column with no result and palyer of the match column null values with not declared.\n",
        "df_matches[\"winner\"].fillna(\"No result\", inplace = True)\n",
        "df_matches['player_of_match'].fillna(\"Not declared\", inplace = True)\n",
        "#city column also has 7 null values. I checked those matches data in Espn website and they played in Dubai.\n",
        "df_matches[\"city\"].fillna(\"Dubai\", inplace = True)\n",
        "print(df_matches.shape)"
      ],
      "execution_count": null,
      "outputs": [
        {
          "output_type": "stream",
          "text": [
            "(756, 12)\n"
          ],
          "name": "stdout"
        }
      ]
    },
    {
      "cell_type": "code",
      "metadata": {
        "id": "sQLoCQ_TbMPH",
        "outputId": "de01c101-bc1c-4e51-b961-81d61afce6b1",
        "colab": {
          "base_uri": "https://localhost:8080/"
        }
      },
      "source": [
        "#checking null values in deliveries dataset\n",
        "print(df_deliveries.isnull().sum())"
      ],
      "execution_count": null,
      "outputs": [
        {
          "output_type": "stream",
          "text": [
            "match_id                 0\n",
            "inning                   0\n",
            "batting_team             0\n",
            "bowling_team             0\n",
            "over                     0\n",
            "ball                     0\n",
            "batsman                  0\n",
            "non_striker              0\n",
            "bowler                   0\n",
            "is_super_over            0\n",
            "wide_runs                0\n",
            "bye_runs                 0\n",
            "legbye_runs              0\n",
            "noball_runs              0\n",
            "penalty_runs             0\n",
            "batsman_runs             0\n",
            "extra_runs               0\n",
            "total_runs               0\n",
            "player_dismissed    170244\n",
            "dismissal_kind      170244\n",
            "fielder             172630\n",
            "dtype: int64\n"
          ],
          "name": "stdout"
        }
      ]
    },
    {
      "cell_type": "markdown",
      "metadata": {
        "id": "jN9SxMoLbaze"
      },
      "source": [
        "\n",
        "\n",
        "*   Player_dismissed, dismissal_kind and fielder features are having null values. But if you consider today questions only 'player_dismissed' and 'dismissal_kind' features are useful for today analysis. So i am removing \"fielder\" feature.\n",
        "*   Filling player_dismissed null values with 'No wicket', didmissal_Kind null values with also No Wicket.\n",
        "\n"
      ]
    },
    {
      "cell_type": "code",
      "metadata": {
        "id": "fXb1x69bbQGb",
        "outputId": "257303d9-975a-4a15-d875-fa51750dbc8e",
        "colab": {
          "base_uri": "https://localhost:8080/",
          "height": 194
        }
      },
      "source": [
        "#dropping fielder column\n",
        "df_deliveries = df_deliveries.drop(['fielder'], axis = 1) \n",
        "#filling null values\n",
        "df_deliveries[\"player_dismissed\"].fillna(\"No Wicket\", inplace = True)\n",
        "df_deliveries[\"dismissal_kind\"].fillna(\"No Wicket\", inplace = True)\n",
        "df_deliveries.head(2)"
      ],
      "execution_count": null,
      "outputs": [
        {
          "output_type": "execute_result",
          "data": {
            "text/html": [
              "<div>\n",
              "<style scoped>\n",
              "    .dataframe tbody tr th:only-of-type {\n",
              "        vertical-align: middle;\n",
              "    }\n",
              "\n",
              "    .dataframe tbody tr th {\n",
              "        vertical-align: top;\n",
              "    }\n",
              "\n",
              "    .dataframe thead th {\n",
              "        text-align: right;\n",
              "    }\n",
              "</style>\n",
              "<table border=\"1\" class=\"dataframe\">\n",
              "  <thead>\n",
              "    <tr style=\"text-align: right;\">\n",
              "      <th></th>\n",
              "      <th>match_id</th>\n",
              "      <th>inning</th>\n",
              "      <th>batting_team</th>\n",
              "      <th>bowling_team</th>\n",
              "      <th>over</th>\n",
              "      <th>ball</th>\n",
              "      <th>batsman</th>\n",
              "      <th>non_striker</th>\n",
              "      <th>bowler</th>\n",
              "      <th>is_super_over</th>\n",
              "      <th>wide_runs</th>\n",
              "      <th>bye_runs</th>\n",
              "      <th>legbye_runs</th>\n",
              "      <th>noball_runs</th>\n",
              "      <th>penalty_runs</th>\n",
              "      <th>batsman_runs</th>\n",
              "      <th>extra_runs</th>\n",
              "      <th>total_runs</th>\n",
              "      <th>player_dismissed</th>\n",
              "      <th>dismissal_kind</th>\n",
              "    </tr>\n",
              "  </thead>\n",
              "  <tbody>\n",
              "    <tr>\n",
              "      <th>0</th>\n",
              "      <td>1</td>\n",
              "      <td>1</td>\n",
              "      <td>Sunrisers Hyderabad</td>\n",
              "      <td>Royal Challengers Bangalore</td>\n",
              "      <td>1</td>\n",
              "      <td>1</td>\n",
              "      <td>DA Warner</td>\n",
              "      <td>S Dhawan</td>\n",
              "      <td>TS Mills</td>\n",
              "      <td>0</td>\n",
              "      <td>0</td>\n",
              "      <td>0</td>\n",
              "      <td>0</td>\n",
              "      <td>0</td>\n",
              "      <td>0</td>\n",
              "      <td>0</td>\n",
              "      <td>0</td>\n",
              "      <td>0</td>\n",
              "      <td>No Wicket</td>\n",
              "      <td>No Wicket</td>\n",
              "    </tr>\n",
              "    <tr>\n",
              "      <th>1</th>\n",
              "      <td>1</td>\n",
              "      <td>1</td>\n",
              "      <td>Sunrisers Hyderabad</td>\n",
              "      <td>Royal Challengers Bangalore</td>\n",
              "      <td>1</td>\n",
              "      <td>2</td>\n",
              "      <td>DA Warner</td>\n",
              "      <td>S Dhawan</td>\n",
              "      <td>TS Mills</td>\n",
              "      <td>0</td>\n",
              "      <td>0</td>\n",
              "      <td>0</td>\n",
              "      <td>0</td>\n",
              "      <td>0</td>\n",
              "      <td>0</td>\n",
              "      <td>0</td>\n",
              "      <td>0</td>\n",
              "      <td>0</td>\n",
              "      <td>No Wicket</td>\n",
              "      <td>No Wicket</td>\n",
              "    </tr>\n",
              "  </tbody>\n",
              "</table>\n",
              "</div>"
            ],
            "text/plain": [
              "   match_id  inning  ... player_dismissed dismissal_kind\n",
              "0         1       1  ...        No Wicket      No Wicket\n",
              "1         1       1  ...        No Wicket      No Wicket\n",
              "\n",
              "[2 rows x 20 columns]"
            ]
          },
          "metadata": {
            "tags": []
          },
          "execution_count": 12
        }
      ]
    },
    {
      "cell_type": "code",
      "metadata": {
        "id": "9J-xNtJNbUzO",
        "outputId": "b647cb1a-f0f7-4939-9afa-2ff3033a2f70",
        "colab": {
          "base_uri": "https://localhost:8080/",
          "height": 304
        }
      },
      "source": [
        "# list of dtypes to include \n",
        "include =['float', 'int']\n",
        "desc = df_deliveries.describe(include = include)\n",
        "desc"
      ],
      "execution_count": null,
      "outputs": [
        {
          "output_type": "execute_result",
          "data": {
            "text/html": [
              "<div>\n",
              "<style scoped>\n",
              "    .dataframe tbody tr th:only-of-type {\n",
              "        vertical-align: middle;\n",
              "    }\n",
              "\n",
              "    .dataframe tbody tr th {\n",
              "        vertical-align: top;\n",
              "    }\n",
              "\n",
              "    .dataframe thead th {\n",
              "        text-align: right;\n",
              "    }\n",
              "</style>\n",
              "<table border=\"1\" class=\"dataframe\">\n",
              "  <thead>\n",
              "    <tr style=\"text-align: right;\">\n",
              "      <th></th>\n",
              "      <th>match_id</th>\n",
              "      <th>inning</th>\n",
              "      <th>over</th>\n",
              "      <th>ball</th>\n",
              "      <th>is_super_over</th>\n",
              "      <th>wide_runs</th>\n",
              "      <th>bye_runs</th>\n",
              "      <th>legbye_runs</th>\n",
              "      <th>noball_runs</th>\n",
              "      <th>penalty_runs</th>\n",
              "      <th>batsman_runs</th>\n",
              "      <th>extra_runs</th>\n",
              "      <th>total_runs</th>\n",
              "    </tr>\n",
              "  </thead>\n",
              "  <tbody>\n",
              "    <tr>\n",
              "      <th>count</th>\n",
              "      <td>179078.000000</td>\n",
              "      <td>179078.000000</td>\n",
              "      <td>179078.000000</td>\n",
              "      <td>179078.000000</td>\n",
              "      <td>179078.000000</td>\n",
              "      <td>179078.000000</td>\n",
              "      <td>179078.000000</td>\n",
              "      <td>179078.000000</td>\n",
              "      <td>179078.000000</td>\n",
              "      <td>179078.000000</td>\n",
              "      <td>179078.000000</td>\n",
              "      <td>179078.000000</td>\n",
              "      <td>179078.000000</td>\n",
              "    </tr>\n",
              "    <tr>\n",
              "      <th>mean</th>\n",
              "      <td>1802.252957</td>\n",
              "      <td>1.482952</td>\n",
              "      <td>10.162488</td>\n",
              "      <td>3.615587</td>\n",
              "      <td>0.000452</td>\n",
              "      <td>0.036721</td>\n",
              "      <td>0.004936</td>\n",
              "      <td>0.021136</td>\n",
              "      <td>0.004183</td>\n",
              "      <td>0.000056</td>\n",
              "      <td>1.246864</td>\n",
              "      <td>0.067032</td>\n",
              "      <td>1.313897</td>\n",
              "    </tr>\n",
              "    <tr>\n",
              "      <th>std</th>\n",
              "      <td>3472.322805</td>\n",
              "      <td>0.502074</td>\n",
              "      <td>5.677684</td>\n",
              "      <td>1.806966</td>\n",
              "      <td>0.021263</td>\n",
              "      <td>0.251161</td>\n",
              "      <td>0.116480</td>\n",
              "      <td>0.194908</td>\n",
              "      <td>0.070492</td>\n",
              "      <td>0.016709</td>\n",
              "      <td>1.608270</td>\n",
              "      <td>0.342553</td>\n",
              "      <td>1.605422</td>\n",
              "    </tr>\n",
              "    <tr>\n",
              "      <th>min</th>\n",
              "      <td>1.000000</td>\n",
              "      <td>1.000000</td>\n",
              "      <td>1.000000</td>\n",
              "      <td>1.000000</td>\n",
              "      <td>0.000000</td>\n",
              "      <td>0.000000</td>\n",
              "      <td>0.000000</td>\n",
              "      <td>0.000000</td>\n",
              "      <td>0.000000</td>\n",
              "      <td>0.000000</td>\n",
              "      <td>0.000000</td>\n",
              "      <td>0.000000</td>\n",
              "      <td>0.000000</td>\n",
              "    </tr>\n",
              "    <tr>\n",
              "      <th>25%</th>\n",
              "      <td>190.000000</td>\n",
              "      <td>1.000000</td>\n",
              "      <td>5.000000</td>\n",
              "      <td>2.000000</td>\n",
              "      <td>0.000000</td>\n",
              "      <td>0.000000</td>\n",
              "      <td>0.000000</td>\n",
              "      <td>0.000000</td>\n",
              "      <td>0.000000</td>\n",
              "      <td>0.000000</td>\n",
              "      <td>0.000000</td>\n",
              "      <td>0.000000</td>\n",
              "      <td>0.000000</td>\n",
              "    </tr>\n",
              "    <tr>\n",
              "      <th>50%</th>\n",
              "      <td>379.000000</td>\n",
              "      <td>1.000000</td>\n",
              "      <td>10.000000</td>\n",
              "      <td>4.000000</td>\n",
              "      <td>0.000000</td>\n",
              "      <td>0.000000</td>\n",
              "      <td>0.000000</td>\n",
              "      <td>0.000000</td>\n",
              "      <td>0.000000</td>\n",
              "      <td>0.000000</td>\n",
              "      <td>1.000000</td>\n",
              "      <td>0.000000</td>\n",
              "      <td>1.000000</td>\n",
              "    </tr>\n",
              "    <tr>\n",
              "      <th>75%</th>\n",
              "      <td>567.000000</td>\n",
              "      <td>2.000000</td>\n",
              "      <td>15.000000</td>\n",
              "      <td>5.000000</td>\n",
              "      <td>0.000000</td>\n",
              "      <td>0.000000</td>\n",
              "      <td>0.000000</td>\n",
              "      <td>0.000000</td>\n",
              "      <td>0.000000</td>\n",
              "      <td>0.000000</td>\n",
              "      <td>1.000000</td>\n",
              "      <td>0.000000</td>\n",
              "      <td>1.000000</td>\n",
              "    </tr>\n",
              "    <tr>\n",
              "      <th>max</th>\n",
              "      <td>11415.000000</td>\n",
              "      <td>5.000000</td>\n",
              "      <td>20.000000</td>\n",
              "      <td>9.000000</td>\n",
              "      <td>1.000000</td>\n",
              "      <td>5.000000</td>\n",
              "      <td>4.000000</td>\n",
              "      <td>5.000000</td>\n",
              "      <td>5.000000</td>\n",
              "      <td>5.000000</td>\n",
              "      <td>7.000000</td>\n",
              "      <td>7.000000</td>\n",
              "      <td>10.000000</td>\n",
              "    </tr>\n",
              "  </tbody>\n",
              "</table>\n",
              "</div>"
            ],
            "text/plain": [
              "            match_id         inning  ...     extra_runs     total_runs\n",
              "count  179078.000000  179078.000000  ...  179078.000000  179078.000000\n",
              "mean     1802.252957       1.482952  ...       0.067032       1.313897\n",
              "std      3472.322805       0.502074  ...       0.342553       1.605422\n",
              "min         1.000000       1.000000  ...       0.000000       0.000000\n",
              "25%       190.000000       1.000000  ...       0.000000       0.000000\n",
              "50%       379.000000       1.000000  ...       0.000000       1.000000\n",
              "75%       567.000000       2.000000  ...       0.000000       1.000000\n",
              "max     11415.000000       5.000000  ...       7.000000      10.000000\n",
              "\n",
              "[8 rows x 13 columns]"
            ]
          },
          "metadata": {
            "tags": []
          },
          "execution_count": 13
        }
      ]
    },
    {
      "cell_type": "markdown",
      "metadata": {
        "id": "0tELaIVkzduL"
      },
      "source": [
        "### Q1) Who will win today match KXIP vs RR?"
      ]
    },
    {
      "cell_type": "code",
      "metadata": {
        "id": "RE1s1i2zzkJi",
        "outputId": "fc5cea94-610d-425f-b353-34ca767e3878",
        "colab": {
          "base_uri": "https://localhost:8080/",
          "height": 542
        }
      },
      "source": [
        "#First Lets see head-head results\n",
        "df_KKR_KXIP = df_matches[((df_matches['team1'] == 'Kings XI Punjab') | (df_matches['team1'] == 'Rajasthan Royals')) & \n",
        "                        ((df_matches['team2'] == 'Kings XI Punjab') | (df_matches['team2'] == 'Rajasthan Royals'))] \n",
        "\n",
        "#plotting RR and KXIP wins against each other\n",
        "import plotly.graph_objs as go\n",
        "df_winner = df_KKR_KXIP[['id','winner']].groupby('winner').size().reset_index()\n",
        "df_winner.columns = ['winner','total_wins']\n",
        "df_winner = df_winner.sort_values('total_wins',ascending=False)[:2]\n",
        "\n",
        "data = go.Bar(x = df_winner['winner'],y = df_winner['total_wins'])\n",
        "layout = go.Layout(title = 'Number of wins by KXIP and RR against each other',xaxis = dict(title = 'Team'),yaxis = dict(title = 'No of wins'))\n",
        "fig = go.Figure(data = data,layout = layout)\n",
        "fig.show()"
      ],
      "execution_count": null,
      "outputs": [
        {
          "output_type": "display_data",
          "data": {
            "text/html": [
              "<html>\n",
              "<head><meta charset=\"utf-8\" /></head>\n",
              "<body>\n",
              "    <div>\n",
              "            <script src=\"https://cdnjs.cloudflare.com/ajax/libs/mathjax/2.7.5/MathJax.js?config=TeX-AMS-MML_SVG\"></script><script type=\"text/javascript\">if (window.MathJax) {MathJax.Hub.Config({SVG: {font: \"STIX-Web\"}});}</script>\n",
              "                <script type=\"text/javascript\">window.PlotlyConfig = {MathJaxConfig: 'local'};</script>\n",
              "        <script src=\"https://cdn.plot.ly/plotly-latest.min.js\"></script>    \n",
              "            <div id=\"e697bd39-f2f5-4946-97ee-58b5213d2cc7\" class=\"plotly-graph-div\" style=\"height:525px; width:100%;\"></div>\n",
              "            <script type=\"text/javascript\">\n",
              "                \n",
              "                    window.PLOTLYENV=window.PLOTLYENV || {};\n",
              "                    \n",
              "                if (document.getElementById(\"e697bd39-f2f5-4946-97ee-58b5213d2cc7\")) {\n",
              "                    Plotly.newPlot(\n",
              "                        'e697bd39-f2f5-4946-97ee-58b5213d2cc7',\n",
              "                        [{\"type\": \"bar\", \"x\": [\"Rajasthan Royals\", \"Kings XI Punjab\"], \"y\": [10, 9]}],\n",
              "                        {\"template\": {\"data\": {\"bar\": [{\"error_x\": {\"color\": \"#2a3f5f\"}, \"error_y\": {\"color\": \"#2a3f5f\"}, \"marker\": {\"line\": {\"color\": \"#E5ECF6\", \"width\": 0.5}}, \"type\": \"bar\"}], \"barpolar\": [{\"marker\": {\"line\": {\"color\": \"#E5ECF6\", \"width\": 0.5}}, \"type\": \"barpolar\"}], \"carpet\": [{\"aaxis\": {\"endlinecolor\": \"#2a3f5f\", \"gridcolor\": \"white\", \"linecolor\": \"white\", \"minorgridcolor\": \"white\", \"startlinecolor\": \"#2a3f5f\"}, \"baxis\": {\"endlinecolor\": \"#2a3f5f\", \"gridcolor\": \"white\", \"linecolor\": \"white\", \"minorgridcolor\": \"white\", \"startlinecolor\": \"#2a3f5f\"}, \"type\": \"carpet\"}], \"choropleth\": [{\"colorbar\": {\"outlinewidth\": 0, \"ticks\": \"\"}, \"type\": \"choropleth\"}], \"contour\": [{\"colorbar\": {\"outlinewidth\": 0, \"ticks\": \"\"}, \"colorscale\": [[0.0, \"#0d0887\"], [0.1111111111111111, \"#46039f\"], [0.2222222222222222, \"#7201a8\"], [0.3333333333333333, \"#9c179e\"], [0.4444444444444444, \"#bd3786\"], [0.5555555555555556, \"#d8576b\"], [0.6666666666666666, \"#ed7953\"], [0.7777777777777778, \"#fb9f3a\"], [0.8888888888888888, \"#fdca26\"], [1.0, \"#f0f921\"]], \"type\": \"contour\"}], \"contourcarpet\": [{\"colorbar\": {\"outlinewidth\": 0, \"ticks\": \"\"}, \"type\": \"contourcarpet\"}], \"heatmap\": [{\"colorbar\": {\"outlinewidth\": 0, \"ticks\": \"\"}, \"colorscale\": [[0.0, \"#0d0887\"], [0.1111111111111111, \"#46039f\"], [0.2222222222222222, \"#7201a8\"], [0.3333333333333333, \"#9c179e\"], [0.4444444444444444, \"#bd3786\"], [0.5555555555555556, \"#d8576b\"], [0.6666666666666666, \"#ed7953\"], [0.7777777777777778, \"#fb9f3a\"], [0.8888888888888888, \"#fdca26\"], [1.0, \"#f0f921\"]], \"type\": \"heatmap\"}], \"heatmapgl\": [{\"colorbar\": {\"outlinewidth\": 0, \"ticks\": \"\"}, \"colorscale\": [[0.0, \"#0d0887\"], [0.1111111111111111, \"#46039f\"], [0.2222222222222222, \"#7201a8\"], [0.3333333333333333, \"#9c179e\"], [0.4444444444444444, \"#bd3786\"], [0.5555555555555556, \"#d8576b\"], [0.6666666666666666, \"#ed7953\"], [0.7777777777777778, \"#fb9f3a\"], [0.8888888888888888, \"#fdca26\"], [1.0, \"#f0f921\"]], \"type\": \"heatmapgl\"}], \"histogram\": [{\"marker\": {\"colorbar\": {\"outlinewidth\": 0, \"ticks\": \"\"}}, \"type\": \"histogram\"}], \"histogram2d\": [{\"colorbar\": {\"outlinewidth\": 0, \"ticks\": \"\"}, \"colorscale\": [[0.0, \"#0d0887\"], [0.1111111111111111, \"#46039f\"], [0.2222222222222222, \"#7201a8\"], [0.3333333333333333, \"#9c179e\"], [0.4444444444444444, \"#bd3786\"], [0.5555555555555556, \"#d8576b\"], [0.6666666666666666, \"#ed7953\"], [0.7777777777777778, \"#fb9f3a\"], [0.8888888888888888, \"#fdca26\"], [1.0, \"#f0f921\"]], \"type\": \"histogram2d\"}], \"histogram2dcontour\": [{\"colorbar\": {\"outlinewidth\": 0, \"ticks\": \"\"}, \"colorscale\": [[0.0, \"#0d0887\"], [0.1111111111111111, \"#46039f\"], [0.2222222222222222, \"#7201a8\"], [0.3333333333333333, \"#9c179e\"], [0.4444444444444444, \"#bd3786\"], [0.5555555555555556, \"#d8576b\"], [0.6666666666666666, \"#ed7953\"], [0.7777777777777778, \"#fb9f3a\"], [0.8888888888888888, \"#fdca26\"], [1.0, \"#f0f921\"]], \"type\": \"histogram2dcontour\"}], \"mesh3d\": [{\"colorbar\": {\"outlinewidth\": 0, \"ticks\": \"\"}, \"type\": \"mesh3d\"}], \"parcoords\": [{\"line\": {\"colorbar\": {\"outlinewidth\": 0, \"ticks\": \"\"}}, \"type\": \"parcoords\"}], \"pie\": [{\"automargin\": true, \"type\": \"pie\"}], \"scatter\": [{\"marker\": {\"colorbar\": {\"outlinewidth\": 0, \"ticks\": \"\"}}, \"type\": \"scatter\"}], \"scatter3d\": [{\"line\": {\"colorbar\": {\"outlinewidth\": 0, \"ticks\": \"\"}}, \"marker\": {\"colorbar\": {\"outlinewidth\": 0, \"ticks\": \"\"}}, \"type\": \"scatter3d\"}], \"scattercarpet\": [{\"marker\": {\"colorbar\": {\"outlinewidth\": 0, \"ticks\": \"\"}}, \"type\": \"scattercarpet\"}], \"scattergeo\": [{\"marker\": {\"colorbar\": {\"outlinewidth\": 0, \"ticks\": \"\"}}, \"type\": \"scattergeo\"}], \"scattergl\": [{\"marker\": {\"colorbar\": {\"outlinewidth\": 0, \"ticks\": \"\"}}, \"type\": \"scattergl\"}], \"scattermapbox\": [{\"marker\": {\"colorbar\": {\"outlinewidth\": 0, \"ticks\": \"\"}}, \"type\": \"scattermapbox\"}], \"scatterpolar\": [{\"marker\": {\"colorbar\": {\"outlinewidth\": 0, \"ticks\": \"\"}}, \"type\": \"scatterpolar\"}], \"scatterpolargl\": [{\"marker\": {\"colorbar\": {\"outlinewidth\": 0, \"ticks\": \"\"}}, \"type\": \"scatterpolargl\"}], \"scatterternary\": [{\"marker\": {\"colorbar\": {\"outlinewidth\": 0, \"ticks\": \"\"}}, \"type\": \"scatterternary\"}], \"surface\": [{\"colorbar\": {\"outlinewidth\": 0, \"ticks\": \"\"}, \"colorscale\": [[0.0, \"#0d0887\"], [0.1111111111111111, \"#46039f\"], [0.2222222222222222, \"#7201a8\"], [0.3333333333333333, \"#9c179e\"], [0.4444444444444444, \"#bd3786\"], [0.5555555555555556, \"#d8576b\"], [0.6666666666666666, \"#ed7953\"], [0.7777777777777778, \"#fb9f3a\"], [0.8888888888888888, \"#fdca26\"], [1.0, \"#f0f921\"]], \"type\": \"surface\"}], \"table\": [{\"cells\": {\"fill\": {\"color\": \"#EBF0F8\"}, \"line\": {\"color\": \"white\"}}, \"header\": {\"fill\": {\"color\": \"#C8D4E3\"}, \"line\": {\"color\": \"white\"}}, \"type\": \"table\"}]}, \"layout\": {\"annotationdefaults\": {\"arrowcolor\": \"#2a3f5f\", \"arrowhead\": 0, \"arrowwidth\": 1}, \"coloraxis\": {\"colorbar\": {\"outlinewidth\": 0, \"ticks\": \"\"}}, \"colorscale\": {\"diverging\": [[0, \"#8e0152\"], [0.1, \"#c51b7d\"], [0.2, \"#de77ae\"], [0.3, \"#f1b6da\"], [0.4, \"#fde0ef\"], [0.5, \"#f7f7f7\"], [0.6, \"#e6f5d0\"], [0.7, \"#b8e186\"], [0.8, \"#7fbc41\"], [0.9, \"#4d9221\"], [1, \"#276419\"]], \"sequential\": [[0.0, \"#0d0887\"], [0.1111111111111111, \"#46039f\"], [0.2222222222222222, \"#7201a8\"], [0.3333333333333333, \"#9c179e\"], [0.4444444444444444, \"#bd3786\"], [0.5555555555555556, \"#d8576b\"], [0.6666666666666666, \"#ed7953\"], [0.7777777777777778, \"#fb9f3a\"], [0.8888888888888888, \"#fdca26\"], [1.0, \"#f0f921\"]], \"sequentialminus\": [[0.0, \"#0d0887\"], [0.1111111111111111, \"#46039f\"], [0.2222222222222222, \"#7201a8\"], [0.3333333333333333, \"#9c179e\"], [0.4444444444444444, \"#bd3786\"], [0.5555555555555556, \"#d8576b\"], [0.6666666666666666, \"#ed7953\"], [0.7777777777777778, \"#fb9f3a\"], [0.8888888888888888, \"#fdca26\"], [1.0, \"#f0f921\"]]}, \"colorway\": [\"#636efa\", \"#EF553B\", \"#00cc96\", \"#ab63fa\", \"#FFA15A\", \"#19d3f3\", \"#FF6692\", \"#B6E880\", \"#FF97FF\", \"#FECB52\"], \"font\": {\"color\": \"#2a3f5f\"}, \"geo\": {\"bgcolor\": \"white\", \"lakecolor\": \"white\", \"landcolor\": \"#E5ECF6\", \"showlakes\": true, \"showland\": true, \"subunitcolor\": \"white\"}, \"hoverlabel\": {\"align\": \"left\"}, \"hovermode\": \"closest\", \"mapbox\": {\"style\": \"light\"}, \"paper_bgcolor\": \"white\", \"plot_bgcolor\": \"#E5ECF6\", \"polar\": {\"angularaxis\": {\"gridcolor\": \"white\", \"linecolor\": \"white\", \"ticks\": \"\"}, \"bgcolor\": \"#E5ECF6\", \"radialaxis\": {\"gridcolor\": \"white\", \"linecolor\": \"white\", \"ticks\": \"\"}}, \"scene\": {\"xaxis\": {\"backgroundcolor\": \"#E5ECF6\", \"gridcolor\": \"white\", \"gridwidth\": 2, \"linecolor\": \"white\", \"showbackground\": true, \"ticks\": \"\", \"zerolinecolor\": \"white\"}, \"yaxis\": {\"backgroundcolor\": \"#E5ECF6\", \"gridcolor\": \"white\", \"gridwidth\": 2, \"linecolor\": \"white\", \"showbackground\": true, \"ticks\": \"\", \"zerolinecolor\": \"white\"}, \"zaxis\": {\"backgroundcolor\": \"#E5ECF6\", \"gridcolor\": \"white\", \"gridwidth\": 2, \"linecolor\": \"white\", \"showbackground\": true, \"ticks\": \"\", \"zerolinecolor\": \"white\"}}, \"shapedefaults\": {\"line\": {\"color\": \"#2a3f5f\"}}, \"ternary\": {\"aaxis\": {\"gridcolor\": \"white\", \"linecolor\": \"white\", \"ticks\": \"\"}, \"baxis\": {\"gridcolor\": \"white\", \"linecolor\": \"white\", \"ticks\": \"\"}, \"bgcolor\": \"#E5ECF6\", \"caxis\": {\"gridcolor\": \"white\", \"linecolor\": \"white\", \"ticks\": \"\"}}, \"title\": {\"x\": 0.05}, \"xaxis\": {\"automargin\": true, \"gridcolor\": \"white\", \"linecolor\": \"white\", \"ticks\": \"\", \"title\": {\"standoff\": 15}, \"zerolinecolor\": \"white\", \"zerolinewidth\": 2}, \"yaxis\": {\"automargin\": true, \"gridcolor\": \"white\", \"linecolor\": \"white\", \"ticks\": \"\", \"title\": {\"standoff\": 15}, \"zerolinecolor\": \"white\", \"zerolinewidth\": 2}}}, \"title\": {\"text\": \"Number of wins by KXIP and RR against each other\"}, \"xaxis\": {\"title\": {\"text\": \"Team\"}}, \"yaxis\": {\"title\": {\"text\": \"No of wins\"}}},\n",
              "                        {\"responsive\": true}\n",
              "                    ).then(function(){\n",
              "                            \n",
              "var gd = document.getElementById('e697bd39-f2f5-4946-97ee-58b5213d2cc7');\n",
              "var x = new MutationObserver(function (mutations, observer) {{\n",
              "        var display = window.getComputedStyle(gd).display;\n",
              "        if (!display || display === 'none') {{\n",
              "            console.log([gd, 'removed!']);\n",
              "            Plotly.purge(gd);\n",
              "            observer.disconnect();\n",
              "        }}\n",
              "}});\n",
              "\n",
              "// Listen for the removal of the full notebook cells\n",
              "var notebookContainer = gd.closest('#notebook-container');\n",
              "if (notebookContainer) {{\n",
              "    x.observe(notebookContainer, {childList: true});\n",
              "}}\n",
              "\n",
              "// Listen for the clearing of the current output cell\n",
              "var outputEl = gd.closest('.output');\n",
              "if (outputEl) {{\n",
              "    x.observe(outputEl, {childList: true});\n",
              "}}\n",
              "\n",
              "                        })\n",
              "                };\n",
              "                \n",
              "            </script>\n",
              "        </div>\n",
              "</body>\n",
              "</html>"
            ]
          },
          "metadata": {
            "tags": []
          }
        }
      ]
    },
    {
      "cell_type": "markdown",
      "metadata": {
        "id": "FJEwAWqtz4Q0"
      },
      "source": [
        "Rajasthan won 10 matches and Punjab won 9 matches. So there not much difference.\n",
        "\n",
        "Lets look at individual players perfomance from both teams."
      ]
    },
    {
      "cell_type": "code",
      "metadata": {
        "id": "7hOwXfV40GxF",
        "outputId": "eb987182-15af-4fb5-fd98-441dd2702165",
        "colab": {
          "base_uri": "https://localhost:8080/"
        }
      },
      "source": [
        "#Lets look at how many player of the match awards won by current RR and KXIP players.\n",
        "#Note: I am taking top 8 palyers from both teams\n",
        "#Sometimes team win dependent on Number of match winners in your team. i.e why i am using this approach.\n",
        "#Note: I am taking these player names because these players are played atleast one match for their respective sides in this season till now.\n",
        "df_man_of_match_KXIP = df_matches[(df_matches['player_of_match'] == 'KL Rahul') | (df_matches['player_of_match'] == 'MA Agarwal') |\n",
        "                                (df_matches['player_of_match'] == 'GJ Maxwell') | (df_matches['player_of_match'] == 'CH Gayle') |\n",
        "                                (df_matches['player_of_match'] == 'Mohammed Shami') | (df_matches['player_of_match'] == 'Mandeep Singh') |\n",
        "                                (df_matches['player_of_match'] == 'CJ Jordan') | (df_matches['player_of_match'] == 'M Ashwin') ]\n",
        "\n",
        "print(\"Total number of man of matches won by present Punjab players is\", df_man_of_match_KXIP.shape[0],'\\n')\n",
        "\n",
        "df_man_of_match_RR = df_matches[(df_matches['player_of_match'] == 'SV Samson') | (df_matches['player_of_match'] == 'BA Stokes') |\n",
        "                                (df_matches['player_of_match'] == 'RV Uthappa') | (df_matches['player_of_match'] == 'JC Buttler') |\n",
        "                                (df_matches['player_of_match'] == 'SPD Smith') | (df_matches['player_of_match'] == 'S Gopal') |\n",
        "                                (df_matches['player_of_match'] == 'J Archer') | (df_matches['player_of_match'] == 'R Tewatia')] \n",
        "\n",
        "\n",
        "print(\"Total number of man of matches won by present Rajasthan players is\", df_man_of_match_RR.shape[0])    \n"
      ],
      "execution_count": null,
      "outputs": [
        {
          "output_type": "stream",
          "text": [
            "Total number of man of matches won by present Punjab players is 36 \n",
            "\n",
            "Total number of man of matches won by present Rajasthan players is 28\n"
          ],
          "name": "stdout"
        }
      ]
    },
    {
      "cell_type": "markdown",
      "metadata": {
        "id": "n0E4X6B_062X"
      },
      "source": [
        "**Conclusion :-**\n",
        " \n",
        "\n",
        "*   KXIP players won more man of the match awards than RR players. \n",
        "*   So i can say KXIP has more match winners than RR. As per my cricket knowledge if you have more match winners than you have higher chances of winning.\n",
        "\n",
        "\n",
        "\n",
        "\n",
        "\n",
        "I am predicting KXIP will win today match."
      ]
    },
    {
      "cell_type": "markdown",
      "metadata": {
        "id": "94wl4RPNbwM7"
      },
      "source": [
        "### Q2) Which batsman will have the highest number of runs scored through boundaries to total runs scored ratio in the match?"
      ]
    },
    {
      "cell_type": "markdown",
      "metadata": {
        "id": "m6HVEp_NeOW0"
      },
      "source": [
        "I am calculating ratio for all batsman who are played in last match for their respective sides.This question is about players, So most of the players will change team every two years. i.e why i am considering all the matches they played not only KXIP VS RR matches."
      ]
    },
    {
      "cell_type": "code",
      "metadata": {
        "id": "7EMqSVHxd0HA",
        "outputId": "4024be8c-e49a-4f76-a4ea-c5a407b5595e",
        "colab": {
          "base_uri": "https://localhost:8080/",
          "height": 343
        }
      },
      "source": [
        "#Taking 5 batsman from each team\n",
        "df_batsmans_KXIPRR = df_deliveries[(df_deliveries['batsman'] == 'KL Rahul') | (df_deliveries['batsman'] == 'CH Gayle') |\n",
        "                                 (df_deliveries['batsman'] == 'GJ Maxwell') | (df_deliveries['batsman'] == 'Mandeep Singh') |\n",
        "                                 (df_deliveries['batsman'] == 'N Pooran') | (df_deliveries['batsman'] == 'SPD Smith') |\n",
        "                                 (df_deliveries['batsman'] == 'SV Samson') | (df_deliveries['batsman'] == 'BA Stokes') |\n",
        "                                 (df_deliveries['batsman'] == 'RV Uthappa') | (df_deliveries['batsman'] == 'JC Buttler')]\n",
        "\n",
        "#First calcualting total runs scored by every batsman in all matches \n",
        "total_runs = df_batsmans_KXIPRR.groupby('batsman')['batsman_runs'].sum()\n",
        "df_total_runs = total_runs.to_frame().reset_index()\n",
        "df_total_runs.rename(columns = {'batsman_runs':'total_runs'}, inplace = True) \n",
        "df_total_runs.head(10)"
      ],
      "execution_count": 45,
      "outputs": [
        {
          "output_type": "execute_result",
          "data": {
            "text/html": [
              "<div>\n",
              "<style scoped>\n",
              "    .dataframe tbody tr th:only-of-type {\n",
              "        vertical-align: middle;\n",
              "    }\n",
              "\n",
              "    .dataframe tbody tr th {\n",
              "        vertical-align: top;\n",
              "    }\n",
              "\n",
              "    .dataframe thead th {\n",
              "        text-align: right;\n",
              "    }\n",
              "</style>\n",
              "<table border=\"1\" class=\"dataframe\">\n",
              "  <thead>\n",
              "    <tr style=\"text-align: right;\">\n",
              "      <th></th>\n",
              "      <th>batsman</th>\n",
              "      <th>total_runs</th>\n",
              "    </tr>\n",
              "  </thead>\n",
              "  <tbody>\n",
              "    <tr>\n",
              "      <th>0</th>\n",
              "      <td>BA Stokes</td>\n",
              "      <td>647</td>\n",
              "    </tr>\n",
              "    <tr>\n",
              "      <th>1</th>\n",
              "      <td>CH Gayle</td>\n",
              "      <td>4560</td>\n",
              "    </tr>\n",
              "    <tr>\n",
              "      <th>2</th>\n",
              "      <td>GJ Maxwell</td>\n",
              "      <td>1403</td>\n",
              "    </tr>\n",
              "    <tr>\n",
              "      <th>3</th>\n",
              "      <td>JC Buttler</td>\n",
              "      <td>1431</td>\n",
              "    </tr>\n",
              "    <tr>\n",
              "      <th>4</th>\n",
              "      <td>KL Rahul</td>\n",
              "      <td>2013</td>\n",
              "    </tr>\n",
              "    <tr>\n",
              "      <th>5</th>\n",
              "      <td>Mandeep Singh</td>\n",
              "      <td>1547</td>\n",
              "    </tr>\n",
              "    <tr>\n",
              "      <th>6</th>\n",
              "      <td>N Pooran</td>\n",
              "      <td>177</td>\n",
              "    </tr>\n",
              "    <tr>\n",
              "      <th>7</th>\n",
              "      <td>RV Uthappa</td>\n",
              "      <td>4446</td>\n",
              "    </tr>\n",
              "    <tr>\n",
              "      <th>8</th>\n",
              "      <td>SPD Smith</td>\n",
              "      <td>2047</td>\n",
              "    </tr>\n",
              "    <tr>\n",
              "      <th>9</th>\n",
              "      <td>SV Samson</td>\n",
              "      <td>2235</td>\n",
              "    </tr>\n",
              "  </tbody>\n",
              "</table>\n",
              "</div>"
            ],
            "text/plain": [
              "         batsman  total_runs\n",
              "0      BA Stokes         647\n",
              "1       CH Gayle        4560\n",
              "2     GJ Maxwell        1403\n",
              "3     JC Buttler        1431\n",
              "4       KL Rahul        2013\n",
              "5  Mandeep Singh        1547\n",
              "6       N Pooran         177\n",
              "7     RV Uthappa        4446\n",
              "8      SPD Smith        2047\n",
              "9      SV Samson        2235"
            ]
          },
          "metadata": {
            "tags": []
          },
          "execution_count": 45
        }
      ]
    },
    {
      "cell_type": "code",
      "metadata": {
        "id": "ImUh9HeBgC34",
        "outputId": "12359f64-e0ae-4820-8e01-d905688934a2",
        "colab": {
          "base_uri": "https://localhost:8080/",
          "height": 343
        }
      },
      "source": [
        "#Now taking only 4's and 6's rows from above dataframe\n",
        "#I saw in dataset some rows showing batsman runs = 5 or 7 but we dont know weather these runs are coming from boundaries or not.\n",
        "#So i am considering those rows as outliers and taking only 4 and 6.\n",
        "\n",
        "df_4s6s = df_batsmans_KXIPRR[(df_batsmans_KXIPRR['batsman_runs'] == 4) | (df_batsmans_KXIPRR['batsman_runs'] == 6)]\n",
        "\n",
        "boundaries_runs = df_4s6s.groupby('batsman')['batsman_runs'].sum()\n",
        "df_boundaries_runs = boundaries_runs.to_frame().reset_index()\n",
        "df_boundaries_runs.rename(columns = {'batsman_runs':'boundaries_runs'}, inplace = True) \n",
        "df_boundaries_runs.head(10)"
      ],
      "execution_count": null,
      "outputs": [
        {
          "output_type": "execute_result",
          "data": {
            "text/html": [
              "<div>\n",
              "<style scoped>\n",
              "    .dataframe tbody tr th:only-of-type {\n",
              "        vertical-align: middle;\n",
              "    }\n",
              "\n",
              "    .dataframe tbody tr th {\n",
              "        vertical-align: top;\n",
              "    }\n",
              "\n",
              "    .dataframe thead th {\n",
              "        text-align: right;\n",
              "    }\n",
              "</style>\n",
              "<table border=\"1\" class=\"dataframe\">\n",
              "  <thead>\n",
              "    <tr style=\"text-align: right;\">\n",
              "      <th></th>\n",
              "      <th>batsman</th>\n",
              "      <th>boundaries_runs</th>\n",
              "    </tr>\n",
              "  </thead>\n",
              "  <tbody>\n",
              "    <tr>\n",
              "      <th>0</th>\n",
              "      <td>BA Stokes</td>\n",
              "      <td>322</td>\n",
              "    </tr>\n",
              "    <tr>\n",
              "      <th>1</th>\n",
              "      <td>CH Gayle</td>\n",
              "      <td>3466</td>\n",
              "    </tr>\n",
              "    <tr>\n",
              "      <th>2</th>\n",
              "      <td>GJ Maxwell</td>\n",
              "      <td>986</td>\n",
              "    </tr>\n",
              "    <tr>\n",
              "      <th>3</th>\n",
              "      <td>JC Buttler</td>\n",
              "      <td>938</td>\n",
              "    </tr>\n",
              "    <tr>\n",
              "      <th>4</th>\n",
              "      <td>KL Rahul</td>\n",
              "      <td>1198</td>\n",
              "    </tr>\n",
              "    <tr>\n",
              "      <th>5</th>\n",
              "      <td>Mandeep Singh</td>\n",
              "      <td>842</td>\n",
              "    </tr>\n",
              "    <tr>\n",
              "      <th>6</th>\n",
              "      <td>N Pooran</td>\n",
              "      <td>128</td>\n",
              "    </tr>\n",
              "    <tr>\n",
              "      <th>7</th>\n",
              "      <td>RV Uthappa</td>\n",
              "      <td>2680</td>\n",
              "    </tr>\n",
              "    <tr>\n",
              "      <th>8</th>\n",
              "      <td>SPD Smith</td>\n",
              "      <td>1018</td>\n",
              "    </tr>\n",
              "    <tr>\n",
              "      <th>9</th>\n",
              "      <td>SV Samson</td>\n",
              "      <td>1218</td>\n",
              "    </tr>\n",
              "  </tbody>\n",
              "</table>\n",
              "</div>"
            ],
            "text/plain": [
              "         batsman  boundaries_runs\n",
              "0      BA Stokes              322\n",
              "1       CH Gayle             3466\n",
              "2     GJ Maxwell              986\n",
              "3     JC Buttler              938\n",
              "4       KL Rahul             1198\n",
              "5  Mandeep Singh              842\n",
              "6       N Pooran              128\n",
              "7     RV Uthappa             2680\n",
              "8      SPD Smith             1018\n",
              "9      SV Samson             1218"
            ]
          },
          "metadata": {
            "tags": []
          },
          "execution_count": 15
        }
      ]
    },
    {
      "cell_type": "code",
      "metadata": {
        "id": "AIGh5kaygTXc",
        "outputId": "e8a6a878-ecba-4811-ba01-d4f799cf89ba",
        "colab": {
          "base_uri": "https://localhost:8080/",
          "height": 343
        }
      },
      "source": [
        "#Now first merging above dataframes then calculating ratio for each batsman\n",
        "df_ratio = pd.merge(df_boundaries_runs, df_total_runs, left_on='batsman',right_on='batsman', how='outer')\n",
        "\n",
        "df_ratio['ratio'] = df_ratio['boundaries_runs'] / df_ratio['total_runs']\n",
        "df_ratio.head(10)"
      ],
      "execution_count": null,
      "outputs": [
        {
          "output_type": "execute_result",
          "data": {
            "text/html": [
              "<div>\n",
              "<style scoped>\n",
              "    .dataframe tbody tr th:only-of-type {\n",
              "        vertical-align: middle;\n",
              "    }\n",
              "\n",
              "    .dataframe tbody tr th {\n",
              "        vertical-align: top;\n",
              "    }\n",
              "\n",
              "    .dataframe thead th {\n",
              "        text-align: right;\n",
              "    }\n",
              "</style>\n",
              "<table border=\"1\" class=\"dataframe\">\n",
              "  <thead>\n",
              "    <tr style=\"text-align: right;\">\n",
              "      <th></th>\n",
              "      <th>batsman</th>\n",
              "      <th>boundaries_runs</th>\n",
              "      <th>total_runs</th>\n",
              "      <th>ratio</th>\n",
              "    </tr>\n",
              "  </thead>\n",
              "  <tbody>\n",
              "    <tr>\n",
              "      <th>0</th>\n",
              "      <td>BA Stokes</td>\n",
              "      <td>322</td>\n",
              "      <td>647</td>\n",
              "      <td>0.497682</td>\n",
              "    </tr>\n",
              "    <tr>\n",
              "      <th>1</th>\n",
              "      <td>CH Gayle</td>\n",
              "      <td>3466</td>\n",
              "      <td>4560</td>\n",
              "      <td>0.760088</td>\n",
              "    </tr>\n",
              "    <tr>\n",
              "      <th>2</th>\n",
              "      <td>GJ Maxwell</td>\n",
              "      <td>986</td>\n",
              "      <td>1403</td>\n",
              "      <td>0.702780</td>\n",
              "    </tr>\n",
              "    <tr>\n",
              "      <th>3</th>\n",
              "      <td>JC Buttler</td>\n",
              "      <td>938</td>\n",
              "      <td>1431</td>\n",
              "      <td>0.655486</td>\n",
              "    </tr>\n",
              "    <tr>\n",
              "      <th>4</th>\n",
              "      <td>KL Rahul</td>\n",
              "      <td>1198</td>\n",
              "      <td>2013</td>\n",
              "      <td>0.595132</td>\n",
              "    </tr>\n",
              "    <tr>\n",
              "      <th>5</th>\n",
              "      <td>Mandeep Singh</td>\n",
              "      <td>842</td>\n",
              "      <td>1547</td>\n",
              "      <td>0.544279</td>\n",
              "    </tr>\n",
              "    <tr>\n",
              "      <th>6</th>\n",
              "      <td>N Pooran</td>\n",
              "      <td>128</td>\n",
              "      <td>177</td>\n",
              "      <td>0.723164</td>\n",
              "    </tr>\n",
              "    <tr>\n",
              "      <th>7</th>\n",
              "      <td>RV Uthappa</td>\n",
              "      <td>2680</td>\n",
              "      <td>4446</td>\n",
              "      <td>0.602789</td>\n",
              "    </tr>\n",
              "    <tr>\n",
              "      <th>8</th>\n",
              "      <td>SPD Smith</td>\n",
              "      <td>1018</td>\n",
              "      <td>2047</td>\n",
              "      <td>0.497313</td>\n",
              "    </tr>\n",
              "    <tr>\n",
              "      <th>9</th>\n",
              "      <td>SV Samson</td>\n",
              "      <td>1218</td>\n",
              "      <td>2235</td>\n",
              "      <td>0.544966</td>\n",
              "    </tr>\n",
              "  </tbody>\n",
              "</table>\n",
              "</div>"
            ],
            "text/plain": [
              "         batsman  boundaries_runs  total_runs     ratio\n",
              "0      BA Stokes              322         647  0.497682\n",
              "1       CH Gayle             3466        4560  0.760088\n",
              "2     GJ Maxwell              986        1403  0.702780\n",
              "3     JC Buttler              938        1431  0.655486\n",
              "4       KL Rahul             1198        2013  0.595132\n",
              "5  Mandeep Singh              842        1547  0.544279\n",
              "6       N Pooran              128         177  0.723164\n",
              "7     RV Uthappa             2680        4446  0.602789\n",
              "8      SPD Smith             1018        2047  0.497313\n",
              "9      SV Samson             1218        2235  0.544966"
            ]
          },
          "metadata": {
            "tags": []
          },
          "execution_count": 16
        }
      ]
    },
    {
      "cell_type": "markdown",
      "metadata": {
        "id": "ycVtTIzHgvtc"
      },
      "source": [
        "**Conclusion :-**\n",
        " \n",
        "\n",
        "*   \n",
        "By looking at above ratio column i can say chris gayle has highest boundary runs to total runs ratio.\n",
        "*   Chris Gayle also scored most runs among batsmans. So 76% of the runs through boundaries out of 4500 runs means he is likely to hit more boundaries then 1s,2s,3s.\n",
        "\n",
        "So i am predicting in  today match also chris gayle have the highest boundary runs to total runs ratio.\n",
        "\n"
      ]
    },
    {
      "cell_type": "markdown",
      "metadata": {
        "id": "bXVt5BHM2mtk"
      },
      "source": [
        "### Q3) Which batsman or bowler has highest overall player perfomance(opp)?"
      ]
    },
    {
      "cell_type": "code",
      "metadata": {
        "id": "Qc3zMh-326hr",
        "outputId": "3e4f3647-e2bb-4fd3-f4fb-4d62fbb284d0",
        "colab": {
          "base_uri": "https://localhost:8080/",
          "height": 195
        }
      },
      "source": [
        "import functools \n",
        "#First calculating batsman opp\n",
        "#Filtering all RR and KXIP batsman and all rounders who can bat.\n",
        "df_batsmans = df_deliveries[(df_deliveries['batsman'] == 'KL Rahul') | (df_deliveries['batsman'] == 'CH Gayle') |\n",
        "                            (df_deliveries['batsman'] == 'GJ Maxwell') | (df_deliveries['batsman'] == 'Mandeep Singh') |\n",
        "                            (df_deliveries['batsman'] == 'N Pooran') | (df_deliveries['batsman'] == 'SPD Smith') |\n",
        "                            (df_deliveries['batsman'] == 'SV Samson') | (df_deliveries['batsman'] == 'BA Stokes') |\n",
        "                            (df_deliveries['batsman'] == 'RV Uthappa') | (df_deliveries['batsman'] == 'JC Buttler') |\n",
        "                            (df_deliveries['batsman'] == 'R Tewatia')]\n",
        "  \n",
        "#Calculating each batsman runs in each match they played                        \n",
        "batsman_runs = df_batsmans.groupby(['match_id','batsman'],as_index=False)['batsman_runs'].sum()\n",
        "\n",
        "#Calculating number of balls they faced\n",
        "df_ballsfaced = df_batsmans[(df_batsmans['wide_runs'] == 0) & (df_batsmans['noball_runs'] == 0)]\n",
        "balls_faced = df_ballsfaced.groupby(['match_id','batsman'],as_index=False)['ball'].count()\n",
        "\n",
        "#Calculating number of runs they scored through boundaries\n",
        "df_boundary_runs = df_batsmans[(df_batsmans['batsman_runs'] == 4) | (df_batsmans['batsman_runs'] == 6)]\n",
        "boundary_runs = df_boundary_runs.groupby(['match_id','batsman'],as_index=False)['batsman_runs'].sum()\n",
        "boundary_runs.rename(columns={'batsman_runs':'boundary_runs'}, inplace=True)\n",
        "\n",
        "#Calculating number of runs they scored through 1s,2s ans 3s.\n",
        "df_123s_runs = df_batsmans[(df_batsmans['batsman_runs'] == 1) | (df_batsmans['batsman_runs'] == 2) | (df_batsmans['batsman_runs'] == 3)]\n",
        "singles2s3s_runs = df_123s_runs.groupby(['match_id','batsman'],as_index=False)['batsman_runs'].sum()\n",
        "singles2s3s_runs.rename(columns={'batsman_runs':'1s2s3s_runs'}, inplace=True)\n",
        "\n",
        "#Now we can merge above all dataframes\n",
        "dfs = [batsman_runs, balls_faced, boundary_runs, singles2s3s_runs]\n",
        "df_batsman_OPP = functools.reduce(lambda left,right: pd.merge(left,right,on=['match_id','batsman']), dfs)\n",
        "\n",
        "\n",
        "#Now calculating OPP for each batsman in each match they played\n",
        "df_batsman_OPP['OPP'] = (df_batsman_OPP['batsman_runs'] / df_batsman_OPP['ball']) + (df_batsman_OPP['boundary_runs']) - ((df_batsman_OPP['1s2s3s_runs'])/(df_batsman_OPP['ball']))\n",
        "\n",
        "df_batsman_OPP.head()"
      ],
      "execution_count": 58,
      "outputs": [
        {
          "output_type": "execute_result",
          "data": {
            "text/html": [
              "<div>\n",
              "<style scoped>\n",
              "    .dataframe tbody tr th:only-of-type {\n",
              "        vertical-align: middle;\n",
              "    }\n",
              "\n",
              "    .dataframe tbody tr th {\n",
              "        vertical-align: top;\n",
              "    }\n",
              "\n",
              "    .dataframe thead th {\n",
              "        text-align: right;\n",
              "    }\n",
              "</style>\n",
              "<table border=\"1\" class=\"dataframe\">\n",
              "  <thead>\n",
              "    <tr style=\"text-align: right;\">\n",
              "      <th></th>\n",
              "      <th>match_id</th>\n",
              "      <th>batsman</th>\n",
              "      <th>batsman_runs</th>\n",
              "      <th>ball</th>\n",
              "      <th>boundary_runs</th>\n",
              "      <th>1s2s3s_runs</th>\n",
              "      <th>OPP</th>\n",
              "    </tr>\n",
              "  </thead>\n",
              "  <tbody>\n",
              "    <tr>\n",
              "      <th>0</th>\n",
              "      <td>1</td>\n",
              "      <td>CH Gayle</td>\n",
              "      <td>32</td>\n",
              "      <td>21</td>\n",
              "      <td>26</td>\n",
              "      <td>6</td>\n",
              "      <td>27.238095</td>\n",
              "    </tr>\n",
              "    <tr>\n",
              "      <th>1</th>\n",
              "      <td>1</td>\n",
              "      <td>Mandeep Singh</td>\n",
              "      <td>24</td>\n",
              "      <td>16</td>\n",
              "      <td>20</td>\n",
              "      <td>4</td>\n",
              "      <td>21.250000</td>\n",
              "    </tr>\n",
              "    <tr>\n",
              "      <th>2</th>\n",
              "      <td>2</td>\n",
              "      <td>BA Stokes</td>\n",
              "      <td>21</td>\n",
              "      <td>14</td>\n",
              "      <td>12</td>\n",
              "      <td>9</td>\n",
              "      <td>12.857143</td>\n",
              "    </tr>\n",
              "    <tr>\n",
              "      <th>3</th>\n",
              "      <td>2</td>\n",
              "      <td>JC Buttler</td>\n",
              "      <td>38</td>\n",
              "      <td>19</td>\n",
              "      <td>30</td>\n",
              "      <td>3</td>\n",
              "      <td>31.842105</td>\n",
              "    </tr>\n",
              "    <tr>\n",
              "      <th>4</th>\n",
              "      <td>2</td>\n",
              "      <td>SPD Smith</td>\n",
              "      <td>84</td>\n",
              "      <td>54</td>\n",
              "      <td>46</td>\n",
              "      <td>38</td>\n",
              "      <td>46.851852</td>\n",
              "    </tr>\n",
              "  </tbody>\n",
              "</table>\n",
              "</div>"
            ],
            "text/plain": [
              "   match_id        batsman  batsman_runs  ...  boundary_runs  1s2s3s_runs        OPP\n",
              "0         1       CH Gayle            32  ...             26            6  27.238095\n",
              "1         1  Mandeep Singh            24  ...             20            4  21.250000\n",
              "2         2      BA Stokes            21  ...             12            9  12.857143\n",
              "3         2     JC Buttler            38  ...             30            3  31.842105\n",
              "4         2      SPD Smith            84  ...             46           38  46.851852\n",
              "\n",
              "[5 rows x 7 columns]"
            ]
          },
          "metadata": {
            "tags": []
          },
          "execution_count": 58
        }
      ]
    },
    {
      "cell_type": "code",
      "metadata": {
        "id": "-7hpZ9CcHYAu",
        "outputId": "7c899624-4b8c-4990-d616-c665a79770f2",
        "colab": {
          "base_uri": "https://localhost:8080/",
          "height": 373
        }
      },
      "source": [
        "#Now i am taking mean of OPP of each batsman\n",
        "OPP_avg_batsman = df_batsman_OPP.groupby('batsman',as_index=False)['OPP'].mean()\n",
        "OPP_avg_batsman.head(11)"
      ],
      "execution_count": 59,
      "outputs": [
        {
          "output_type": "execute_result",
          "data": {
            "text/html": [
              "<div>\n",
              "<style scoped>\n",
              "    .dataframe tbody tr th:only-of-type {\n",
              "        vertical-align: middle;\n",
              "    }\n",
              "\n",
              "    .dataframe tbody tr th {\n",
              "        vertical-align: top;\n",
              "    }\n",
              "\n",
              "    .dataframe thead th {\n",
              "        text-align: right;\n",
              "    }\n",
              "</style>\n",
              "<table border=\"1\" class=\"dataframe\">\n",
              "  <thead>\n",
              "    <tr style=\"text-align: right;\">\n",
              "      <th></th>\n",
              "      <th>batsman</th>\n",
              "      <th>OPP</th>\n",
              "    </tr>\n",
              "  </thead>\n",
              "  <tbody>\n",
              "    <tr>\n",
              "      <th>0</th>\n",
              "      <td>BA Stokes</td>\n",
              "      <td>15.101385</td>\n",
              "    </tr>\n",
              "    <tr>\n",
              "      <th>1</th>\n",
              "      <td>CH Gayle</td>\n",
              "      <td>35.092305</td>\n",
              "    </tr>\n",
              "    <tr>\n",
              "      <th>2</th>\n",
              "      <td>GJ Maxwell</td>\n",
              "      <td>23.092549</td>\n",
              "    </tr>\n",
              "    <tr>\n",
              "      <th>3</th>\n",
              "      <td>JC Buttler</td>\n",
              "      <td>25.758557</td>\n",
              "    </tr>\n",
              "    <tr>\n",
              "      <th>4</th>\n",
              "      <td>KL Rahul</td>\n",
              "      <td>24.137946</td>\n",
              "    </tr>\n",
              "    <tr>\n",
              "      <th>5</th>\n",
              "      <td>Mandeep Singh</td>\n",
              "      <td>16.300956</td>\n",
              "    </tr>\n",
              "    <tr>\n",
              "      <th>6</th>\n",
              "      <td>N Pooran</td>\n",
              "      <td>26.875758</td>\n",
              "    </tr>\n",
              "    <tr>\n",
              "      <th>7</th>\n",
              "      <td>R Tewatia</td>\n",
              "      <td>8.107295</td>\n",
              "    </tr>\n",
              "    <tr>\n",
              "      <th>8</th>\n",
              "      <td>RV Uthappa</td>\n",
              "      <td>20.502318</td>\n",
              "    </tr>\n",
              "    <tr>\n",
              "      <th>9</th>\n",
              "      <td>SPD Smith</td>\n",
              "      <td>18.756375</td>\n",
              "    </tr>\n",
              "    <tr>\n",
              "      <th>10</th>\n",
              "      <td>SV Samson</td>\n",
              "      <td>19.489969</td>\n",
              "    </tr>\n",
              "  </tbody>\n",
              "</table>\n",
              "</div>"
            ],
            "text/plain": [
              "          batsman        OPP\n",
              "0       BA Stokes  15.101385\n",
              "1        CH Gayle  35.092305\n",
              "2      GJ Maxwell  23.092549\n",
              "3      JC Buttler  25.758557\n",
              "4        KL Rahul  24.137946\n",
              "5   Mandeep Singh  16.300956\n",
              "6        N Pooran  26.875758\n",
              "7       R Tewatia   8.107295\n",
              "8      RV Uthappa  20.502318\n",
              "9       SPD Smith  18.756375\n",
              "10      SV Samson  19.489969"
            ]
          },
          "metadata": {
            "tags": []
          },
          "execution_count": 59
        }
      ]
    },
    {
      "cell_type": "code",
      "metadata": {
        "id": "qv7AiMJHIHIu",
        "outputId": "c890e56c-d948-41c2-90ab-0afc3bdbe09f",
        "colab": {
          "base_uri": "https://localhost:8080/",
          "height": 343
        }
      },
      "source": [
        "#Normalising OPP by using given formula of each batsman\n",
        "OPP_avg_batsman['normalised_OPP'] = (OPP_avg_batsman['OPP'] - OPP_avg_batsman['OPP'].min()) / (OPP_avg_batsman['OPP'].max() - OPP_avg_batsman['OPP'].min())\n",
        "OPP_avg_batsman.head(10)"
      ],
      "execution_count": 60,
      "outputs": [
        {
          "output_type": "execute_result",
          "data": {
            "text/html": [
              "<div>\n",
              "<style scoped>\n",
              "    .dataframe tbody tr th:only-of-type {\n",
              "        vertical-align: middle;\n",
              "    }\n",
              "\n",
              "    .dataframe tbody tr th {\n",
              "        vertical-align: top;\n",
              "    }\n",
              "\n",
              "    .dataframe thead th {\n",
              "        text-align: right;\n",
              "    }\n",
              "</style>\n",
              "<table border=\"1\" class=\"dataframe\">\n",
              "  <thead>\n",
              "    <tr style=\"text-align: right;\">\n",
              "      <th></th>\n",
              "      <th>batsman</th>\n",
              "      <th>OPP</th>\n",
              "      <th>normalised_OPP</th>\n",
              "    </tr>\n",
              "  </thead>\n",
              "  <tbody>\n",
              "    <tr>\n",
              "      <th>0</th>\n",
              "      <td>BA Stokes</td>\n",
              "      <td>15.101385</td>\n",
              "      <td>0.259184</td>\n",
              "    </tr>\n",
              "    <tr>\n",
              "      <th>1</th>\n",
              "      <td>CH Gayle</td>\n",
              "      <td>35.092305</td>\n",
              "      <td>1.000000</td>\n",
              "    </tr>\n",
              "    <tr>\n",
              "      <th>2</th>\n",
              "      <td>GJ Maxwell</td>\n",
              "      <td>23.092549</td>\n",
              "      <td>0.555318</td>\n",
              "    </tr>\n",
              "    <tr>\n",
              "      <th>3</th>\n",
              "      <td>JC Buttler</td>\n",
              "      <td>25.758557</td>\n",
              "      <td>0.654114</td>\n",
              "    </tr>\n",
              "    <tr>\n",
              "      <th>4</th>\n",
              "      <td>KL Rahul</td>\n",
              "      <td>24.137946</td>\n",
              "      <td>0.594058</td>\n",
              "    </tr>\n",
              "    <tr>\n",
              "      <th>5</th>\n",
              "      <td>Mandeep Singh</td>\n",
              "      <td>16.300956</td>\n",
              "      <td>0.303637</td>\n",
              "    </tr>\n",
              "    <tr>\n",
              "      <th>6</th>\n",
              "      <td>N Pooran</td>\n",
              "      <td>26.875758</td>\n",
              "      <td>0.695514</td>\n",
              "    </tr>\n",
              "    <tr>\n",
              "      <th>7</th>\n",
              "      <td>R Tewatia</td>\n",
              "      <td>8.107295</td>\n",
              "      <td>0.000000</td>\n",
              "    </tr>\n",
              "    <tr>\n",
              "      <th>8</th>\n",
              "      <td>RV Uthappa</td>\n",
              "      <td>20.502318</td>\n",
              "      <td>0.459330</td>\n",
              "    </tr>\n",
              "    <tr>\n",
              "      <th>9</th>\n",
              "      <td>SPD Smith</td>\n",
              "      <td>18.756375</td>\n",
              "      <td>0.394629</td>\n",
              "    </tr>\n",
              "  </tbody>\n",
              "</table>\n",
              "</div>"
            ],
            "text/plain": [
              "         batsman        OPP  normalised_OPP\n",
              "0      BA Stokes  15.101385        0.259184\n",
              "1       CH Gayle  35.092305        1.000000\n",
              "2     GJ Maxwell  23.092549        0.555318\n",
              "3     JC Buttler  25.758557        0.654114\n",
              "4       KL Rahul  24.137946        0.594058\n",
              "5  Mandeep Singh  16.300956        0.303637\n",
              "6       N Pooran  26.875758        0.695514\n",
              "7      R Tewatia   8.107295        0.000000\n",
              "8     RV Uthappa  20.502318        0.459330\n",
              "9      SPD Smith  18.756375        0.394629"
            ]
          },
          "metadata": {
            "tags": []
          },
          "execution_count": 60
        }
      ]
    },
    {
      "cell_type": "code",
      "metadata": {
        "id": "yEMUZ6gVLZpu",
        "outputId": "f8ec4a8c-dcdf-4d84-defb-5df402e9f5ed",
        "colab": {
          "base_uri": "https://localhost:8080/",
          "height": 195
        }
      },
      "source": [
        "#Now calculating OPP for bowlers. Taking KXIP and RR bowlers and all rounders who can bowl\n",
        "df_bowlers = df_deliveries[(df_deliveries['bowler'] == 'J Archer') | (df_deliveries['bowler'] == 'S Gopal') |\n",
        "                           (df_deliveries['bowler'] == 'BA Stokes') | (df_deliveries['bowler'] == 'R Tewatia') |\n",
        "                           (df_deliveries['bowler'] == 'Mohammed Shami') | (df_deliveries['bowler'] == 'M Ashwin') |\n",
        "                           (df_deliveries['bowler'] == 'GJ Maxwell') | (df_deliveries['bowler'] == 'CJ Jordan') ]\n",
        "\n",
        "#Calculating number of balls bowled by bowler in each match\n",
        "df_balls = df_bowlers[(df_bowlers['wide_runs'] == 0) & (df_bowlers['noball_runs'] == 0)]\n",
        "balls_bowled =  df_balls.groupby(['match_id','bowler'])['ball'].count() \n",
        "balls_bowled = balls_bowled.to_frame().reset_index() \n",
        "balls_bowled.rename(columns={'ball':'no_of_balls'}, inplace=True)                       \n",
        "\n",
        "#Calculating number of boundary runs given\n",
        "df_boundaries = df_bowlers[(df_bowlers['batsman_runs'] == 4) | (df_bowlers['batsman_runs'] == 6)]\n",
        "boundary_runs_given = df_boundaries.groupby(['match_id','bowler'], as_index=False)['batsman_runs'].sum()\n",
        "boundary_runs_given.rename(columns={'batsman_runs':'boundary_runs_given'}, inplace=True)\n",
        "\n",
        "#Calculating number of boundaries given\n",
        "boundaries_given = df_boundaries.groupby(['match_id','bowler'], as_index=False)['batsman_runs'].count()\n",
        "boundaries_given.rename(columns={'batsman_runs':'boundaries_given'}, inplace=True)\n",
        "\n",
        "#Now we can merge above all dataframes\n",
        "dfs = [balls_bowled, boundary_runs_given, boundaries_given]\n",
        "df_bowler_OPP = functools.reduce(lambda left,right: pd.merge(left,right,on=['match_id','bowler']), dfs)\n",
        "\n",
        "#Now calculating OPP for each bowler in each match they played\n",
        "df_bowler_OPP['OPP'] = ((df_bowler_OPP['boundary_runs_given'] / df_bowler_OPP['boundaries_given'])) / (df_bowler_OPP['no_of_balls'])\n",
        "df_bowler_OPP.head()"
      ],
      "execution_count": 93,
      "outputs": [
        {
          "output_type": "execute_result",
          "data": {
            "text/html": [
              "<div>\n",
              "<style scoped>\n",
              "    .dataframe tbody tr th:only-of-type {\n",
              "        vertical-align: middle;\n",
              "    }\n",
              "\n",
              "    .dataframe tbody tr th {\n",
              "        vertical-align: top;\n",
              "    }\n",
              "\n",
              "    .dataframe thead th {\n",
              "        text-align: right;\n",
              "    }\n",
              "</style>\n",
              "<table border=\"1\" class=\"dataframe\">\n",
              "  <thead>\n",
              "    <tr style=\"text-align: right;\">\n",
              "      <th></th>\n",
              "      <th>match_id</th>\n",
              "      <th>bowler</th>\n",
              "      <th>no_of_balls</th>\n",
              "      <th>boundary_runs_given</th>\n",
              "      <th>boundaries_given</th>\n",
              "      <th>OPP</th>\n",
              "    </tr>\n",
              "  </thead>\n",
              "  <tbody>\n",
              "    <tr>\n",
              "      <th>0</th>\n",
              "      <td>2</td>\n",
              "      <td>BA Stokes</td>\n",
              "      <td>24</td>\n",
              "      <td>24</td>\n",
              "      <td>4</td>\n",
              "      <td>0.250000</td>\n",
              "    </tr>\n",
              "    <tr>\n",
              "      <th>1</th>\n",
              "      <td>4</td>\n",
              "      <td>BA Stokes</td>\n",
              "      <td>24</td>\n",
              "      <td>22</td>\n",
              "      <td>5</td>\n",
              "      <td>0.183333</td>\n",
              "    </tr>\n",
              "    <tr>\n",
              "      <th>2</th>\n",
              "      <td>9</td>\n",
              "      <td>BA Stokes</td>\n",
              "      <td>24</td>\n",
              "      <td>28</td>\n",
              "      <td>6</td>\n",
              "      <td>0.194444</td>\n",
              "    </tr>\n",
              "    <tr>\n",
              "      <th>3</th>\n",
              "      <td>11</td>\n",
              "      <td>GJ Maxwell</td>\n",
              "      <td>6</td>\n",
              "      <td>16</td>\n",
              "      <td>4</td>\n",
              "      <td>0.666667</td>\n",
              "    </tr>\n",
              "    <tr>\n",
              "      <th>4</th>\n",
              "      <td>13</td>\n",
              "      <td>BA Stokes</td>\n",
              "      <td>18</td>\n",
              "      <td>8</td>\n",
              "      <td>2</td>\n",
              "      <td>0.222222</td>\n",
              "    </tr>\n",
              "  </tbody>\n",
              "</table>\n",
              "</div>"
            ],
            "text/plain": [
              "   match_id      bowler  ...  boundaries_given       OPP\n",
              "0         2   BA Stokes  ...                 4  0.250000\n",
              "1         4   BA Stokes  ...                 5  0.183333\n",
              "2         9   BA Stokes  ...                 6  0.194444\n",
              "3        11  GJ Maxwell  ...                 4  0.666667\n",
              "4        13   BA Stokes  ...                 2  0.222222\n",
              "\n",
              "[5 rows x 6 columns]"
            ]
          },
          "metadata": {
            "tags": []
          },
          "execution_count": 93
        }
      ]
    },
    {
      "cell_type": "code",
      "metadata": {
        "id": "OkibtDNdTrrj",
        "outputId": "9087d28a-18be-4caf-c786-afcf19ea42f0",
        "colab": {
          "base_uri": "https://localhost:8080/",
          "height": 284
        }
      },
      "source": [
        "#Now i am taking mean of OPP of each bowler\n",
        "OPP_avg_bowler = df_bowler_OPP.groupby('bowler',as_index=False)['OPP'].mean()\n",
        "OPP_avg_bowler.head(8)"
      ],
      "execution_count": 94,
      "outputs": [
        {
          "output_type": "execute_result",
          "data": {
            "text/html": [
              "<div>\n",
              "<style scoped>\n",
              "    .dataframe tbody tr th:only-of-type {\n",
              "        vertical-align: middle;\n",
              "    }\n",
              "\n",
              "    .dataframe tbody tr th {\n",
              "        vertical-align: top;\n",
              "    }\n",
              "\n",
              "    .dataframe thead th {\n",
              "        text-align: right;\n",
              "    }\n",
              "</style>\n",
              "<table border=\"1\" class=\"dataframe\">\n",
              "  <thead>\n",
              "    <tr style=\"text-align: right;\">\n",
              "      <th></th>\n",
              "      <th>bowler</th>\n",
              "      <th>OPP</th>\n",
              "    </tr>\n",
              "  </thead>\n",
              "  <tbody>\n",
              "    <tr>\n",
              "      <th>0</th>\n",
              "      <td>BA Stokes</td>\n",
              "      <td>0.246173</td>\n",
              "    </tr>\n",
              "    <tr>\n",
              "      <th>1</th>\n",
              "      <td>CJ Jordan</td>\n",
              "      <td>0.358065</td>\n",
              "    </tr>\n",
              "    <tr>\n",
              "      <th>2</th>\n",
              "      <td>GJ Maxwell</td>\n",
              "      <td>0.608165</td>\n",
              "    </tr>\n",
              "    <tr>\n",
              "      <th>3</th>\n",
              "      <td>J Archer</td>\n",
              "      <td>0.201422</td>\n",
              "    </tr>\n",
              "    <tr>\n",
              "      <th>4</th>\n",
              "      <td>M Ashwin</td>\n",
              "      <td>0.275529</td>\n",
              "    </tr>\n",
              "    <tr>\n",
              "      <th>5</th>\n",
              "      <td>Mohammed Shami</td>\n",
              "      <td>0.236884</td>\n",
              "    </tr>\n",
              "    <tr>\n",
              "      <th>6</th>\n",
              "      <td>R Tewatia</td>\n",
              "      <td>0.348448</td>\n",
              "    </tr>\n",
              "    <tr>\n",
              "      <th>7</th>\n",
              "      <td>S Gopal</td>\n",
              "      <td>0.284629</td>\n",
              "    </tr>\n",
              "  </tbody>\n",
              "</table>\n",
              "</div>"
            ],
            "text/plain": [
              "           bowler       OPP\n",
              "0       BA Stokes  0.246173\n",
              "1       CJ Jordan  0.358065\n",
              "2      GJ Maxwell  0.608165\n",
              "3        J Archer  0.201422\n",
              "4        M Ashwin  0.275529\n",
              "5  Mohammed Shami  0.236884\n",
              "6       R Tewatia  0.348448\n",
              "7         S Gopal  0.284629"
            ]
          },
          "metadata": {
            "tags": []
          },
          "execution_count": 94
        }
      ]
    },
    {
      "cell_type": "code",
      "metadata": {
        "id": "6Kq_OL3HT_qB",
        "outputId": "898f5efd-11a2-4249-9015-5a59955e8df8",
        "colab": {
          "base_uri": "https://localhost:8080/",
          "height": 284
        }
      },
      "source": [
        "#Normalising OPP by using given formula of each bowler\n",
        "OPP_avg_bowler['normalised_OPP'] = (OPP_avg_bowler['OPP'] - OPP_avg_bowler['OPP'].min()) / (OPP_avg_bowler['OPP'].max() - OPP_avg_bowler['OPP'].min())\n",
        "OPP_avg_bowler.head(8)"
      ],
      "execution_count": 95,
      "outputs": [
        {
          "output_type": "execute_result",
          "data": {
            "text/html": [
              "<div>\n",
              "<style scoped>\n",
              "    .dataframe tbody tr th:only-of-type {\n",
              "        vertical-align: middle;\n",
              "    }\n",
              "\n",
              "    .dataframe tbody tr th {\n",
              "        vertical-align: top;\n",
              "    }\n",
              "\n",
              "    .dataframe thead th {\n",
              "        text-align: right;\n",
              "    }\n",
              "</style>\n",
              "<table border=\"1\" class=\"dataframe\">\n",
              "  <thead>\n",
              "    <tr style=\"text-align: right;\">\n",
              "      <th></th>\n",
              "      <th>bowler</th>\n",
              "      <th>OPP</th>\n",
              "      <th>normalised_OPP</th>\n",
              "    </tr>\n",
              "  </thead>\n",
              "  <tbody>\n",
              "    <tr>\n",
              "      <th>0</th>\n",
              "      <td>BA Stokes</td>\n",
              "      <td>0.246173</td>\n",
              "      <td>0.110022</td>\n",
              "    </tr>\n",
              "    <tr>\n",
              "      <th>1</th>\n",
              "      <td>CJ Jordan</td>\n",
              "      <td>0.358065</td>\n",
              "      <td>0.385116</td>\n",
              "    </tr>\n",
              "    <tr>\n",
              "      <th>2</th>\n",
              "      <td>GJ Maxwell</td>\n",
              "      <td>0.608165</td>\n",
              "      <td>1.000000</td>\n",
              "    </tr>\n",
              "    <tr>\n",
              "      <th>3</th>\n",
              "      <td>J Archer</td>\n",
              "      <td>0.201422</td>\n",
              "      <td>0.000000</td>\n",
              "    </tr>\n",
              "    <tr>\n",
              "      <th>4</th>\n",
              "      <td>M Ashwin</td>\n",
              "      <td>0.275529</td>\n",
              "      <td>0.182196</td>\n",
              "    </tr>\n",
              "    <tr>\n",
              "      <th>5</th>\n",
              "      <td>Mohammed Shami</td>\n",
              "      <td>0.236884</td>\n",
              "      <td>0.087185</td>\n",
              "    </tr>\n",
              "    <tr>\n",
              "      <th>6</th>\n",
              "      <td>R Tewatia</td>\n",
              "      <td>0.348448</td>\n",
              "      <td>0.361471</td>\n",
              "    </tr>\n",
              "    <tr>\n",
              "      <th>7</th>\n",
              "      <td>S Gopal</td>\n",
              "      <td>0.284629</td>\n",
              "      <td>0.204568</td>\n",
              "    </tr>\n",
              "  </tbody>\n",
              "</table>\n",
              "</div>"
            ],
            "text/plain": [
              "           bowler       OPP  normalised_OPP\n",
              "0       BA Stokes  0.246173        0.110022\n",
              "1       CJ Jordan  0.358065        0.385116\n",
              "2      GJ Maxwell  0.608165        1.000000\n",
              "3        J Archer  0.201422        0.000000\n",
              "4        M Ashwin  0.275529        0.182196\n",
              "5  Mohammed Shami  0.236884        0.087185\n",
              "6       R Tewatia  0.348448        0.361471\n",
              "7         S Gopal  0.284629        0.204568"
            ]
          },
          "metadata": {
            "tags": []
          },
          "execution_count": 95
        }
      ]
    },
    {
      "cell_type": "markdown",
      "metadata": {
        "id": "VQyJWHZBWkFz"
      },
      "source": [
        "**Conclusion :-**\n",
        "\n",
        "\n",
        "\n",
        "*   According above batsman and bowler OPP Maxwell has highest OPP i.e batting_opp = 0.55 and bowling_opp = 1 so total OPP = 1.5\n",
        "*   If you take only batting OPP the chris gayle has highest OPP = 1. But gayle not bowled in this tournament.\n",
        "\n",
        "So according 1st point i am predicting maxwell will have highest OPP in today match.\n",
        "\n"
      ]
    },
    {
      "cell_type": "markdown",
      "metadata": {
        "id": "E_b04H2srG78"
      },
      "source": [
        "### Q4) How many dot balls will be bowled in the entire match?"
      ]
    },
    {
      "cell_type": "code",
      "metadata": {
        "id": "2YUaW867rR-m",
        "outputId": "d5b2228f-407d-414d-c310-4d2e0dde66ec",
        "colab": {
          "base_uri": "https://localhost:8080/",
          "height": 195
        }
      },
      "source": [
        "#Filtering KXIP vs RR matches \n",
        "df_KXIPvsRR = df_deliveries[(df_deliveries['batting_team'] == 'Kings XI Punjab') & (df_deliveries['bowling_team'] == 'Rajasthan Royals')|\n",
        "                            (df_deliveries['batting_team'] == 'Rajasthan Royals') & (df_deliveries['bowling_team'] == 'Kings XI Punjab')]\n",
        "\n",
        "# Now calculating dot balls in each match\n",
        "df_dotball = df_KXIPvsRR[df_KXIPvsRR['total_runs'] == 0]\n",
        "df_dotball =  df_dotball.groupby('match_id')['total_runs'].count()\n",
        "df_dotball =  df_dotball.to_frame().reset_index()\n",
        "df_dotball.rename(columns = {'total_runs':'dot_balls'}, inplace = True)\n",
        "df_dotball.head()    "
      ],
      "execution_count": null,
      "outputs": [
        {
          "output_type": "execute_result",
          "data": {
            "text/html": [
              "<div>\n",
              "<style scoped>\n",
              "    .dataframe tbody tr th:only-of-type {\n",
              "        vertical-align: middle;\n",
              "    }\n",
              "\n",
              "    .dataframe tbody tr th {\n",
              "        vertical-align: top;\n",
              "    }\n",
              "\n",
              "    .dataframe thead th {\n",
              "        text-align: right;\n",
              "    }\n",
              "</style>\n",
              "<table border=\"1\" class=\"dataframe\">\n",
              "  <thead>\n",
              "    <tr style=\"text-align: right;\">\n",
              "      <th></th>\n",
              "      <th>match_id</th>\n",
              "      <th>dot_balls</th>\n",
              "    </tr>\n",
              "  </thead>\n",
              "  <tbody>\n",
              "    <tr>\n",
              "      <th>0</th>\n",
              "      <td>65</td>\n",
              "      <td>101</td>\n",
              "    </tr>\n",
              "    <tr>\n",
              "      <th>1</th>\n",
              "      <td>97</td>\n",
              "      <td>84</td>\n",
              "    </tr>\n",
              "    <tr>\n",
              "      <th>2</th>\n",
              "      <td>130</td>\n",
              "      <td>102</td>\n",
              "    </tr>\n",
              "    <tr>\n",
              "      <th>3</th>\n",
              "      <td>145</td>\n",
              "      <td>99</td>\n",
              "    </tr>\n",
              "    <tr>\n",
              "      <th>4</th>\n",
              "      <td>193</td>\n",
              "      <td>73</td>\n",
              "    </tr>\n",
              "  </tbody>\n",
              "</table>\n",
              "</div>"
            ],
            "text/plain": [
              "   match_id  dot_balls\n",
              "0        65        101\n",
              "1        97         84\n",
              "2       130        102\n",
              "3       145         99\n",
              "4       193         73"
            ]
          },
          "metadata": {
            "tags": []
          },
          "execution_count": 17
        }
      ]
    },
    {
      "cell_type": "code",
      "metadata": {
        "id": "tTRDugnRrzAZ",
        "outputId": "737fcd9d-cd34-4db1-9a0f-49d64789bf2d",
        "colab": {
          "base_uri": "https://localhost:8080/",
          "height": 536
        }
      },
      "source": [
        "#Now plotting PDF \n",
        "import seaborn as sns\n",
        "import matplotlib.pyplot as plt\n",
        "sns.FacetGrid(df_dotball,size=5) \\\n",
        "   .map(sns.distplot, \"dot_balls\") \\\n",
        "   .add_legend();\n",
        "\n",
        "plt.title(\"PDF for number dot balls bowled in KXIP vs RR matches\")\n",
        "plt.show();\n",
        "\n",
        "#Printing central tendency and percentile values\n",
        "df_dotball['dot_balls'].describe()"
      ],
      "execution_count": null,
      "outputs": [
        {
          "output_type": "display_data",
          "data": {
            "image/png": "[encoded data removed]",
            "text/plain": [
              "<Figure size 368x360 with 1 Axes>"
            ]
          },
          "metadata": {
            "tags": [],
            "needs_background": "light"
          }
        },
        {
          "output_type": "execute_result",
          "data": {
            "text/plain": [
              "count     19.000000\n",
              "mean      84.736842\n",
              "std       12.861839\n",
              "min       69.000000\n",
              "25%       75.000000\n",
              "50%       81.000000\n",
              "75%       97.000000\n",
              "max      108.000000\n",
              "Name: dot_balls, dtype: float64"
            ]
          },
          "metadata": {
            "tags": []
          },
          "execution_count": 18
        }
      ]
    },
    {
      "cell_type": "markdown",
      "metadata": {
        "id": "ftYFJbbBr8xB"
      },
      "source": [
        "**Conclusion :-**\n",
        "\n",
        "*   The Probability is very high for dot balls between 70 to 80 and mean is 84. \n",
        "*   75% values are less than 97.\n",
        "\n",
        "So according to above observation i am predicting in today match they bowl 60-90 dot balls.\n",
        "\n"
      ]
    },
    {
      "cell_type": "markdown",
      "metadata": {
        "id": "NSdfdjG8s6qp"
      },
      "source": [
        "### Q5)How many balls will Mohammed Shami take to get his first wicket?"
      ]
    },
    {
      "cell_type": "code",
      "metadata": {
        "id": "VVOPMZg8tzcC",
        "outputId": "fc20f223-eb1f-4f1c-b8aa-e2df614161ec",
        "colab": {
          "base_uri": "https://localhost:8080/"
        }
      },
      "source": [
        "#Filtering Mohammed Shami all matches in IPL\n",
        "df_shami = df_deliveries[(df_deliveries['bowler'] == 'Mohammed Shami')]\n",
        "\n",
        "#Now filtering matches where chahar got atleast 1 wicket in a match\n",
        "df_chahar_wickets = df_shami[(df_shami['player_dismissed'] != 'No Wicket') & (df_shami['dismissal_kind'] != 'run out')]\n",
        "\n",
        "total_matches = df_shami['match_id'].nunique()\n",
        "matches_with_1wicket = df_chahar_wickets['match_id'].nunique()\n",
        "\n",
        "print(\"Number of matches played by Mohammad Shami in IPL is : \", total_matches,'\\n')\n",
        "print(\"Number of matches Mohammad Shami got atleast 1 wicket in match is : \", matches_with_1wicket)"
      ],
      "execution_count": null,
      "outputs": [
        {
          "output_type": "stream",
          "text": [
            "Number of matches played by Mohammad Shami in IPL is :  49 \n",
            "\n",
            "Number of matches Mohammad Shami got atleast 1 wicket in match is :  30\n"
          ],
          "name": "stdout"
        }
      ]
    },
    {
      "cell_type": "code",
      "metadata": {
        "id": "z99LsSYgu2jB",
        "outputId": "9a75aa27-f3f8-4a23-81f3-6c562b5100f9",
        "colab": {
          "base_uri": "https://localhost:8080/"
        }
      },
      "source": [
        "#Filtering out Chahar balls excluding No balls and wide balls\n",
        "#Runouts also not consider under bowlers wickets\n",
        "\n",
        "df_Shami = df_deliveries[(df_deliveries['bowler'] == 'DL Chahar') & (df_deliveries['dismissal_kind'] != 'run out') &\n",
        "                          (df_deliveries['wide_runs'] == 0) & (df_deliveries['noball_runs'] == 0)]\n",
        "\n",
        "balls_list = df_Shami['ball'].to_list()\n",
        "wickets_list = df_Shami['player_dismissed'].to_list()\n",
        "matchid_list = df_Shami['match_id'].to_list()\n",
        "\n",
        "listoflists = []\n",
        "listoflists.append(matchid_list)\n",
        "listoflists.append(balls_list)\n",
        "listoflists.append(wickets_list)\n",
        "\n",
        "Shami_balls_bowled = []\n",
        "Shami_matchID = []\n",
        "balls_bowled = 0\n",
        "\n",
        "for i in range(len(listoflists[0])-1):\n",
        "     balls_bowled = balls_bowled + 1\n",
        "     if listoflists[0][i] != listoflists[0][i-1]:\n",
        "        balls_bowled = 0\n",
        "     if listoflists[0][i] not in Shami_matchID and listoflists[2][i] != 'No Wicket':   \n",
        "            Shami_balls_bowled.append(balls_bowled+1)\n",
        "            Shami_matchID.append(listoflists[0][i])\n",
        "            balls_bowled = 0\n",
        "            \n",
        "#Printing number of balls bowled by Rasid khan in each match for getting his first wicket\n",
        "print(\"Shami balls bowled for 1st wicket  =\",Shami_balls_bowled,'\\n')\n",
        "print(\"Corresponding Matchid           =\",Shami_matchID)"
      ],
      "execution_count": null,
      "outputs": [
        {
          "output_type": "stream",
          "text": [
            "Shami balls bowled for 1st wicket  = [1, 7, 12, 5, 9, 13, 11, 1, 15, 2, 9, 24, 6, 11, 16, 9, 24, 10, 5, 2, 9, 14] \n",
            "\n",
            "Corresponding Matchid           = [9, 7894, 7910, 7913, 7939, 7945, 7949, 7950, 11141, 11148, 11151, 11309, 11314, 11316, 11324, 11330, 11332, 11335, 11341, 11412, 11414, 11415]\n"
          ],
          "name": "stdout"
        }
      ]
    },
    {
      "cell_type": "code",
      "metadata": {
        "id": "fecJZBgcwhY5",
        "outputId": "7987d71f-9dc0-42dc-c18c-290cc08ec4f9",
        "colab": {
          "base_uri": "https://localhost:8080/",
          "height": 447
        }
      },
      "source": [
        "#Converting above two lists into dataframe\n",
        "df_Shami_ballsbowled_1stwicket =  pd.DataFrame(list(zip(Shami_matchID, Shami_balls_bowled)), columns =['match_id', 'balls_bowled_1stwicket']) \n",
        "\n",
        "import numpy as np\n",
        "import matplotlib.pyplot as plt\n",
        "leg = [\"PDF\", \"CDF\"]\n",
        "counts, bin_edges = np.histogram(df_Shami_ballsbowled_1stwicket['balls_bowled_1stwicket'], bins=10,\n",
        "                                density = True)\n",
        "pdf = counts/(sum(counts))\n",
        "cdf = np.cumsum(pdf)\n",
        "plt.plot(bin_edges[1:],pdf)\n",
        "plt.plot(bin_edges[1:], cdf)\n",
        "\n",
        "plt.title(\"PDF and CDF for balls bowled by Shami to get his first wicket in each match\")\n",
        "plt.xlabel('Balls_bowled')\n",
        "plt.legend(leg)\n",
        "plt.show();\n",
        "\n",
        "print(df_Shami_ballsbowled_1stwicket['balls_bowled_1stwicket'].describe())"
      ],
      "execution_count": null,
      "outputs": [
        {
          "output_type": "display_data",
          "data": {
            "image/png": "[encoded data removed]",
            "text/plain": [
              "<Figure size 432x288 with 1 Axes>"
            ]
          },
          "metadata": {
            "tags": [],
            "needs_background": "light"
          }
        },
        {
          "output_type": "stream",
          "text": [
            "count    22.000000\n",
            "mean      9.772727\n",
            "std       6.369061\n",
            "min       1.000000\n",
            "25%       5.250000\n",
            "50%       9.000000\n",
            "75%      12.750000\n",
            "max      24.000000\n",
            "Name: balls_bowled_1stwicket, dtype: float64\n"
          ],
          "name": "stdout"
        }
      ]
    },
    {
      "cell_type": "markdown",
      "metadata": {
        "id": "0ckU3RC1xH1W"
      },
      "source": [
        "**Conclusion :-**\n",
        "\n",
        "\n",
        "\n",
        "*   According to above CDF plot 50% of balls are less than 10. Probability is very high between 10 to 13.\n",
        "*   He played 49 matches and he got atleast 1 wicket in 30 matches. So he didnt got wicket in 19 matches.\n",
        "\n",
        "So i am predicting according to 2nd point in today match also he wont get any wicket.\n",
        "\n"
      ]
    }
  ]
}