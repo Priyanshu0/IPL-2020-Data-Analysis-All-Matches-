{
  "nbformat": 4,
  "nbformat_minor": 0,
  "metadata": {
    "colab": {
      "name": "WPL_MIVSCSK.ipynb",
      "provenance": []
    },
    "kernelspec": {
      "name": "python3",
      "display_name": "Python 3"
    }
  },
  "cells": [
    {
      "cell_type": "markdown",
      "metadata": {
        "id": "lzTwpT0haoGQ"
      },
      "source": [
        "### Exploratory Data Analysis"
      ]
    },
    {
      "cell_type": "markdown",
      "metadata": {
        "id": "noouNkB0apfY"
      },
      "source": [
        "### Data Pre-Processing"
      ]
    },
    {
      "cell_type": "code",
      "metadata": {
        "id": "uAKj_HwRZJJB",
        "outputId": "6f2502e6-f7f0-4d50-a76d-5c90a82d90b3",
        "colab": {
          "base_uri": "https://localhost:8080/",
          "height": 244
        }
      },
      "source": [
        "import warnings\n",
        "warnings.filterwarnings(\"ignore\")\n",
        "import pandas as pd\n",
        "\n",
        "df_matches = pd.read_csv(\"matches.csv\")\n",
        "df_matches.head(2)"
      ],
      "execution_count": 1,
      "outputs": [
        {
          "output_type": "execute_result",
          "data": {
            "text/html": [
              "<div>\n",
              "<style scoped>\n",
              "    .dataframe tbody tr th:only-of-type {\n",
              "        vertical-align: middle;\n",
              "    }\n",
              "\n",
              "    .dataframe tbody tr th {\n",
              "        vertical-align: top;\n",
              "    }\n",
              "\n",
              "    .dataframe thead th {\n",
              "        text-align: right;\n",
              "    }\n",
              "</style>\n",
              "<table border=\"1\" class=\"dataframe\">\n",
              "  <thead>\n",
              "    <tr style=\"text-align: right;\">\n",
              "      <th></th>\n",
              "      <th>id</th>\n",
              "      <th>season</th>\n",
              "      <th>city</th>\n",
              "      <th>date</th>\n",
              "      <th>team1</th>\n",
              "      <th>team2</th>\n",
              "      <th>toss_winner</th>\n",
              "      <th>toss_decision</th>\n",
              "      <th>result</th>\n",
              "      <th>dl_applied</th>\n",
              "      <th>winner</th>\n",
              "      <th>win_by_runs</th>\n",
              "      <th>win_by_wickets</th>\n",
              "      <th>player_of_match</th>\n",
              "      <th>venue</th>\n",
              "      <th>umpire1</th>\n",
              "      <th>umpire2</th>\n",
              "      <th>umpire3</th>\n",
              "    </tr>\n",
              "  </thead>\n",
              "  <tbody>\n",
              "    <tr>\n",
              "      <th>0</th>\n",
              "      <td>1</td>\n",
              "      <td>2017</td>\n",
              "      <td>Hyderabad</td>\n",
              "      <td>2017-04-05</td>\n",
              "      <td>Sunrisers Hyderabad</td>\n",
              "      <td>Royal Challengers Bangalore</td>\n",
              "      <td>Royal Challengers Bangalore</td>\n",
              "      <td>field</td>\n",
              "      <td>normal</td>\n",
              "      <td>0</td>\n",
              "      <td>Sunrisers Hyderabad</td>\n",
              "      <td>35</td>\n",
              "      <td>0</td>\n",
              "      <td>Yuvraj Singh</td>\n",
              "      <td>Rajiv Gandhi International Stadium, Uppal</td>\n",
              "      <td>AY Dandekar</td>\n",
              "      <td>NJ Llong</td>\n",
              "      <td>NaN</td>\n",
              "    </tr>\n",
              "    <tr>\n",
              "      <th>1</th>\n",
              "      <td>2</td>\n",
              "      <td>2017</td>\n",
              "      <td>Pune</td>\n",
              "      <td>2017-04-06</td>\n",
              "      <td>Mumbai Indians</td>\n",
              "      <td>Rising Pune Supergiant</td>\n",
              "      <td>Rising Pune Supergiant</td>\n",
              "      <td>field</td>\n",
              "      <td>normal</td>\n",
              "      <td>0</td>\n",
              "      <td>Rising Pune Supergiant</td>\n",
              "      <td>0</td>\n",
              "      <td>7</td>\n",
              "      <td>SPD Smith</td>\n",
              "      <td>Maharashtra Cricket Association Stadium</td>\n",
              "      <td>A Nand Kishore</td>\n",
              "      <td>S Ravi</td>\n",
              "      <td>NaN</td>\n",
              "    </tr>\n",
              "  </tbody>\n",
              "</table>\n",
              "</div>"
            ],
            "text/plain": [
              "   id  season       city  ...         umpire1   umpire2 umpire3\n",
              "0   1    2017  Hyderabad  ...     AY Dandekar  NJ Llong     NaN\n",
              "1   2    2017       Pune  ...  A Nand Kishore    S Ravi     NaN\n",
              "\n",
              "[2 rows x 18 columns]"
            ]
          },
          "metadata": {
            "tags": []
          },
          "execution_count": 1
        }
      ]
    },
    {
      "cell_type": "code",
      "metadata": {
        "id": "w34bb5uWa0bv",
        "outputId": "220ff3cc-6d93-4d43-bcc2-c9b24c4bbe44",
        "colab": {
          "base_uri": "https://localhost:8080/",
          "height": 194
        }
      },
      "source": [
        "df_deliveries = pd.read_csv(\"deliveries.csv\")\n",
        "df_deliveries.head(2)"
      ],
      "execution_count": 2,
      "outputs": [
        {
          "output_type": "execute_result",
          "data": {
            "text/html": [
              "<div>\n",
              "<style scoped>\n",
              "    .dataframe tbody tr th:only-of-type {\n",
              "        vertical-align: middle;\n",
              "    }\n",
              "\n",
              "    .dataframe tbody tr th {\n",
              "        vertical-align: top;\n",
              "    }\n",
              "\n",
              "    .dataframe thead th {\n",
              "        text-align: right;\n",
              "    }\n",
              "</style>\n",
              "<table border=\"1\" class=\"dataframe\">\n",
              "  <thead>\n",
              "    <tr style=\"text-align: right;\">\n",
              "      <th></th>\n",
              "      <th>match_id</th>\n",
              "      <th>inning</th>\n",
              "      <th>batting_team</th>\n",
              "      <th>bowling_team</th>\n",
              "      <th>over</th>\n",
              "      <th>ball</th>\n",
              "      <th>batsman</th>\n",
              "      <th>non_striker</th>\n",
              "      <th>bowler</th>\n",
              "      <th>is_super_over</th>\n",
              "      <th>wide_runs</th>\n",
              "      <th>bye_runs</th>\n",
              "      <th>legbye_runs</th>\n",
              "      <th>noball_runs</th>\n",
              "      <th>penalty_runs</th>\n",
              "      <th>batsman_runs</th>\n",
              "      <th>extra_runs</th>\n",
              "      <th>total_runs</th>\n",
              "      <th>player_dismissed</th>\n",
              "      <th>dismissal_kind</th>\n",
              "      <th>fielder</th>\n",
              "    </tr>\n",
              "  </thead>\n",
              "  <tbody>\n",
              "    <tr>\n",
              "      <th>0</th>\n",
              "      <td>1</td>\n",
              "      <td>1</td>\n",
              "      <td>Sunrisers Hyderabad</td>\n",
              "      <td>Royal Challengers Bangalore</td>\n",
              "      <td>1</td>\n",
              "      <td>1</td>\n",
              "      <td>DA Warner</td>\n",
              "      <td>S Dhawan</td>\n",
              "      <td>TS Mills</td>\n",
              "      <td>0</td>\n",
              "      <td>0</td>\n",
              "      <td>0</td>\n",
              "      <td>0</td>\n",
              "      <td>0</td>\n",
              "      <td>0</td>\n",
              "      <td>0</td>\n",
              "      <td>0</td>\n",
              "      <td>0</td>\n",
              "      <td>NaN</td>\n",
              "      <td>NaN</td>\n",
              "      <td>NaN</td>\n",
              "    </tr>\n",
              "    <tr>\n",
              "      <th>1</th>\n",
              "      <td>1</td>\n",
              "      <td>1</td>\n",
              "      <td>Sunrisers Hyderabad</td>\n",
              "      <td>Royal Challengers Bangalore</td>\n",
              "      <td>1</td>\n",
              "      <td>2</td>\n",
              "      <td>DA Warner</td>\n",
              "      <td>S Dhawan</td>\n",
              "      <td>TS Mills</td>\n",
              "      <td>0</td>\n",
              "      <td>0</td>\n",
              "      <td>0</td>\n",
              "      <td>0</td>\n",
              "      <td>0</td>\n",
              "      <td>0</td>\n",
              "      <td>0</td>\n",
              "      <td>0</td>\n",
              "      <td>0</td>\n",
              "      <td>NaN</td>\n",
              "      <td>NaN</td>\n",
              "      <td>NaN</td>\n",
              "    </tr>\n",
              "  </tbody>\n",
              "</table>\n",
              "</div>"
            ],
            "text/plain": [
              "   match_id  inning  ... dismissal_kind fielder\n",
              "0         1       1  ...            NaN     NaN\n",
              "1         1       1  ...            NaN     NaN\n",
              "\n",
              "[2 rows x 21 columns]"
            ]
          },
          "metadata": {
            "tags": []
          },
          "execution_count": 2
        }
      ]
    },
    {
      "cell_type": "code",
      "metadata": {
        "id": "-5Jl5LAPa39w",
        "outputId": "c44b1d26-6baa-4301-fb27-02cf57b05061",
        "colab": {
          "base_uri": "https://localhost:8080/",
          "height": 50
        }
      },
      "source": [
        "print(df_matches.shape)\n",
        "print(df_deliveries.shape)"
      ],
      "execution_count": 3,
      "outputs": [
        {
          "output_type": "stream",
          "text": [
            "(756, 18)\n",
            "(179078, 21)\n"
          ],
          "name": "stdout"
        }
      ]
    },
    {
      "cell_type": "markdown",
      "metadata": {
        "id": "5C7gLqfda-pD"
      },
      "source": [
        "In matches data frame columns like umpire1,umpire2,umpire3 are not useful because these days they are using technology. So we cant decide which umpire is more useful for predicting anything related to match.\n",
        "\n",
        "Date is also not useful because we already have season column which is also almost equal to date.\n",
        "\n",
        "City and venue also not important features for this year IPL. Because IPL2020 is happening in UAE, only 2014 ipl was happened in UAE that to half season. But i am removing only venue it almost equal to city feature.\n",
        "\n",
        "'Result' feature is almost equal to 'winner' feature. So i am dropping result column also."
      ]
    },
    {
      "cell_type": "code",
      "metadata": {
        "id": "h9oydYyta7PO",
        "outputId": "a58da9a7-98f1-416d-8c7c-ef2485003704",
        "colab": {
          "base_uri": "https://localhost:8080/",
          "height": 194
        }
      },
      "source": [
        "df_matches = df_matches.drop(['venue','date','result','umpire1','umpire2','umpire3'], axis = 1) \n",
        "df_matches.head(2)"
      ],
      "execution_count": 4,
      "outputs": [
        {
          "output_type": "execute_result",
          "data": {
            "text/html": [
              "<div>\n",
              "<style scoped>\n",
              "    .dataframe tbody tr th:only-of-type {\n",
              "        vertical-align: middle;\n",
              "    }\n",
              "\n",
              "    .dataframe tbody tr th {\n",
              "        vertical-align: top;\n",
              "    }\n",
              "\n",
              "    .dataframe thead th {\n",
              "        text-align: right;\n",
              "    }\n",
              "</style>\n",
              "<table border=\"1\" class=\"dataframe\">\n",
              "  <thead>\n",
              "    <tr style=\"text-align: right;\">\n",
              "      <th></th>\n",
              "      <th>id</th>\n",
              "      <th>season</th>\n",
              "      <th>city</th>\n",
              "      <th>team1</th>\n",
              "      <th>team2</th>\n",
              "      <th>toss_winner</th>\n",
              "      <th>toss_decision</th>\n",
              "      <th>dl_applied</th>\n",
              "      <th>winner</th>\n",
              "      <th>win_by_runs</th>\n",
              "      <th>win_by_wickets</th>\n",
              "      <th>player_of_match</th>\n",
              "    </tr>\n",
              "  </thead>\n",
              "  <tbody>\n",
              "    <tr>\n",
              "      <th>0</th>\n",
              "      <td>1</td>\n",
              "      <td>2017</td>\n",
              "      <td>Hyderabad</td>\n",
              "      <td>Sunrisers Hyderabad</td>\n",
              "      <td>Royal Challengers Bangalore</td>\n",
              "      <td>Royal Challengers Bangalore</td>\n",
              "      <td>field</td>\n",
              "      <td>0</td>\n",
              "      <td>Sunrisers Hyderabad</td>\n",
              "      <td>35</td>\n",
              "      <td>0</td>\n",
              "      <td>Yuvraj Singh</td>\n",
              "    </tr>\n",
              "    <tr>\n",
              "      <th>1</th>\n",
              "      <td>2</td>\n",
              "      <td>2017</td>\n",
              "      <td>Pune</td>\n",
              "      <td>Mumbai Indians</td>\n",
              "      <td>Rising Pune Supergiant</td>\n",
              "      <td>Rising Pune Supergiant</td>\n",
              "      <td>field</td>\n",
              "      <td>0</td>\n",
              "      <td>Rising Pune Supergiant</td>\n",
              "      <td>0</td>\n",
              "      <td>7</td>\n",
              "      <td>SPD Smith</td>\n",
              "    </tr>\n",
              "  </tbody>\n",
              "</table>\n",
              "</div>"
            ],
            "text/plain": [
              "   id  season       city  ... win_by_runs win_by_wickets player_of_match\n",
              "0   1    2017  Hyderabad  ...          35              0    Yuvraj Singh\n",
              "1   2    2017       Pune  ...           0              7       SPD Smith\n",
              "\n",
              "[2 rows x 12 columns]"
            ]
          },
          "metadata": {
            "tags": []
          },
          "execution_count": 4
        }
      ]
    },
    {
      "cell_type": "code",
      "metadata": {
        "id": "a8ys25cGbL70",
        "outputId": "5750b247-37e6-4886-c837-2d625e9e4af1",
        "colab": {
          "base_uri": "https://localhost:8080/",
          "height": 286
        }
      },
      "source": [
        "print(df_matches[\"team1\"].value_counts())"
      ],
      "execution_count": 5,
      "outputs": [
        {
          "output_type": "stream",
          "text": [
            "Mumbai Indians                 101\n",
            "Kings XI Punjab                 91\n",
            "Chennai Super Kings             89\n",
            "Royal Challengers Bangalore     85\n",
            "Kolkata Knight Riders           83\n",
            "Delhi Daredevils                72\n",
            "Rajasthan Royals                67\n",
            "Sunrisers Hyderabad             63\n",
            "Deccan Chargers                 43\n",
            "Pune Warriors                   20\n",
            "Gujarat Lions                   14\n",
            "Rising Pune Supergiant           8\n",
            "Rising Pune Supergiants          7\n",
            "Kochi Tuskers Kerala             7\n",
            "Delhi Capitals                   6\n",
            "Name: team1, dtype: int64\n"
          ],
          "name": "stdout"
        }
      ]
    },
    {
      "cell_type": "code",
      "metadata": {
        "id": "0A7J7gmtbNaD"
      },
      "source": [
        "#In 2019 delhi daredevils name changed to delhi capitals. So i am replacing old name with new name for all the rows.\n",
        "df_matches = df_matches.replace(to_replace =\"Delhi Daredevils\", value = \"Delhi Capitals\") \n",
        "\n",
        "df_deliveries = df_deliveries.replace(to_replace = \"Delhi Daredevils\", value = \"Delhi Capitals\")\n",
        "\n",
        "#Rising pune supergiants name also printed in two ways. Lets change it to Rising pune supergiants.\n",
        "df_matches = df_matches.replace(to_replace =\"Rising Pune Supergiant\", value = \"Rising Pune Supergiants\") \n",
        "\n",
        "df_deliveries = df_deliveries.replace(to_replace = \"Rising Pune Supergiant\", value = \"Rising Pune Supergiants\")"
      ],
      "execution_count": 6,
      "outputs": []
    },
    {
      "cell_type": "code",
      "metadata": {
        "id": "5mjMjqM6bWdl",
        "outputId": "8ac4b94e-7cdd-4e97-cd60-6fd7cb08eb2d",
        "colab": {
          "base_uri": "https://localhost:8080/",
          "height": 235
        }
      },
      "source": [
        "#checking null values in matches dataset\n",
        "print(df_matches.isnull().sum())"
      ],
      "execution_count": 7,
      "outputs": [
        {
          "output_type": "stream",
          "text": [
            "id                 0\n",
            "season             0\n",
            "city               7\n",
            "team1              0\n",
            "team2              0\n",
            "toss_winner        0\n",
            "toss_decision      0\n",
            "dl_applied         0\n",
            "winner             4\n",
            "win_by_runs        0\n",
            "win_by_wickets     0\n",
            "player_of_match    4\n",
            "dtype: int64\n"
          ],
          "name": "stdout"
        }
      ]
    },
    {
      "cell_type": "code",
      "metadata": {
        "id": "vhaCqgNvbX8j",
        "outputId": "4a58950c-ee58-4b6c-d115-a2d9071eb69c",
        "colab": {
          "base_uri": "https://localhost:8080/",
          "height": 177
        }
      },
      "source": [
        "#printing null rows in matches dataset\n",
        "df1_null = df_matches[df_matches.isna().any(axis=1)]\n",
        "df1_null.head(2)"
      ],
      "execution_count": 8,
      "outputs": [
        {
          "output_type": "execute_result",
          "data": {
            "text/html": [
              "<div>\n",
              "<style scoped>\n",
              "    .dataframe tbody tr th:only-of-type {\n",
              "        vertical-align: middle;\n",
              "    }\n",
              "\n",
              "    .dataframe tbody tr th {\n",
              "        vertical-align: top;\n",
              "    }\n",
              "\n",
              "    .dataframe thead th {\n",
              "        text-align: right;\n",
              "    }\n",
              "</style>\n",
              "<table border=\"1\" class=\"dataframe\">\n",
              "  <thead>\n",
              "    <tr style=\"text-align: right;\">\n",
              "      <th></th>\n",
              "      <th>id</th>\n",
              "      <th>season</th>\n",
              "      <th>city</th>\n",
              "      <th>team1</th>\n",
              "      <th>team2</th>\n",
              "      <th>toss_winner</th>\n",
              "      <th>toss_decision</th>\n",
              "      <th>dl_applied</th>\n",
              "      <th>winner</th>\n",
              "      <th>win_by_runs</th>\n",
              "      <th>win_by_wickets</th>\n",
              "      <th>player_of_match</th>\n",
              "    </tr>\n",
              "  </thead>\n",
              "  <tbody>\n",
              "    <tr>\n",
              "      <th>300</th>\n",
              "      <td>301</td>\n",
              "      <td>2011</td>\n",
              "      <td>Delhi</td>\n",
              "      <td>Delhi Capitals</td>\n",
              "      <td>Pune Warriors</td>\n",
              "      <td>Delhi Capitals</td>\n",
              "      <td>bat</td>\n",
              "      <td>0</td>\n",
              "      <td>NaN</td>\n",
              "      <td>0</td>\n",
              "      <td>0</td>\n",
              "      <td>NaN</td>\n",
              "    </tr>\n",
              "    <tr>\n",
              "      <th>461</th>\n",
              "      <td>462</td>\n",
              "      <td>2014</td>\n",
              "      <td>NaN</td>\n",
              "      <td>Mumbai Indians</td>\n",
              "      <td>Royal Challengers Bangalore</td>\n",
              "      <td>Royal Challengers Bangalore</td>\n",
              "      <td>field</td>\n",
              "      <td>0</td>\n",
              "      <td>Royal Challengers Bangalore</td>\n",
              "      <td>0</td>\n",
              "      <td>7</td>\n",
              "      <td>PA Patel</td>\n",
              "    </tr>\n",
              "  </tbody>\n",
              "</table>\n",
              "</div>"
            ],
            "text/plain": [
              "      id  season   city  ... win_by_runs win_by_wickets player_of_match\n",
              "300  301    2011  Delhi  ...           0              0             NaN\n",
              "461  462    2014    NaN  ...           0              7        PA Patel\n",
              "\n",
              "[2 rows x 12 columns]"
            ]
          },
          "metadata": {
            "tags": []
          },
          "execution_count": 8
        }
      ]
    },
    {
      "cell_type": "code",
      "metadata": {
        "id": "OH-GMug_bbXb",
        "outputId": "d6b98ef1-fb2f-4b8c-e7b1-2e813abd8fad",
        "colab": {
          "base_uri": "https://localhost:8080/",
          "height": 34
        }
      },
      "source": [
        "#After seeing above table we can clearly understood that 4 matches are not played beacuse of rain, badlight or pitch condition. \n",
        "#So i am replacing those null values in winner column with no result and palyer of the match column null values with not declared.\n",
        "df_matches[\"winner\"].fillna(\"No result\", inplace = True)\n",
        "df_matches['player_of_match'].fillna(\"Not declared\", inplace = True)\n",
        "#city column also has 7 null values. I checked those matches data in Espn website and they played in Dubai.\n",
        "df_matches[\"city\"].fillna(\"Dubai\", inplace = True)\n",
        "print(df_matches.shape)"
      ],
      "execution_count": 9,
      "outputs": [
        {
          "output_type": "stream",
          "text": [
            "(756, 12)\n"
          ],
          "name": "stdout"
        }
      ]
    },
    {
      "cell_type": "code",
      "metadata": {
        "id": "GFEoRp_XbebP",
        "outputId": "849c92cf-79a2-4dcc-fc6d-8b417a795a86",
        "colab": {
          "base_uri": "https://localhost:8080/",
          "height": 386
        }
      },
      "source": [
        "#checking null values in deliveries dataset\n",
        "print(df_deliveries.isnull().sum())"
      ],
      "execution_count": 10,
      "outputs": [
        {
          "output_type": "stream",
          "text": [
            "match_id                 0\n",
            "inning                   0\n",
            "batting_team             0\n",
            "bowling_team             0\n",
            "over                     0\n",
            "ball                     0\n",
            "batsman                  0\n",
            "non_striker              0\n",
            "bowler                   0\n",
            "is_super_over            0\n",
            "wide_runs                0\n",
            "bye_runs                 0\n",
            "legbye_runs              0\n",
            "noball_runs              0\n",
            "penalty_runs             0\n",
            "batsman_runs             0\n",
            "extra_runs               0\n",
            "total_runs               0\n",
            "player_dismissed    170244\n",
            "dismissal_kind      170244\n",
            "fielder             172630\n",
            "dtype: int64\n"
          ],
          "name": "stdout"
        }
      ]
    },
    {
      "cell_type": "markdown",
      "metadata": {
        "id": "cp6vGkc6bpsa"
      },
      "source": [
        "Player_dismissed, dismissal_kind and fielder features are having null values. But if you consider today questions only 'player_dismissed' and 'dismissal_kind' features are useful for today analysis. So i am removing \"fielder\" feature.\n",
        "\n",
        "Filling player_dismissed null values with 'No wicket', didmissal_Kind null values with also No Wicket"
      ]
    },
    {
      "cell_type": "code",
      "metadata": {
        "id": "8rK7rUOMbquD",
        "outputId": "d60d228e-aa1f-4c2c-ab6d-c2ab690efc90",
        "colab": {
          "base_uri": "https://localhost:8080/",
          "height": 194
        }
      },
      "source": [
        "#dropping fielder column\n",
        "df_deliveries = df_deliveries.drop(['fielder'], axis = 1) \n",
        "#filling null values\n",
        "df_deliveries[\"player_dismissed\"].fillna(\"No Wicket\", inplace = True)\n",
        "df_deliveries[\"dismissal_kind\"].fillna(\"No Wicket\", inplace = True)\n",
        "df_deliveries.head(2)"
      ],
      "execution_count": 11,
      "outputs": [
        {
          "output_type": "execute_result",
          "data": {
            "text/html": [
              "<div>\n",
              "<style scoped>\n",
              "    .dataframe tbody tr th:only-of-type {\n",
              "        vertical-align: middle;\n",
              "    }\n",
              "\n",
              "    .dataframe tbody tr th {\n",
              "        vertical-align: top;\n",
              "    }\n",
              "\n",
              "    .dataframe thead th {\n",
              "        text-align: right;\n",
              "    }\n",
              "</style>\n",
              "<table border=\"1\" class=\"dataframe\">\n",
              "  <thead>\n",
              "    <tr style=\"text-align: right;\">\n",
              "      <th></th>\n",
              "      <th>match_id</th>\n",
              "      <th>inning</th>\n",
              "      <th>batting_team</th>\n",
              "      <th>bowling_team</th>\n",
              "      <th>over</th>\n",
              "      <th>ball</th>\n",
              "      <th>batsman</th>\n",
              "      <th>non_striker</th>\n",
              "      <th>bowler</th>\n",
              "      <th>is_super_over</th>\n",
              "      <th>wide_runs</th>\n",
              "      <th>bye_runs</th>\n",
              "      <th>legbye_runs</th>\n",
              "      <th>noball_runs</th>\n",
              "      <th>penalty_runs</th>\n",
              "      <th>batsman_runs</th>\n",
              "      <th>extra_runs</th>\n",
              "      <th>total_runs</th>\n",
              "      <th>player_dismissed</th>\n",
              "      <th>dismissal_kind</th>\n",
              "    </tr>\n",
              "  </thead>\n",
              "  <tbody>\n",
              "    <tr>\n",
              "      <th>0</th>\n",
              "      <td>1</td>\n",
              "      <td>1</td>\n",
              "      <td>Sunrisers Hyderabad</td>\n",
              "      <td>Royal Challengers Bangalore</td>\n",
              "      <td>1</td>\n",
              "      <td>1</td>\n",
              "      <td>DA Warner</td>\n",
              "      <td>S Dhawan</td>\n",
              "      <td>TS Mills</td>\n",
              "      <td>0</td>\n",
              "      <td>0</td>\n",
              "      <td>0</td>\n",
              "      <td>0</td>\n",
              "      <td>0</td>\n",
              "      <td>0</td>\n",
              "      <td>0</td>\n",
              "      <td>0</td>\n",
              "      <td>0</td>\n",
              "      <td>No Wicket</td>\n",
              "      <td>No Wicket</td>\n",
              "    </tr>\n",
              "    <tr>\n",
              "      <th>1</th>\n",
              "      <td>1</td>\n",
              "      <td>1</td>\n",
              "      <td>Sunrisers Hyderabad</td>\n",
              "      <td>Royal Challengers Bangalore</td>\n",
              "      <td>1</td>\n",
              "      <td>2</td>\n",
              "      <td>DA Warner</td>\n",
              "      <td>S Dhawan</td>\n",
              "      <td>TS Mills</td>\n",
              "      <td>0</td>\n",
              "      <td>0</td>\n",
              "      <td>0</td>\n",
              "      <td>0</td>\n",
              "      <td>0</td>\n",
              "      <td>0</td>\n",
              "      <td>0</td>\n",
              "      <td>0</td>\n",
              "      <td>0</td>\n",
              "      <td>No Wicket</td>\n",
              "      <td>No Wicket</td>\n",
              "    </tr>\n",
              "  </tbody>\n",
              "</table>\n",
              "</div>"
            ],
            "text/plain": [
              "   match_id  inning  ... player_dismissed dismissal_kind\n",
              "0         1       1  ...        No Wicket      No Wicket\n",
              "1         1       1  ...        No Wicket      No Wicket\n",
              "\n",
              "[2 rows x 20 columns]"
            ]
          },
          "metadata": {
            "tags": []
          },
          "execution_count": 11
        }
      ]
    },
    {
      "cell_type": "code",
      "metadata": {
        "id": "70ss6cLNbttn",
        "outputId": "d4b9b29b-f0ff-46b6-c54d-1403f6286fd9",
        "colab": {
          "base_uri": "https://localhost:8080/",
          "height": 304
        }
      },
      "source": [
        "# list of dtypes to include \n",
        "include =['float', 'int']\n",
        "desc = df_deliveries.describe(include = include)\n",
        "desc"
      ],
      "execution_count": 12,
      "outputs": [
        {
          "output_type": "execute_result",
          "data": {
            "text/html": [
              "<div>\n",
              "<style scoped>\n",
              "    .dataframe tbody tr th:only-of-type {\n",
              "        vertical-align: middle;\n",
              "    }\n",
              "\n",
              "    .dataframe tbody tr th {\n",
              "        vertical-align: top;\n",
              "    }\n",
              "\n",
              "    .dataframe thead th {\n",
              "        text-align: right;\n",
              "    }\n",
              "</style>\n",
              "<table border=\"1\" class=\"dataframe\">\n",
              "  <thead>\n",
              "    <tr style=\"text-align: right;\">\n",
              "      <th></th>\n",
              "      <th>match_id</th>\n",
              "      <th>inning</th>\n",
              "      <th>over</th>\n",
              "      <th>ball</th>\n",
              "      <th>is_super_over</th>\n",
              "      <th>wide_runs</th>\n",
              "      <th>bye_runs</th>\n",
              "      <th>legbye_runs</th>\n",
              "      <th>noball_runs</th>\n",
              "      <th>penalty_runs</th>\n",
              "      <th>batsman_runs</th>\n",
              "      <th>extra_runs</th>\n",
              "      <th>total_runs</th>\n",
              "    </tr>\n",
              "  </thead>\n",
              "  <tbody>\n",
              "    <tr>\n",
              "      <th>count</th>\n",
              "      <td>179078.000000</td>\n",
              "      <td>179078.000000</td>\n",
              "      <td>179078.000000</td>\n",
              "      <td>179078.000000</td>\n",
              "      <td>179078.000000</td>\n",
              "      <td>179078.000000</td>\n",
              "      <td>179078.000000</td>\n",
              "      <td>179078.000000</td>\n",
              "      <td>179078.000000</td>\n",
              "      <td>179078.000000</td>\n",
              "      <td>179078.000000</td>\n",
              "      <td>179078.000000</td>\n",
              "      <td>179078.000000</td>\n",
              "    </tr>\n",
              "    <tr>\n",
              "      <th>mean</th>\n",
              "      <td>1802.252957</td>\n",
              "      <td>1.482952</td>\n",
              "      <td>10.162488</td>\n",
              "      <td>3.615587</td>\n",
              "      <td>0.000452</td>\n",
              "      <td>0.036721</td>\n",
              "      <td>0.004936</td>\n",
              "      <td>0.021136</td>\n",
              "      <td>0.004183</td>\n",
              "      <td>0.000056</td>\n",
              "      <td>1.246864</td>\n",
              "      <td>0.067032</td>\n",
              "      <td>1.313897</td>\n",
              "    </tr>\n",
              "    <tr>\n",
              "      <th>std</th>\n",
              "      <td>3472.322805</td>\n",
              "      <td>0.502074</td>\n",
              "      <td>5.677684</td>\n",
              "      <td>1.806966</td>\n",
              "      <td>0.021263</td>\n",
              "      <td>0.251161</td>\n",
              "      <td>0.116480</td>\n",
              "      <td>0.194908</td>\n",
              "      <td>0.070492</td>\n",
              "      <td>0.016709</td>\n",
              "      <td>1.608270</td>\n",
              "      <td>0.342553</td>\n",
              "      <td>1.605422</td>\n",
              "    </tr>\n",
              "    <tr>\n",
              "      <th>min</th>\n",
              "      <td>1.000000</td>\n",
              "      <td>1.000000</td>\n",
              "      <td>1.000000</td>\n",
              "      <td>1.000000</td>\n",
              "      <td>0.000000</td>\n",
              "      <td>0.000000</td>\n",
              "      <td>0.000000</td>\n",
              "      <td>0.000000</td>\n",
              "      <td>0.000000</td>\n",
              "      <td>0.000000</td>\n",
              "      <td>0.000000</td>\n",
              "      <td>0.000000</td>\n",
              "      <td>0.000000</td>\n",
              "    </tr>\n",
              "    <tr>\n",
              "      <th>25%</th>\n",
              "      <td>190.000000</td>\n",
              "      <td>1.000000</td>\n",
              "      <td>5.000000</td>\n",
              "      <td>2.000000</td>\n",
              "      <td>0.000000</td>\n",
              "      <td>0.000000</td>\n",
              "      <td>0.000000</td>\n",
              "      <td>0.000000</td>\n",
              "      <td>0.000000</td>\n",
              "      <td>0.000000</td>\n",
              "      <td>0.000000</td>\n",
              "      <td>0.000000</td>\n",
              "      <td>0.000000</td>\n",
              "    </tr>\n",
              "    <tr>\n",
              "      <th>50%</th>\n",
              "      <td>379.000000</td>\n",
              "      <td>1.000000</td>\n",
              "      <td>10.000000</td>\n",
              "      <td>4.000000</td>\n",
              "      <td>0.000000</td>\n",
              "      <td>0.000000</td>\n",
              "      <td>0.000000</td>\n",
              "      <td>0.000000</td>\n",
              "      <td>0.000000</td>\n",
              "      <td>0.000000</td>\n",
              "      <td>1.000000</td>\n",
              "      <td>0.000000</td>\n",
              "      <td>1.000000</td>\n",
              "    </tr>\n",
              "    <tr>\n",
              "      <th>75%</th>\n",
              "      <td>567.000000</td>\n",
              "      <td>2.000000</td>\n",
              "      <td>15.000000</td>\n",
              "      <td>5.000000</td>\n",
              "      <td>0.000000</td>\n",
              "      <td>0.000000</td>\n",
              "      <td>0.000000</td>\n",
              "      <td>0.000000</td>\n",
              "      <td>0.000000</td>\n",
              "      <td>0.000000</td>\n",
              "      <td>1.000000</td>\n",
              "      <td>0.000000</td>\n",
              "      <td>1.000000</td>\n",
              "    </tr>\n",
              "    <tr>\n",
              "      <th>max</th>\n",
              "      <td>11415.000000</td>\n",
              "      <td>5.000000</td>\n",
              "      <td>20.000000</td>\n",
              "      <td>9.000000</td>\n",
              "      <td>1.000000</td>\n",
              "      <td>5.000000</td>\n",
              "      <td>4.000000</td>\n",
              "      <td>5.000000</td>\n",
              "      <td>5.000000</td>\n",
              "      <td>5.000000</td>\n",
              "      <td>7.000000</td>\n",
              "      <td>7.000000</td>\n",
              "      <td>10.000000</td>\n",
              "    </tr>\n",
              "  </tbody>\n",
              "</table>\n",
              "</div>"
            ],
            "text/plain": [
              "            match_id         inning  ...     extra_runs     total_runs\n",
              "count  179078.000000  179078.000000  ...  179078.000000  179078.000000\n",
              "mean     1802.252957       1.482952  ...       0.067032       1.313897\n",
              "std      3472.322805       0.502074  ...       0.342553       1.605422\n",
              "min         1.000000       1.000000  ...       0.000000       0.000000\n",
              "25%       190.000000       1.000000  ...       0.000000       0.000000\n",
              "50%       379.000000       1.000000  ...       0.000000       1.000000\n",
              "75%       567.000000       2.000000  ...       0.000000       1.000000\n",
              "max     11415.000000       5.000000  ...       7.000000      10.000000\n",
              "\n",
              "[8 rows x 13 columns]"
            ]
          },
          "metadata": {
            "tags": []
          },
          "execution_count": 12
        }
      ]
    },
    {
      "cell_type": "markdown",
      "metadata": {
        "id": "Ol_Cifo2bznI"
      },
      "source": [
        "I think there are no outliers present in overs column but in balls column balls range is between(0-9), it happens if bowlers balls extra deliveries.\n",
        "\n",
        "In innings column maximum value is 5 so there are some outliers presented. Because there are 2 innings per match, if match tied then they will conduct one super over till last season. So maximum number of innings is 4.\n",
        "\n",
        "And in remaining columns max value is in certain limit only. So i can say there are not much outliers."
      ]
    },
    {
      "cell_type": "markdown",
      "metadata": {
        "id": "cnJksJewfr4p"
      },
      "source": [
        "### Q1) Who will win today match MI VS CSK?"
      ]
    },
    {
      "cell_type": "code",
      "metadata": {
        "id": "sVXnYa4Tfxor",
        "outputId": "2f55b308-aa4c-4745-8966-3f56a1663e04",
        "colab": {
          "base_uri": "https://localhost:8080/",
          "height": 542
        }
      },
      "source": [
        "# Lets check winning ratio between MI VS CSK\n",
        "df_MI_CSK = df_matches[((df_matches['team1'] == 'Mumbai Indians') | (df_matches['team1'] == 'Chennai Super Kings')) & \n",
        "                         ((df_matches['team2'] == 'Mumbai Indians') | (df_matches['team2'] == 'Chennai Super Kings'))] \n",
        "\n",
        "#plotting MI and CSK wins against each other\n",
        "import plotly.graph_objs as go\n",
        "df_winner = df_MI_CSK[['id','winner']].groupby('winner').size().reset_index()\n",
        "df_winner.columns = ['winner','total_wins']\n",
        "df_winner = df_winner.sort_values('total_wins',ascending=False)\n",
        "\n",
        "data = go.Bar(x = df_winner['winner'],y = df_winner['total_wins'])\n",
        "layout = go.Layout(title = 'Number of wins by MI and CSK against each other',xaxis = dict(title = 'Team'),yaxis = dict(title = 'No of wins'))\n",
        "fig = go.Figure(data = data,layout = layout)\n",
        "fig.show()"
      ],
      "execution_count": 205,
      "outputs": [
        {
          "output_type": "display_data",
          "data": {
            "text/html": [
              "<html>\n",
              "<head><meta charset=\"utf-8\" /></head>\n",
              "<body>\n",
              "    <div>\n",
              "            <script src=\"https://cdnjs.cloudflare.com/ajax/libs/mathjax/2.7.5/MathJax.js?config=TeX-AMS-MML_SVG\"></script><script type=\"text/javascript\">if (window.MathJax) {MathJax.Hub.Config({SVG: {font: \"STIX-Web\"}});}</script>\n",
              "                <script type=\"text/javascript\">window.PlotlyConfig = {MathJaxConfig: 'local'};</script>\n",
              "        <script src=\"https://cdn.plot.ly/plotly-latest.min.js\"></script>    \n",
              "            <div id=\"8c50007a-1bbe-405d-a033-ffe50f8dde1f\" class=\"plotly-graph-div\" style=\"height:525px; width:100%;\"></div>\n",
              "            <script type=\"text/javascript\">\n",
              "                \n",
              "                    window.PLOTLYENV=window.PLOTLYENV || {};\n",
              "                    \n",
              "                if (document.getElementById(\"8c50007a-1bbe-405d-a033-ffe50f8dde1f\")) {\n",
              "                    Plotly.newPlot(\n",
              "                        '8c50007a-1bbe-405d-a033-ffe50f8dde1f',\n",
              "                        [{\"type\": \"bar\", \"x\": [\"Mumbai Indians\", \"Chennai Super Kings\"], \"y\": [17, 11]}],\n",
              "                        {\"template\": {\"data\": {\"bar\": [{\"error_x\": {\"color\": \"#2a3f5f\"}, \"error_y\": {\"color\": \"#2a3f5f\"}, \"marker\": {\"line\": {\"color\": \"#E5ECF6\", \"width\": 0.5}}, \"type\": \"bar\"}], \"barpolar\": [{\"marker\": {\"line\": {\"color\": \"#E5ECF6\", \"width\": 0.5}}, \"type\": \"barpolar\"}], \"carpet\": [{\"aaxis\": {\"endlinecolor\": \"#2a3f5f\", \"gridcolor\": \"white\", \"linecolor\": \"white\", \"minorgridcolor\": \"white\", \"startlinecolor\": \"#2a3f5f\"}, \"baxis\": {\"endlinecolor\": \"#2a3f5f\", \"gridcolor\": \"white\", \"linecolor\": \"white\", \"minorgridcolor\": \"white\", \"startlinecolor\": \"#2a3f5f\"}, \"type\": \"carpet\"}], \"choropleth\": [{\"colorbar\": {\"outlinewidth\": 0, \"ticks\": \"\"}, \"type\": \"choropleth\"}], \"contour\": [{\"colorbar\": {\"outlinewidth\": 0, \"ticks\": \"\"}, \"colorscale\": [[0.0, \"#0d0887\"], [0.1111111111111111, \"#46039f\"], [0.2222222222222222, \"#7201a8\"], [0.3333333333333333, \"#9c179e\"], [0.4444444444444444, \"#bd3786\"], [0.5555555555555556, \"#d8576b\"], [0.6666666666666666, \"#ed7953\"], [0.7777777777777778, \"#fb9f3a\"], [0.8888888888888888, \"#fdca26\"], [1.0, \"#f0f921\"]], \"type\": \"contour\"}], \"contourcarpet\": [{\"colorbar\": {\"outlinewidth\": 0, \"ticks\": \"\"}, \"type\": \"contourcarpet\"}], \"heatmap\": [{\"colorbar\": {\"outlinewidth\": 0, \"ticks\": \"\"}, \"colorscale\": [[0.0, \"#0d0887\"], [0.1111111111111111, \"#46039f\"], [0.2222222222222222, \"#7201a8\"], [0.3333333333333333, \"#9c179e\"], [0.4444444444444444, \"#bd3786\"], [0.5555555555555556, \"#d8576b\"], [0.6666666666666666, \"#ed7953\"], [0.7777777777777778, \"#fb9f3a\"], [0.8888888888888888, \"#fdca26\"], [1.0, \"#f0f921\"]], \"type\": \"heatmap\"}], \"heatmapgl\": [{\"colorbar\": {\"outlinewidth\": 0, \"ticks\": \"\"}, \"colorscale\": [[0.0, \"#0d0887\"], [0.1111111111111111, \"#46039f\"], [0.2222222222222222, \"#7201a8\"], [0.3333333333333333, \"#9c179e\"], [0.4444444444444444, \"#bd3786\"], [0.5555555555555556, \"#d8576b\"], [0.6666666666666666, \"#ed7953\"], [0.7777777777777778, \"#fb9f3a\"], [0.8888888888888888, \"#fdca26\"], [1.0, \"#f0f921\"]], \"type\": \"heatmapgl\"}], \"histogram\": [{\"marker\": {\"colorbar\": {\"outlinewidth\": 0, \"ticks\": \"\"}}, \"type\": \"histogram\"}], \"histogram2d\": [{\"colorbar\": {\"outlinewidth\": 0, \"ticks\": \"\"}, \"colorscale\": [[0.0, \"#0d0887\"], [0.1111111111111111, \"#46039f\"], [0.2222222222222222, \"#7201a8\"], [0.3333333333333333, \"#9c179e\"], [0.4444444444444444, \"#bd3786\"], [0.5555555555555556, \"#d8576b\"], [0.6666666666666666, \"#ed7953\"], [0.7777777777777778, \"#fb9f3a\"], [0.8888888888888888, \"#fdca26\"], [1.0, \"#f0f921\"]], \"type\": \"histogram2d\"}], \"histogram2dcontour\": [{\"colorbar\": {\"outlinewidth\": 0, \"ticks\": \"\"}, \"colorscale\": [[0.0, \"#0d0887\"], [0.1111111111111111, \"#46039f\"], [0.2222222222222222, \"#7201a8\"], [0.3333333333333333, \"#9c179e\"], [0.4444444444444444, \"#bd3786\"], [0.5555555555555556, \"#d8576b\"], [0.6666666666666666, \"#ed7953\"], [0.7777777777777778, \"#fb9f3a\"], [0.8888888888888888, \"#fdca26\"], [1.0, \"#f0f921\"]], \"type\": \"histogram2dcontour\"}], \"mesh3d\": [{\"colorbar\": {\"outlinewidth\": 0, \"ticks\": \"\"}, \"type\": \"mesh3d\"}], \"parcoords\": [{\"line\": {\"colorbar\": {\"outlinewidth\": 0, \"ticks\": \"\"}}, \"type\": \"parcoords\"}], \"pie\": [{\"automargin\": true, \"type\": \"pie\"}], \"scatter\": [{\"marker\": {\"colorbar\": {\"outlinewidth\": 0, \"ticks\": \"\"}}, \"type\": \"scatter\"}], \"scatter3d\": [{\"line\": {\"colorbar\": {\"outlinewidth\": 0, \"ticks\": \"\"}}, \"marker\": {\"colorbar\": {\"outlinewidth\": 0, \"ticks\": \"\"}}, \"type\": \"scatter3d\"}], \"scattercarpet\": [{\"marker\": {\"colorbar\": {\"outlinewidth\": 0, \"ticks\": \"\"}}, \"type\": \"scattercarpet\"}], \"scattergeo\": [{\"marker\": {\"colorbar\": {\"outlinewidth\": 0, \"ticks\": \"\"}}, \"type\": \"scattergeo\"}], \"scattergl\": [{\"marker\": {\"colorbar\": {\"outlinewidth\": 0, \"ticks\": \"\"}}, \"type\": \"scattergl\"}], \"scattermapbox\": [{\"marker\": {\"colorbar\": {\"outlinewidth\": 0, \"ticks\": \"\"}}, \"type\": \"scattermapbox\"}], \"scatterpolar\": [{\"marker\": {\"colorbar\": {\"outlinewidth\": 0, \"ticks\": \"\"}}, \"type\": \"scatterpolar\"}], \"scatterpolargl\": [{\"marker\": {\"colorbar\": {\"outlinewidth\": 0, \"ticks\": \"\"}}, \"type\": \"scatterpolargl\"}], \"scatterternary\": [{\"marker\": {\"colorbar\": {\"outlinewidth\": 0, \"ticks\": \"\"}}, \"type\": \"scatterternary\"}], \"surface\": [{\"colorbar\": {\"outlinewidth\": 0, \"ticks\": \"\"}, \"colorscale\": [[0.0, \"#0d0887\"], [0.1111111111111111, \"#46039f\"], [0.2222222222222222, \"#7201a8\"], [0.3333333333333333, \"#9c179e\"], [0.4444444444444444, \"#bd3786\"], [0.5555555555555556, \"#d8576b\"], [0.6666666666666666, \"#ed7953\"], [0.7777777777777778, \"#fb9f3a\"], [0.8888888888888888, \"#fdca26\"], [1.0, \"#f0f921\"]], \"type\": \"surface\"}], \"table\": [{\"cells\": {\"fill\": {\"color\": \"#EBF0F8\"}, \"line\": {\"color\": \"white\"}}, \"header\": {\"fill\": {\"color\": \"#C8D4E3\"}, \"line\": {\"color\": \"white\"}}, \"type\": \"table\"}]}, \"layout\": {\"annotationdefaults\": {\"arrowcolor\": \"#2a3f5f\", \"arrowhead\": 0, \"arrowwidth\": 1}, \"coloraxis\": {\"colorbar\": {\"outlinewidth\": 0, \"ticks\": \"\"}}, \"colorscale\": {\"diverging\": [[0, \"#8e0152\"], [0.1, \"#c51b7d\"], [0.2, \"#de77ae\"], [0.3, \"#f1b6da\"], [0.4, \"#fde0ef\"], [0.5, \"#f7f7f7\"], [0.6, \"#e6f5d0\"], [0.7, \"#b8e186\"], [0.8, \"#7fbc41\"], [0.9, \"#4d9221\"], [1, \"#276419\"]], \"sequential\": [[0.0, \"#0d0887\"], [0.1111111111111111, \"#46039f\"], [0.2222222222222222, \"#7201a8\"], [0.3333333333333333, \"#9c179e\"], [0.4444444444444444, \"#bd3786\"], [0.5555555555555556, \"#d8576b\"], [0.6666666666666666, \"#ed7953\"], [0.7777777777777778, \"#fb9f3a\"], [0.8888888888888888, \"#fdca26\"], [1.0, \"#f0f921\"]], \"sequentialminus\": [[0.0, \"#0d0887\"], [0.1111111111111111, \"#46039f\"], [0.2222222222222222, \"#7201a8\"], [0.3333333333333333, \"#9c179e\"], [0.4444444444444444, \"#bd3786\"], [0.5555555555555556, \"#d8576b\"], [0.6666666666666666, \"#ed7953\"], [0.7777777777777778, \"#fb9f3a\"], [0.8888888888888888, \"#fdca26\"], [1.0, \"#f0f921\"]]}, \"colorway\": [\"#636efa\", \"#EF553B\", \"#00cc96\", \"#ab63fa\", \"#FFA15A\", \"#19d3f3\", \"#FF6692\", \"#B6E880\", \"#FF97FF\", \"#FECB52\"], \"font\": {\"color\": \"#2a3f5f\"}, \"geo\": {\"bgcolor\": \"white\", \"lakecolor\": \"white\", \"landcolor\": \"#E5ECF6\", \"showlakes\": true, \"showland\": true, \"subunitcolor\": \"white\"}, \"hoverlabel\": {\"align\": \"left\"}, \"hovermode\": \"closest\", \"mapbox\": {\"style\": \"light\"}, \"paper_bgcolor\": \"white\", \"plot_bgcolor\": \"#E5ECF6\", \"polar\": {\"angularaxis\": {\"gridcolor\": \"white\", \"linecolor\": \"white\", \"ticks\": \"\"}, \"bgcolor\": \"#E5ECF6\", \"radialaxis\": {\"gridcolor\": \"white\", \"linecolor\": \"white\", \"ticks\": \"\"}}, \"scene\": {\"xaxis\": {\"backgroundcolor\": \"#E5ECF6\", \"gridcolor\": \"white\", \"gridwidth\": 2, \"linecolor\": \"white\", \"showbackground\": true, \"ticks\": \"\", \"zerolinecolor\": \"white\"}, \"yaxis\": {\"backgroundcolor\": \"#E5ECF6\", \"gridcolor\": \"white\", \"gridwidth\": 2, \"linecolor\": \"white\", \"showbackground\": true, \"ticks\": \"\", \"zerolinecolor\": \"white\"}, \"zaxis\": {\"backgroundcolor\": \"#E5ECF6\", \"gridcolor\": \"white\", \"gridwidth\": 2, \"linecolor\": \"white\", \"showbackground\": true, \"ticks\": \"\", \"zerolinecolor\": \"white\"}}, \"shapedefaults\": {\"line\": {\"color\": \"#2a3f5f\"}}, \"ternary\": {\"aaxis\": {\"gridcolor\": \"white\", \"linecolor\": \"white\", \"ticks\": \"\"}, \"baxis\": {\"gridcolor\": \"white\", \"linecolor\": \"white\", \"ticks\": \"\"}, \"bgcolor\": \"#E5ECF6\", \"caxis\": {\"gridcolor\": \"white\", \"linecolor\": \"white\", \"ticks\": \"\"}}, \"title\": {\"x\": 0.05}, \"xaxis\": {\"automargin\": true, \"gridcolor\": \"white\", \"linecolor\": \"white\", \"ticks\": \"\", \"title\": {\"standoff\": 15}, \"zerolinecolor\": \"white\", \"zerolinewidth\": 2}, \"yaxis\": {\"automargin\": true, \"gridcolor\": \"white\", \"linecolor\": \"white\", \"ticks\": \"\", \"title\": {\"standoff\": 15}, \"zerolinecolor\": \"white\", \"zerolinewidth\": 2}}}, \"title\": {\"text\": \"Number of wins by MI and CSK against each other\"}, \"xaxis\": {\"title\": {\"text\": \"Team\"}}, \"yaxis\": {\"title\": {\"text\": \"No of wins\"}}},\n",
              "                        {\"responsive\": true}\n",
              "                    ).then(function(){\n",
              "                            \n",
              "var gd = document.getElementById('8c50007a-1bbe-405d-a033-ffe50f8dde1f');\n",
              "var x = new MutationObserver(function (mutations, observer) {{\n",
              "        var display = window.getComputedStyle(gd).display;\n",
              "        if (!display || display === 'none') {{\n",
              "            console.log([gd, 'removed!']);\n",
              "            Plotly.purge(gd);\n",
              "            observer.disconnect();\n",
              "        }}\n",
              "}});\n",
              "\n",
              "// Listen for the removal of the full notebook cells\n",
              "var notebookContainer = gd.closest('#notebook-container');\n",
              "if (notebookContainer) {{\n",
              "    x.observe(notebookContainer, {childList: true});\n",
              "}}\n",
              "\n",
              "// Listen for the clearing of the current output cell\n",
              "var outputEl = gd.closest('.output');\n",
              "if (outputEl) {{\n",
              "    x.observe(outputEl, {childList: true});\n",
              "}}\n",
              "\n",
              "                        })\n",
              "                };\n",
              "                \n",
              "            </script>\n",
              "        </div>\n",
              "</body>\n",
              "</html>"
            ]
          },
          "metadata": {
            "tags": []
          }
        }
      ]
    },
    {
      "cell_type": "markdown",
      "metadata": {
        "id": "IxJGxZJIgXv7"
      },
      "source": [
        "**Conclusion :-**\n",
        "\n",
        "Out of 28 head-head matches Mumbai won 17 and CSk won 11. Mumbai almost won70% of the matches and also as per my cricket knowledge mumbai and CSK is almost same teams from 2018 onwards so i am predicting in today match also MI will win."
      ]
    },
    {
      "cell_type": "markdown",
      "metadata": {
        "id": "lAq_2nyUb6SL"
      },
      "source": [
        "### Q2) How many runs will quinton decock will score off boundaries in the first   10 balls he faces? If he doesnt face 10 balls and gets out before then the number of runs he scored off boundaries until the point he got out will be  considered? "
      ]
    },
    {
      "cell_type": "code",
      "metadata": {
        "id": "fG50-B4Zcv1o",
        "outputId": "7614e9b6-c556-4cfd-ef06-267932484fc6",
        "colab": {
          "base_uri": "https://localhost:8080/",
          "height": 151
        }
      },
      "source": [
        "#Filtering out decock from batsman column and not taking wide deliveries\n",
        "df_Decock = df_deliveries[(df_deliveries['batsman'] == 'Q de Kock') & (df_deliveries['wide_runs'] == 0)]\n",
        "df_Decock['batsman_runs'].value_counts()"
      ],
      "execution_count": 27,
      "outputs": [
        {
          "output_type": "execute_result",
          "data": {
            "text/plain": [
              "0    435\n",
              "1    408\n",
              "4    156\n",
              "6     54\n",
              "2     53\n",
              "3      4\n",
              "5      1\n",
              "Name: batsman_runs, dtype: int64"
            ]
          },
          "metadata": {
            "tags": []
          },
          "execution_count": 27
        }
      ]
    },
    {
      "cell_type": "markdown",
      "metadata": {
        "id": "EbvjoaXSeq72"
      },
      "source": [
        "If you look at above values for quinton decock batsman runs it has 4,5,6.\n",
        "Actually 4,6 are boundaries but some times if fielder throws overthrow and ball went to to boundary at the same time if batsman ran 1 run then total batsman runs will become 5. We have only 1 value i.e batsman runs =5. So i am considering that as outlier."
      ]
    },
    {
      "cell_type": "code",
      "metadata": {
        "id": "uOb4VAIvfkrI",
        "outputId": "fe2aa5fe-900a-434f-f99a-94b8486e3459",
        "colab": {
          "base_uri": "https://localhost:8080/",
          "height": 87
        }
      },
      "source": [
        "#But we have only 1 value for batsman runs = 5. So i am not considering that values.\n",
        "runs_list = df_Decock['batsman_runs'].to_list()\n",
        "balls_list = df_Decock['ball'].to_list()\n",
        "matchid_list = df_Decock['match_id'].to_list()\n",
        "\n",
        "listoflists = []\n",
        "listoflists.append(matchid_list)\n",
        "listoflists.append(runs_list)\n",
        "listoflists.append(balls_list)\n",
        "\n",
        "Decock_runs_scored = []\n",
        "Decock_matchID = []\n",
        "balls_faced = 0\n",
        "sum = 0\n",
        "\n",
        "for i in range(len(listoflists[0])-1):\n",
        "  balls_faced = balls_faced + 1\n",
        "  if listoflists[0][i] != listoflists[0][i+1] :\n",
        "     Decock_runs_scored.append(sum)\n",
        "     Decock_matchID.append(listoflists[0][i])\n",
        "     balls_faced = 0\n",
        "     sum = 0\n",
        "  elif (listoflists[1][i] == 4 or listoflists[1][i] == 6) and balls_faced <= 10 :\n",
        "     sum = sum + (listoflists[1][i])\n",
        "     if balls_faced == 10 or listoflists[0][i] != listoflists[0][i+1]:   #Here i am checking if decock faced 10 balls or he got out before 10balls.\n",
        "        if listoflists[0][i] not in Decock_matchID:   \n",
        "           Decock_runs_scored.append(sum)\n",
        "           Decock_matchID.append(listoflists[0][i])\n",
        "           sum = 0\n",
        "           balls_faced = 0\n",
        "\n",
        "#Printing number of runs scored by Decock in each match for 1st 10 balls via boundaries \n",
        "print(\"Runs scored by decock through boundary for 1st 10balls  =\",Decock_runs_scored,\"\\n\")\n",
        "print(\"Corresponding Matchid =\",Decock_matchID)\n"
      ],
      "execution_count": 111,
      "outputs": [
        {
          "output_type": "stream",
          "text": [
            "Runs scored by decock through boundary for 1st 10balls  = [0, 0, 4, 4, 8, 0, 8, 14, 8, 10, 8, 0, 4, 12, 0, 8, 16, 10, 4, 20, 8, 4, 0, 0, 8, 4, 8, 6, 0, 0, 4, 4, 8, 12, 4, 14, 0, 4, 12, 4, 8, 0, 14, 4, 12, 4, 6, 8, 10, 16, 10, 4, 0, 10, 0, 8, 6, 8, 18] \n",
            "\n",
            "Corresponding Matchid = [402, 405, 414, 469, 473, 473, 480, 480, 483, 483, 485, 489, 495, 561, 565, 571, 571, 578, 583, 587, 593, 599, 599, 602, 607, 612, 618, 623, 625, 628, 632, 7896, 7901, 7904, 7904, 7907, 7907, 7912, 7917, 7917, 7922, 7924, 11139, 11143, 11145, 11151, 11310, 11315, 11318, 11322, 11322, 11325, 11327, 11335, 11338, 11342, 11347, 11412, 11415]\n"
          ],
          "name": "stdout"
        }
      ]
    },
    {
      "cell_type": "code",
      "metadata": {
        "id": "P84bHx2iyj18",
        "outputId": "45d75ae1-648b-4f41-e765-f1273d683f68",
        "colab": {
          "base_uri": "https://localhost:8080/",
          "height": 536
        }
      },
      "source": [
        "#Converting above two lists into dataframe\n",
        "df_Decock_runs_boundaries=  pd.DataFrame(list(zip(Decock_matchID, Decock_runs_scored)), columns =['match_id', 'Runs_Scored_by_boundaries']) \n",
        "df_Decock_runs_boundaries.head()\n",
        "\n",
        "#Now plotting PDF \n",
        "import seaborn as sns\n",
        "import matplotlib.pyplot as plt\n",
        "sns.FacetGrid(df_Decock_runs_boundaries,size=5) \\\n",
        "   .map(sns.distplot, \"Runs_Scored_by_boundaries\") \\\n",
        "   .add_legend();\n",
        "\n",
        "plt.title(\"PDF for number of runs scored through boundaries in first 10balls faced by decock\")\n",
        "plt.show();\n",
        "\n",
        "#Printing Mean and Std\n",
        "df_Decock_runs_boundaries['Runs_Scored_by_boundaries'].describe()"
      ],
      "execution_count": 141,
      "outputs": [
        {
          "output_type": "display_data",
          "data": {
            "image/png": "[encoded data removed]",
            "text/plain": [
              "<Figure size 368x360 with 1 Axes>"
            ]
          },
          "metadata": {
            "tags": [],
            "needs_background": "light"
          }
        },
        {
          "output_type": "execute_result",
          "data": {
            "text/plain": [
              "count    59.000000\n",
              "mean      6.576271\n",
              "std       5.106464\n",
              "min       0.000000\n",
              "25%       4.000000\n",
              "50%       6.000000\n",
              "75%      10.000000\n",
              "max      20.000000\n",
              "Name: Runs_Scored_by_boundaries, dtype: float64"
            ]
          },
          "metadata": {
            "tags": []
          },
          "execution_count": 141
        }
      ]
    },
    {
      "cell_type": "markdown",
      "metadata": {
        "id": "7bfn4RR0agJq"
      },
      "source": [
        "**Conclusion :-**\n",
        "\n",
        "By looking at above PDF i can say that most of the values are 4 to 8.\n",
        "\n",
        "So i am predicting in today match also he will score less than 10runs through boundaries."
      ]
    },
    {
      "cell_type": "markdown",
      "metadata": {
        "id": "QsWlTY4gQZ7X"
      },
      "source": [
        "### Q3) Which MI bowler will have the best dot balls to total balls bowled ratio?"
      ]
    },
    {
      "cell_type": "code",
      "metadata": {
        "id": "lPmFLKxnbIj1",
        "outputId": "3c242033-0510-416d-9101-a9683c8c8a61",
        "colab": {
          "base_uri": "https://localhost:8080/",
          "height": 166
        }
      },
      "source": [
        "#Filtering 4 mumbai bowlers who played every match in this year ipl\n",
        "df_mumbai_bowlers = df_deliveries[(df_deliveries['bowler'] == 'JJ Bumrah') | (df_deliveries['bowler'] == 'TA Boult')|\n",
        "                                  (df_deliveries['bowler'] == 'RD Chahar') | (df_deliveries['bowler'] == 'KH Pandya')]\n",
        "df_dotballs =  df_mumbai_bowlers[df_mumbai_bowlers['total_runs'] == 0]\n",
        "\n",
        "number_of_balls = df_mumbai_bowlers.groupby('bowler')['ball'].count()\n",
        "dot_balls = df_dotballs.groupby('bowler')['ball'].count()\n",
        "\n",
        "#Converting series object to dataframe\n",
        "df_no_of_balls = number_of_balls.to_frame()\n",
        "df_no_of_balls.reset_index(inplace=True)\n",
        "df_dot_balls = dot_balls.to_frame()\n",
        "df_dot_balls.reset_index(inplace=True)\n",
        "#Joining two dataframes\n",
        "df_final = pd.merge(df_no_of_balls, df_dot_balls, left_on='bowler',right_on='bowler', how='outer')\n",
        "df_final.rename(columns = {'ball_x':'total_balls', 'ball_y':'dot_balls'}, inplace = True)\n",
        "                              \n",
        "df_final.head()\n"
      ],
      "execution_count": 238,
      "outputs": [
        {
          "output_type": "execute_result",
          "data": {
            "text/html": [
              "<div>\n",
              "<style scoped>\n",
              "    .dataframe tbody tr th:only-of-type {\n",
              "        vertical-align: middle;\n",
              "    }\n",
              "\n",
              "    .dataframe tbody tr th {\n",
              "        vertical-align: top;\n",
              "    }\n",
              "\n",
              "    .dataframe thead th {\n",
              "        text-align: right;\n",
              "    }\n",
              "</style>\n",
              "<table border=\"1\" class=\"dataframe\">\n",
              "  <thead>\n",
              "    <tr style=\"text-align: right;\">\n",
              "      <th></th>\n",
              "      <th>bowler</th>\n",
              "      <th>total_balls</th>\n",
              "      <th>dot_balls</th>\n",
              "    </tr>\n",
              "  </thead>\n",
              "  <tbody>\n",
              "    <tr>\n",
              "      <th>0</th>\n",
              "      <td>JJ Bumrah</td>\n",
              "      <td>1798</td>\n",
              "      <td>648</td>\n",
              "    </tr>\n",
              "    <tr>\n",
              "      <th>1</th>\n",
              "      <td>KH Pandya</td>\n",
              "      <td>968</td>\n",
              "      <td>300</td>\n",
              "    </tr>\n",
              "    <tr>\n",
              "      <th>2</th>\n",
              "      <td>RD Chahar</td>\n",
              "      <td>333</td>\n",
              "      <td>139</td>\n",
              "    </tr>\n",
              "    <tr>\n",
              "      <th>3</th>\n",
              "      <td>TA Boult</td>\n",
              "      <td>802</td>\n",
              "      <td>290</td>\n",
              "    </tr>\n",
              "  </tbody>\n",
              "</table>\n",
              "</div>"
            ],
            "text/plain": [
              "      bowler  total_balls  dot_balls\n",
              "0  JJ Bumrah         1798        648\n",
              "1  KH Pandya          968        300\n",
              "2  RD Chahar          333        139\n",
              "3   TA Boult          802        290"
            ]
          },
          "metadata": {
            "tags": []
          },
          "execution_count": 238
        }
      ]
    },
    {
      "cell_type": "code",
      "metadata": {
        "id": "lslJ-3BMnhIT",
        "outputId": "af7a7614-8e1a-40a9-a411-34a64ce070a8",
        "colab": {
          "base_uri": "https://localhost:8080/",
          "height": 166
        }
      },
      "source": [
        "df_final['ratio'] = (df_final['dot_balls']/df_final['total_balls'])\n",
        "df_final.head()"
      ],
      "execution_count": 239,
      "outputs": [
        {
          "output_type": "execute_result",
          "data": {
            "text/html": [
              "<div>\n",
              "<style scoped>\n",
              "    .dataframe tbody tr th:only-of-type {\n",
              "        vertical-align: middle;\n",
              "    }\n",
              "\n",
              "    .dataframe tbody tr th {\n",
              "        vertical-align: top;\n",
              "    }\n",
              "\n",
              "    .dataframe thead th {\n",
              "        text-align: right;\n",
              "    }\n",
              "</style>\n",
              "<table border=\"1\" class=\"dataframe\">\n",
              "  <thead>\n",
              "    <tr style=\"text-align: right;\">\n",
              "      <th></th>\n",
              "      <th>bowler</th>\n",
              "      <th>total_balls</th>\n",
              "      <th>dot_balls</th>\n",
              "      <th>ratio</th>\n",
              "    </tr>\n",
              "  </thead>\n",
              "  <tbody>\n",
              "    <tr>\n",
              "      <th>0</th>\n",
              "      <td>JJ Bumrah</td>\n",
              "      <td>1798</td>\n",
              "      <td>648</td>\n",
              "      <td>0.360400</td>\n",
              "    </tr>\n",
              "    <tr>\n",
              "      <th>1</th>\n",
              "      <td>KH Pandya</td>\n",
              "      <td>968</td>\n",
              "      <td>300</td>\n",
              "      <td>0.309917</td>\n",
              "    </tr>\n",
              "    <tr>\n",
              "      <th>2</th>\n",
              "      <td>RD Chahar</td>\n",
              "      <td>333</td>\n",
              "      <td>139</td>\n",
              "      <td>0.417417</td>\n",
              "    </tr>\n",
              "    <tr>\n",
              "      <th>3</th>\n",
              "      <td>TA Boult</td>\n",
              "      <td>802</td>\n",
              "      <td>290</td>\n",
              "      <td>0.361596</td>\n",
              "    </tr>\n",
              "  </tbody>\n",
              "</table>\n",
              "</div>"
            ],
            "text/plain": [
              "      bowler  total_balls  dot_balls     ratio\n",
              "0  JJ Bumrah         1798        648  0.360400\n",
              "1  KH Pandya          968        300  0.309917\n",
              "2  RD Chahar          333        139  0.417417\n",
              "3   TA Boult          802        290  0.361596"
            ]
          },
          "metadata": {
            "tags": []
          },
          "execution_count": 239
        }
      ]
    },
    {
      "cell_type": "markdown",
      "metadata": {
        "id": "HRXyEshfpeID"
      },
      "source": [
        "**Conclusion :-**\n",
        "\n",
        "Rahul chahar and Trent boult has good dot ball ratio but as per my cricket knowledge who bowls in the powerplay has has more dot balls because fielders are inside 30 yards. \n",
        "\n",
        "So Generally rahul chahar will bowl in middle overs and trent boult in powerplay, So i am predicting Trent boult will bowl more dot balls.\n"
      ]
    },
    {
      "cell_type": "markdown",
      "metadata": {
        "id": "OGm_Lxl7qrgW"
      },
      "source": [
        "### Q4) How many such overs will be there in a match where a 6 and 4 are scored in the same over?"
      ]
    },
    {
      "cell_type": "code",
      "metadata": {
        "id": "I6-g7ccysYcm"
      },
      "source": [
        "#I am filtering out current MI and CSK matches\n",
        "df_MI_CSK_bowlers = df_deliveries[((df_deliveries['batting_team'] == 'Mumbai Indians') | (df_deliveries['batting_team'] == 'Chennai Super Kings')) & \n",
        "                         ((df_deliveries['bowling_team'] == 'Mumbai Indians') | (df_deliveries['bowling_team'] == 'Chennai Super Kings'))] \n",
        "                                 \n",
        "df_MI_CSK_bowlers = df_MI_CSK_bowlers[['match_id','inning','over','batsman_runs']]\n",
        "df_4s6s_over = df_MI_CSK_bowlers[(df_MI_CSK_bowlers['batsman_runs'] == 4) | (df_MI_CSK_bowlers['batsman_runs'] == 6)]\n",
        "\n"
      ],
      "execution_count": 241,
      "outputs": []
    },
    {
      "cell_type": "code",
      "metadata": {
        "id": "n6LN2uvQ5UPb",
        "outputId": "385762cd-03f1-4a28-8c24-c49edffee8f8",
        "colab": {
          "base_uri": "https://localhost:8080/",
          "height": 195
        }
      },
      "source": [
        "df_4s6s_over['4s'] = np.where(df_4s6s_over.batsman_runs == 4, 1, 0)\n",
        "df_4s6s_over['6s'] = np.where(df_4s6s_over.batsman_runs == 6, 1, 0)\n",
        "df_4s6s_over.head()"
      ],
      "execution_count": 242,
      "outputs": [
        {
          "output_type": "execute_result",
          "data": {
            "text/html": [
              "<div>\n",
              "<style scoped>\n",
              "    .dataframe tbody tr th:only-of-type {\n",
              "        vertical-align: middle;\n",
              "    }\n",
              "\n",
              "    .dataframe tbody tr th {\n",
              "        vertical-align: top;\n",
              "    }\n",
              "\n",
              "    .dataframe thead th {\n",
              "        text-align: right;\n",
              "    }\n",
              "</style>\n",
              "<table border=\"1\" class=\"dataframe\">\n",
              "  <thead>\n",
              "    <tr style=\"text-align: right;\">\n",
              "      <th></th>\n",
              "      <th>match_id</th>\n",
              "      <th>inning</th>\n",
              "      <th>over</th>\n",
              "      <th>batsman_runs</th>\n",
              "      <th>4s</th>\n",
              "      <th>6s</th>\n",
              "    </tr>\n",
              "  </thead>\n",
              "  <tbody>\n",
              "    <tr>\n",
              "      <th>15490</th>\n",
              "      <td>67</td>\n",
              "      <td>1</td>\n",
              "      <td>1</td>\n",
              "      <td>4</td>\n",
              "      <td>1</td>\n",
              "      <td>0</td>\n",
              "    </tr>\n",
              "    <tr>\n",
              "      <th>15496</th>\n",
              "      <td>67</td>\n",
              "      <td>1</td>\n",
              "      <td>2</td>\n",
              "      <td>4</td>\n",
              "      <td>1</td>\n",
              "      <td>0</td>\n",
              "    </tr>\n",
              "    <tr>\n",
              "      <th>15498</th>\n",
              "      <td>67</td>\n",
              "      <td>1</td>\n",
              "      <td>2</td>\n",
              "      <td>4</td>\n",
              "      <td>1</td>\n",
              "      <td>0</td>\n",
              "    </tr>\n",
              "    <tr>\n",
              "      <th>15500</th>\n",
              "      <td>67</td>\n",
              "      <td>1</td>\n",
              "      <td>3</td>\n",
              "      <td>4</td>\n",
              "      <td>1</td>\n",
              "      <td>0</td>\n",
              "    </tr>\n",
              "    <tr>\n",
              "      <th>15501</th>\n",
              "      <td>67</td>\n",
              "      <td>1</td>\n",
              "      <td>3</td>\n",
              "      <td>6</td>\n",
              "      <td>0</td>\n",
              "      <td>1</td>\n",
              "    </tr>\n",
              "  </tbody>\n",
              "</table>\n",
              "</div>"
            ],
            "text/plain": [
              "       match_id  inning  over  batsman_runs  4s  6s\n",
              "15490        67       1     1             4   1   0\n",
              "15496        67       1     2             4   1   0\n",
              "15498        67       1     2             4   1   0\n",
              "15500        67       1     3             4   1   0\n",
              "15501        67       1     3             6   0   1"
            ]
          },
          "metadata": {
            "tags": []
          },
          "execution_count": 242
        }
      ]
    },
    {
      "cell_type": "code",
      "metadata": {
        "id": "rdLM0F4soXmq",
        "outputId": "17c18112-e353-40f4-c2c7-526d9b96e8af",
        "colab": {
          "base_uri": "https://localhost:8080/",
          "height": 225
        }
      },
      "source": [
        "df = df_4s6s_over.groupby(['match_id','inning','over'])['4s','6s'].apply(lambda x : x.astype(int).sum())\n",
        "df.head()"
      ],
      "execution_count": 243,
      "outputs": [
        {
          "output_type": "execute_result",
          "data": {
            "text/html": [
              "<div>\n",
              "<style scoped>\n",
              "    .dataframe tbody tr th:only-of-type {\n",
              "        vertical-align: middle;\n",
              "    }\n",
              "\n",
              "    .dataframe tbody tr th {\n",
              "        vertical-align: top;\n",
              "    }\n",
              "\n",
              "    .dataframe thead th {\n",
              "        text-align: right;\n",
              "    }\n",
              "</style>\n",
              "<table border=\"1\" class=\"dataframe\">\n",
              "  <thead>\n",
              "    <tr style=\"text-align: right;\">\n",
              "      <th></th>\n",
              "      <th></th>\n",
              "      <th></th>\n",
              "      <th>4s</th>\n",
              "      <th>6s</th>\n",
              "    </tr>\n",
              "    <tr>\n",
              "      <th>match_id</th>\n",
              "      <th>inning</th>\n",
              "      <th>over</th>\n",
              "      <th></th>\n",
              "      <th></th>\n",
              "    </tr>\n",
              "  </thead>\n",
              "  <tbody>\n",
              "    <tr>\n",
              "      <th rowspan=\"5\" valign=\"top\">67</th>\n",
              "      <th rowspan=\"5\" valign=\"top\">1</th>\n",
              "      <th>1</th>\n",
              "      <td>1</td>\n",
              "      <td>0</td>\n",
              "    </tr>\n",
              "    <tr>\n",
              "      <th>2</th>\n",
              "      <td>2</td>\n",
              "      <td>0</td>\n",
              "    </tr>\n",
              "    <tr>\n",
              "      <th>3</th>\n",
              "      <td>2</td>\n",
              "      <td>1</td>\n",
              "    </tr>\n",
              "    <tr>\n",
              "      <th>5</th>\n",
              "      <td>1</td>\n",
              "      <td>0</td>\n",
              "    </tr>\n",
              "    <tr>\n",
              "      <th>6</th>\n",
              "      <td>2</td>\n",
              "      <td>0</td>\n",
              "    </tr>\n",
              "  </tbody>\n",
              "</table>\n",
              "</div>"
            ],
            "text/plain": [
              "                      4s  6s\n",
              "match_id inning over        \n",
              "67       1      1      1   0\n",
              "                2      2   0\n",
              "                3      2   1\n",
              "                5      1   0\n",
              "                6      2   0"
            ]
          },
          "metadata": {
            "tags": []
          },
          "execution_count": 243
        }
      ]
    },
    {
      "cell_type": "code",
      "metadata": {
        "id": "4s39gxZyqrhA",
        "outputId": "dc5128ef-9697-4d5d-a0db-36fafdbadc42",
        "colab": {
          "base_uri": "https://localhost:8080/",
          "height": 50
        }
      },
      "source": [
        "dfd = df[(df['4s'] >= 1) & (df['6s'] >=1)]\n",
        "print(\"Number overs gone for atleast one 4 and one 6 is\",dfd.shape[0])\n",
        "print(\"Number of matches they played\",df_MI_CSK_bowlers['match_id'].nunique())"
      ],
      "execution_count": 244,
      "outputs": [
        {
          "output_type": "stream",
          "text": [
            "Number overs gone for atleast one 4 and one 6 is 127\n",
            "Number of matches they played 28\n"
          ],
          "name": "stdout"
        }
      ]
    },
    {
      "cell_type": "markdown",
      "metadata": {
        "id": "JCN5s4jwuXYN"
      },
      "source": [
        "**Conclusion :-**\n",
        "\n",
        "On an average they conceeded 1 four and 1 six atleast 5 overs in a match. So i am predicting in today match also they will conceed 5-6 overs with one 4 and one 6."
      ]
    },
    {
      "cell_type": "markdown",
      "metadata": {
        "id": "UYIBfnU-Ojbq"
      },
      "source": [
        "### Q5) Calculte Bowler lethality Score(BLS) for every bowler and findout best bowler?"
      ]
    },
    {
      "cell_type": "code",
      "metadata": {
        "id": "y6IyWtb9POAT"
      },
      "source": [
        "#------------------------------- chahar ----------------------------\n",
        "\n",
        "df_chahar = df_deliveries[(df_deliveries['bowler'] == 'DL Chahar')&(df_deliveries['wide_runs'] == 0)&(df_deliveries['noball_runs'] == 0)]\n",
        "df_wickets_chahar = df_chahar[(df_chahar['player_dismissed'] != 'No Wicket') & (df_chahar['dismissal_kind'] != 'run out')]\n",
        "df_dot_balls_chahar = df_chahar[(df_chahar['total_runs'] == 0)]\n",
        "df_boundaries_chahar = df_chahar[(df_chahar['batsman_runs'] == 4) | (df_chahar['batsman_runs'] == 6)]\n",
        "\n",
        "no_of_wickets = df_wickets_chahar.shape[0]\n",
        "no_of_dotballs = df_dot_balls_chahar.shape[0]\n",
        "no_of_boundary_runs = df_boundaries_chahar['batsman_runs'].sum()\n",
        "no_of_boundaries = df_boundaries_chahar['batsman_runs'].count()\n",
        "no_of_balls_bowled = df_chahar.shape[0]\n",
        "\n",
        "BLS_chahar = (no_of_wickets + no_of_dotballs - (no_of_boundary_runs/no_of_boundaries))/(no_of_balls_bowled)\n",
        "\n",
        "#----------------------------- Jadeja ----------------------------------------\n",
        "\n",
        "df_jadeja = df_deliveries[(df_deliveries['bowler'] == 'RA Jadeja') & (df_deliveries['wide_runs'] == 0) & (df_deliveries['noball_runs'] == 0)]\n",
        "df_wickets_jadeja = df_jadeja[(df_jadeja['player_dismissed'] != 'No Wicket') & (df_jadeja['dismissal_kind'] == 'run out')]\n",
        "df_dot_balls_jadeja = df_jadeja[(df_jadeja['total_runs'] == 0)]\n",
        "df_boundaries_jadeja = df_jadeja[(df_jadeja['batsman_runs'] == 4) | (df_jadeja['batsman_runs'] == 6)]\n",
        "\n",
        "no_of_wickets = df_wickets_jadeja.shape[0]\n",
        "no_of_dotballs = df_dot_balls_jadeja.shape[0]\n",
        "no_of_boundary_runs = df_boundaries_jadeja['batsman_runs'].sum()\n",
        "no_of_boundaries = df_boundaries_jadeja['batsman_runs'].count()\n",
        "no_of_balls_bowled = df_jadeja.shape[0]\n",
        "\n",
        "BLS_jadeja = (no_of_wickets + no_of_dotballs - (no_of_boundary_runs/no_of_boundaries))/(no_of_balls_bowled)\n"
      ],
      "execution_count": 185,
      "outputs": []
    },
    {
      "cell_type": "code",
      "metadata": {
        "id": "IgQu8B9lYJJz"
      },
      "source": [
        "#------------------------------- Bumrah ------------------------------\n",
        "\n",
        "df_bumrah = df_deliveries[(df_deliveries['bowler'] == 'JJ Bumrah')&(df_deliveries['wide_runs'] == 0)&(df_deliveries['noball_runs'] == 0)]\n",
        "df_wickets_bumrah = df_bumrah[(df_bumrah['player_dismissed'] != 'No Wicket') & (df_bumrah['dismissal_kind'] != 'run out')]\n",
        "df_dot_balls_bumrah = df_bumrah[(df_bumrah['total_runs'] == 0)]\n",
        "df_boundaries_bumrah = df_bumrah[(df_bumrah['batsman_runs'] == 4) | (df_bumrah['batsman_runs'] == 6)]\n",
        "\n",
        "no_of_wickets = df_wickets_bumrah.shape[0]\n",
        "no_of_dotballs = df_dot_balls_bumrah.shape[0]\n",
        "no_of_boundary_runs = df_boundaries_bumrah['batsman_runs'].sum()\n",
        "no_of_boundaries = df_boundaries_bumrah['batsman_runs'].count()\n",
        "no_of_balls_bowled = df_bumrah.shape[0]\n",
        "\n",
        "BLS_bumrah = (no_of_wickets + no_of_dotballs - (no_of_boundary_runs/no_of_boundaries))/(no_of_balls_bowled)\n",
        "\n",
        "#----------------------------- Krunal Pandya ----------------------------------------\n",
        "\n",
        "df_pandya = df_deliveries[(df_deliveries['bowler'] == 'KH Pandya') & (df_deliveries['wide_runs'] == 0) & (df_deliveries['noball_runs'] == 0)]\n",
        "df_wickets_pandya = df_pandya[(df_pandya['player_dismissed'] != 'No Wicket') & (df_pandya['dismissal_kind'] == 'run out')]\n",
        "df_dot_balls_pandya = df_pandya[(df_pandya['total_runs'] == 0)]\n",
        "df_boundaries_pandya = df_pandya[(df_pandya['batsman_runs'] == 4) | (df_pandya['batsman_runs'] == 6)]\n",
        "\n",
        "no_of_wickets = df_wickets_pandya.shape[0]\n",
        "no_of_dotballs = df_dot_balls_pandya.shape[0]\n",
        "no_of_boundary_runs = df_boundaries_pandya['batsman_runs'].sum()\n",
        "no_of_boundaries = df_boundaries_pandya['batsman_runs'].count()\n",
        "no_of_balls_bowled = df_pandya.shape[0]\n",
        "\n",
        "BLS_pandya = (no_of_wickets + no_of_dotballs - (no_of_boundary_runs/no_of_boundaries))/(no_of_balls_bowled)\n",
        "\n"
      ],
      "execution_count": 186,
      "outputs": []
    },
    {
      "cell_type": "code",
      "metadata": {
        "id": "MH44pVrDZi38"
      },
      "source": [
        "#----------------------------- Trent boult ----------------------------------------\n",
        "\n",
        "df_boult = df_deliveries[(df_deliveries['bowler'] == 'TA Boult') & (df_deliveries['wide_runs'] == 0) & (df_deliveries['noball_runs'] == 0)]\n",
        "df_wickets_boult = df_boult[(df_boult['player_dismissed'] != 'No Wicket') & (df_boult['dismissal_kind'] == 'run out')]\n",
        "df_dot_balls_boult = df_boult[(df_boult['total_runs'] == 0)]\n",
        "df_boundaries_boult = df_boult[(df_boult['batsman_runs'] == 4) | (df_boult['batsman_runs'] == 6)]\n",
        "\n",
        "no_of_wickets = df_wickets_boult.shape[0]\n",
        "no_of_dotballs = df_dot_balls_boult.shape[0]\n",
        "no_of_boundary_runs = df_boundaries_boult['batsman_runs'].sum()\n",
        "no_of_boundaries = df_boundaries_boult['batsman_runs'].count()\n",
        "no_of_balls_bowled = df_boult.shape[0]\n",
        "\n",
        "BLS_boult = (no_of_wickets + no_of_dotballs - (no_of_boundary_runs/no_of_boundaries))/(no_of_balls_bowled)\n",
        "\n",
        "#----------------------------- Rahul Chahar ----------------------------------------\n",
        "\n",
        "df_rahul = df_deliveries[(df_deliveries['bowler'] == 'RD Chahar') & (df_deliveries['wide_runs'] == 0) & (df_deliveries['noball_runs'] == 0)]\n",
        "df_wickets_rahul = df_rahul[(df_rahul['player_dismissed'] != 'No Wicket') & (df_rahul['dismissal_kind'] == 'run out')]\n",
        "df_dot_balls_rahul = df_rahul[(df_rahul['total_runs'] == 0)]\n",
        "df_boundaries_rahul = df_rahul[(df_rahul['batsman_runs'] == 4) | (df_rahul['batsman_runs'] == 6)]\n",
        "\n",
        "no_of_wickets = df_wickets_rahul.shape[0]\n",
        "no_of_dotballs = df_dot_balls_rahul.shape[0]\n",
        "no_of_boundary_runs = df_boundaries_rahul['batsman_runs'].sum()\n",
        "no_of_boundaries = df_boundaries_rahul['batsman_runs'].count()\n",
        "no_of_balls_bowled = df_rahul.shape[0]\n",
        "\n",
        "BLS_rahul = (no_of_wickets + no_of_dotballs - (no_of_boundary_runs/no_of_boundaries))/(no_of_balls_bowled)"
      ],
      "execution_count": 187,
      "outputs": []
    },
    {
      "cell_type": "code",
      "metadata": {
        "id": "0wJ1gyHqaxjB"
      },
      "source": [
        "#----------------------------- Shrdul Thakur ----------------------------------------\n",
        "\n",
        "df_thakur = df_deliveries[(df_deliveries['bowler'] == 'SN Thakur') & (df_deliveries['wide_runs'] == 0) & (df_deliveries['noball_runs'] == 0)]\n",
        "df_wickets_thakur = df_thakur[(df_thakur['player_dismissed'] != 'No Wicket') & (df_thakur['dismissal_kind'] == 'run out')]\n",
        "df_dot_balls_thakur = df_thakur[(df_thakur['total_runs'] == 0)]\n",
        "df_boundaries_thakur = df_thakur[(df_thakur['batsman_runs'] == 4) | (df_thakur['batsman_runs'] == 6)]\n",
        "\n",
        "no_of_wickets = df_wickets_thakur.shape[0]\n",
        "no_of_dotballs = df_dot_balls_thakur.shape[0]\n",
        "no_of_boundary_runs = df_boundaries_thakur['batsman_runs'].sum()\n",
        "no_of_boundaries = df_boundaries_thakur['batsman_runs'].count()\n",
        "no_of_balls_bowled = df_thakur.shape[0]\n",
        "\n",
        "BLS_thakur = (no_of_wickets + no_of_dotballs - (no_of_boundary_runs/no_of_boundaries))/(no_of_balls_bowled)\n",
        "\n",
        "#----------------------------- Imran Tahir ----------------------------------------\n",
        "\n",
        "df_tahir = df_deliveries[(df_deliveries['bowler'] == 'Imran Tahir') & (df_deliveries['wide_runs'] == 0) & (df_deliveries['noball_runs'] == 0)]\n",
        "df_wickets_tahir = df_tahir[(df_tahir['player_dismissed'] != 'No Wicket') & (df_tahir['dismissal_kind'] == 'run out')]\n",
        "df_dot_balls_tahir = df_tahir[(df_tahir['total_runs'] == 0)]\n",
        "df_boundaries_tahir= df_tahir[(df_tahir['batsman_runs'] == 4) | (df_tahir['batsman_runs'] == 6)]\n",
        "\n",
        "no_of_wickets = df_wickets_tahir.shape[0]\n",
        "no_of_dotballs = df_dot_balls_tahir.shape[0]\n",
        "no_of_boundary_runs = df_boundaries_tahir['batsman_runs'].sum()\n",
        "no_of_boundaries = df_boundaries_tahir['batsman_runs'].count()\n",
        "no_of_balls_bowled = df_tahir.shape[0]\n",
        "\n",
        "BLS_tahir = (no_of_wickets + no_of_dotballs - (no_of_boundary_runs/no_of_boundaries))/(no_of_balls_bowled)"
      ],
      "execution_count": 199,
      "outputs": []
    },
    {
      "cell_type": "code",
      "metadata": {
        "id": "fZlAHK9mb_tc",
        "outputId": "7d618802-b18a-4049-a62f-80aa4aa90141",
        "colab": {
          "base_uri": "https://localhost:8080/",
          "height": 168
        }
      },
      "source": [
        "print(\"Name                 BLS\")\n",
        "print(\"Deepak Chahar     \",BLS_chahar)\n",
        "print(\"Ravindra Jadeja   \",BLS_jadeja)\n",
        "print(\"Jasprith Bumrah   \",BLS_bumrah)\n",
        "print(\"Krunal Pandya     \",BLS_pandya)\n",
        "print(\"Trent Boult       \",BLS_boult)\n",
        "print(\"Rahul Chahar      \",BLS_rahul)\n",
        "print(\"Shardul Thakur    \",BLS_thakur)\n",
        "print(\"Imran Tahir       \",BLS_tahir)\n"
      ],
      "execution_count": 204,
      "outputs": [
        {
          "output_type": "stream",
          "text": [
            "Name                 BLS\n",
            "Deepak Chahar      0.5160998552821997\n",
            "Ravindra Jadeja    0.3271441395540675\n",
            "Jasprith Bumrah    0.41670907196816653\n",
            "Krunal Pandya      0.3157729157729158\n",
            "Trent Boult        0.3771720070141878\n",
            "Rahul Chahar       0.4138741916519694\n",
            "Shardul Thakur     0.3706618240516546\n",
            "Imran Tahir        0.3293375247409477\n"
          ],
          "name": "stdout"
        }
      ]
    },
    {
      "cell_type": "markdown",
      "metadata": {
        "id": "saB7k_ZneuKP"
      },
      "source": [
        "**Conclusion :-**\n",
        "\n",
        "Deepak chahar has the highest BLS till now in IPL among MI and CSK bowlers.\n",
        "\n",
        "So i am predicting in today match as well Deepak chahar will have highest bowling lethality score compare to all othe bowlers."
      ]
    }
  ]
}