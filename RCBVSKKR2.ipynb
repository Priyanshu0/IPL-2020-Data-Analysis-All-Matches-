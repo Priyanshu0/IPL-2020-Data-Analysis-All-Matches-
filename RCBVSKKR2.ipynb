{
  "nbformat": 4,
  "nbformat_minor": 0,
  "metadata": {
    "colab": {
      "name": "RCBVSKKR2.ipynb",
      "provenance": []
    },
    "kernelspec": {
      "name": "python3",
      "display_name": "Python 3"
    }
  },
  "cells": [
    {
      "cell_type": "code",
      "metadata": {
        "id": "0P88Ei8ENyLM",
        "outputId": "a0d9fa18-a4bd-41e3-c314-846f7d87c3c4",
        "colab": {
          "base_uri": "https://localhost:8080/",
          "height": 244
        }
      },
      "source": [
        "import warnings\n",
        "warnings.filterwarnings(\"ignore\")\n",
        "import pandas as pd\n",
        "\n",
        "df_matches = pd.read_csv(\"matches.csv\")\n",
        "df_matches.head(2)"
      ],
      "execution_count": 3,
      "outputs": [
        {
          "output_type": "execute_result",
          "data": {
            "text/html": [
              "<div>\n",
              "<style scoped>\n",
              "    .dataframe tbody tr th:only-of-type {\n",
              "        vertical-align: middle;\n",
              "    }\n",
              "\n",
              "    .dataframe tbody tr th {\n",
              "        vertical-align: top;\n",
              "    }\n",
              "\n",
              "    .dataframe thead th {\n",
              "        text-align: right;\n",
              "    }\n",
              "</style>\n",
              "<table border=\"1\" class=\"dataframe\">\n",
              "  <thead>\n",
              "    <tr style=\"text-align: right;\">\n",
              "      <th></th>\n",
              "      <th>id</th>\n",
              "      <th>season</th>\n",
              "      <th>city</th>\n",
              "      <th>date</th>\n",
              "      <th>team1</th>\n",
              "      <th>team2</th>\n",
              "      <th>toss_winner</th>\n",
              "      <th>toss_decision</th>\n",
              "      <th>result</th>\n",
              "      <th>dl_applied</th>\n",
              "      <th>winner</th>\n",
              "      <th>win_by_runs</th>\n",
              "      <th>win_by_wickets</th>\n",
              "      <th>player_of_match</th>\n",
              "      <th>venue</th>\n",
              "      <th>umpire1</th>\n",
              "      <th>umpire2</th>\n",
              "      <th>umpire3</th>\n",
              "    </tr>\n",
              "  </thead>\n",
              "  <tbody>\n",
              "    <tr>\n",
              "      <th>0</th>\n",
              "      <td>1</td>\n",
              "      <td>2017</td>\n",
              "      <td>Hyderabad</td>\n",
              "      <td>2017-04-05</td>\n",
              "      <td>Sunrisers Hyderabad</td>\n",
              "      <td>Royal Challengers Bangalore</td>\n",
              "      <td>Royal Challengers Bangalore</td>\n",
              "      <td>field</td>\n",
              "      <td>normal</td>\n",
              "      <td>0</td>\n",
              "      <td>Sunrisers Hyderabad</td>\n",
              "      <td>35</td>\n",
              "      <td>0</td>\n",
              "      <td>Yuvraj Singh</td>\n",
              "      <td>Rajiv Gandhi International Stadium, Uppal</td>\n",
              "      <td>AY Dandekar</td>\n",
              "      <td>NJ Llong</td>\n",
              "      <td>NaN</td>\n",
              "    </tr>\n",
              "    <tr>\n",
              "      <th>1</th>\n",
              "      <td>2</td>\n",
              "      <td>2017</td>\n",
              "      <td>Pune</td>\n",
              "      <td>2017-04-06</td>\n",
              "      <td>Mumbai Indians</td>\n",
              "      <td>Rising Pune Supergiant</td>\n",
              "      <td>Rising Pune Supergiant</td>\n",
              "      <td>field</td>\n",
              "      <td>normal</td>\n",
              "      <td>0</td>\n",
              "      <td>Rising Pune Supergiant</td>\n",
              "      <td>0</td>\n",
              "      <td>7</td>\n",
              "      <td>SPD Smith</td>\n",
              "      <td>Maharashtra Cricket Association Stadium</td>\n",
              "      <td>A Nand Kishore</td>\n",
              "      <td>S Ravi</td>\n",
              "      <td>NaN</td>\n",
              "    </tr>\n",
              "  </tbody>\n",
              "</table>\n",
              "</div>"
            ],
            "text/plain": [
              "   id  season       city  ...         umpire1   umpire2 umpire3\n",
              "0   1    2017  Hyderabad  ...     AY Dandekar  NJ Llong     NaN\n",
              "1   2    2017       Pune  ...  A Nand Kishore    S Ravi     NaN\n",
              "\n",
              "[2 rows x 18 columns]"
            ]
          },
          "metadata": {
            "tags": []
          },
          "execution_count": 3
        }
      ]
    },
    {
      "cell_type": "code",
      "metadata": {
        "id": "yPyGK2LxSCHM",
        "outputId": "fb0f3a8d-5749-4f50-fe57-43cfbda32655",
        "colab": {
          "base_uri": "https://localhost:8080/",
          "height": 194
        }
      },
      "source": [
        "df_deliveries = pd.read_csv(\"deliveries.csv\")\n",
        "df_deliveries.head(2)"
      ],
      "execution_count": 4,
      "outputs": [
        {
          "output_type": "execute_result",
          "data": {
            "text/html": [
              "<div>\n",
              "<style scoped>\n",
              "    .dataframe tbody tr th:only-of-type {\n",
              "        vertical-align: middle;\n",
              "    }\n",
              "\n",
              "    .dataframe tbody tr th {\n",
              "        vertical-align: top;\n",
              "    }\n",
              "\n",
              "    .dataframe thead th {\n",
              "        text-align: right;\n",
              "    }\n",
              "</style>\n",
              "<table border=\"1\" class=\"dataframe\">\n",
              "  <thead>\n",
              "    <tr style=\"text-align: right;\">\n",
              "      <th></th>\n",
              "      <th>match_id</th>\n",
              "      <th>inning</th>\n",
              "      <th>batting_team</th>\n",
              "      <th>bowling_team</th>\n",
              "      <th>over</th>\n",
              "      <th>ball</th>\n",
              "      <th>batsman</th>\n",
              "      <th>non_striker</th>\n",
              "      <th>bowler</th>\n",
              "      <th>is_super_over</th>\n",
              "      <th>wide_runs</th>\n",
              "      <th>bye_runs</th>\n",
              "      <th>legbye_runs</th>\n",
              "      <th>noball_runs</th>\n",
              "      <th>penalty_runs</th>\n",
              "      <th>batsman_runs</th>\n",
              "      <th>extra_runs</th>\n",
              "      <th>total_runs</th>\n",
              "      <th>player_dismissed</th>\n",
              "      <th>dismissal_kind</th>\n",
              "      <th>fielder</th>\n",
              "    </tr>\n",
              "  </thead>\n",
              "  <tbody>\n",
              "    <tr>\n",
              "      <th>0</th>\n",
              "      <td>1</td>\n",
              "      <td>1</td>\n",
              "      <td>Sunrisers Hyderabad</td>\n",
              "      <td>Royal Challengers Bangalore</td>\n",
              "      <td>1</td>\n",
              "      <td>1</td>\n",
              "      <td>DA Warner</td>\n",
              "      <td>S Dhawan</td>\n",
              "      <td>TS Mills</td>\n",
              "      <td>0</td>\n",
              "      <td>0</td>\n",
              "      <td>0</td>\n",
              "      <td>0</td>\n",
              "      <td>0</td>\n",
              "      <td>0</td>\n",
              "      <td>0</td>\n",
              "      <td>0</td>\n",
              "      <td>0</td>\n",
              "      <td>NaN</td>\n",
              "      <td>NaN</td>\n",
              "      <td>NaN</td>\n",
              "    </tr>\n",
              "    <tr>\n",
              "      <th>1</th>\n",
              "      <td>1</td>\n",
              "      <td>1</td>\n",
              "      <td>Sunrisers Hyderabad</td>\n",
              "      <td>Royal Challengers Bangalore</td>\n",
              "      <td>1</td>\n",
              "      <td>2</td>\n",
              "      <td>DA Warner</td>\n",
              "      <td>S Dhawan</td>\n",
              "      <td>TS Mills</td>\n",
              "      <td>0</td>\n",
              "      <td>0</td>\n",
              "      <td>0</td>\n",
              "      <td>0</td>\n",
              "      <td>0</td>\n",
              "      <td>0</td>\n",
              "      <td>0</td>\n",
              "      <td>0</td>\n",
              "      <td>0</td>\n",
              "      <td>NaN</td>\n",
              "      <td>NaN</td>\n",
              "      <td>NaN</td>\n",
              "    </tr>\n",
              "  </tbody>\n",
              "</table>\n",
              "</div>"
            ],
            "text/plain": [
              "   match_id  inning  ... dismissal_kind fielder\n",
              "0         1       1  ...            NaN     NaN\n",
              "1         1       1  ...            NaN     NaN\n",
              "\n",
              "[2 rows x 21 columns]"
            ]
          },
          "metadata": {
            "tags": []
          },
          "execution_count": 4
        }
      ]
    },
    {
      "cell_type": "code",
      "metadata": {
        "id": "0uTZ_DQuSOYJ",
        "outputId": "d7b12cf5-ce3e-4f13-a8fe-7b38e642bd84",
        "colab": {
          "base_uri": "https://localhost:8080/",
          "height": 50
        }
      },
      "source": [
        "print(df_matches.shape)\n",
        "print(df_deliveries.shape)"
      ],
      "execution_count": 5,
      "outputs": [
        {
          "output_type": "stream",
          "text": [
            "(756, 18)\n",
            "(179078, 21)\n"
          ],
          "name": "stdout"
        }
      ]
    },
    {
      "cell_type": "markdown",
      "metadata": {
        "id": "D4UIIXi2SW9W"
      },
      "source": [
        "In matches data frame columns like umpire1,umpire2,umpire3 are not useful because these days they are using technology. So we cant decide which umpire is more useful for predicting anything related to match.\n",
        "\n",
        "Date is also not useful because we already have season column which is also almost equal to date.\n",
        "\n",
        "City and venue also not important features for this year IPL. Because IPL2020 is happening in UAE, only 2014 ipl was happened in UAE that to half season. But i am removing only venue it almost equal to city feature.\n",
        "\n",
        "'Result' feature is almost equal to 'winner' feature. So i am dropping result column also."
      ]
    },
    {
      "cell_type": "code",
      "metadata": {
        "id": "QYjHiWwTSSqR",
        "outputId": "c9b43505-5092-4c31-8168-5c5500894db6",
        "colab": {
          "base_uri": "https://localhost:8080/",
          "height": 194
        }
      },
      "source": [
        "df_matches = df_matches.drop(['venue','date','result','umpire1','umpire2','umpire3'], axis = 1) \n",
        "df_matches.head(2)"
      ],
      "execution_count": 6,
      "outputs": [
        {
          "output_type": "execute_result",
          "data": {
            "text/html": [
              "<div>\n",
              "<style scoped>\n",
              "    .dataframe tbody tr th:only-of-type {\n",
              "        vertical-align: middle;\n",
              "    }\n",
              "\n",
              "    .dataframe tbody tr th {\n",
              "        vertical-align: top;\n",
              "    }\n",
              "\n",
              "    .dataframe thead th {\n",
              "        text-align: right;\n",
              "    }\n",
              "</style>\n",
              "<table border=\"1\" class=\"dataframe\">\n",
              "  <thead>\n",
              "    <tr style=\"text-align: right;\">\n",
              "      <th></th>\n",
              "      <th>id</th>\n",
              "      <th>season</th>\n",
              "      <th>city</th>\n",
              "      <th>team1</th>\n",
              "      <th>team2</th>\n",
              "      <th>toss_winner</th>\n",
              "      <th>toss_decision</th>\n",
              "      <th>dl_applied</th>\n",
              "      <th>winner</th>\n",
              "      <th>win_by_runs</th>\n",
              "      <th>win_by_wickets</th>\n",
              "      <th>player_of_match</th>\n",
              "    </tr>\n",
              "  </thead>\n",
              "  <tbody>\n",
              "    <tr>\n",
              "      <th>0</th>\n",
              "      <td>1</td>\n",
              "      <td>2017</td>\n",
              "      <td>Hyderabad</td>\n",
              "      <td>Sunrisers Hyderabad</td>\n",
              "      <td>Royal Challengers Bangalore</td>\n",
              "      <td>Royal Challengers Bangalore</td>\n",
              "      <td>field</td>\n",
              "      <td>0</td>\n",
              "      <td>Sunrisers Hyderabad</td>\n",
              "      <td>35</td>\n",
              "      <td>0</td>\n",
              "      <td>Yuvraj Singh</td>\n",
              "    </tr>\n",
              "    <tr>\n",
              "      <th>1</th>\n",
              "      <td>2</td>\n",
              "      <td>2017</td>\n",
              "      <td>Pune</td>\n",
              "      <td>Mumbai Indians</td>\n",
              "      <td>Rising Pune Supergiant</td>\n",
              "      <td>Rising Pune Supergiant</td>\n",
              "      <td>field</td>\n",
              "      <td>0</td>\n",
              "      <td>Rising Pune Supergiant</td>\n",
              "      <td>0</td>\n",
              "      <td>7</td>\n",
              "      <td>SPD Smith</td>\n",
              "    </tr>\n",
              "  </tbody>\n",
              "</table>\n",
              "</div>"
            ],
            "text/plain": [
              "   id  season       city  ... win_by_runs win_by_wickets player_of_match\n",
              "0   1    2017  Hyderabad  ...          35              0    Yuvraj Singh\n",
              "1   2    2017       Pune  ...           0              7       SPD Smith\n",
              "\n",
              "[2 rows x 12 columns]"
            ]
          },
          "metadata": {
            "tags": []
          },
          "execution_count": 6
        }
      ]
    },
    {
      "cell_type": "code",
      "metadata": {
        "id": "ZSUNsMIKSky3",
        "outputId": "871eda1b-f3dc-4bbb-f81f-1bcdbd3c7246",
        "colab": {
          "base_uri": "https://localhost:8080/",
          "height": 286
        }
      },
      "source": [
        "print(df_matches[\"team1\"].value_counts())"
      ],
      "execution_count": 7,
      "outputs": [
        {
          "output_type": "stream",
          "text": [
            "Mumbai Indians                 101\n",
            "Kings XI Punjab                 91\n",
            "Chennai Super Kings             89\n",
            "Royal Challengers Bangalore     85\n",
            "Kolkata Knight Riders           83\n",
            "Delhi Daredevils                72\n",
            "Rajasthan Royals                67\n",
            "Sunrisers Hyderabad             63\n",
            "Deccan Chargers                 43\n",
            "Pune Warriors                   20\n",
            "Gujarat Lions                   14\n",
            "Rising Pune Supergiant           8\n",
            "Rising Pune Supergiants          7\n",
            "Kochi Tuskers Kerala             7\n",
            "Delhi Capitals                   6\n",
            "Name: team1, dtype: int64\n"
          ],
          "name": "stdout"
        }
      ]
    },
    {
      "cell_type": "code",
      "metadata": {
        "id": "RC8IFzziSpCK"
      },
      "source": [
        "#In 2019 delhi daredevils name changed to delhi capitals. So i am replacing old name with new name for all the rows.\n",
        "df_matches = df_matches.replace(to_replace =\"Delhi Daredevils\", value = \"Delhi Capitals\") \n",
        "\n",
        "df_deliveries = df_deliveries.replace(to_replace = \"Delhi Daredevils\", value = \"Delhi Capitals\")\n",
        "\n",
        "#Rising pune supergiants name also printed in two ways. Lets change it to Rising pune supergiants.\n",
        "df_matches = df_matches.replace(to_replace =\"Rising Pune Supergiant\", value = \"Rising Pune Supergiants\") \n",
        "\n",
        "df_deliveries = df_deliveries.replace(to_replace = \"Rising Pune Supergiant\", value = \"Rising Pune Supergiants\")"
      ],
      "execution_count": 8,
      "outputs": []
    },
    {
      "cell_type": "code",
      "metadata": {
        "id": "h2klnmBbWeKx",
        "outputId": "860c31ba-0bab-48dd-e54b-d5384bd08f31",
        "colab": {
          "base_uri": "https://localhost:8080/",
          "height": 235
        }
      },
      "source": [
        "#checking null values in matches dataset\n",
        "print(df_matches.isnull().sum())"
      ],
      "execution_count": 9,
      "outputs": [
        {
          "output_type": "stream",
          "text": [
            "id                 0\n",
            "season             0\n",
            "city               7\n",
            "team1              0\n",
            "team2              0\n",
            "toss_winner        0\n",
            "toss_decision      0\n",
            "dl_applied         0\n",
            "winner             4\n",
            "win_by_runs        0\n",
            "win_by_wickets     0\n",
            "player_of_match    4\n",
            "dtype: int64\n"
          ],
          "name": "stdout"
        }
      ]
    },
    {
      "cell_type": "code",
      "metadata": {
        "id": "JRm4H6zwXIUh",
        "outputId": "5f5c7af2-17a6-42eb-e3a5-07f30f70f547",
        "colab": {
          "base_uri": "https://localhost:8080/",
          "height": 177
        }
      },
      "source": [
        "#printing null rows in matches dataset\n",
        "df1_null = df_matches[df_matches.isna().any(axis=1)]\n",
        "df1_null.head(2)"
      ],
      "execution_count": 10,
      "outputs": [
        {
          "output_type": "execute_result",
          "data": {
            "text/html": [
              "<div>\n",
              "<style scoped>\n",
              "    .dataframe tbody tr th:only-of-type {\n",
              "        vertical-align: middle;\n",
              "    }\n",
              "\n",
              "    .dataframe tbody tr th {\n",
              "        vertical-align: top;\n",
              "    }\n",
              "\n",
              "    .dataframe thead th {\n",
              "        text-align: right;\n",
              "    }\n",
              "</style>\n",
              "<table border=\"1\" class=\"dataframe\">\n",
              "  <thead>\n",
              "    <tr style=\"text-align: right;\">\n",
              "      <th></th>\n",
              "      <th>id</th>\n",
              "      <th>season</th>\n",
              "      <th>city</th>\n",
              "      <th>team1</th>\n",
              "      <th>team2</th>\n",
              "      <th>toss_winner</th>\n",
              "      <th>toss_decision</th>\n",
              "      <th>dl_applied</th>\n",
              "      <th>winner</th>\n",
              "      <th>win_by_runs</th>\n",
              "      <th>win_by_wickets</th>\n",
              "      <th>player_of_match</th>\n",
              "    </tr>\n",
              "  </thead>\n",
              "  <tbody>\n",
              "    <tr>\n",
              "      <th>300</th>\n",
              "      <td>301</td>\n",
              "      <td>2011</td>\n",
              "      <td>Delhi</td>\n",
              "      <td>Delhi Capitals</td>\n",
              "      <td>Pune Warriors</td>\n",
              "      <td>Delhi Capitals</td>\n",
              "      <td>bat</td>\n",
              "      <td>0</td>\n",
              "      <td>NaN</td>\n",
              "      <td>0</td>\n",
              "      <td>0</td>\n",
              "      <td>NaN</td>\n",
              "    </tr>\n",
              "    <tr>\n",
              "      <th>461</th>\n",
              "      <td>462</td>\n",
              "      <td>2014</td>\n",
              "      <td>NaN</td>\n",
              "      <td>Mumbai Indians</td>\n",
              "      <td>Royal Challengers Bangalore</td>\n",
              "      <td>Royal Challengers Bangalore</td>\n",
              "      <td>field</td>\n",
              "      <td>0</td>\n",
              "      <td>Royal Challengers Bangalore</td>\n",
              "      <td>0</td>\n",
              "      <td>7</td>\n",
              "      <td>PA Patel</td>\n",
              "    </tr>\n",
              "  </tbody>\n",
              "</table>\n",
              "</div>"
            ],
            "text/plain": [
              "      id  season   city  ... win_by_runs win_by_wickets player_of_match\n",
              "300  301    2011  Delhi  ...           0              0             NaN\n",
              "461  462    2014    NaN  ...           0              7        PA Patel\n",
              "\n",
              "[2 rows x 12 columns]"
            ]
          },
          "metadata": {
            "tags": []
          },
          "execution_count": 10
        }
      ]
    },
    {
      "cell_type": "code",
      "metadata": {
        "id": "CLpm6gizXLUx",
        "outputId": "992c74e5-b2a2-4c3d-d3e3-1e1acf6ab45f",
        "colab": {
          "base_uri": "https://localhost:8080/",
          "height": 34
        }
      },
      "source": [
        "#After seeing above table we can clearly understood that 4 matches are not played beacuse of rain, badlight or pitch condition. \n",
        "#So i am replacing those null values in winner column with no result and palyer of the match column null values with not declared.\n",
        "df_matches[\"winner\"].fillna(\"No result\", inplace = True)\n",
        "df_matches['player_of_match'].fillna(\"Not declared\", inplace = True)\n",
        "#city column also has 7 null values. I checked those matches data in Espn website and they played in Dubai.\n",
        "df_matches[\"city\"].fillna(\"Dubai\", inplace = True)\n",
        "print(df_matches.shape)"
      ],
      "execution_count": 11,
      "outputs": [
        {
          "output_type": "stream",
          "text": [
            "(756, 12)\n"
          ],
          "name": "stdout"
        }
      ]
    },
    {
      "cell_type": "code",
      "metadata": {
        "id": "_q5c75dYXOo5",
        "outputId": "5f34d256-e846-45cc-d5e6-ab9131466468",
        "colab": {
          "base_uri": "https://localhost:8080/",
          "height": 386
        }
      },
      "source": [
        "#checking null values in deliveries dataset\n",
        "print(df_deliveries.isnull().sum())"
      ],
      "execution_count": 12,
      "outputs": [
        {
          "output_type": "stream",
          "text": [
            "match_id                 0\n",
            "inning                   0\n",
            "batting_team             0\n",
            "bowling_team             0\n",
            "over                     0\n",
            "ball                     0\n",
            "batsman                  0\n",
            "non_striker              0\n",
            "bowler                   0\n",
            "is_super_over            0\n",
            "wide_runs                0\n",
            "bye_runs                 0\n",
            "legbye_runs              0\n",
            "noball_runs              0\n",
            "penalty_runs             0\n",
            "batsman_runs             0\n",
            "extra_runs               0\n",
            "total_runs               0\n",
            "player_dismissed    170244\n",
            "dismissal_kind      170244\n",
            "fielder             172630\n",
            "dtype: int64\n"
          ],
          "name": "stdout"
        }
      ]
    },
    {
      "cell_type": "markdown",
      "metadata": {
        "id": "TEkVRvRgXXR2"
      },
      "source": [
        "Player_dismissed, dismissal_kind and fielder features are having null values. But if you consider today questions only 'player_dismissed' and 'dismissal_kind' features are useful for today analysis. So i am removing \"fielder\" feature.\n",
        "\n",
        "Filling player_dismissed null values with 'No wicket', didmissal_Kind null values with also No Wicket"
      ]
    },
    {
      "cell_type": "code",
      "metadata": {
        "id": "gqIBbiorXT6m",
        "outputId": "1d2c3ba2-1aea-49c8-9235-bc67ddd1916a",
        "colab": {
          "base_uri": "https://localhost:8080/",
          "height": 194
        }
      },
      "source": [
        "#dropping fielder column\n",
        "df_deliveries = df_deliveries.drop(['fielder'], axis = 1) \n",
        "#filling null values\n",
        "df_deliveries[\"player_dismissed\"].fillna(\"No Wicket\", inplace = True)\n",
        "df_deliveries[\"dismissal_kind\"].fillna(\"No Wicket\", inplace = True)\n",
        "df_deliveries.head(2)"
      ],
      "execution_count": 13,
      "outputs": [
        {
          "output_type": "execute_result",
          "data": {
            "text/html": [
              "<div>\n",
              "<style scoped>\n",
              "    .dataframe tbody tr th:only-of-type {\n",
              "        vertical-align: middle;\n",
              "    }\n",
              "\n",
              "    .dataframe tbody tr th {\n",
              "        vertical-align: top;\n",
              "    }\n",
              "\n",
              "    .dataframe thead th {\n",
              "        text-align: right;\n",
              "    }\n",
              "</style>\n",
              "<table border=\"1\" class=\"dataframe\">\n",
              "  <thead>\n",
              "    <tr style=\"text-align: right;\">\n",
              "      <th></th>\n",
              "      <th>match_id</th>\n",
              "      <th>inning</th>\n",
              "      <th>batting_team</th>\n",
              "      <th>bowling_team</th>\n",
              "      <th>over</th>\n",
              "      <th>ball</th>\n",
              "      <th>batsman</th>\n",
              "      <th>non_striker</th>\n",
              "      <th>bowler</th>\n",
              "      <th>is_super_over</th>\n",
              "      <th>wide_runs</th>\n",
              "      <th>bye_runs</th>\n",
              "      <th>legbye_runs</th>\n",
              "      <th>noball_runs</th>\n",
              "      <th>penalty_runs</th>\n",
              "      <th>batsman_runs</th>\n",
              "      <th>extra_runs</th>\n",
              "      <th>total_runs</th>\n",
              "      <th>player_dismissed</th>\n",
              "      <th>dismissal_kind</th>\n",
              "    </tr>\n",
              "  </thead>\n",
              "  <tbody>\n",
              "    <tr>\n",
              "      <th>0</th>\n",
              "      <td>1</td>\n",
              "      <td>1</td>\n",
              "      <td>Sunrisers Hyderabad</td>\n",
              "      <td>Royal Challengers Bangalore</td>\n",
              "      <td>1</td>\n",
              "      <td>1</td>\n",
              "      <td>DA Warner</td>\n",
              "      <td>S Dhawan</td>\n",
              "      <td>TS Mills</td>\n",
              "      <td>0</td>\n",
              "      <td>0</td>\n",
              "      <td>0</td>\n",
              "      <td>0</td>\n",
              "      <td>0</td>\n",
              "      <td>0</td>\n",
              "      <td>0</td>\n",
              "      <td>0</td>\n",
              "      <td>0</td>\n",
              "      <td>No Wicket</td>\n",
              "      <td>No Wicket</td>\n",
              "    </tr>\n",
              "    <tr>\n",
              "      <th>1</th>\n",
              "      <td>1</td>\n",
              "      <td>1</td>\n",
              "      <td>Sunrisers Hyderabad</td>\n",
              "      <td>Royal Challengers Bangalore</td>\n",
              "      <td>1</td>\n",
              "      <td>2</td>\n",
              "      <td>DA Warner</td>\n",
              "      <td>S Dhawan</td>\n",
              "      <td>TS Mills</td>\n",
              "      <td>0</td>\n",
              "      <td>0</td>\n",
              "      <td>0</td>\n",
              "      <td>0</td>\n",
              "      <td>0</td>\n",
              "      <td>0</td>\n",
              "      <td>0</td>\n",
              "      <td>0</td>\n",
              "      <td>0</td>\n",
              "      <td>No Wicket</td>\n",
              "      <td>No Wicket</td>\n",
              "    </tr>\n",
              "  </tbody>\n",
              "</table>\n",
              "</div>"
            ],
            "text/plain": [
              "   match_id  inning  ... player_dismissed dismissal_kind\n",
              "0         1       1  ...        No Wicket      No Wicket\n",
              "1         1       1  ...        No Wicket      No Wicket\n",
              "\n",
              "[2 rows x 20 columns]"
            ]
          },
          "metadata": {
            "tags": []
          },
          "execution_count": 13
        }
      ]
    },
    {
      "cell_type": "code",
      "metadata": {
        "id": "F140V8FhXbXV"
      },
      "source": [
        "df_total = pd.merge(df_matches, df_deliveries, left_on='id',right_on='match_id', how='outer')"
      ],
      "execution_count": 14,
      "outputs": []
    },
    {
      "cell_type": "markdown",
      "metadata": {
        "id": "IomKsZC1Xewy"
      },
      "source": [
        "### Q1) Who will win today match RCB VS KKR?"
      ]
    },
    {
      "cell_type": "code",
      "metadata": {
        "id": "pOwGfZ2vXtR0",
        "outputId": "300ea9b8-bf91-4de8-94c5-caa70572e633",
        "colab": {
          "base_uri": "https://localhost:8080/",
          "height": 542
        }
      },
      "source": [
        "# Lets check winning ratio between RCB VS KKR\n",
        "df_RCB_KKR = df_matches[((df_matches['team1'] == 'Royal Challengers Bangalore') | (df_matches['team1'] == 'Kolkata Knight Riders')) & \n",
        "                         ((df_matches['team2'] == 'Royal Challengers Bangalore') | (df_matches['team2'] == 'Kolkata Knight Riders'))] \n",
        "\n",
        "#plotting RCB and KKR wins against each other\n",
        "import plotly.graph_objs as go\n",
        "df_winner = df_RCB_KKR[['id','winner']].groupby('winner').size().reset_index()\n",
        "df_winner.columns = ['winner','total_wins']\n",
        "df_winner = df_winner.sort_values('total_wins',ascending=False)\n",
        "\n",
        "data = go.Bar(x = df_winner['winner'],y = df_winner['total_wins'])\n",
        "layout = go.Layout(title = 'Number of wins by RCB and KKR against each other',xaxis = dict(title = 'Team'),yaxis = dict(title = 'No of wins'))\n",
        "fig = go.Figure(data = data,layout = layout)\n",
        "fig.show()"
      ],
      "execution_count": 15,
      "outputs": [
        {
          "output_type": "display_data",
          "data": {
            "text/html": [
              "<html>\n",
              "<head><meta charset=\"utf-8\" /></head>\n",
              "<body>\n",
              "    <div>\n",
              "            <script src=\"https://cdnjs.cloudflare.com/ajax/libs/mathjax/2.7.5/MathJax.js?config=TeX-AMS-MML_SVG\"></script><script type=\"text/javascript\">if (window.MathJax) {MathJax.Hub.Config({SVG: {font: \"STIX-Web\"}});}</script>\n",
              "                <script type=\"text/javascript\">window.PlotlyConfig = {MathJaxConfig: 'local'};</script>\n",
              "        <script src=\"https://cdn.plot.ly/plotly-latest.min.js\"></script>    \n",
              "            <div id=\"724a6e89-a903-4ff3-bf67-8582c1badaf5\" class=\"plotly-graph-div\" style=\"height:525px; width:100%;\"></div>\n",
              "            <script type=\"text/javascript\">\n",
              "                \n",
              "                    window.PLOTLYENV=window.PLOTLYENV || {};\n",
              "                    \n",
              "                if (document.getElementById(\"724a6e89-a903-4ff3-bf67-8582c1badaf5\")) {\n",
              "                    Plotly.newPlot(\n",
              "                        '724a6e89-a903-4ff3-bf67-8582c1badaf5',\n",
              "                        [{\"type\": \"bar\", \"x\": [\"Kolkata Knight Riders\", \"Royal Challengers Bangalore\"], \"y\": [14, 10]}],\n",
              "                        {\"template\": {\"data\": {\"bar\": [{\"error_x\": {\"color\": \"#2a3f5f\"}, \"error_y\": {\"color\": \"#2a3f5f\"}, \"marker\": {\"line\": {\"color\": \"#E5ECF6\", \"width\": 0.5}}, \"type\": \"bar\"}], \"barpolar\": [{\"marker\": {\"line\": {\"color\": \"#E5ECF6\", \"width\": 0.5}}, \"type\": \"barpolar\"}], \"carpet\": [{\"aaxis\": {\"endlinecolor\": \"#2a3f5f\", \"gridcolor\": \"white\", \"linecolor\": \"white\", \"minorgridcolor\": \"white\", \"startlinecolor\": \"#2a3f5f\"}, \"baxis\": {\"endlinecolor\": \"#2a3f5f\", \"gridcolor\": \"white\", \"linecolor\": \"white\", \"minorgridcolor\": \"white\", \"startlinecolor\": \"#2a3f5f\"}, \"type\": \"carpet\"}], \"choropleth\": [{\"colorbar\": {\"outlinewidth\": 0, \"ticks\": \"\"}, \"type\": \"choropleth\"}], \"contour\": [{\"colorbar\": {\"outlinewidth\": 0, \"ticks\": \"\"}, \"colorscale\": [[0.0, \"#0d0887\"], [0.1111111111111111, \"#46039f\"], [0.2222222222222222, \"#7201a8\"], [0.3333333333333333, \"#9c179e\"], [0.4444444444444444, \"#bd3786\"], [0.5555555555555556, \"#d8576b\"], [0.6666666666666666, \"#ed7953\"], [0.7777777777777778, \"#fb9f3a\"], [0.8888888888888888, \"#fdca26\"], [1.0, \"#f0f921\"]], \"type\": \"contour\"}], \"contourcarpet\": [{\"colorbar\": {\"outlinewidth\": 0, \"ticks\": \"\"}, \"type\": \"contourcarpet\"}], \"heatmap\": [{\"colorbar\": {\"outlinewidth\": 0, \"ticks\": \"\"}, \"colorscale\": [[0.0, \"#0d0887\"], [0.1111111111111111, \"#46039f\"], [0.2222222222222222, \"#7201a8\"], [0.3333333333333333, \"#9c179e\"], [0.4444444444444444, \"#bd3786\"], [0.5555555555555556, \"#d8576b\"], [0.6666666666666666, \"#ed7953\"], [0.7777777777777778, \"#fb9f3a\"], [0.8888888888888888, \"#fdca26\"], [1.0, \"#f0f921\"]], \"type\": \"heatmap\"}], \"heatmapgl\": [{\"colorbar\": {\"outlinewidth\": 0, \"ticks\": \"\"}, \"colorscale\": [[0.0, \"#0d0887\"], [0.1111111111111111, \"#46039f\"], [0.2222222222222222, \"#7201a8\"], [0.3333333333333333, \"#9c179e\"], [0.4444444444444444, \"#bd3786\"], [0.5555555555555556, \"#d8576b\"], [0.6666666666666666, \"#ed7953\"], [0.7777777777777778, \"#fb9f3a\"], [0.8888888888888888, \"#fdca26\"], [1.0, \"#f0f921\"]], \"type\": \"heatmapgl\"}], \"histogram\": [{\"marker\": {\"colorbar\": {\"outlinewidth\": 0, \"ticks\": \"\"}}, \"type\": \"histogram\"}], \"histogram2d\": [{\"colorbar\": {\"outlinewidth\": 0, \"ticks\": \"\"}, \"colorscale\": [[0.0, \"#0d0887\"], [0.1111111111111111, \"#46039f\"], [0.2222222222222222, \"#7201a8\"], [0.3333333333333333, \"#9c179e\"], [0.4444444444444444, \"#bd3786\"], [0.5555555555555556, \"#d8576b\"], [0.6666666666666666, \"#ed7953\"], [0.7777777777777778, \"#fb9f3a\"], [0.8888888888888888, \"#fdca26\"], [1.0, \"#f0f921\"]], \"type\": \"histogram2d\"}], \"histogram2dcontour\": [{\"colorbar\": {\"outlinewidth\": 0, \"ticks\": \"\"}, \"colorscale\": [[0.0, \"#0d0887\"], [0.1111111111111111, \"#46039f\"], [0.2222222222222222, \"#7201a8\"], [0.3333333333333333, \"#9c179e\"], [0.4444444444444444, \"#bd3786\"], [0.5555555555555556, \"#d8576b\"], [0.6666666666666666, \"#ed7953\"], [0.7777777777777778, \"#fb9f3a\"], [0.8888888888888888, \"#fdca26\"], [1.0, \"#f0f921\"]], \"type\": \"histogram2dcontour\"}], \"mesh3d\": [{\"colorbar\": {\"outlinewidth\": 0, \"ticks\": \"\"}, \"type\": \"mesh3d\"}], \"parcoords\": [{\"line\": {\"colorbar\": {\"outlinewidth\": 0, \"ticks\": \"\"}}, \"type\": \"parcoords\"}], \"pie\": [{\"automargin\": true, \"type\": \"pie\"}], \"scatter\": [{\"marker\": {\"colorbar\": {\"outlinewidth\": 0, \"ticks\": \"\"}}, \"type\": \"scatter\"}], \"scatter3d\": [{\"line\": {\"colorbar\": {\"outlinewidth\": 0, \"ticks\": \"\"}}, \"marker\": {\"colorbar\": {\"outlinewidth\": 0, \"ticks\": \"\"}}, \"type\": \"scatter3d\"}], \"scattercarpet\": [{\"marker\": {\"colorbar\": {\"outlinewidth\": 0, \"ticks\": \"\"}}, \"type\": \"scattercarpet\"}], \"scattergeo\": [{\"marker\": {\"colorbar\": {\"outlinewidth\": 0, \"ticks\": \"\"}}, \"type\": \"scattergeo\"}], \"scattergl\": [{\"marker\": {\"colorbar\": {\"outlinewidth\": 0, \"ticks\": \"\"}}, \"type\": \"scattergl\"}], \"scattermapbox\": [{\"marker\": {\"colorbar\": {\"outlinewidth\": 0, \"ticks\": \"\"}}, \"type\": \"scattermapbox\"}], \"scatterpolar\": [{\"marker\": {\"colorbar\": {\"outlinewidth\": 0, \"ticks\": \"\"}}, \"type\": \"scatterpolar\"}], \"scatterpolargl\": [{\"marker\": {\"colorbar\": {\"outlinewidth\": 0, \"ticks\": \"\"}}, \"type\": \"scatterpolargl\"}], \"scatterternary\": [{\"marker\": {\"colorbar\": {\"outlinewidth\": 0, \"ticks\": \"\"}}, \"type\": \"scatterternary\"}], \"surface\": [{\"colorbar\": {\"outlinewidth\": 0, \"ticks\": \"\"}, \"colorscale\": [[0.0, \"#0d0887\"], [0.1111111111111111, \"#46039f\"], [0.2222222222222222, \"#7201a8\"], [0.3333333333333333, \"#9c179e\"], [0.4444444444444444, \"#bd3786\"], [0.5555555555555556, \"#d8576b\"], [0.6666666666666666, \"#ed7953\"], [0.7777777777777778, \"#fb9f3a\"], [0.8888888888888888, \"#fdca26\"], [1.0, \"#f0f921\"]], \"type\": \"surface\"}], \"table\": [{\"cells\": {\"fill\": {\"color\": \"#EBF0F8\"}, \"line\": {\"color\": \"white\"}}, \"header\": {\"fill\": {\"color\": \"#C8D4E3\"}, \"line\": {\"color\": \"white\"}}, \"type\": \"table\"}]}, \"layout\": {\"annotationdefaults\": {\"arrowcolor\": \"#2a3f5f\", \"arrowhead\": 0, \"arrowwidth\": 1}, \"coloraxis\": {\"colorbar\": {\"outlinewidth\": 0, \"ticks\": \"\"}}, \"colorscale\": {\"diverging\": [[0, \"#8e0152\"], [0.1, \"#c51b7d\"], [0.2, \"#de77ae\"], [0.3, \"#f1b6da\"], [0.4, \"#fde0ef\"], [0.5, \"#f7f7f7\"], [0.6, \"#e6f5d0\"], [0.7, \"#b8e186\"], [0.8, \"#7fbc41\"], [0.9, \"#4d9221\"], [1, \"#276419\"]], \"sequential\": [[0.0, \"#0d0887\"], [0.1111111111111111, \"#46039f\"], [0.2222222222222222, \"#7201a8\"], [0.3333333333333333, \"#9c179e\"], [0.4444444444444444, \"#bd3786\"], [0.5555555555555556, \"#d8576b\"], [0.6666666666666666, \"#ed7953\"], [0.7777777777777778, \"#fb9f3a\"], [0.8888888888888888, \"#fdca26\"], [1.0, \"#f0f921\"]], \"sequentialminus\": [[0.0, \"#0d0887\"], [0.1111111111111111, \"#46039f\"], [0.2222222222222222, \"#7201a8\"], [0.3333333333333333, \"#9c179e\"], [0.4444444444444444, \"#bd3786\"], [0.5555555555555556, \"#d8576b\"], [0.6666666666666666, \"#ed7953\"], [0.7777777777777778, \"#fb9f3a\"], [0.8888888888888888, \"#fdca26\"], [1.0, \"#f0f921\"]]}, \"colorway\": [\"#636efa\", \"#EF553B\", \"#00cc96\", \"#ab63fa\", \"#FFA15A\", \"#19d3f3\", \"#FF6692\", \"#B6E880\", \"#FF97FF\", \"#FECB52\"], \"font\": {\"color\": \"#2a3f5f\"}, \"geo\": {\"bgcolor\": \"white\", \"lakecolor\": \"white\", \"landcolor\": \"#E5ECF6\", \"showlakes\": true, \"showland\": true, \"subunitcolor\": \"white\"}, \"hoverlabel\": {\"align\": \"left\"}, \"hovermode\": \"closest\", \"mapbox\": {\"style\": \"light\"}, \"paper_bgcolor\": \"white\", \"plot_bgcolor\": \"#E5ECF6\", \"polar\": {\"angularaxis\": {\"gridcolor\": \"white\", \"linecolor\": \"white\", \"ticks\": \"\"}, \"bgcolor\": \"#E5ECF6\", \"radialaxis\": {\"gridcolor\": \"white\", \"linecolor\": \"white\", \"ticks\": \"\"}}, \"scene\": {\"xaxis\": {\"backgroundcolor\": \"#E5ECF6\", \"gridcolor\": \"white\", \"gridwidth\": 2, \"linecolor\": \"white\", \"showbackground\": true, \"ticks\": \"\", \"zerolinecolor\": \"white\"}, \"yaxis\": {\"backgroundcolor\": \"#E5ECF6\", \"gridcolor\": \"white\", \"gridwidth\": 2, \"linecolor\": \"white\", \"showbackground\": true, \"ticks\": \"\", \"zerolinecolor\": \"white\"}, \"zaxis\": {\"backgroundcolor\": \"#E5ECF6\", \"gridcolor\": \"white\", \"gridwidth\": 2, \"linecolor\": \"white\", \"showbackground\": true, \"ticks\": \"\", \"zerolinecolor\": \"white\"}}, \"shapedefaults\": {\"line\": {\"color\": \"#2a3f5f\"}}, \"ternary\": {\"aaxis\": {\"gridcolor\": \"white\", \"linecolor\": \"white\", \"ticks\": \"\"}, \"baxis\": {\"gridcolor\": \"white\", \"linecolor\": \"white\", \"ticks\": \"\"}, \"bgcolor\": \"#E5ECF6\", \"caxis\": {\"gridcolor\": \"white\", \"linecolor\": \"white\", \"ticks\": \"\"}}, \"title\": {\"x\": 0.05}, \"xaxis\": {\"automargin\": true, \"gridcolor\": \"white\", \"linecolor\": \"white\", \"ticks\": \"\", \"title\": {\"standoff\": 15}, \"zerolinecolor\": \"white\", \"zerolinewidth\": 2}, \"yaxis\": {\"automargin\": true, \"gridcolor\": \"white\", \"linecolor\": \"white\", \"ticks\": \"\", \"title\": {\"standoff\": 15}, \"zerolinecolor\": \"white\", \"zerolinewidth\": 2}}}, \"title\": {\"text\": \"Number of wins by RCB and KKR against each other\"}, \"xaxis\": {\"title\": {\"text\": \"Team\"}}, \"yaxis\": {\"title\": {\"text\": \"No of wins\"}}},\n",
              "                        {\"responsive\": true}\n",
              "                    ).then(function(){\n",
              "                            \n",
              "var gd = document.getElementById('724a6e89-a903-4ff3-bf67-8582c1badaf5');\n",
              "var x = new MutationObserver(function (mutations, observer) {{\n",
              "        var display = window.getComputedStyle(gd).display;\n",
              "        if (!display || display === 'none') {{\n",
              "            console.log([gd, 'removed!']);\n",
              "            Plotly.purge(gd);\n",
              "            observer.disconnect();\n",
              "        }}\n",
              "}});\n",
              "\n",
              "// Listen for the removal of the full notebook cells\n",
              "var notebookContainer = gd.closest('#notebook-container');\n",
              "if (notebookContainer) {{\n",
              "    x.observe(notebookContainer, {childList: true});\n",
              "}}\n",
              "\n",
              "// Listen for the clearing of the current output cell\n",
              "var outputEl = gd.closest('.output');\n",
              "if (outputEl) {{\n",
              "    x.observe(outputEl, {childList: true});\n",
              "}}\n",
              "\n",
              "                        })\n",
              "                };\n",
              "                \n",
              "            </script>\n",
              "        </div>\n",
              "</body>\n",
              "</html>"
            ]
          },
          "metadata": {
            "tags": []
          }
        }
      ]
    },
    {
      "cell_type": "code",
      "metadata": {
        "id": "PXQdT1KkaXtC",
        "outputId": "e8aa561b-2dc2-4b41-d8fa-6e7f73b5ab22",
        "colab": {
          "base_uri": "https://localhost:8080/",
          "height": 542
        }
      },
      "source": [
        "# Lets check winning ratio between RCB VS KKR in 2019 season\n",
        "df_RCB_KKR_2019 = df_matches[((df_matches['team1'] == 'Royal Challengers Bangalore') | (df_matches['team1'] == 'Kolkata Knight Riders')) & \n",
        "                         ((df_matches['team2'] == 'Royal Challengers Bangalore') | (df_matches['team2'] == 'Kolkata Knight Riders')) &\n",
        "                         (df_matches['season'] == 2019)] \n",
        "\n",
        "#plotting RCB and KKR wins against each other in last year IPL\n",
        "import plotly.graph_objs as go\n",
        "df_winner = df_RCB_KKR_2019[['id','winner']].groupby('winner').size().reset_index()\n",
        "df_winner.columns = ['winner','total_wins']\n",
        "df_winner = df_winner.sort_values('total_wins',ascending=False)\n",
        "\n",
        "data = go.Bar(x = df_winner['winner'],y = df_winner['total_wins'])\n",
        "layout = go.Layout(title = 'Number of wins by RCB and KKR against each other in 2019 season',xaxis = dict(title = 'Team'),yaxis = dict(title = 'No of wins'))\n",
        "fig = go.Figure(data = data,layout = layout)\n",
        "fig.show()"
      ],
      "execution_count": 16,
      "outputs": [
        {
          "output_type": "display_data",
          "data": {
            "text/html": [
              "<html>\n",
              "<head><meta charset=\"utf-8\" /></head>\n",
              "<body>\n",
              "    <div>\n",
              "            <script src=\"https://cdnjs.cloudflare.com/ajax/libs/mathjax/2.7.5/MathJax.js?config=TeX-AMS-MML_SVG\"></script><script type=\"text/javascript\">if (window.MathJax) {MathJax.Hub.Config({SVG: {font: \"STIX-Web\"}});}</script>\n",
              "                <script type=\"text/javascript\">window.PlotlyConfig = {MathJaxConfig: 'local'};</script>\n",
              "        <script src=\"https://cdn.plot.ly/plotly-latest.min.js\"></script>    \n",
              "            <div id=\"0eeef083-0ff2-4ab5-8557-6fa32dd30fc8\" class=\"plotly-graph-div\" style=\"height:525px; width:100%;\"></div>\n",
              "            <script type=\"text/javascript\">\n",
              "                \n",
              "                    window.PLOTLYENV=window.PLOTLYENV || {};\n",
              "                    \n",
              "                if (document.getElementById(\"0eeef083-0ff2-4ab5-8557-6fa32dd30fc8\")) {\n",
              "                    Plotly.newPlot(\n",
              "                        '0eeef083-0ff2-4ab5-8557-6fa32dd30fc8',\n",
              "                        [{\"type\": \"bar\", \"x\": [\"Kolkata Knight Riders\", \"Royal Challengers Bangalore\"], \"y\": [1, 1]}],\n",
              "                        {\"template\": {\"data\": {\"bar\": [{\"error_x\": {\"color\": \"#2a3f5f\"}, \"error_y\": {\"color\": \"#2a3f5f\"}, \"marker\": {\"line\": {\"color\": \"#E5ECF6\", \"width\": 0.5}}, \"type\": \"bar\"}], \"barpolar\": [{\"marker\": {\"line\": {\"color\": \"#E5ECF6\", \"width\": 0.5}}, \"type\": \"barpolar\"}], \"carpet\": [{\"aaxis\": {\"endlinecolor\": \"#2a3f5f\", \"gridcolor\": \"white\", \"linecolor\": \"white\", \"minorgridcolor\": \"white\", \"startlinecolor\": \"#2a3f5f\"}, \"baxis\": {\"endlinecolor\": \"#2a3f5f\", \"gridcolor\": \"white\", \"linecolor\": \"white\", \"minorgridcolor\": \"white\", \"startlinecolor\": \"#2a3f5f\"}, \"type\": \"carpet\"}], \"choropleth\": [{\"colorbar\": {\"outlinewidth\": 0, \"ticks\": \"\"}, \"type\": \"choropleth\"}], \"contour\": [{\"colorbar\": {\"outlinewidth\": 0, \"ticks\": \"\"}, \"colorscale\": [[0.0, \"#0d0887\"], [0.1111111111111111, \"#46039f\"], [0.2222222222222222, \"#7201a8\"], [0.3333333333333333, \"#9c179e\"], [0.4444444444444444, \"#bd3786\"], [0.5555555555555556, \"#d8576b\"], [0.6666666666666666, \"#ed7953\"], [0.7777777777777778, \"#fb9f3a\"], [0.8888888888888888, \"#fdca26\"], [1.0, \"#f0f921\"]], \"type\": \"contour\"}], \"contourcarpet\": [{\"colorbar\": {\"outlinewidth\": 0, \"ticks\": \"\"}, \"type\": \"contourcarpet\"}], \"heatmap\": [{\"colorbar\": {\"outlinewidth\": 0, \"ticks\": \"\"}, \"colorscale\": [[0.0, \"#0d0887\"], [0.1111111111111111, \"#46039f\"], [0.2222222222222222, \"#7201a8\"], [0.3333333333333333, \"#9c179e\"], [0.4444444444444444, \"#bd3786\"], [0.5555555555555556, \"#d8576b\"], [0.6666666666666666, \"#ed7953\"], [0.7777777777777778, \"#fb9f3a\"], [0.8888888888888888, \"#fdca26\"], [1.0, \"#f0f921\"]], \"type\": \"heatmap\"}], \"heatmapgl\": [{\"colorbar\": {\"outlinewidth\": 0, \"ticks\": \"\"}, \"colorscale\": [[0.0, \"#0d0887\"], [0.1111111111111111, \"#46039f\"], [0.2222222222222222, \"#7201a8\"], [0.3333333333333333, \"#9c179e\"], [0.4444444444444444, \"#bd3786\"], [0.5555555555555556, \"#d8576b\"], [0.6666666666666666, \"#ed7953\"], [0.7777777777777778, \"#fb9f3a\"], [0.8888888888888888, \"#fdca26\"], [1.0, \"#f0f921\"]], \"type\": \"heatmapgl\"}], \"histogram\": [{\"marker\": {\"colorbar\": {\"outlinewidth\": 0, \"ticks\": \"\"}}, \"type\": \"histogram\"}], \"histogram2d\": [{\"colorbar\": {\"outlinewidth\": 0, \"ticks\": \"\"}, \"colorscale\": [[0.0, \"#0d0887\"], [0.1111111111111111, \"#46039f\"], [0.2222222222222222, \"#7201a8\"], [0.3333333333333333, \"#9c179e\"], [0.4444444444444444, \"#bd3786\"], [0.5555555555555556, \"#d8576b\"], [0.6666666666666666, \"#ed7953\"], [0.7777777777777778, \"#fb9f3a\"], [0.8888888888888888, \"#fdca26\"], [1.0, \"#f0f921\"]], \"type\": \"histogram2d\"}], \"histogram2dcontour\": [{\"colorbar\": {\"outlinewidth\": 0, \"ticks\": \"\"}, \"colorscale\": [[0.0, \"#0d0887\"], [0.1111111111111111, \"#46039f\"], [0.2222222222222222, \"#7201a8\"], [0.3333333333333333, \"#9c179e\"], [0.4444444444444444, \"#bd3786\"], [0.5555555555555556, \"#d8576b\"], [0.6666666666666666, \"#ed7953\"], [0.7777777777777778, \"#fb9f3a\"], [0.8888888888888888, \"#fdca26\"], [1.0, \"#f0f921\"]], \"type\": \"histogram2dcontour\"}], \"mesh3d\": [{\"colorbar\": {\"outlinewidth\": 0, \"ticks\": \"\"}, \"type\": \"mesh3d\"}], \"parcoords\": [{\"line\": {\"colorbar\": {\"outlinewidth\": 0, \"ticks\": \"\"}}, \"type\": \"parcoords\"}], \"pie\": [{\"automargin\": true, \"type\": \"pie\"}], \"scatter\": [{\"marker\": {\"colorbar\": {\"outlinewidth\": 0, \"ticks\": \"\"}}, \"type\": \"scatter\"}], \"scatter3d\": [{\"line\": {\"colorbar\": {\"outlinewidth\": 0, \"ticks\": \"\"}}, \"marker\": {\"colorbar\": {\"outlinewidth\": 0, \"ticks\": \"\"}}, \"type\": \"scatter3d\"}], \"scattercarpet\": [{\"marker\": {\"colorbar\": {\"outlinewidth\": 0, \"ticks\": \"\"}}, \"type\": \"scattercarpet\"}], \"scattergeo\": [{\"marker\": {\"colorbar\": {\"outlinewidth\": 0, \"ticks\": \"\"}}, \"type\": \"scattergeo\"}], \"scattergl\": [{\"marker\": {\"colorbar\": {\"outlinewidth\": 0, \"ticks\": \"\"}}, \"type\": \"scattergl\"}], \"scattermapbox\": [{\"marker\": {\"colorbar\": {\"outlinewidth\": 0, \"ticks\": \"\"}}, \"type\": \"scattermapbox\"}], \"scatterpolar\": [{\"marker\": {\"colorbar\": {\"outlinewidth\": 0, \"ticks\": \"\"}}, \"type\": \"scatterpolar\"}], \"scatterpolargl\": [{\"marker\": {\"colorbar\": {\"outlinewidth\": 0, \"ticks\": \"\"}}, \"type\": \"scatterpolargl\"}], \"scatterternary\": [{\"marker\": {\"colorbar\": {\"outlinewidth\": 0, \"ticks\": \"\"}}, \"type\": \"scatterternary\"}], \"surface\": [{\"colorbar\": {\"outlinewidth\": 0, \"ticks\": \"\"}, \"colorscale\": [[0.0, \"#0d0887\"], [0.1111111111111111, \"#46039f\"], [0.2222222222222222, \"#7201a8\"], [0.3333333333333333, \"#9c179e\"], [0.4444444444444444, \"#bd3786\"], [0.5555555555555556, \"#d8576b\"], [0.6666666666666666, \"#ed7953\"], [0.7777777777777778, \"#fb9f3a\"], [0.8888888888888888, \"#fdca26\"], [1.0, \"#f0f921\"]], \"type\": \"surface\"}], \"table\": [{\"cells\": {\"fill\": {\"color\": \"#EBF0F8\"}, \"line\": {\"color\": \"white\"}}, \"header\": {\"fill\": {\"color\": \"#C8D4E3\"}, \"line\": {\"color\": \"white\"}}, \"type\": \"table\"}]}, \"layout\": {\"annotationdefaults\": {\"arrowcolor\": \"#2a3f5f\", \"arrowhead\": 0, \"arrowwidth\": 1}, \"coloraxis\": {\"colorbar\": {\"outlinewidth\": 0, \"ticks\": \"\"}}, \"colorscale\": {\"diverging\": [[0, \"#8e0152\"], [0.1, \"#c51b7d\"], [0.2, \"#de77ae\"], [0.3, \"#f1b6da\"], [0.4, \"#fde0ef\"], [0.5, \"#f7f7f7\"], [0.6, \"#e6f5d0\"], [0.7, \"#b8e186\"], [0.8, \"#7fbc41\"], [0.9, \"#4d9221\"], [1, \"#276419\"]], \"sequential\": [[0.0, \"#0d0887\"], [0.1111111111111111, \"#46039f\"], [0.2222222222222222, \"#7201a8\"], [0.3333333333333333, \"#9c179e\"], [0.4444444444444444, \"#bd3786\"], [0.5555555555555556, \"#d8576b\"], [0.6666666666666666, \"#ed7953\"], [0.7777777777777778, \"#fb9f3a\"], [0.8888888888888888, \"#fdca26\"], [1.0, \"#f0f921\"]], \"sequentialminus\": [[0.0, \"#0d0887\"], [0.1111111111111111, \"#46039f\"], [0.2222222222222222, \"#7201a8\"], [0.3333333333333333, \"#9c179e\"], [0.4444444444444444, \"#bd3786\"], [0.5555555555555556, \"#d8576b\"], [0.6666666666666666, \"#ed7953\"], [0.7777777777777778, \"#fb9f3a\"], [0.8888888888888888, \"#fdca26\"], [1.0, \"#f0f921\"]]}, \"colorway\": [\"#636efa\", \"#EF553B\", \"#00cc96\", \"#ab63fa\", \"#FFA15A\", \"#19d3f3\", \"#FF6692\", \"#B6E880\", \"#FF97FF\", \"#FECB52\"], \"font\": {\"color\": \"#2a3f5f\"}, \"geo\": {\"bgcolor\": \"white\", \"lakecolor\": \"white\", \"landcolor\": \"#E5ECF6\", \"showlakes\": true, \"showland\": true, \"subunitcolor\": \"white\"}, \"hoverlabel\": {\"align\": \"left\"}, \"hovermode\": \"closest\", \"mapbox\": {\"style\": \"light\"}, \"paper_bgcolor\": \"white\", \"plot_bgcolor\": \"#E5ECF6\", \"polar\": {\"angularaxis\": {\"gridcolor\": \"white\", \"linecolor\": \"white\", \"ticks\": \"\"}, \"bgcolor\": \"#E5ECF6\", \"radialaxis\": {\"gridcolor\": \"white\", \"linecolor\": \"white\", \"ticks\": \"\"}}, \"scene\": {\"xaxis\": {\"backgroundcolor\": \"#E5ECF6\", \"gridcolor\": \"white\", \"gridwidth\": 2, \"linecolor\": \"white\", \"showbackground\": true, \"ticks\": \"\", \"zerolinecolor\": \"white\"}, \"yaxis\": {\"backgroundcolor\": \"#E5ECF6\", \"gridcolor\": \"white\", \"gridwidth\": 2, \"linecolor\": \"white\", \"showbackground\": true, \"ticks\": \"\", \"zerolinecolor\": \"white\"}, \"zaxis\": {\"backgroundcolor\": \"#E5ECF6\", \"gridcolor\": \"white\", \"gridwidth\": 2, \"linecolor\": \"white\", \"showbackground\": true, \"ticks\": \"\", \"zerolinecolor\": \"white\"}}, \"shapedefaults\": {\"line\": {\"color\": \"#2a3f5f\"}}, \"ternary\": {\"aaxis\": {\"gridcolor\": \"white\", \"linecolor\": \"white\", \"ticks\": \"\"}, \"baxis\": {\"gridcolor\": \"white\", \"linecolor\": \"white\", \"ticks\": \"\"}, \"bgcolor\": \"#E5ECF6\", \"caxis\": {\"gridcolor\": \"white\", \"linecolor\": \"white\", \"ticks\": \"\"}}, \"title\": {\"x\": 0.05}, \"xaxis\": {\"automargin\": true, \"gridcolor\": \"white\", \"linecolor\": \"white\", \"ticks\": \"\", \"title\": {\"standoff\": 15}, \"zerolinecolor\": \"white\", \"zerolinewidth\": 2}, \"yaxis\": {\"automargin\": true, \"gridcolor\": \"white\", \"linecolor\": \"white\", \"ticks\": \"\", \"title\": {\"standoff\": 15}, \"zerolinecolor\": \"white\", \"zerolinewidth\": 2}}}, \"title\": {\"text\": \"Number of wins by RCB and KKR against each other in 2019 season\"}, \"xaxis\": {\"title\": {\"text\": \"Team\"}}, \"yaxis\": {\"title\": {\"text\": \"No of wins\"}}},\n",
              "                        {\"responsive\": true}\n",
              "                    ).then(function(){\n",
              "                            \n",
              "var gd = document.getElementById('0eeef083-0ff2-4ab5-8557-6fa32dd30fc8');\n",
              "var x = new MutationObserver(function (mutations, observer) {{\n",
              "        var display = window.getComputedStyle(gd).display;\n",
              "        if (!display || display === 'none') {{\n",
              "            console.log([gd, 'removed!']);\n",
              "            Plotly.purge(gd);\n",
              "            observer.disconnect();\n",
              "        }}\n",
              "}});\n",
              "\n",
              "// Listen for the removal of the full notebook cells\n",
              "var notebookContainer = gd.closest('#notebook-container');\n",
              "if (notebookContainer) {{\n",
              "    x.observe(notebookContainer, {childList: true});\n",
              "}}\n",
              "\n",
              "// Listen for the clearing of the current output cell\n",
              "var outputEl = gd.closest('.output');\n",
              "if (outputEl) {{\n",
              "    x.observe(outputEl, {childList: true});\n",
              "}}\n",
              "\n",
              "                        })\n",
              "                };\n",
              "                \n",
              "            </script>\n",
              "        </div>\n",
              "</body>\n",
              "</html>"
            ]
          },
          "metadata": {
            "tags": []
          }
        }
      ]
    },
    {
      "cell_type": "markdown",
      "metadata": {
        "id": "wMmSQrR5bw_Z"
      },
      "source": [
        "KKR won 4 more matches than RCB, but in last season both won 1 match each. Lets look at individul performance as well. "
      ]
    },
    {
      "cell_type": "code",
      "metadata": {
        "id": "6SzkTSPkcRAn",
        "outputId": "7935987e-69f5-4e0d-9090-478ed81f5cfc",
        "colab": {
          "base_uri": "https://localhost:8080/",
          "height": 67
        }
      },
      "source": [
        "#Lets look at how many player of the match awards won by current RCB and KXIP players.\n",
        "#Note: I am taking top 8 palyers from both teams\n",
        "#Sometimes team win dependent on Number of match winners in your team. i.e why i am using this approach.\n",
        "#Note: I am taking these player names because these players are played atleast one match for their respective sides in this season till now.\n",
        "df_man_of_match_RCB = df_matches[(df_matches['player_of_match'] == 'V Kohli') | (df_matches['player_of_match'] == 'A Finch') |\n",
        "                                (df_matches['player_of_match'] == 'AB de Villiers') | (df_matches['player_of_match'] == 'S Dube') |\n",
        "                                (df_matches['player_of_match'] == 'YS Chahal') | (df_matches['player_of_match'] == 'CH Morris') |\n",
        "                                (df_matches['player_of_match'] == 'Washington Sundar') | (df_matches['player_of_match'] == 'N Saini')]\n",
        "\n",
        "\n",
        "print(\"Total number of man of matches won by present Bangalore players is\", df_man_of_match_RCB.shape[0],\"\\n\")\n",
        "\n",
        "df_man_of_match_KKR = df_matches[(df_matches['player_of_match'] == 'KD Karthik') | (df_matches['player_of_match'] == 'AD Russell') |\n",
        "                                (df_matches['player_of_match'] == 'PJ Cummins') | (df_matches['player_of_match'] == 'SP Narine') |\n",
        "                                (df_matches['player_of_match'] == 'EJG Morgan') | (df_matches['player_of_match'] == 'N Rana') |\n",
        "                                (df_matches['player_of_match'] == 'S Gill') | (df_matches['player_of_match'] == 'Kuldeep Yadav')]\n",
        "\n",
        "\n",
        "print(\"Total number of man of matches won by present KKR players is\", df_man_of_match_KKR.shape[0])\n"
      ],
      "execution_count": 17,
      "outputs": [
        {
          "output_type": "stream",
          "text": [
            "Total number of man of matches won by present Bangalore players is 36 \n",
            "\n",
            "Total number of man of matches won by present KKR players is 31\n"
          ],
          "name": "stdout"
        }
      ]
    },
    {
      "cell_type": "markdown",
      "metadata": {
        "id": "xkNVz5wkfhW3"
      },
      "source": [
        "**Conclusion :-**\n",
        "\n",
        "RCB players won more man of the match awards than KKR player, So i can say RCB has more match winners. I am predicting RCB will win today match"
      ]
    },
    {
      "cell_type": "markdown",
      "metadata": {
        "id": "W-4LtwQWf1V5"
      },
      "source": [
        "### Q2) How many wickets will RCB loose in between 31st ball and 120th ball."
      ]
    },
    {
      "cell_type": "code",
      "metadata": {
        "id": "jO1PEWeShJYY",
        "outputId": "d9484a20-208d-48c7-ba88-f24ec13de263",
        "colab": {
          "base_uri": "https://localhost:8080/",
          "height": 136
        }
      },
      "source": [
        "#First filter out RCB team from overs 6 to 20 with wickets\n",
        "df_RCB_wickets = df_deliveries[(df_deliveries['batting_team'] == 'Royal Challengers Bangalore') & (df_deliveries['over'] >= 6) &\n",
        "                               (df_deliveries['player_dismissed'] != 'No Wicket')]\n",
        "\n",
        "#Calculating number wickets per match\n",
        "no_of_wickets = df_RCB_wickets.groupby('match_id')['player_dismissed'].count()\n",
        "#Converting series object to dataframe\n",
        "df_wickets_by_match['number_of_players_dismissed'] = no_of_wickets.to_frame()\n",
        "df_wickets_by_match = df_wickets_by_match.drop(['player_dismissed'],axis=1)\n",
        "df_wickets_by_match.head(2)"
      ],
      "execution_count": 24,
      "outputs": [
        {
          "output_type": "execute_result",
          "data": {
            "text/html": [
              "<div>\n",
              "<style scoped>\n",
              "    .dataframe tbody tr th:only-of-type {\n",
              "        vertical-align: middle;\n",
              "    }\n",
              "\n",
              "    .dataframe tbody tr th {\n",
              "        vertical-align: top;\n",
              "    }\n",
              "\n",
              "    .dataframe thead th {\n",
              "        text-align: right;\n",
              "    }\n",
              "</style>\n",
              "<table border=\"1\" class=\"dataframe\">\n",
              "  <thead>\n",
              "    <tr style=\"text-align: right;\">\n",
              "      <th></th>\n",
              "      <th>number_of_players_dismissed</th>\n",
              "    </tr>\n",
              "    <tr>\n",
              "      <th>match_id</th>\n",
              "      <th></th>\n",
              "    </tr>\n",
              "  </thead>\n",
              "  <tbody>\n",
              "    <tr>\n",
              "      <th>1</th>\n",
              "      <td>10</td>\n",
              "    </tr>\n",
              "    <tr>\n",
              "      <th>5</th>\n",
              "      <td>7</td>\n",
              "    </tr>\n",
              "  </tbody>\n",
              "</table>\n",
              "</div>"
            ],
            "text/plain": [
              "          number_of_players_dismissed\n",
              "match_id                             \n",
              "1                                  10\n",
              "5                                   7"
            ]
          },
          "metadata": {
            "tags": []
          },
          "execution_count": 24
        }
      ]
    },
    {
      "cell_type": "code",
      "metadata": {
        "id": "Kue9CapJyBQS",
        "outputId": "66a1f20e-4e26-4135-8e53-6327cf3748ae",
        "colab": {
          "base_uri": "https://localhost:8080/",
          "height": 385
        }
      },
      "source": [
        "#Now plotting PDF \n",
        "import seaborn as sns\n",
        "import matplotlib.pyplot as plt\n",
        "sns.FacetGrid(df_wickets_by_match,size=5) \\\n",
        "   .map(sns.distplot, \"number_of_players_dismissed\") \\\n",
        "   .add_legend();\n",
        "\n",
        "plt.title(\"PDF for number of players dismissed in each match\")\n",
        "plt.show();"
      ],
      "execution_count": 26,
      "outputs": [
        {
          "output_type": "display_data",
          "data": {
            "image/png": "[encoded data removed]",
            "text/plain": [
              "<Figure size 368x360 with 1 Axes>"
            ]
          },
          "metadata": {
            "tags": [],
            "needs_background": "light"
          }
        }
      ]
    },
    {
      "cell_type": "markdown",
      "metadata": {
        "id": "Iir3fdPa0Tr4"
      },
      "source": [
        "**Conclusion :-**\n",
        "\n",
        "If you look at above plot clearly probability of number of players dismissed = 4 is very high i.e more than 0.14(14%).\n",
        "\n",
        "So i am predicting in today match RCB will loose 4 wickets from 31st ball to 120th ball."
      ]
    },
    {
      "cell_type": "markdown",
      "metadata": {
        "id": "bHrYFl5ytDCK"
      },
      "source": [
        "### Q3) How many balls will Ab De Villiers to take score 30 runs? "
      ]
    },
    {
      "cell_type": "code",
      "metadata": {
        "id": "dEhPi4AAtYeL",
        "outputId": "7985a02d-5015-47cf-891f-54209e8ed6bb",
        "colab": {
          "base_uri": "https://localhost:8080/",
          "height": 70
        }
      },
      "source": [
        "#Filter out abd runs\n",
        "df_ABD = df_deliveries[(df_deliveries['batsman'] == 'AB de Villiers') & (df_deliveries['wide_runs'] == 0)]\n",
        "\n",
        "#converting batsman runs, balls faced, match id into list\n",
        "batsman_runs_list = df_ABD['batsman_runs'].tolist()\n",
        "match_id_list = df_ABD['match_id'].tolist()\n",
        "balls_list = df_ABD['ball'].tolist()\n",
        "\n",
        "listoflists = []\n",
        "listoflists.append(match_id_list)\n",
        "listoflists.append(batsman_runs_list)\n",
        "listoflists.append(balls_list)\n",
        "\n",
        "ABD_ballsfaced = []\n",
        "ABD_matchID = []\n",
        "sum = 0\n",
        "balls_faced = 0\n",
        "for i in range(len(listoflists[0])-1):\n",
        "     sum = sum + (listoflists[1][i])\n",
        "     balls_faced = balls_faced + 1\n",
        "     if listolists[0][i] not in ABD_matchID:   \n",
        "        if sum >= 30:\n",
        "           ABD_ballsfaced.append(balls_faced)\n",
        "           ABD_matchID.append(listoflists[0][i])\n",
        "           sum = 0\n",
        "           balls_faced = 0\n",
        "\n",
        "#Printing number of balls faced for 30runs and corresponding match_Id\n",
        "print(ABD_ballsfaced)\n",
        "print(ABD_matchID)     "
      ],
      "execution_count": 149,
      "outputs": [
        {
          "output_type": "stream",
          "text": [
            "[25, 25, 28, 37, 22, 23, 24, 27, 35, 32, 48, 26, 38, 48, 33, 36, 67, 35, 33, 34, 36, 35, 48, 38, 51, 22, 28, 31, 25, 54, 10, 27, 41, 18, 37, 26, 57, 36, 33, 20, 37, 11, 34, 48, 14, 57, 23, 11, 50, 21, 25, 48, 56, 47, 42, 61, 51, 15, 26, 61, 26, 16, 53, 24, 19, 81, 16, 15, 60, 11, 58, 14, 77, 23, 14, 90, 24, 13, 77, 18, 71]\n",
            "[8, 12, 17, 33, 37, 45, 79, 93, 104, 125, 129, 133, 150, 154, 158, 165, 167, 172, 180, 189, 197, 237, 242, 248, 268, 291, 296, 306, 312, 329, 329, 333, 350, 356, 392, 396, 401, 420, 432, 438, 448, 452, 462, 481, 481, 492, 492, 495, 506, 522, 525, 540, 546, 557, 562, 574, 587, 587, 590, 595, 603, 603, 617, 620, 620, 633, 633, 633, 7901, 7901, 7912, 7917, 7944, 7944, 7946, 11150, 11153, 11311, 11322, 11322, 11337]\n"
          ],
          "name": "stdout"
        }
      ]
    },
    {
      "cell_type": "code",
      "metadata": {
        "id": "5CArkCZcA0XQ",
        "outputId": "c96f470b-249b-4508-a756-fed33cc49cb8",
        "colab": {
          "base_uri": "https://localhost:8080/",
          "height": 402
        }
      },
      "source": [
        "#converting above two kists into dataframe\n",
        "df_ABD_ballsfaced_30runs =  pd.DataFrame(list(zip(ABD_matchID, ABD_ballsfaced)), columns =['match_id', 'balls_faced']) \n",
        "\n",
        "#Now plotting PDF \n",
        "sns.FacetGrid(df_ABD_ballsfaced_30runs,size=5) \\\n",
        "   .map(sns.distplot, \"balls_faced\") \\\n",
        "   .add_legend();\n",
        "\n",
        "plt.title(\"PDF for number of balls faced in each match for scoring 30 runs\")\n",
        "plt.show();"
      ],
      "execution_count": 150,
      "outputs": [
        {
          "output_type": "display_data",
          "data": {
            "image/png": "[encoded data removed]",
            "text/plain": [
              "<Figure size 368x360 with 1 Axes>"
            ]
          },
          "metadata": {
            "tags": [],
            "needs_background": "light"
          }
        },
        {
          "output_type": "stream",
          "text": [
            "median =  33.0\n"
          ],
          "name": "stdout"
        }
      ]
    },
    {
      "cell_type": "markdown",
      "metadata": {
        "id": "2iycSgdvDseh"
      },
      "source": [
        "**Conclusion :-**\n",
        "\n",
        "By looking at above PDF plot i can say that Probability is very high for balls faced = 20 to 26.\n",
        "\n",
        "So i am predicting in today match he will score 30 runs in 18 to 24 balls, because this is very close option to above analysis."
      ]
    },
    {
      "cell_type": "markdown",
      "metadata": {
        "id": "3KoKbyw5ElDH"
      },
      "source": [
        "### Q4)What will be the difference in Eoin Morgan overall Strike rate and the Strike rate of last 7 balls he faced."
      ]
    },
    {
      "cell_type": "code",
      "metadata": {
        "id": "aPlp_eweNko3",
        "outputId": "b2fba6b5-11c9-40f1-af95-74285aefcaa2",
        "colab": {
          "base_uri": "https://localhost:8080/",
          "height": 50
        }
      },
      "source": [
        "#Calculating Morgan overall strike rate in each match\n",
        "df_Morgan = df_deliveries[df_deliveries['batsman'] == 'EJG Morgan']\n",
        "\n",
        "Runs_scored = df_Morgan.groupby('match_id')['batsman_runs'].sum()\n",
        "balls_faced = df_Morgan.groupby('match_id')['ball'].count()\n",
        "morgan_strike_rate = (Runs_scored/balls_faced)*100\n",
        "df_morgan_strike_rate['Strike_rate'] = morgan_strike_rate.to_frame()\n",
        "df_morgan_strike_rate.head(6)\n",
        "\n",
        "overall_strkrate = df_morgan_strike_rate.mean()\n",
        "print(overall_strkrate)"
      ],
      "execution_count": 158,
      "outputs": [
        {
          "output_type": "stream",
          "text": [
            "Strike_rate    102.772298\n",
            "dtype: float64\n"
          ],
          "name": "stdout"
        }
      ]
    },
    {
      "cell_type": "code",
      "metadata": {
        "id": "feZo7v5uRh9f",
        "outputId": "aa7836a4-de1b-4e11-a796-7d3e54b081e0",
        "colab": {
          "base_uri": "https://localhost:8080/",
          "height": 177
        }
      },
      "source": [
        "#Calculating Morgan Strike rate in last 7 balls in each match\n",
        "# runs_scored = df_Morgan.groupby('match_id')\n",
        "#converting batsman runs, balls faced, match id into list\n",
        "import numpy as np\n",
        "batsman_runs_list = df_Morgan['batsman_runs'].tolist()\n",
        "batsman_runs_list = np.flipud(batsman_runs_list)\n",
        "match_id_list = df_Morgan['match_id'].tolist()\n",
        "match_id_list = np.flipud(match_id_list)\n",
        "balls_list = df_Morgan['ball'].tolist()\n",
        "balls_list = np.flipud(balls_list)\n",
        "\n",
        "listoflists = []\n",
        "listoflists.append(match_id_list)\n",
        "listoflists.append(batsman_runs_list)\n",
        "listoflists.append(balls_list)\n",
        "\n",
        "morgan_runs = []\n",
        "morgan_matchID = []\n",
        "sum = 0\n",
        "balls_faced = 0\n",
        "for i in range(724):\n",
        "     sum = sum + (listoflists[1][i])\n",
        "     balls_faced = balls_faced + 1\n",
        "     if listolists[0][i] not in morgan_matchID:   \n",
        "        if balls_faced == 7 :\n",
        "           morgan_runs.append(sum)\n",
        "           morgan_matchID.append(listoflists[0][i])\n",
        "           sum = 0\n",
        "           balls_faced = 0\n",
        "\n",
        "#Printing number of balls faced for 30runs and corresponding match_Id\n",
        "print(morgan_runs)\n",
        "print(morgan_matchID)  \n",
        "print(len(listoflists[2]))\n",
        "\n",
        "df_morgan_last7balls =  pd.DataFrame(list(zip(morgan_matchID, morgan_runs)), columns =['match_id', 'runs_scored']) \n",
        "df_morgan_last7balls.head(2)"
      ],
      "execution_count": 151,
      "outputs": [
        {
          "output_type": "stream",
          "text": [
            "[11, 7, 12, 3, 7, 8, 11, 10, 15, 5, 5, 5, 7, 9, 8, 9, 0, 10, 18, 3, 8, 10, 7, 17, 22, 15, 3, 4, 4, 15, 4, 8, 3, 8, 7, 11, 1, 7, 5, 11, 3, 3, 10, 4, 12, 8, 14, 8, 16, 11, 11, 6, 4, 11, 2, 7, 11, 11, 11, 6, 8, 18, 16, 4, 4, 14, 15, 15, 2, 3, 5, 5, 6, 3, 6, 13, 4, 11, 14, 8, 6, 8, 2, 4, 13, 16, 7, 8, 7, 7, 8, 9, 3, 5, 10, 13, 11, 4, 4, 3, 12]\n",
            "[628, 594, 594, 594, 588, 588, 584, 584, 584, 584, 584, 584, 580, 580, 580, 572, 572, 568, 564, 561, 561, 561, 558, 558, 558, 558, 558, 555, 551, 551, 551, 551, 529, 529, 529, 529, 529, 453, 437, 437, 434, 424, 424, 418, 418, 418, 415, 415, 415, 415, 413, 413, 413, 413, 406, 400, 400, 400, 400, 400, 397, 397, 397, 397, 389, 389, 389, 389, 389, 389, 382, 382, 291, 281, 278, 278, 278, 278, 278, 278, 278, 278, 275, 275, 270, 270, 258, 255, 255, 235, 197, 197, 188, 178, 54, 32, 32, 32, 19, 19, 15]\n",
            "725\n"
          ],
          "name": "stdout"
        },
        {
          "output_type": "execute_result",
          "data": {
            "text/html": [
              "<div>\n",
              "<style scoped>\n",
              "    .dataframe tbody tr th:only-of-type {\n",
              "        vertical-align: middle;\n",
              "    }\n",
              "\n",
              "    .dataframe tbody tr th {\n",
              "        vertical-align: top;\n",
              "    }\n",
              "\n",
              "    .dataframe thead th {\n",
              "        text-align: right;\n",
              "    }\n",
              "</style>\n",
              "<table border=\"1\" class=\"dataframe\">\n",
              "  <thead>\n",
              "    <tr style=\"text-align: right;\">\n",
              "      <th></th>\n",
              "      <th>match_id</th>\n",
              "      <th>runs_scored</th>\n",
              "    </tr>\n",
              "  </thead>\n",
              "  <tbody>\n",
              "    <tr>\n",
              "      <th>0</th>\n",
              "      <td>628</td>\n",
              "      <td>11</td>\n",
              "    </tr>\n",
              "    <tr>\n",
              "      <th>1</th>\n",
              "      <td>594</td>\n",
              "      <td>7</td>\n",
              "    </tr>\n",
              "  </tbody>\n",
              "</table>\n",
              "</div>"
            ],
            "text/plain": [
              "   match_id  runs_scored\n",
              "0       628           11\n",
              "1       594            7"
            ]
          },
          "metadata": {
            "tags": []
          },
          "execution_count": 151
        }
      ]
    },
    {
      "cell_type": "code",
      "metadata": {
        "id": "DsEDxxUPdgnL",
        "outputId": "3a671dc5-d455-465d-a571-cfd9102f1013",
        "colab": {
          "base_uri": "https://localhost:8080/",
          "height": 67
        }
      },
      "source": [
        "runs = df_morgan_last7balls['runs_scored'].sum()\n",
        "balls_faced = df_morgan_last7balls['match_id'].nunique()\n",
        "strike_rate = (runs/(balls_faced*7))*100\n",
        "print(\"Strike rate in last 7 balls is\",strike_rate)\n",
        "\n",
        "result = strike_rate - overall_strkrate\n",
        "print(result)"
      ],
      "execution_count": 159,
      "outputs": [
        {
          "output_type": "stream",
          "text": [
            "Strike rate in last 7 balls is 298.57142857142856\n",
            "Strike_rate    195.79913\n",
            "dtype: float64\n"
          ],
          "name": "stdout"
        }
      ]
    },
    {
      "cell_type": "markdown",
      "metadata": {
        "id": "lzjHl-jRe9Cs"
      },
      "source": [
        "By looking at above analysis i am predicting his strike rate in diffrence between overall and last 7 balls is 151 or more."
      ]
    },
    {
      "cell_type": "markdown",
      "metadata": {
        "id": "ZNHlw0_fXyq1"
      },
      "source": [
        "### Q5)How many Runs will RCB score of KKR in death?"
      ]
    },
    {
      "cell_type": "markdown",
      "metadata": {
        "id": "k2nxNO5pX-aG"
      },
      "source": [
        "Death overs are 16 to 20"
      ]
    },
    {
      "cell_type": "code",
      "metadata": {
        "id": "U9rXm6mxXxyl",
        "outputId": "e4f24406-e84c-4971-de9a-c2117361596e",
        "colab": {
          "base_uri": "https://localhost:8080/",
          "height": 50
        }
      },
      "source": [
        "df_deathovers = df_deliveries[(df_deliveries['batting_team'] == 'Royal Challengers Bangalore') &(df_deliveries['over'] >= 16)]\n",
        "df_deathovers.head()\n",
        "runs_scored = df_deathovers['total_runs'].sum()\n",
        "matches_played = df_deathovers['match_id'].nunique()\n",
        "average_runs_per_match = runs_scored/matches_played\n",
        "print(\"Averae runs scored by RCB in death\",int(average_runs_per_match))\n",
        "\n",
        "runs_scored = df_deathovers.groupby('match_id')['total_runs'].sum()\n",
        "print(\"Median :\",runs_scored.median())"
      ],
      "execution_count": 137,
      "outputs": [
        {
          "output_type": "stream",
          "text": [
            "Averae runs scored by RCB in death 47\n",
            "Median : 48.0\n"
          ],
          "name": "stdout"
        }
      ]
    },
    {
      "cell_type": "markdown",
      "metadata": {
        "id": "xm4zFTnCaVCs"
      },
      "source": [
        "**Conclusion :-**\n",
        "\n",
        "I claculated both average runs scored by RCB in death then calcualted median of runs scored by RCB in death both got almost equal i.e 47 and 48. In today match as well they will score 46-60 runs in deathovers."
      ]
    }
  ]
}